{
 "cells": [
  {
   "cell_type": "code",
   "execution_count": 40,
   "metadata": {
    "collapsed": false
   },
   "outputs": [],
   "source": [
    "%matplotlib inline\n",
    "import matplotlib\n",
    "import matplotlib.pyplot as plt\n",
    "import numpy as np\n",
    "import pandas as pd\n",
    "import json\n",
    "from datetime import datetime\n",
    "from pandas.io.json import json_normalize\n",
    "import seaborn as sns"
   ]
  },
  {
   "cell_type": "code",
   "execution_count": 41,
   "metadata": {
    "collapsed": true
   },
   "outputs": [],
   "source": [
    "import warnings\n",
    "warnings.filterwarnings('ignore')\n",
    "#use 'default' to show warnings and 'ignore' to hide warnings"
   ]
  },
  {
   "cell_type": "code",
   "execution_count": null,
   "metadata": {
    "collapsed": false
   },
   "outputs": [],
   "source": [
    "with open('/Users/Work/Desktop/Springboard/data/yelp_dataset_challenge_academic_dataset/\\\n",
    "yelp_academic_dataset_business.json', 'rb') as f:\n",
    "    data = f.readlines()\n",
    "data_json_str = \"[\" + ','.join(data) + \"]\"\n",
    "df = pd.read_json(data_json_str)"
   ]
  },
  {
   "cell_type": "code",
   "execution_count": null,
   "metadata": {
    "collapsed": false
   },
   "outputs": [],
   "source": [
    "data_json_str"
   ]
  },
  {
   "cell_type": "code",
   "execution_count": 248,
   "metadata": {
    "collapsed": true
   },
   "outputs": [],
   "source": [
    "starbucks=df[df.name.str.contains('Starbucks')]"
   ]
  },
  {
   "cell_type": "code",
   "execution_count": 5,
   "metadata": {
    "collapsed": false
   },
   "outputs": [],
   "source": [
    "import pickle\n",
    "o = open('/Users/Work/Desktop/Springboard/data/yelp_dataset_challenge_academic_dataset/\\\n",
    "reviews_pickle.pkl','r')\n",
    "reviews=pickle.load(o) \n",
    "o.close()"
   ]
  },
  {
   "cell_type": "code",
   "execution_count": 6,
   "metadata": {
    "collapsed": false
   },
   "outputs": [],
   "source": [
    "df2=pd.DataFrame(reviews)"
   ]
  },
  {
   "cell_type": "code",
   "execution_count": 51,
   "metadata": {
    "collapsed": false
   },
   "outputs": [
    {
     "data": {
      "text/plain": [
       "Index([u'attributes', u'business_id', u'categories', u'city', u'full_address',\n",
       "       u'hours', u'latitude', u'longitude', u'name', u'neighborhoods', u'open',\n",
       "       u'review_count', u'stars', u'state', u'type'],\n",
       "      dtype='object')"
      ]
     },
     "execution_count": 51,
     "metadata": {},
     "output_type": "execute_result"
    }
   ],
   "source": [
    "starbucks.columns"
   ]
  },
  {
   "cell_type": "code",
   "execution_count": 7,
   "metadata": {
    "collapsed": false
   },
   "outputs": [
    {
     "data": {
      "text/plain": [
       "Index([u'attributes', u'business_id', u'categories', u'city', u'full_address',\n",
       "       u'hours', u'latitude', u'longitude', u'name', u'neighborhoods', u'open',\n",
       "       u'review_count', u'stars', u'state', u'type'],\n",
       "      dtype='object')"
      ]
     },
     "execution_count": 7,
     "metadata": {},
     "output_type": "execute_result"
    }
   ],
   "source": [
    "df.columns"
   ]
  },
  {
   "cell_type": "markdown",
   "metadata": {},
   "source": [
    "Cohen's d is a measurement of the difference between two means.  A greater Cohen's d value would suggest that the two means are different.  It is computed as the difference between the two means standardized by dividing by the standard deviation.  In this particular formula, the standard deviation is calculated as the pooled standard deviation.  Thus a Cohen's d of 1, which is typically considered as large (via http://www.polyu.edu.hk/mm/effectsizefaqs/calculator/result.html), is read as the two means differing by 1 pooled standard deviation.  The following code is provided on Allen Downey's GitHub.  "
   ]
  },
  {
   "cell_type": "code",
   "execution_count": 253,
   "metadata": {
    "collapsed": true
   },
   "outputs": [],
   "source": [
    "def CohenEffectSize(group1, group2):\n",
    "    \"\"\"Compute Cohen's d.\n",
    "\n",
    "    group1: Series or NumPy array\n",
    "    group2: Series or NumPy array\n",
    "\n",
    "    returns: float\n",
    "    \"\"\"\n",
    "    diff = group1.mean() - group2.mean()\n",
    "\n",
    "    n1, n2 = len(group1), len(group2)\n",
    "    var1 = group1.var()\n",
    "    var2 = group2.var()\n",
    "\n",
    "    pooled_var = (n1 * var1 + n2 * var2) / (n1 + n2)\n",
    "    d = diff / np.sqrt(pooled_var)\n",
    "    return d"
   ]
  },
  {
   "cell_type": "markdown",
   "metadata": {},
   "source": [
    "## Taking a look at the number of reviews for each starbucks location"
   ]
  },
  {
   "cell_type": "code",
   "execution_count": 59,
   "metadata": {
    "collapsed": false
   },
   "outputs": [
    {
     "data": {
      "text/plain": [
       "mean    17.163968\n",
       "50%     13.000000\n",
       "max     91.000000\n",
       "dtype: float64"
      ]
     },
     "execution_count": 59,
     "metadata": {},
     "output_type": "execute_result"
    }
   ],
   "source": [
    "df2.groupby('business_id').size().describe()[['mean','50%','max']]"
   ]
  },
  {
   "cell_type": "markdown",
   "metadata": {},
   "source": [
    "The average number of reviews for a location is 17, while the median is only 13.  Some stores with a large number of reviews, like the store with 91 reviews, are pulling the mean above the median.  "
   ]
  },
  {
   "cell_type": "markdown",
   "metadata": {},
   "source": [
    "The below is a histogram showing the number of reviews on the x axis and the number of starbucks stores on the y axis."
   ]
  },
  {
   "cell_type": "code",
   "execution_count": 123,
   "metadata": {
    "collapsed": false,
    "scrolled": true
   },
   "outputs": [
    {
     "data": {
      "text/plain": [
       "<matplotlib.axes._subplots.AxesSubplot at 0x1478d4e10>"
      ]
     },
     "execution_count": 123,
     "metadata": {},
     "output_type": "execute_result"
    },
    {
     "data": {
      "image/png": "[encoded data removed]",
      "text/plain": [
       "<matplotlib.figure.Figure at 0x13fd7b850>"
      ]
     },
     "metadata": {},
     "output_type": "display_data"
    }
   ],
   "source": [
    "df2.groupby('business_id').size().hist()"
   ]
  },
  {
   "cell_type": "markdown",
   "metadata": {},
   "source": [
    "The distribution of reviews is skewed right in that most stores have 13 or less reviews, though some have a very high number of reviews."
   ]
  },
  {
   "cell_type": "markdown",
   "metadata": {},
   "source": [
    "The top 5 starbucks stores with the most number of reviews are as follows:"
   ]
  },
  {
   "cell_type": "code",
   "execution_count": 927,
   "metadata": {
    "collapsed": false
   },
   "outputs": [
    {
     "data": {
      "text/plain": [
       "business_id\n",
       "yXMvhCmUADlaHabo-DiUYw    91\n",
       "P25sdf5qPh-FlN_ar1EXhw    86\n",
       "yIv8VEboEvZDslF1pr6S9g    79\n",
       "Hs_N9FLF8RDCe0tHiZKXhw    77\n",
       "0cvZUir2H5BnzRD6v0riBg    69\n",
       "dtype: int64"
      ]
     },
     "execution_count": 927,
     "metadata": {},
     "output_type": "execute_result"
    }
   ],
   "source": [
    "most_reviews=df2.groupby('business_id').size().sort_values(ascending=False)\n",
    "most_reviews.head(5)"
   ]
  },
  {
   "cell_type": "markdown",
   "metadata": {},
   "source": [
    "The top 10 starbucks stores with the most number of reviews are located in the following cities:"
   ]
  },
  {
   "cell_type": "code",
   "execution_count": 915,
   "metadata": {
    "collapsed": false
   },
   "outputs": [
    {
     "data": {
      "text/plain": [
       "city       state\n",
       "Las Vegas  NV       6\n",
       "Henderson  NV       2\n",
       "Phoenix    AZ       1\n",
       "Charlotte  NC       1\n",
       "dtype: int64"
      ]
     },
     "execution_count": 915,
     "metadata": {},
     "output_type": "execute_result"
    }
   ],
   "source": [
    "starbucks[starbucks.business_id.isin(list(most_reviews.head(10).index.values))]\\\n",
    ".groupby(['city','state']).size().sort_values(ascending=False)"
   ]
  },
  {
   "cell_type": "markdown",
   "metadata": {},
   "source": [
    "Do these stores have a lot of reviews due to the population of the region in which these stores reside or might there be some other reason?  Does review count have a positive correlation with population?  Below, I look up the cities of the 10 stores containing the most reviews."
   ]
  },
  {
   "cell_type": "markdown",
   "metadata": {},
   "source": [
    "### Investigating whether population correlates with review count"
   ]
  },
  {
   "cell_type": "code",
   "execution_count": 941,
   "metadata": {
    "collapsed": true
   },
   "outputs": [],
   "source": [
    "states = {\n",
    "        'AK': 'Alaska','AL': 'Alabama','AR': 'Arkansas','AS': 'American Samoa','AZ': 'Arizona',\n",
    "        'CA': 'California','CO': 'Colorado','CT': 'Connecticut','DC': 'District of Columbia',\n",
    "        'DE': 'Delaware','FL': 'Florida','GA': 'Georgia','GU': 'Guam','HI': 'Hawaii',\n",
    "        'IA': 'Iowa','ID': 'Idaho','IL': 'Illinois','IN': 'Indiana','KS': 'Kansas',\n",
    "        'KY': 'Kentucky','LA': 'Louisiana','MA': 'Massachusetts','MD': 'Maryland','ME': 'Maine',\n",
    "        'MI': 'Michigan','MN': 'Minnesota','MO': 'Missouri','MP': 'Northern Mariana Islands',\n",
    "        'MS': 'Mississippi','MT': 'Montana','NA': 'National','NC': 'North Carolina',\n",
    "        'ND': 'North Dakota','NE': 'Nebraska','NH': 'New Hampshire','NJ': 'New Jersey',\n",
    "        'NM': 'New Mexico','NV': 'Nevada','NY': 'New York','OH': 'Ohio','OK': 'Oklahoma',\n",
    "        'OR': 'Oregon','PA': 'Pennsylvania','PR': 'Puerto Rico','RI': 'Rhode Island',\n",
    "        'SC': 'South Carolina','SD': 'South Dakota','TN': 'Tennessee','TX': 'Texas',\n",
    "        'UT': 'Utah','VA': 'Virginia','VI': 'Virgin Islands','VT': 'Vermont',\n",
    "        'WA': 'Washington','WI': 'Wisconsin','WV': 'West Virginia','WY': 'Wyoming'}"
   ]
  },
  {
   "cell_type": "code",
   "execution_count": 942,
   "metadata": {
    "collapsed": true
   },
   "outputs": [],
   "source": [
    "states = dict((v,k) for k,v in states.iteritems())"
   ]
  },
  {
   "cell_type": "code",
   "execution_count": 36,
   "metadata": {
    "collapsed": false
   },
   "outputs": [],
   "source": [
    "#data source: http://www.census.gov/popest/data/cities/totals/2015/SUB-EST2015.html\n",
    "city_pop = pd.read_csv('/Users/Work/Desktop/Springboard/Data/\\\n",
    "yelp_dataset_challenge_academic_dataset/city_populations.csv')"
   ]
  },
  {
   "cell_type": "code",
   "execution_count": 929,
   "metadata": {
    "collapsed": false
   },
   "outputs": [],
   "source": [
    "most_reviews=df2.groupby('business_id').size().sort_values(ascending=False).head(2000)\n",
    "most_reviews_cities=starbucks[starbucks.business_id.isin(list(most_reviews.index.values))]\\\n",
    "[['business_id','city','state']]\n",
    "most_reviews_cities['city2']=most_reviews_cities.city.map(lambda x: x+' city')\n",
    "most_reviews_cities['citystate']=zip(most_reviews_cities['city2'],most_reviews_cities['state'])\n",
    "most_reviews_cities['population']=''"
   ]
  },
  {
   "cell_type": "code",
   "execution_count": 931,
   "metadata": {
    "collapsed": false
   },
   "outputs": [],
   "source": [
    "temp=list(most_reviews_cities.city2.unique())\n",
    "temp2=list(most_reviews_cities.citystate.unique())\n",
    "city_pop_subset=city_pop[city_pop.NAME.isin(temp)]"
   ]
  },
  {
   "cell_type": "markdown",
   "metadata": {},
   "source": [
    "Below, I create a column in city_pop_subset consisting of tuples containing the city and state of the record, which I'll use to join the two tables (city_pop_subset and most_reviews_cities) to fill in the population values in the most_reviews_cities table.  I did this because some city names have multiple state values associated with them, so I don't want to put the wrong population value for a given (city, state) tuple in most_reviews_cities."
   ]
  },
  {
   "cell_type": "code",
   "execution_count": 932,
   "metadata": {
    "collapsed": false
   },
   "outputs": [],
   "source": [
    "city_pop_subset['state2']=''\n",
    "temp3=[]\n",
    "for j in range(len(city_pop_subset)):\n",
    "    temp3.append(states[city_pop_subset.iloc[j].STNAME])\n",
    "city_pop_subset['state2']=temp3\n",
    "city_pop_subset['citystate']=zip(city_pop_subset.NAME,city_pop_subset.state2)"
   ]
  },
  {
   "cell_type": "code",
   "execution_count": 933,
   "metadata": {
    "collapsed": false
   },
   "outputs": [],
   "source": [
    "#Select only (city, state) tuples that are in most_reviews_cities\n",
    "city_pop_subset=city_pop_subset[city_pop_subset.citystate.isin(temp2)]"
   ]
  },
  {
   "cell_type": "code",
   "execution_count": 934,
   "metadata": {
    "collapsed": false
   },
   "outputs": [],
   "source": [
    "city_pop_subset=city_pop_subset[['POPESTIMATE2015','state2','citystate']]\n",
    "city_pop_subset.columns=['population','state','citystate']\n",
    "city_pop_subset=city_pop_subset.drop_duplicates()"
   ]
  },
  {
   "cell_type": "code",
   "execution_count": 935,
   "metadata": {
    "collapsed": false
   },
   "outputs": [],
   "source": [
    "temp4=[]\n",
    "for j in range(len(most_reviews_cities)):\n",
    "    if most_reviews_cities.citystate.iloc[j] in list(city_pop_subset.citystate):\n",
    "        for k in range(len(city_pop_subset)):\n",
    "            if most_reviews_cities.iloc[j].citystate==city_pop_subset.iloc[k].citystate:\n",
    "                temp4.append(city_pop_subset.iloc[k].population)\n",
    "    else:\n",
    "        temp4.append(0)\n",
    "most_reviews_cities['population'] = temp4"
   ]
  },
  {
   "cell_type": "code",
   "execution_count": 968,
   "metadata": {
    "collapsed": false
   },
   "outputs": [],
   "source": [
    "most_reviews=df2.groupby('business_id').size().sort_values(ascending=False).head(2000)\n",
    "most_reviews=pd.DataFrame(most_reviews,columns=['review_count'])\n",
    "most_reviews=most_reviews.reset_index()\n",
    "most_reviews=pd.merge(most_reviews_cities,most_reviews,on='business_id')"
   ]
  },
  {
   "cell_type": "code",
   "execution_count": null,
   "metadata": {
    "collapsed": true
   },
   "outputs": [],
   "source": [
    "avg_stars=df2.groupby('business_id').mean().stars\n",
    "avg_stars=pd.DataFrame(avg_stars).reset_index()\n",
    "avg_stars.columns=['business_id','avg_stars']\n",
    "most_reviews=pd.merge(most_reviews,avg_stars,on='business_id')"
   ]
  },
  {
   "cell_type": "markdown",
   "metadata": {},
   "source": [
    "### Scatterplot of population vs number of reviews"
   ]
  },
  {
   "cell_type": "code",
   "execution_count": 940,
   "metadata": {
    "collapsed": false
   },
   "outputs": [
    {
     "data": {
      "text/plain": [
       "<matplotlib.axes._subplots.AxesSubplot at 0x1225d3cd0>"
      ]
     },
     "execution_count": 940,
     "metadata": {},
     "output_type": "execute_result"
    },
    {
     "data": {
      "image/png": "[encoded data removed]",
      "text/plain": [
       "<matplotlib.figure.Figure at 0x12253d190>"
      ]
     },
     "metadata": {},
     "output_type": "display_data"
    }
   ],
   "source": [
    "most_reviews[most_reviews.population!=0].sort_values('review_count')\\\n",
    ".plot(x='review_count',y='population',kind='scatter',ylim=[0,2000000],)"
   ]
  },
  {
   "cell_type": "code",
   "execution_count": 975,
   "metadata": {
    "collapsed": false
   },
   "outputs": [
    {
     "data": {
      "text/plain": [
       "0.24700470636410374"
      ]
     },
     "execution_count": 975,
     "metadata": {},
     "output_type": "execute_result"
    }
   ],
   "source": [
    "most_reviews.review_count.corr(most_reviews.population,method='spearman')"
   ]
  },
  {
   "cell_type": "markdown",
   "metadata": {},
   "source": [
    "The above scatterplot does not reveal much of a correlation between population and review count.  Many shops in the data appear to be located in cities.  The horizontal streams of dots for large populations exist because there are multiple shops in the same city with differing numbers of reviews.  Perhaps a correlation would be more apparent if the data had more shops located in smaller population towns and cities.  The correlation coefficient is .247, suggesting that the variables are only weakly positively correlated."
   ]
  },
  {
   "cell_type": "markdown",
   "metadata": {},
   "source": [
    "### Scatterplot of avg stars vs number of reviews"
   ]
  },
  {
   "cell_type": "code",
   "execution_count": 971,
   "metadata": {
    "collapsed": false
   },
   "outputs": [
    {
     "data": {
      "text/plain": [
       "<matplotlib.axes._subplots.AxesSubplot at 0x122c753d0>"
      ]
     },
     "execution_count": 971,
     "metadata": {},
     "output_type": "execute_result"
    },
    {
     "data": {
      "image/png": "[encoded data removed]",
      "text/plain": [
       "<matplotlib.figure.Figure at 0x122adee90>"
      ]
     },
     "metadata": {},
     "output_type": "display_data"
    }
   ],
   "source": [
    "most_reviews.sort_values('review_count')\\\n",
    ".plot(x='review_count',y='avg_stars',kind='scatter')"
   ]
  },
  {
   "cell_type": "code",
   "execution_count": 977,
   "metadata": {
    "collapsed": false
   },
   "outputs": [
    {
     "data": {
      "text/plain": [
       "-0.10942087950137543"
      ]
     },
     "execution_count": 977,
     "metadata": {},
     "output_type": "execute_result"
    }
   ],
   "source": [
    "most_reviews.review_count.corr(most_reviews.avg_stars,method='spearman')"
   ]
  },
  {
   "cell_type": "markdown",
   "metadata": {},
   "source": [
    "While the correlation coefficient is only -.109, the scatterplot does show a rather obvious negative correlation.  Also, the variance of the average stars for a given review count appears to decrease as review count increases.  "
   ]
  },
  {
   "cell_type": "markdown",
   "metadata": {},
   "source": [
    "## Investigating Starbucks stores that have closed."
   ]
  },
  {
   "cell_type": "markdown",
   "metadata": {},
   "source": [
    "A closed store is indicated by the open field having a value of False.  \n",
    "As shown below, there are 17 stores that have closed."
   ]
  },
  {
   "cell_type": "code",
   "execution_count": 17,
   "metadata": {
    "collapsed": false
   },
   "outputs": [
    {
     "data": {
      "text/plain": [
       "17"
      ]
     },
     "execution_count": 17,
     "metadata": {},
     "output_type": "execute_result"
    }
   ],
   "source": [
    "len(starbucks[starbucks.open==False])"
   ]
  },
  {
   "cell_type": "markdown",
   "metadata": {},
   "source": [
    "Below, we see that most Starbucks locations that closed had 10 or less reviews.  "
   ]
  },
  {
   "cell_type": "code",
   "execution_count": 86,
   "metadata": {
    "collapsed": false
   },
   "outputs": [
    {
     "data": {
      "text/plain": [
       "[27, 18, 14, 12, 11, 11, 10, 6, 5, 4, 4, 4, 4, 3, 3, 3, 1]"
      ]
     },
     "execution_count": 86,
     "metadata": {},
     "output_type": "execute_result"
    }
   ],
   "source": [
    "temp=list(starbucks[starbucks.open==False].business_id.values)\n",
    "closed=df2[df2.business_id.isin(temp)]\n",
    "s=df2[df2.business_id.isin(temp)].groupby('business_id').size().sort_values(ascending=False) \n",
    "list(s)"
   ]
  },
  {
   "cell_type": "markdown",
   "metadata": {},
   "source": [
    "As shown below, the median number of reviews for all shops is greater than the median number of reviews for closed shops by 8, so closed shops received less reviews in general than open shops.  This makes sense because if a shop closes, reviews for that shop will not keep happening because there is no longer an open shop to review!"
   ]
  },
  {
   "cell_type": "code",
   "execution_count": 87,
   "metadata": {
    "collapsed": false
   },
   "outputs": [
    {
     "data": {
      "text/plain": [
       "8.0"
      ]
     },
     "execution_count": 87,
     "metadata": {},
     "output_type": "execute_result"
    }
   ],
   "source": [
    "(df2.groupby('business_id').size().sort_values(ascending=False).describe()-s.describe())['50%']"
   ]
  },
  {
   "cell_type": "markdown",
   "metadata": {},
   "source": [
    "Below, I take the difference between various descriptive statistics for the star scores of all Starbucks stores and closed Starbucks stores.  The first quartile of closed shops is one star lower than that of all shops.  25% of closed shops received 2 stars or less, while 25% of all shops received 3 stars or less.  This might give evidence to the idea that these shops are now closed because of having difficulties that were reflected in their yelp scores, meaning yelp starbucks stars can predict the success of a location.  "
   ]
  },
  {
   "cell_type": "markdown",
   "metadata": {},
   "source": [
    "Cohen's d is very low, suggesting that the mean stars of closed stores and the mean stars of all stores are not very different."
   ]
  },
  {
   "cell_type": "code",
   "execution_count": 256,
   "metadata": {
    "collapsed": false
   },
   "outputs": [
    {
     "data": {
      "text/plain": [
       "-0.050685671434620071"
      ]
     },
     "execution_count": 256,
     "metadata": {},
     "output_type": "execute_result"
    }
   ],
   "source": [
    "CohenEffectSize(closed.stars.values, starbucks.stars.values)"
   ]
  },
  {
   "cell_type": "code",
   "execution_count": 89,
   "metadata": {
    "collapsed": false
   },
   "outputs": [
    {
     "data": {
      "text/plain": [
       "1.0"
      ]
     },
     "execution_count": 89,
     "metadata": {},
     "output_type": "execute_result"
    }
   ],
   "source": [
    "(starbucks.stars.describe()-closed.stars.describe())['25%']"
   ]
  },
  {
   "cell_type": "code",
   "execution_count": 70,
   "metadata": {
    "collapsed": false
   },
   "outputs": [
    {
     "data": {
      "text/plain": [
       "2.0"
      ]
     },
     "execution_count": 70,
     "metadata": {},
     "output_type": "execute_result"
    }
   ],
   "source": [
    "closed.stars.describe()['25%']"
   ]
  },
  {
   "cell_type": "code",
   "execution_count": 60,
   "metadata": {
    "collapsed": false
   },
   "outputs": [
    {
     "data": {
      "text/plain": [
       "<matplotlib.axes._subplots.AxesSubplot at 0x126d1d6d0>"
      ]
     },
     "execution_count": 60,
     "metadata": {},
     "output_type": "execute_result"
    },
    {
     "data": {
      "image/png": "[encoded data removed]",
      "text/plain": [
       "<matplotlib.figure.Figure at 0x126d6be10>"
      ]
     },
     "metadata": {},
     "output_type": "display_data"
    }
   ],
   "source": [
    "sns.boxplot(closed.stars,palette='GnBu_d')"
   ]
  },
  {
   "cell_type": "markdown",
   "metadata": {},
   "source": [
    "### Boxplot of the Starbucks star distribution"
   ]
  },
  {
   "cell_type": "code",
   "execution_count": 122,
   "metadata": {
    "collapsed": false,
    "scrolled": true
   },
   "outputs": [
    {
     "data": {
      "text/plain": [
       "<matplotlib.axes._subplots.AxesSubplot at 0x15e668550>"
      ]
     },
     "execution_count": 122,
     "metadata": {},
     "output_type": "execute_result"
    },
    {
     "data": {
      "image/png": "[encoded data removed]",
      "text/plain": [
       "<matplotlib.figure.Figure at 0x15363b7d0>"
      ]
     },
     "metadata": {},
     "output_type": "display_data"
    }
   ],
   "source": [
    "sns.boxplot(starbucks.stars,palette='GnBu_d')"
   ]
  },
  {
   "cell_type": "markdown",
   "metadata": {},
   "source": [
    "The median number of stars is 3.5.   \n",
    "75% of stores have 4 stars or less.  \n",
    "25% of stores have 3 stars or less."
   ]
  },
  {
   "cell_type": "markdown",
   "metadata": {},
   "source": [
    "### Histogram of Starbucks star ratings"
   ]
  },
  {
   "cell_type": "code",
   "execution_count": 127,
   "metadata": {
    "collapsed": false
   },
   "outputs": [
    {
     "data": {
      "text/plain": [
       "<matplotlib.text.Text at 0x158ed5cd0>"
      ]
     },
     "execution_count": 127,
     "metadata": {},
     "output_type": "execute_result"
    },
    {
     "data": {
      "image/png": "[encoded data removed]",
      "text/plain": [
       "<matplotlib.figure.Figure at 0x1575f1290>"
      ]
     },
     "metadata": {},
     "output_type": "display_data"
    }
   ],
   "source": [
    "fig, axes = plt.subplots(1,1,dpi=200)\n",
    "axes.hist(starbucks.stars,bins=4)\n",
    "axes.set_title('Yelp Starbucks Star Ratings')\n",
    "axes.set_xlabel('Star Rating')\n",
    "axes.set_ylabel('Frequency')"
   ]
  },
  {
   "cell_type": "markdown",
   "metadata": {},
   "source": [
    "## Investigating the relationship between review date and stars"
   ]
  },
  {
   "cell_type": "code",
   "execution_count": 979,
   "metadata": {
    "collapsed": true
   },
   "outputs": [],
   "source": [
    "df2.date=pd.to_datetime(df2.date)"
   ]
  },
  {
   "cell_type": "markdown",
   "metadata": {},
   "source": [
    "Or we could have done the following to convert date to datetime:\n",
    "temp=[]\n",
    "for j in range(len(df2)):\n",
    "    temp.append(datetime.strptime(df2.date[j], '%Y-%m-%d'))\n",
    "df2['date']=temp"
   ]
  },
  {
   "cell_type": "code",
   "execution_count": 980,
   "metadata": {
    "collapsed": false
   },
   "outputs": [],
   "source": [
    "temp=[]\n",
    "for j in range(len(df2)):\n",
    "    temp.append(df2.date[j].year)\n",
    "df2['year']=temp"
   ]
  },
  {
   "cell_type": "markdown",
   "metadata": {},
   "source": [
    "Below, we see that the data starts becoming credible around 2010, when the number of reviews hits the triple digits."
   ]
  },
  {
   "cell_type": "code",
   "execution_count": 981,
   "metadata": {
    "collapsed": false
   },
   "outputs": [
    {
     "data": {
      "text/plain": [
       "year\n",
       "2005       1\n",
       "2006       4\n",
       "2007      20\n",
       "2008      58\n",
       "2009      95\n",
       "2010     328\n",
       "2011     792\n",
       "2012     882\n",
       "2013    1360\n",
       "2014    2146\n",
       "2015    2793\n",
       "dtype: int64"
      ]
     },
     "execution_count": 981,
     "metadata": {},
     "output_type": "execute_result"
    }
   ],
   "source": [
    "df2.groupby('year').size()"
   ]
  },
  {
   "cell_type": "markdown",
   "metadata": {},
   "source": [
    "We see below that starting in 2010, the average number of stars for a given location decreases from year to year.  Perhaps this has to do with the fact that there are more reviews each subsequent year."
   ]
  },
  {
   "cell_type": "code",
   "execution_count": 202,
   "metadata": {
    "collapsed": false
   },
   "outputs": [
    {
     "data": {
      "text/html": [
       "<div>\n",
       "<table border=\"1\" class=\"dataframe\">\n",
       "  <thead>\n",
       "    <tr style=\"text-align: right;\">\n",
       "      <th></th>\n",
       "      <th>stars</th>\n",
       "    </tr>\n",
       "    <tr>\n",
       "      <th>year</th>\n",
       "      <th></th>\n",
       "    </tr>\n",
       "  </thead>\n",
       "  <tbody>\n",
       "    <tr>\n",
       "      <th>2008</th>\n",
       "      <td>3.362069</td>\n",
       "    </tr>\n",
       "    <tr>\n",
       "      <th>2009</th>\n",
       "      <td>3.357895</td>\n",
       "    </tr>\n",
       "    <tr>\n",
       "      <th>2010</th>\n",
       "      <td>3.612805</td>\n",
       "    </tr>\n",
       "    <tr>\n",
       "      <th>2011</th>\n",
       "      <td>3.599747</td>\n",
       "    </tr>\n",
       "    <tr>\n",
       "      <th>2012</th>\n",
       "      <td>3.547619</td>\n",
       "    </tr>\n",
       "    <tr>\n",
       "      <th>2013</th>\n",
       "      <td>3.435294</td>\n",
       "    </tr>\n",
       "    <tr>\n",
       "      <th>2014</th>\n",
       "      <td>3.106244</td>\n",
       "    </tr>\n",
       "    <tr>\n",
       "      <th>2015</th>\n",
       "      <td>2.969925</td>\n",
       "    </tr>\n",
       "  </tbody>\n",
       "</table>\n",
       "</div>"
      ],
      "text/plain": [
       "         stars\n",
       "year          \n",
       "2008  3.362069\n",
       "2009  3.357895\n",
       "2010  3.612805\n",
       "2011  3.599747\n",
       "2012  3.547619\n",
       "2013  3.435294\n",
       "2014  3.106244\n",
       "2015  2.969925"
      ]
     },
     "execution_count": 202,
     "metadata": {},
     "output_type": "execute_result"
    }
   ],
   "source": [
    "df2[df2.year>=2008].groupby('year').mean()"
   ]
  },
  {
   "cell_type": "markdown",
   "metadata": {},
   "source": [
    "The line plot below shows that the average number of stars as a function of years is concave downward.  The rate of change of the avg stars decreases as year increases.  "
   ]
  },
  {
   "cell_type": "code",
   "execution_count": 1117,
   "metadata": {
    "collapsed": false
   },
   "outputs": [
    {
     "data": {
      "text/plain": [
       "<matplotlib.axes._subplots.AxesSubplot at 0x161eada10>"
      ]
     },
     "execution_count": 1117,
     "metadata": {},
     "output_type": "execute_result"
    },
    {
     "data": {
      "image/png": "[encoded data removed]",
      "text/plain": [
       "<matplotlib.figure.Figure at 0x162108f90>"
      ]
     },
     "metadata": {},
     "output_type": "display_data"
    }
   ],
   "source": [
    "df2[df2.year>=2010].groupby('year').mean().plot()"
   ]
  },
  {
   "cell_type": "markdown",
   "metadata": {},
   "source": [
    "The line plot below shows that the median number of stars as a function of years decreases more sharply than the mean.  The median is 4 stars from 2010 to 2013 and then decreases to 3 stars in 2014 and 2015.   "
   ]
  },
  {
   "cell_type": "code",
   "execution_count": 1118,
   "metadata": {
    "collapsed": false
   },
   "outputs": [
    {
     "data": {
      "text/plain": [
       "<matplotlib.axes._subplots.AxesSubplot at 0x16253a1d0>"
      ]
     },
     "execution_count": 1118,
     "metadata": {},
     "output_type": "execute_result"
    },
    {
     "data": {
      "image/png": "[encoded data removed]",
      "text/plain": [
       "<matplotlib.figure.Figure at 0x1623c0250>"
      ]
     },
     "metadata": {},
     "output_type": "display_data"
    }
   ],
   "source": [
    "df2[df2.year>=2010].groupby('year').median().plot()"
   ]
  },
  {
   "cell_type": "markdown",
   "metadata": {},
   "source": [
    "Below, we see that the average number of stars in the last two years is being pulled down by a greater frequency of reviews with 2 stars or lower.  25% of reviews in 2014 had 2 stars or less.  25% of reviews in 2015 had 1 stars or less.  Before 2014, 25% of reviews had 3 stars or less every year.  "
   ]
  },
  {
   "cell_type": "code",
   "execution_count": 982,
   "metadata": {
    "collapsed": false
   },
   "outputs": [
    {
     "data": {
      "text/plain": [
       "<matplotlib.axes._subplots.AxesSubplot at 0x1234c3f50>"
      ]
     },
     "execution_count": 982,
     "metadata": {},
     "output_type": "execute_result"
    },
    {
     "data": {
      "image/png": "[encoded data removed]",
      "text/plain": [
       "<matplotlib.figure.Figure at 0x122ae5490>"
      ]
     },
     "metadata": {},
     "output_type": "display_data"
    }
   ],
   "source": [
    "sns.boxplot(x=df2[df2.year>=2010].year,y=df2.stars,palette='Set2')"
   ]
  },
  {
   "cell_type": "markdown",
   "metadata": {},
   "source": [
    "What happened in 2015?  Star scores seem to have taken a nose dive.  The histogram below shows the distribution of stars for 2015.  There were 800 reviews in which the user gave Starbucks just 1 star.  The high frequency of 1 star reviews has pulled the first quartile of the interquartile range down to 1 star.  "
   ]
  },
  {
   "cell_type": "code",
   "execution_count": 996,
   "metadata": {
    "collapsed": false
   },
   "outputs": [
    {
     "data": {
      "text/plain": [
       "<matplotlib.axes._subplots.AxesSubplot at 0x1229ee350>"
      ]
     },
     "execution_count": 996,
     "metadata": {},
     "output_type": "execute_result"
    },
    {
     "data": {
      "image/png": "[encoded data removed]",
      "text/plain": [
       "<matplotlib.figure.Figure at 0x1229eec50>"
      ]
     },
     "metadata": {},
     "output_type": "display_data"
    }
   ],
   "source": [
    "df2[df2.date.dt.year==2015].stars.hist()"
   ]
  },
  {
   "cell_type": "code",
   "execution_count": 1037,
   "metadata": {
    "collapsed": false
   },
   "outputs": [],
   "source": [
    "avg_stars_2015=df2[(df2.date.dt.year==2015)].groupby('business_id').mean()\n",
    "avg_stars_2015=pd.DataFrame(avg_stars_2015).reset_index()\n",
    "avg_stars_2015=pd.merge(avg_stars_2015,most_reviews[['business_id','review_count']]\\\n",
    ",on='business_id')"
   ]
  },
  {
   "cell_type": "markdown",
   "metadata": {},
   "source": [
    "Below, I see whether removing stores with many reviews and having a low average star score changes the interquartile range (aka whether the removal of stores that are outliers has an effect).  I classify outliers as having a star score less than or equal to 2 and a review count of at least 30 reviews, so the store needs a low score and a large number of reviews."
   ]
  },
  {
   "cell_type": "code",
   "execution_count": 1116,
   "metadata": {
    "collapsed": false
   },
   "outputs": [
    {
     "data": {
      "text/html": [
       "<div>\n",
       "<table border=\"1\" class=\"dataframe\">\n",
       "  <thead>\n",
       "    <tr style=\"text-align: right;\">\n",
       "      <th></th>\n",
       "      <th>business_id</th>\n",
       "      <th>stars</th>\n",
       "      <th>year</th>\n",
       "      <th>review_count</th>\n",
       "    </tr>\n",
       "  </thead>\n",
       "  <tbody>\n",
       "    <tr>\n",
       "      <th>334</th>\n",
       "      <td>ieheWXxYPTM2stGLV7fEPw</td>\n",
       "      <td>1.583333</td>\n",
       "      <td>2015.0</td>\n",
       "      <td>42</td>\n",
       "    </tr>\n",
       "    <tr>\n",
       "      <th>52</th>\n",
       "      <td>5Q49MxuWJgXS649i7i2Iow</td>\n",
       "      <td>1.600000</td>\n",
       "      <td>2015.0</td>\n",
       "      <td>53</td>\n",
       "    </tr>\n",
       "    <tr>\n",
       "      <th>98</th>\n",
       "      <td>BAKRDK_sZk-B06jKWz9hVg</td>\n",
       "      <td>1.611111</td>\n",
       "      <td>2015.0</td>\n",
       "      <td>34</td>\n",
       "    </tr>\n",
       "    <tr>\n",
       "      <th>376</th>\n",
       "      <td>pPbAvdjmTkMaEXVJyPGIug</td>\n",
       "      <td>1.636364</td>\n",
       "      <td>2015.0</td>\n",
       "      <td>35</td>\n",
       "    </tr>\n",
       "    <tr>\n",
       "      <th>106</th>\n",
       "      <td>CK6Vf3ii1Hj-4AlgbS6NJQ</td>\n",
       "      <td>1.666667</td>\n",
       "      <td>2015.0</td>\n",
       "      <td>41</td>\n",
       "    </tr>\n",
       "  </tbody>\n",
       "</table>\n",
       "</div>"
      ],
      "text/plain": [
       "                business_id     stars    year  review_count\n",
       "334  ieheWXxYPTM2stGLV7fEPw  1.583333  2015.0            42\n",
       "52   5Q49MxuWJgXS649i7i2Iow  1.600000  2015.0            53\n",
       "98   BAKRDK_sZk-B06jKWz9hVg  1.611111  2015.0            34\n",
       "376  pPbAvdjmTkMaEXVJyPGIug  1.636364  2015.0            35\n",
       "106  CK6Vf3ii1Hj-4AlgbS6NJQ  1.666667  2015.0            41"
      ]
     },
     "execution_count": 1116,
     "metadata": {},
     "output_type": "execute_result"
    }
   ],
   "source": [
    "outliers_df=avg_stars_2015[(avg_stars_2015.stars<=2) & (avg_stars_2015.review_count > 30)]\\\n",
    ".sort_values('stars',ascending=True)\n",
    "outliers_df.head()"
   ]
  },
  {
   "cell_type": "code",
   "execution_count": 1113,
   "metadata": {
    "collapsed": false
   },
   "outputs": [
    {
     "data": {
      "text/plain": [
       "<matplotlib.axes._subplots.AxesSubplot at 0x161ead890>"
      ]
     },
     "execution_count": 1113,
     "metadata": {},
     "output_type": "execute_result"
    },
    {
     "data": {
      "image/png": "[encoded data removed]",
      "text/plain": [
       "<matplotlib.figure.Figure at 0x124875490>"
      ]
     },
     "metadata": {},
     "output_type": "display_data"
    }
   ],
   "source": [
    "stars_2015=df2[df2.year==2015]\n",
    "outliers=list(outliers_df.business_id.values)\n",
    "stars_2015=stars_2015[~stars_2015.business_id.isin(outliers)]\n",
    "sns.boxplot(x=stars_2015[stars_2015.year==2015].year,y=stars_2015.stars,palette='Set2')"
   ]
  },
  {
   "cell_type": "markdown",
   "metadata": {},
   "source": [
    "From the above boxplot, the first quartile is still 1 star, meaning there are still a large number of reviews with 1 star.  However, the third quartile has shifted to 5 stars, rather than 4 stars, meaning 75% of all reviews have 5 stars or less if we exclude stores classified as outliers.  "
   ]
  },
  {
   "cell_type": "markdown",
   "metadata": {},
   "source": [
    "## Investigating whether stars vary by region and state"
   ]
  },
  {
   "cell_type": "code",
   "execution_count": 272,
   "metadata": {
    "collapsed": true
   },
   "outputs": [],
   "source": [
    "Northeast=['CT','ME','MA','NH','RI','VT','NJ','NY','PA']\n",
    "Midwest=['IL','IN','MI','OH','WI','IA','KS','MN','MO','NE','ND','SD']\n",
    "South=['DE','DC','FL','GA','MD','NC','SC','VA','WV']\n",
    "West=['AZ','CO','ID','MT','NV','NM','UT','WY','AK','CA','HI','OR','WA']\n",
    "Canada=['EDH','BW','ON','QC']"
   ]
  },
  {
   "cell_type": "code",
   "execution_count": 273,
   "metadata": {
    "collapsed": false
   },
   "outputs": [],
   "source": [
    "temp=[]\n",
    "for x in range(len(starbucks)):\n",
    "    if starbucks['state'].iloc[x] in Northeast:\n",
    "        temp.append('Northeast')\n",
    "    elif starbucks['state'].iloc[x] in Midwest:\n",
    "        temp.append('Midwest')\n",
    "    elif starbucks['state'].iloc[x] in South:\n",
    "        temp.append('South')\n",
    "    elif starbucks['state'].iloc[x] in West:\n",
    "        temp.append('West')\n",
    "    elif starbucks['state'].iloc[x] in Canada:\n",
    "        temp.append('Canada')\n",
    "    else:\n",
    "        temp.append('NA')\n",
    "starbucks['region']=temp"
   ]
  },
  {
   "cell_type": "markdown",
   "metadata": {},
   "source": [
    "We see below that most Starbucks locations in the Yelp data are in Arizona and Nevada.  We observe that the data contains locations in Canada.  Most importantly, we observe that the data does not include every Starbucks.  Entire states are missing from the data.  "
   ]
  },
  {
   "cell_type": "code",
   "execution_count": 274,
   "metadata": {
    "collapsed": false
   },
   "outputs": [
    {
     "data": {
      "text/plain": [
       "state  region   \n",
       "AZ     West         201\n",
       "NV     West         161\n",
       "NC     South         41\n",
       "QC     Canada        26\n",
       "PA     Northeast     24\n",
       "EDH    Canada        20\n",
       "WI     Midwest       10\n",
       "ON     Canada         6\n",
       "IL     Midwest        3\n",
       "BW     Canada         2\n",
       "SC     South          1\n",
       "dtype: int64"
      ]
     },
     "execution_count": 274,
     "metadata": {},
     "output_type": "execute_result"
    }
   ],
   "source": [
    "starbucks.groupby(['state','region']).size().sort_values(ascending=False)"
   ]
  },
  {
   "cell_type": "code",
   "execution_count": 94,
   "metadata": {
    "collapsed": false
   },
   "outputs": [
    {
     "data": {
      "text/plain": [
       "state\n",
       "AZ     201\n",
       "BW       2\n",
       "EDH     20\n",
       "IL       3\n",
       "NC      41\n",
       "NV     161\n",
       "ON       6\n",
       "PA      24\n",
       "QC      26\n",
       "SC       1\n",
       "WI      10\n",
       "dtype: int64"
      ]
     },
     "execution_count": 94,
     "metadata": {},
     "output_type": "execute_result"
    }
   ],
   "source": [
    "df[df.name.str.contains('Starbucks')].groupby('state').size()"
   ]
  },
  {
   "cell_type": "markdown",
   "metadata": {},
   "source": [
    "### Boxplot of stars by region"
   ]
  },
  {
   "cell_type": "markdown",
   "metadata": {},
   "source": [
    "Canada and the Northeast region have a higher interquartile range of 3.5 to 4 stars, unlike other regions, which have an interquartile range of 3 to 3.5 stars.  "
   ]
  },
  {
   "cell_type": "code",
   "execution_count": 16,
   "metadata": {
    "collapsed": false
   },
   "outputs": [
    {
     "data": {
      "text/plain": [
       "<matplotlib.axes._subplots.AxesSubplot at 0x1238a5250>"
      ]
     },
     "execution_count": 16,
     "metadata": {},
     "output_type": "execute_result"
    },
    {
     "data": {
      "image/png": "[encoded data removed]",
      "text/plain": [
       "<matplotlib.figure.Figure at 0x123850290>"
      ]
     },
     "metadata": {},
     "output_type": "display_data"
    }
   ],
   "source": [
    "sns.boxplot(starbucks.stars,groupby=starbucks.region,palette='GnBu_d')"
   ]
  },
  {
   "cell_type": "markdown",
   "metadata": {},
   "source": [
    "### Cohen's d as a measurement of the effect size"
   ]
  },
  {
   "cell_type": "code",
   "execution_count": 277,
   "metadata": {
    "collapsed": false
   },
   "outputs": [
    {
     "data": {
      "text/plain": [
       "1.0288927269766084"
      ]
     },
     "execution_count": 277,
     "metadata": {},
     "output_type": "execute_result"
    }
   ],
   "source": [
    "CohenEffectSize(starbucks[starbucks.region=='Northeast'].stars.values,\\\n",
    "                starbucks[starbucks.region=='South'].stars.values)"
   ]
  },
  {
   "cell_type": "markdown",
   "metadata": {},
   "source": [
    "### Boxplot of stars by state"
   ]
  },
  {
   "cell_type": "markdown",
   "metadata": {},
   "source": [
    "The boxplot below suggests that the distribution of star scores varies by state.  PA has the highest interquartile range (3.5 to 4 stars), while Illnois has one of the lowest interquartile ranges (2.5 to 3.25 stars).  "
   ]
  },
  {
   "cell_type": "code",
   "execution_count": 35,
   "metadata": {
    "collapsed": false
   },
   "outputs": [
    {
     "data": {
      "text/plain": [
       "<matplotlib.axes._subplots.AxesSubplot at 0x124421ad0>"
      ]
     },
     "execution_count": 35,
     "metadata": {},
     "output_type": "execute_result"
    },
    {
     "data": {
      "image/png": "[encoded data removed]",
      "text/plain": [
       "<matplotlib.figure.Figure at 0x123b149d0>"
      ]
     },
     "metadata": {},
     "output_type": "display_data"
    }
   ],
   "source": [
    "drop_canada=starbucks[starbucks.region!='Canada']\n",
    "sns.boxplot(drop_canada.stars,groupby=drop_canada.state,palette='GnBu_d')"
   ]
  },
  {
   "cell_type": "markdown",
   "metadata": {},
   "source": [
    "## Below, we compare boxplots for starbucks stores having specific words in their reviews and stores NOT having these words"
   ]
  },
  {
   "cell_type": "markdown",
   "metadata": {},
   "source": [
    "### Review content containing the words 'dirty' or 'filthy', suggesting an unclean store"
   ]
  },
  {
   "cell_type": "markdown",
   "metadata": {},
   "source": [
    "Below, we investigate differences in the star score distribution for locations with the words 'dirty' or 'filthy'\n",
    "in their review content vs locations excluding these words.  Reviews containing these two words would suggest that guests regard the store as not clean.  "
   ]
  },
  {
   "cell_type": "markdown",
   "metadata": {},
   "source": [
    "The boxplots below show that stores regarded as not clean (as measured by having the words 'dirty' or 'filthy' in their review content) have a smaller third quartile that equals 3.5 stars, meaning 75% of unclean stores have a star score of 3.5 or less.  Stores regarded as clean have a third quartile of 4.5 stars, meaning 75% of stars are less than 4.5 stars.  This difference suggests that stores regarded as unclean tend to have lower yelp scores.  "
   ]
  },
  {
   "cell_type": "code",
   "execution_count": 1145,
   "metadata": {
    "collapsed": false
   },
   "outputs": [
    {
     "data": {
      "text/plain": [
       "<matplotlib.axes._subplots.AxesSubplot at 0x1627b2e50>"
      ]
     },
     "execution_count": 1145,
     "metadata": {},
     "output_type": "execute_result"
    },
    {
     "data": {
      "image/png": "[encoded data removed]",
      "text/plain": [
       "<matplotlib.figure.Figure at 0x11f6ca690>"
      ]
     },
     "metadata": {},
     "output_type": "display_data"
    }
   ],
   "source": [
    "clean=df2[(df2.text.str.contains('dirty')) | (df2.text.str.contains('filthy')) |\n",
    "          (df2.text.str.contains('messy'))].business_id.unique()\n",
    "starbucks['clean'] = starbucks['business_id'].map( lambda x: 'not_clean' if x in list(list(clean)) else 'clean')\n",
    "sns.boxplot(y=starbucks.stars,x=starbucks['clean'],palette='GnBu_d',orient=False)"
   ]
  },
  {
   "cell_type": "markdown",
   "metadata": {},
   "source": [
    "### Review content containing the word 'homeless', suggesting a homeless person problem"
   ]
  },
  {
   "cell_type": "markdown",
   "metadata": {},
   "source": [
    "The boxplots below show that Starbucks locations with the word 'homeless' in their text reviews have a third quartile of 3.5 stars while locations without the word 'homeless' have a third quartile of 4.5 stars.  This difference suggests that stores with homeless people in or around them tend to have lower yelp scores.  "
   ]
  },
  {
   "cell_type": "code",
   "execution_count": 1144,
   "metadata": {
    "collapsed": false
   },
   "outputs": [
    {
     "data": {
      "text/plain": [
       "<matplotlib.axes._subplots.AxesSubplot at 0x11ddd5a50>"
      ]
     },
     "execution_count": 1144,
     "metadata": {},
     "output_type": "execute_result"
    },
    {
     "data": {
      "image/png": "[encoded data removed]",
      "text/plain": [
       "<matplotlib.figure.Figure at 0x11dd80150>"
      ]
     },
     "metadata": {},
     "output_type": "display_data"
    }
   ],
   "source": [
    "homeless=df2[df2.text.str.contains('homeless')].business_id.unique()\n",
    "starbucks['homeless'] = starbucks['business_id'].map( lambda x: 'homeless' if x in list(list(homeless)) else 'not_homeless')\n",
    "sns.boxplot(y=starbucks.stars,x=starbucks['homeless'],palette='GnBu_d',orient=False)"
   ]
  },
  {
   "cell_type": "markdown",
   "metadata": {},
   "source": [
    "### Review content containing the words 'mean' or 'rude', suggesting unfriendly baristas"
   ]
  },
  {
   "cell_type": "markdown",
   "metadata": {},
   "source": [
    "The boxplots below show that Starbucks locations with the words 'mean' or 'rude' in their text reviews have a third quartile of 3.5 stars while locations without these words have a third quartile of 4.5 stars.  This difference suggests that stores less friendly baristas tend to have lower yelp scores.  "
   ]
  },
  {
   "cell_type": "code",
   "execution_count": 1143,
   "metadata": {
    "collapsed": false
   },
   "outputs": [
    {
     "data": {
      "text/plain": [
       "<matplotlib.axes._subplots.AxesSubplot at 0x11dda7e10>"
      ]
     },
     "execution_count": 1143,
     "metadata": {},
     "output_type": "execute_result"
    },
    {
     "data": {
      "image/png": "[encoded data removed]",
      "text/plain": [
       "<matplotlib.figure.Figure at 0x16240e9d0>"
      ]
     },
     "metadata": {},
     "output_type": "display_data"
    }
   ],
   "source": [
    "mean_baristas=df2[df2.text.str.contains('rude',case=False) | (df2.text.str.contains('mean',case=False))].business_id\n",
    "starbucks['mean'] = starbucks['business_id'].map( lambda x: 'mean' if x in list(list(mean_baristas)) else 'not mean')\n",
    "sns.boxplot(y=starbucks.stars,x=starbucks['mean'],palette='GnBu_d',orient=False)"
   ]
  }
 ],
 "metadata": {
  "kernelspec": {
   "display_name": "Python 2",
   "language": "python",
   "name": "python2"
  },
  "language_info": {
   "codemirror_mode": {
    "name": "ipython",
    "version": 2
   },
   "file_extension": ".py",
   "mimetype": "text/x-python",
   "name": "python",
   "nbconvert_exporter": "python",
   "pygments_lexer": "ipython2",
   "version": "2.7.10"
  }
 },
 "nbformat": 4,
 "nbformat_minor": 0
}
