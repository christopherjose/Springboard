{
 "cells": [
  {
   "cell_type": "markdown",
   "metadata": {},
   "source": [
    "## Setting up the data"
   ]
  },
  {
   "cell_type": "code",
   "execution_count": 1,
   "metadata": {
    "collapsed": false
   },
   "outputs": [],
   "source": [
    "%matplotlib inline\n",
    "import matplotlib\n",
    "import matplotlib.pyplot as plt\n",
    "import numpy as np\n",
    "import pandas as pd\n",
    "import json\n",
    "from datetime import datetime\n",
    "from pandas.io.json import json_normalize\n",
    "import seaborn as sns\n",
    "from statsmodels.regression.linear_model import OLS as reg\n",
    "from sklearn.linear_model import LinearRegression\n",
    "from sklearn.model_selection import train_test_split\n",
    "import sklearn"
   ]
  },
  {
   "cell_type": "code",
   "execution_count": 2,
   "metadata": {
    "collapsed": true
   },
   "outputs": [],
   "source": [
    "import warnings\n",
    "warnings.filterwarnings('ignore')\n",
    "#use 'default' to show warnings and 'ignore' to hide warnings"
   ]
  },
  {
   "cell_type": "code",
   "execution_count": 3,
   "metadata": {
    "collapsed": false
   },
   "outputs": [],
   "source": [
    "with open('/Users/Work/Desktop/Springboard/data/yelp_dataset_challenge_academic_dataset/\\\n",
    "yelp_academic_dataset_business.json', 'rb') as f:\n",
    "    data = f.readlines()\n",
    "data_json_str = \"[\" + ','.join(data) + \"]\"\n",
    "df = pd.read_json(data_json_str)"
   ]
  },
  {
   "cell_type": "code",
   "execution_count": 4,
   "metadata": {
    "collapsed": true
   },
   "outputs": [],
   "source": [
    "starbucks=df[df.name.str.contains('Starbucks')]"
   ]
  },
  {
   "cell_type": "code",
   "execution_count": 5,
   "metadata": {
    "collapsed": false
   },
   "outputs": [],
   "source": [
    "import pickle\n",
    "o = open('/Users/Work/Desktop/Springboard/data/yelp_dataset_challenge_academic_dataset/\\\n",
    "reviews_pickle.pkl','r')\n",
    "reviews=pickle.load(o) \n",
    "o.close()"
   ]
  },
  {
   "cell_type": "code",
   "execution_count": 6,
   "metadata": {
    "collapsed": false
   },
   "outputs": [],
   "source": [
    "df2=pd.DataFrame(reviews)"
   ]
  },
  {
   "cell_type": "markdown",
   "metadata": {},
   "source": [
    "## Year predictor variable"
   ]
  },
  {
   "cell_type": "code",
   "execution_count": 23,
   "metadata": {
    "collapsed": true
   },
   "outputs": [],
   "source": [
    "df2.date=pd.to_datetime(df2.date)"
   ]
  },
  {
   "cell_type": "code",
   "execution_count": 8,
   "metadata": {
    "collapsed": false
   },
   "outputs": [],
   "source": [
    "temp=[]\n",
    "for j in range(len(df2)):\n",
    "    temp.append(df2.date[j].year)\n",
    "df2['year']=temp"
   ]
  },
  {
   "cell_type": "code",
   "execution_count": 9,
   "metadata": {
    "collapsed": false
   },
   "outputs": [],
   "source": [
    "avg_year=pd.DataFrame(df2.groupby('business_id').mean().year).reset_index()\n",
    "avg_year.columns=['business_id','mean_review_year']\n",
    "starbucks=pd.merge(avg_year,starbucks,on='business_id')\n",
    "starbucks['mean_review_year_rounded']=starbucks.mean_review_year.round()"
   ]
  },
  {
   "cell_type": "markdown",
   "metadata": {},
   "source": [
    "## Region and State Predictors"
   ]
  },
  {
   "cell_type": "code",
   "execution_count": 10,
   "metadata": {
    "collapsed": true
   },
   "outputs": [],
   "source": [
    "Northeast=['CT','ME','MA','NH','RI','VT','NJ','NY','PA']\n",
    "Midwest=['IL','IN','MI','OH','WI','IA','KS','MN','MO','NE','ND','SD']\n",
    "South=['DE','DC','FL','GA','MD','NC','SC','VA','WV']\n",
    "West=['AZ','CO','ID','MT','NV','NM','UT','WY','AK','CA','HI','OR','WA']\n",
    "Canada=['EDH','BW','ON','QC']"
   ]
  },
  {
   "cell_type": "code",
   "execution_count": 11,
   "metadata": {
    "collapsed": false
   },
   "outputs": [],
   "source": [
    "temp=[]\n",
    "for x in range(len(starbucks)):\n",
    "    if starbucks['state'].iloc[x] in Northeast:\n",
    "        temp.append('Northeast')\n",
    "    elif starbucks['state'].iloc[x] in Midwest:\n",
    "        temp.append('Midwest')\n",
    "    elif starbucks['state'].iloc[x] in South:\n",
    "        temp.append('South')\n",
    "    elif starbucks['state'].iloc[x] in West:\n",
    "        temp.append('West')\n",
    "    elif starbucks['state'].iloc[x] in Canada:\n",
    "        temp.append('Canada')\n",
    "    else:\n",
    "        temp.append('NA')\n",
    "starbucks['region']=temp"
   ]
  },
  {
   "cell_type": "markdown",
   "metadata": {},
   "source": [
    "## Indicator Variables"
   ]
  },
  {
   "cell_type": "markdown",
   "metadata": {},
   "source": [
    "### Cleanliness"
   ]
  },
  {
   "cell_type": "code",
   "execution_count": 12,
   "metadata": {
    "collapsed": false
   },
   "outputs": [],
   "source": [
    "unclean=df2[(df2.text.str.contains('dirty')) | (df2.text.str.contains('filthy')) |\n",
    "          (df2.text.str.contains('messy'))].business_id.unique()\n",
    "#starbucks['clean'] = starbucks['business_id'].map( lambda x: 'not_clean' if x in list(list(unclean)) else 'clean')\n",
    "starbucks['unclean'] = starbucks['business_id'].map( lambda x: 1 if x in list(list(unclean)) else 0)"
   ]
  },
  {
   "cell_type": "markdown",
   "metadata": {},
   "source": [
    "### Homeless Problem"
   ]
  },
  {
   "cell_type": "code",
   "execution_count": 13,
   "metadata": {
    "collapsed": false
   },
   "outputs": [],
   "source": [
    "homeless=df2[df2.text.str.contains('homeless')].business_id.unique()\n",
    "starbucks['homeless'] = starbucks['business_id'].map( lambda x: 1 if x in list(list(homeless)) else 0)"
   ]
  },
  {
   "cell_type": "markdown",
   "metadata": {},
   "source": [
    "### Friendliness"
   ]
  },
  {
   "cell_type": "code",
   "execution_count": 14,
   "metadata": {
    "collapsed": false
   },
   "outputs": [],
   "source": [
    "unfriendly=df2[df2.text.str.contains('rude',case=False) | (df2.text.str.contains('mean',case=False))].business_id\n",
    "starbucks['unfriendly'] = starbucks['business_id'].map( lambda x: 1 if x in list(list(unfriendly)) else 0)"
   ]
  },
  {
   "cell_type": "markdown",
   "metadata": {},
   "source": [
    "## Creating dummy variables and avoiding the dummy variable trap"
   ]
  },
  {
   "cell_type": "code",
   "execution_count": 15,
   "metadata": {
    "collapsed": false
   },
   "outputs": [],
   "source": [
    "X=starbucks[['state','mean_review_year','review_count','unclean','homeless','unfriendly']]\n",
    "state_dummies=pd.get_dummies(X.state)\n",
    "X=pd.concat([X,state_dummies],axis=1)\n",
    "del X['state']\n",
    "del X['AZ']\n",
    "#X.review_count=(X.review_count-X.review_count.mean())/X.review_count.std()\n",
    "#X.mean_review_year=(X.mean_review_year-X.mean_review_year.mean())/X.mean_review_year.std()\n",
    "Y=starbucks.stars.values"
   ]
  },
  {
   "cell_type": "markdown",
   "metadata": {},
   "source": [
    "pd.get_dummies creates a dummy variable for each value of state, but we need (number of unique state values) - 1 dummy variables, since there has to be meaning when all state dummy variable values have value zero.  Also, if we did not exclude a category/state variable, any given state variable would perfectly correlate with the other state dummy variables, which would lead to a multicollinearity problem (high standard errors and therefore insignificant p-values for our state variables).  This scenario is called the dummy variable trap.\n",
    "source: https://www.quora.com/Do-you-include-all-dummy-variables-in-a-regression-model\n",
    "\n",
    "The dummy variable to exclude as the reference category should typically be the largest/most common category.  If you select a small reference category (one of the least common categories), the other dummies will necessarily have high VIFs (even if they aren't correlated with other variables).  \n",
    "source: http://statisticalhorizons.com/multicollinearity\n",
    "\n",
    "There are 11 state values in the data (as shown below), and pd.get_dummies created 11 state dummy variables.  We need 10 dummy variables.  When all variables have value zero, this will represent the observation having a state value that is the state that did NOT get its own dummy variable.  The intercept of the model is then necessary and will reflect the reference state category's effect on y (since all other state variables will have value zero), as well as a store that is regarded as friendly, clean, not having a homeless problem (which is the 0 values for the other dummy variables).  The intercept will not be interpretable though because the two variables review count and mean review year cannot have zero values, since this would not make sense.  "
   ]
  },
  {
   "cell_type": "code",
   "execution_count": 24,
   "metadata": {
    "collapsed": false
   },
   "outputs": [
    {
     "data": {
      "text/plain": [
       "state\n",
       "AZ     201\n",
       "BW       2\n",
       "EDH     20\n",
       "IL       3\n",
       "NC      41\n",
       "NV     161\n",
       "ON       6\n",
       "PA      23\n",
       "QC      26\n",
       "SC       1\n",
       "WI      10\n",
       "dtype: int64"
      ]
     },
     "execution_count": 24,
     "metadata": {},
     "output_type": "execute_result"
    }
   ],
   "source": [
    "starbucks.groupby(['state']).size()"
   ]
  },
  {
   "cell_type": "markdown",
   "metadata": {},
   "source": [
    "AZ is the largest category and has 201 observations, as shown above, so I am going to select AZ as the base level state.  Hence I am removing the AZ column.  All other state dummy variable columns will have value zero, which will indicate that the obsevation has state value AZ. The code that deletes X['SC'] is above.  In showing that AZ was successfully removed, I count the number of observations in the regressor matrix with zero values for all state dummy variables.  There are 201, as shown below, which is the number of observations for AZ.   "
   ]
  },
  {
   "cell_type": "code",
   "execution_count": 25,
   "metadata": {
    "collapsed": false
   },
   "outputs": [
    {
     "data": {
      "text/plain": [
       "201"
      ]
     },
     "execution_count": 25,
     "metadata": {},
     "output_type": "execute_result"
    }
   ],
   "source": [
    "len(X[(X.BW==0) & (X.EDH==0) & (X.IL==0) & (X.NC==0) & (X.NV==0) & (X.ON==0) & \\\n",
    "(X.PA==0) & (X.QC==0) & (X.WI==0) & (X.SC==0)])"
   ]
  },
  {
   "cell_type": "markdown",
   "metadata": {},
   "source": [
    "## Linear Regression with a Train/Test Split"
   ]
  },
  {
   "cell_type": "code",
   "execution_count": 765,
   "metadata": {
    "collapsed": false
   },
   "outputs": [],
   "source": [
    "from sklearn.linear_model import LinearRegression\n",
    "from sklearn.model_selection import train_test_split\n",
    "import sklearn\n",
    "X_train, X_test, Y_train, Y_test = sklearn.model_selection.train_test_split\\\n",
    "(X, Y, test_size=0.30, random_state = 5)"
   ]
  },
  {
   "cell_type": "code",
   "execution_count": 766,
   "metadata": {
    "collapsed": false
   },
   "outputs": [
    {
     "name": "stdout",
     "output_type": "stream",
     "text": [
      "SSE for training data is 118.56092366496276\n",
      "SSE for test data is 63.800628248340438\n"
     ]
    }
   ],
   "source": [
    "lm = LinearRegression()\n",
    "lm.fit(X_train, Y_train)\n",
    "print 'SSE for training data is %r\\nSSE for test data is %r'\\\n",
    "%(np.sum((Y_train-lm.predict(X_train))**2), np.sum((Y_test-lm.predict(X_test))**2))"
   ]
  },
  {
   "cell_type": "markdown",
   "metadata": {},
   "source": [
    "## Validating regression assumptions"
   ]
  },
  {
   "cell_type": "code",
   "execution_count": 20,
   "metadata": {
    "collapsed": false
   },
   "outputs": [
    {
     "data": {
      "text/plain": [
       "(-2, 2.2)"
      ]
     },
     "execution_count": 20,
     "metadata": {},
     "output_type": "execute_result"
    },
    {
     "data": {
      "image/png": "[encoded data removed]",
      "text/plain": [
       "<matplotlib.figure.Figure at 0x12a63c290>"
      ]
     },
     "metadata": {},
     "output_type": "display_data"
    }
   ],
   "source": [
    "plt.scatter(lm.predict(X_train), lm.predict(X_train) - Y_train, c='b', s=40, alpha=0.5)\n",
    "plt.scatter(lm.predict(X_test), lm.predict(X_test) - Y_test, c='g', s=40)\n",
    "plt.hlines(y = 0, xmin=2.5, xmax = 4.5)\n",
    "plt.title('Residual Plot using training (blue) and test (green) data')\n",
    "plt.ylabel('Residuals')\n",
    "plt.xlabel('Predicted Overall Star Score')\n",
    "plt.xlim(2.5,4.3)\n",
    "plt.ylim(-2,2.2)"
   ]
  },
  {
   "cell_type": "code",
   "execution_count": 33,
   "metadata": {
    "collapsed": false
   },
   "outputs": [
    {
     "data": {
      "image/png": "[encoded data removed]",
      "text/plain": [
       "<matplotlib.figure.Figure at 0x12eb0aa50>"
      ]
     },
     "metadata": {},
     "output_type": "display_data"
    }
   ],
   "source": [
    "import statsmodels.api as sm\n",
    "residuals=lm.predict(X_train) - Y_train\n",
    "sm.qqplot(residuals,line='s')\n",
    "plt.show()"
   ]
  },
  {
   "cell_type": "code",
   "execution_count": 34,
   "metadata": {
    "collapsed": false
   },
   "outputs": [
    {
     "data": {
      "text/plain": [
       "(array([  3.,   5.,  15.,  54.,  79.,  82.,  57.,  28.,  17.,   5.]),\n",
       " array([-1.84127777, -1.49139085, -1.14150392, -0.791617  , -0.44173008,\n",
       "        -0.09184315,  0.25804377,  0.6079307 ,  0.95781762,  1.30770454,\n",
       "         1.65759147]),\n",
       " <a list of 10 Patch objects>)"
      ]
     },
     "execution_count": 34,
     "metadata": {},
     "output_type": "execute_result"
    },
    {
     "data": {
      "image/png": "[encoded data removed]",
      "text/plain": [
       "<matplotlib.figure.Figure at 0x12eb6a850>"
      ]
     },
     "metadata": {},
     "output_type": "display_data"
    }
   ],
   "source": [
    "plt.hist(residuals,bins=10)"
   ]
  },
  {
   "cell_type": "markdown",
   "metadata": {},
   "source": [
    "Linear regression assumptions consist of the following:\n",
    "1. The relationship between y and the independent variables is linear.\n",
    "2. The errors are normally distributed.  \n",
    "3. The errors are uncorrelated (or independent).  \n",
    "4. The errors have constant variance (same variance across x's), meaning homoscedasticity is present.  \n",
    "\n",
    "1. I investigated linear relationships in the exploratory data analysis.  \n",
    "2. Residuals appear to be normally distributed, as shown by the Q-Q plot and histogram above.\n",
    "3. There appears to be 6 diagonal bands of residuals, and one band each on the top and bottom where both consist of a couple outlier points.  The bands are tilted in a way that suggests residuals increase linearly as predicted stars increases.  I am not sure if this means autocorrelation (correlated residuals) is present, so I'll calculate a durbin watson statistic, which tests for autocorrelation.  There are in fact 8 total unique star scores in customers have given stores in the data, since the min and max y's are (1.5, 8), respectively, and stars can only be given in .5 increments.  Given that there are 8 bands, I am sure this is related somehow to this fact.  \n",
    "4. In the residual plot above, residuals do not seem to have a larger or smaller spread for a given x value as x increases, so I do not see much evidence of heteroskedasticity."
   ]
  },
  {
   "cell_type": "markdown",
   "metadata": {},
   "source": [
    "In testing for autocorrelation using the Durbin-Watson statistic, resultant statistic values always lie between 0 and 4.  Values less than 2 indicate residuals may be positively correlated.  Values greater than 2 indicate residuals may be negatively correlated.  Values close to 2 indicate residuals are not correlated.  "
   ]
  },
  {
   "cell_type": "code",
   "execution_count": 747,
   "metadata": {
    "collapsed": false
   },
   "outputs": [
    {
     "name": "stdout",
     "output_type": "stream",
     "text": [
      "The Durbin Watson Test Statistic Value is 1.9957803180357045, which is very close to 2, and\n",
      "provides evidence that residuals are not correlated.\n"
     ]
    }
   ],
   "source": [
    "print 'The Durbin Watson Test Statistic Value is %r, which is very close to 2, and\\n\\\n",
    "provides evidence that residuals are not correlated.' \\\n",
    "%sm.stats.stattools.durbin_watson(residuals)\n",
    "#statsmodels.sourceforge.net/devel/generated/statsmodels.stats.stattools.durbin_watson.html"
   ]
  },
  {
   "cell_type": "markdown",
   "metadata": {},
   "source": [
    "The statistic above is very close to 2, providing evidence that residuals are not correlated."
   ]
  },
  {
   "cell_type": "markdown",
   "metadata": {},
   "source": [
    "Regression assumptions appear to hold reasonably well.  "
   ]
  },
  {
   "cell_type": "markdown",
   "metadata": {},
   "source": [
    "## Investigating the goodness-of-fit of the model"
   ]
  },
  {
   "cell_type": "markdown",
   "metadata": {},
   "source": [
    "The coefficient of determination (r-squared) is as follows:"
   ]
  },
  {
   "cell_type": "code",
   "execution_count": 748,
   "metadata": {
    "collapsed": false
   },
   "outputs": [
    {
     "data": {
      "text/plain": [
       "0.17435016119149505"
      ]
     },
     "execution_count": 748,
     "metadata": {},
     "output_type": "execute_result"
    }
   ],
   "source": [
    "r2=lm.score(X_train,Y_train)\n",
    "r2"
   ]
  },
  {
   "cell_type": "markdown",
   "metadata": {},
   "source": [
    "The adjusted R-squared, which does not automatically increase as we add more predictors to the model, and is hence a more accurate and better measurement of model fit, is as follows:"
   ]
  },
  {
   "cell_type": "code",
   "execution_count": 37,
   "metadata": {
    "collapsed": false
   },
   "outputs": [
    {
     "data": {
      "text/plain": [
       "0.13670655151937483"
      ]
     },
     "execution_count": 37,
     "metadata": {},
     "output_type": "execute_result"
    }
   ],
   "source": [
    "p=len(X_train.columns) #number of predictors\n",
    "n=len(X_train) #sample size\n",
    "1 - ( (n-1)*(1-r2)/np.float(n-p-1) )"
   ]
  },
  {
   "cell_type": "markdown",
   "metadata": {},
   "source": [
    "The adjusted R-squared is 13.2%, meaning the model explains 13.2% of the variation in overall star score.  This is low and suggests that the model could be significantly improved, given that one would expected the variables being measured to have a definite impact on overall star score (barista friendliness, store cleanliness, homeless problems, state, etc).  The dummy variables account for their measured variables in a simplistic fashion, and I suspect that sentiment analysis on text review content would yield a much more predictive model.    "
   ]
  },
  {
   "cell_type": "markdown",
   "metadata": {},
   "source": [
    "The statsmodels module provides many goodness of fit statistics.  The r-squared and adjusted r-squared are the same as those generated above using the sklearn module (the estimated intercept and Durbin Watson statistic are the same too), so we know the results are the same in both, and I can use goodness of fit statistics below to further examine the model."
   ]
  },
  {
   "cell_type": "markdown",
   "metadata": {},
   "source": [
    "### I am going to use the statsmodels module to produce goodness of fit criteria, and I'll also recreate the regression line using statsmodels. Some information about statsmodels is below:"
   ]
  },
  {
   "cell_type": "markdown",
   "metadata": {},
   "source": [
    "\n",
    "statsmodels.api does not automatically add an intercept to the model (top code) <br>\n",
    "statsmodels.formula.api automatically adds an intercept (bottom code) <br>\n",
    "\n",
    "m=sm.OLS(Y, X).fit() <br>\n",
    "m.summary()                             (does NOT include intercept) <br>\n",
    "\n",
    "m=ols('Y~X',X).fit() <br>\n",
    "m.summary()                             (includes intercept) <br>\n",
    "\n",
    "To automatically add the intercept to the top code expression, <br>\n",
    "X= (how it's originally defined) , and then add the following: <br>\n",
    "X = sm.add_constant(X) <br>\n",
    "m = sm.OLS(Y,X).fit() <br>\n"
   ]
  },
  {
   "cell_type": "code",
   "execution_count": 761,
   "metadata": {
    "collapsed": false
   },
   "outputs": [
    {
     "name": "stdout",
     "output_type": "stream",
     "text": [
      "                            OLS Regression Results                            \n",
      "==============================================================================\n",
      "Dep. Variable:                Y_train   R-squared:                       0.174\n",
      "Model:                            OLS   Adj. R-squared:                  0.137\n",
      "Method:                 Least Squares   F-statistic:                     4.632\n",
      "Date:                Fri, 30 Dec 2016   Prob (F-statistic):           4.62e-08\n",
      "Time:                        21:06:38   Log-Likelihood:                -305.28\n",
      "No. Observations:                 345   AIC:                             642.6\n",
      "Df Residuals:                     329   BIC:                             704.1\n",
      "Df Model:                          15                                         \n",
      "Covariance Type:            nonrobust                                         \n",
      "===============================================================================\n",
      "                  coef    std err          t      P>|t|      [95.0% Conf. Int.]\n",
      "-------------------------------------------------------------------------------\n",
      "Intercept     190.2266     75.886      2.507      0.013        40.944   339.509\n",
      "X_train[0]     -0.0927      0.038     -2.461      0.014        -0.167    -0.019\n",
      "X_train[1]      0.0027      0.003      0.990      0.323        -0.003     0.008\n",
      "X_train[2]     -0.2268      0.085     -2.677      0.008        -0.394    -0.060\n",
      "X_train[3]      0.2897      0.168      1.728      0.085        -0.040     0.619\n",
      "X_train[4]     -0.2754      0.079     -3.498      0.001        -0.430    -0.121\n",
      "X_train[5]     -0.9562      0.629     -1.521      0.129        -2.193     0.281\n",
      "X_train[6]      0.1339      0.176      0.763      0.446        -0.211     0.479\n",
      "X_train[7]     -0.3327      0.351     -0.947      0.344        -1.024     0.358\n",
      "X_train[8]     -0.2543      0.126     -2.024      0.044        -0.502    -0.007\n",
      "X_train[9]     -0.2223      0.077     -2.870      0.004        -0.375    -0.070\n",
      "X_train[10]    -0.3317      0.282     -1.177      0.240        -0.886     0.223\n",
      "X_train[11]     0.2439      0.161      1.510      0.132        -0.074     0.562\n",
      "X_train[12]     0.3968      0.148      2.681      0.008         0.106     0.688\n",
      "X_train[13]    -0.1314      0.606     -0.217      0.829        -1.324     1.062\n",
      "X_train[14]     0.0944      0.219      0.430      0.667        -0.337     0.526\n",
      "==============================================================================\n",
      "Omnibus:                        0.774   Durbin-Watson:                   1.996\n",
      "Prob(Omnibus):                  0.679   Jarque-Bera (JB):                0.641\n",
      "Skew:                          -0.102   Prob(JB):                        0.726\n",
      "Kurtosis:                       3.053   Cond. No.                     4.73e+06\n",
      "==============================================================================\n",
      "\n",
      "Warnings:\n",
      "[1] Standard Errors assume that the covariance matrix of the errors is correctly specified.\n",
      "[2] The condition number is large, 4.73e+06. This might indicate that there are\n",
      "strong multicollinearity or other numerical problems.\n"
     ]
    }
   ],
   "source": [
    "import statsmodels.api as sm\n",
    "from statsmodels.formula.api import ols\n",
    "m = ols('Y_train ~ X_train', X_train).fit()\n",
    "print m.summary()"
   ]
  },
  {
   "cell_type": "markdown",
   "metadata": {},
   "source": [
    "The F-statistic value is 4.33.  This means the variation explained by the regression coefficients is 4.33 times the unexplained variation, or that the average explained variation is 4.33 times the average unexplained variation.  The p value associated is 2.26e-07, which means that the null hypothesis that all regression coefficients of the regressors are zero is rejected at all of the usual significance levels (like the 1% level)."
   ]
  },
  {
   "cell_type": "markdown",
   "metadata": {},
   "source": [
    "The intercept of 162.3914 does not have a practical interpretation because it would not make sense for the variables mean_review_year and review_count to be zero.  "
   ]
  },
  {
   "cell_type": "markdown",
   "metadata": {},
   "source": [
    "Regressor coefficients with p values less than .05 include X_train[0], X_train[2], X_train[4] and two of the state dummy variables.  Thus, mean review year, the cleanliness dummy variable, the unfriendliness dummy variable and two state dummy variables have regressor coefficients that are statistically significantly different from zero at the .05 significance level."
   ]
  },
  {
   "cell_type": "markdown",
   "metadata": {},
   "source": [
    "Notice that all regressors with non-significant p-values at the .05 level have 95% confidence intervals that contain zero.  This means for these regressors, the sign of the coefficient could be negative or positive and within the each's given interval, with 95% confidence.  A statistically significant p-value at the 1% or 5% level won't contain zero, so you'll know the sign of the regressor coefficient with with 99%/95% confidence.  "
   ]
  },
  {
   "cell_type": "code",
   "execution_count": 770,
   "metadata": {
    "collapsed": false
   },
   "outputs": [],
   "source": [
    "def rmse(Y_test,Y_pred):   \n",
    "    return np.sqrt(sklearn.metrics.mean_squared_error(Y_test,Y_pred))"
   ]
  },
  {
   "cell_type": "code",
   "execution_count": 771,
   "metadata": {
    "collapsed": false
   },
   "outputs": [
    {
     "data": {
      "text/plain": [
       "0.65436391701781838"
      ]
     },
     "execution_count": 771,
     "metadata": {},
     "output_type": "execute_result"
    }
   ],
   "source": [
    "Y_pred=lm.predict(X_test)\n",
    "rmse(Y_test,Y_pred)"
   ]
  },
  {
   "cell_type": "markdown",
   "metadata": {},
   "source": [
    "## Multicollinearity"
   ]
  },
  {
   "cell_type": "markdown",
   "metadata": {},
   "source": [
    "The statsmodels module output provides a warning at the bottom, \"The condition number is large, 4.79e+06. This might indicate that there are strong multicollinearity or other numerical problems.\"  The condition number is 4,790,000.  This is huge.  A condition number greater than 30 is a sign of multicollinearity problems, and a number between 100-1000 is a sign of moderate-several problems.    "
   ]
  },
  {
   "cell_type": "markdown",
   "metadata": {},
   "source": [
    "The variance inflation factors (VIFs) are all fairly low and are all less than 5.  The greatest VIFs are for mean_review_year and review_count, which have VIFs of 4.77 and 4.27, respectively.  This means that the square of the standard errors for these estimated coefficients (aka the estimated variances of these estimated coefficients) are 4-5 times higher than they otherwise would have been because of correlations between these predictors and other predictors.  "
   ]
  },
  {
   "cell_type": "markdown",
   "metadata": {},
   "source": [
    "A table of VIFs for each regressor is shown below.  \n",
    "I created the VIFs from code that I modified and added to, located here:\n",
    "http://statsmodels.sourceforge.net/devel/_modules/statsmodels/stats/outliers_influence.html#variance_inflation_factor"
   ]
  },
  {
   "cell_type": "code",
   "execution_count": 40,
   "metadata": {
    "collapsed": false
   },
   "outputs": [],
   "source": [
    "'''The below code is used to create functions for calculating VIFs\n",
    "\n",
    "variance_inflation_factor(X,j) takes a matrix X of regressors (where each regressor has its  \n",
    "own column) and calculates the VIF for the jth column (regressor) where\n",
    "j starts at 0.\n",
    "\n",
    "vifs(X) takes a matrix X of regressors and returns a list of VIFs for each regressor\n",
    "'''\n",
    "\n",
    "\n",
    "from statsmodels.regression.linear_model import OLS as reg\n",
    "def variance_inflation_factor(exog, exog_idx):\n",
    "    k_vars = exog.shape[1] #returns number of columns of exog, 0 would return number of rows\n",
    "    x_i = exog.ix[:,exog_idx] # I've edited this formula by adding .ix, so you give col index\n",
    "                              #this produces a series of values of regressor the vif is for\n",
    "    mask = np.arange(k_vars) != exog_idx  \n",
    "    # first produces array of column indices of regressor matrix exog, then from this array, \n",
    "    # an array of T/F's where only the selected column index (for the vif) gets a False value\n",
    "    x_noti = exog.ix[:, mask] # edited this by adding .ix.  Produces regressor matrix that\n",
    "                              #excludes the selected column that the vif is for\n",
    "    r_squared_i = reg(x_i, x_noti).fit().rsquared\n",
    "    vif = 1. / (1. - r_squared_i)\n",
    "    return vif\n",
    "\n",
    "def vifs(regressor_matrix):\n",
    "    vifs=[]\n",
    "    for jth_regressor in range(regressor_matrix.shape[1]):\n",
    "        vif_j=variance_inflation_factor(regressor_matrix, jth_regressor)\n",
    "        vifs.append(vif_j)   \n",
    "    return vifs"
   ]
  },
  {
   "cell_type": "code",
   "execution_count": 750,
   "metadata": {
    "collapsed": false
   },
   "outputs": [
    {
     "data": {
      "text/html": [
       "<div>\n",
       "<table border=\"1\" class=\"dataframe\">\n",
       "  <thead>\n",
       "    <tr style=\"text-align: right;\">\n",
       "      <th></th>\n",
       "      <th>Regressor</th>\n",
       "      <th>VIF</th>\n",
       "    </tr>\n",
       "  </thead>\n",
       "  <tbody>\n",
       "    <tr>\n",
       "      <th>0</th>\n",
       "      <td>mean_review_year</td>\n",
       "      <td>4.838519</td>\n",
       "    </tr>\n",
       "    <tr>\n",
       "      <th>1</th>\n",
       "      <td>review_count</td>\n",
       "      <td>4.316291</td>\n",
       "    </tr>\n",
       "    <tr>\n",
       "      <th>2</th>\n",
       "      <td>unclean</td>\n",
       "      <td>1.593765</td>\n",
       "    </tr>\n",
       "    <tr>\n",
       "      <th>3</th>\n",
       "      <td>homeless</td>\n",
       "      <td>1.085516</td>\n",
       "    </tr>\n",
       "    <tr>\n",
       "      <th>4</th>\n",
       "      <td>unfriendly</td>\n",
       "      <td>3.341173</td>\n",
       "    </tr>\n",
       "    <tr>\n",
       "      <th>5</th>\n",
       "      <td>BW</td>\n",
       "      <td>1.012663</td>\n",
       "    </tr>\n",
       "    <tr>\n",
       "      <th>6</th>\n",
       "      <td>EDH</td>\n",
       "      <td>1.125951</td>\n",
       "    </tr>\n",
       "    <tr>\n",
       "      <th>7</th>\n",
       "      <td>IL</td>\n",
       "      <td>1.026680</td>\n",
       "    </tr>\n",
       "    <tr>\n",
       "      <th>8</th>\n",
       "      <td>NC</td>\n",
       "      <td>1.225491</td>\n",
       "    </tr>\n",
       "    <tr>\n",
       "      <th>9</th>\n",
       "      <td>NV</td>\n",
       "      <td>1.964982</td>\n",
       "    </tr>\n",
       "    <tr>\n",
       "      <th>10</th>\n",
       "      <td>ON</td>\n",
       "      <td>1.065227</td>\n",
       "    </tr>\n",
       "    <tr>\n",
       "      <th>11</th>\n",
       "      <td>PA</td>\n",
       "      <td>1.133818</td>\n",
       "    </tr>\n",
       "    <tr>\n",
       "      <th>12</th>\n",
       "      <td>QC</td>\n",
       "      <td>1.215261</td>\n",
       "    </tr>\n",
       "    <tr>\n",
       "      <th>13</th>\n",
       "      <td>SC</td>\n",
       "      <td>1.019281</td>\n",
       "    </tr>\n",
       "    <tr>\n",
       "      <th>14</th>\n",
       "      <td>WI</td>\n",
       "      <td>1.067528</td>\n",
       "    </tr>\n",
       "  </tbody>\n",
       "</table>\n",
       "</div>"
      ],
      "text/plain": [
       "           Regressor       VIF\n",
       "0   mean_review_year  4.838519\n",
       "1       review_count  4.316291\n",
       "2            unclean  1.593765\n",
       "3           homeless  1.085516\n",
       "4         unfriendly  3.341173\n",
       "5                 BW  1.012663\n",
       "6                EDH  1.125951\n",
       "7                 IL  1.026680\n",
       "8                 NC  1.225491\n",
       "9                 NV  1.964982\n",
       "10                ON  1.065227\n",
       "11                PA  1.133818\n",
       "12                QC  1.215261\n",
       "13                SC  1.019281\n",
       "14                WI  1.067528"
      ]
     },
     "execution_count": 750,
     "metadata": {},
     "output_type": "execute_result"
    }
   ],
   "source": [
    "X_vifs=pd.DataFrame(X.columns,columns=['Regressor'])\n",
    "X_vifs['VIF']=vifs(X_train)\n",
    "X_vifs"
   ]
  },
  {
   "cell_type": "markdown",
   "metadata": {},
   "source": [
    "Multicollinearity is always present to a certain degree, and it's not a matter of whether it IS or IS NOT present.  It is ideal for our model to have regressors highly correlated with y, but minimally correlated with each other (if at all). "
   ]
  },
  {
   "cell_type": "markdown",
   "metadata": {},
   "source": [
    "## Why is the condition number high if the VIFs are low?"
   ]
  },
  {
   "cell_type": "markdown",
   "metadata": {},
   "source": [
    "The condition number can sometimes be high (above 30) without there actually being multicollinearity problems.  According to wikipedia, the false flagging of the condition number can be remedied using standardized regressor variables.  If the condition number does actually indicate multicollinearity though, using standardized variables does not actually reduce multicollinearity and can provide a misleading reduction in the vifs and condition number.  Regardless, let's run a regression with standardized regressor variables and observe the results.  \n",
    "https://en.wikipedia.org/wiki/Multicollinearity"
   ]
  },
  {
   "cell_type": "markdown",
   "metadata": {},
   "source": [
    "## Rerunning the above regression with standardized quantitative variables"
   ]
  },
  {
   "cell_type": "markdown",
   "metadata": {},
   "source": [
    "The following code standardizes the quantitative regressor variables to have mean 0 and unit variance (=1).  It is not common practice to standardize dummy variables since it does not make much sense.  Thus, mean_review_year and review_count are standardized.    "
   ]
  },
  {
   "cell_type": "code",
   "execution_count": 790,
   "metadata": {
    "collapsed": false
   },
   "outputs": [
    {
     "data": {
      "text/html": [
       "<div>\n",
       "<table border=\"1\" class=\"dataframe\">\n",
       "  <thead>\n",
       "    <tr style=\"text-align: right;\">\n",
       "      <th></th>\n",
       "      <th>mean_review_year</th>\n",
       "      <th>review_count</th>\n",
       "      <th>unclean</th>\n",
       "      <th>homeless</th>\n",
       "      <th>unfriendly</th>\n",
       "      <th>BW</th>\n",
       "      <th>EDH</th>\n",
       "      <th>IL</th>\n",
       "      <th>NC</th>\n",
       "      <th>NV</th>\n",
       "      <th>ON</th>\n",
       "      <th>PA</th>\n",
       "      <th>QC</th>\n",
       "      <th>SC</th>\n",
       "      <th>WI</th>\n",
       "    </tr>\n",
       "  </thead>\n",
       "  <tbody>\n",
       "    <tr>\n",
       "      <th>0</th>\n",
       "      <td>-0.087367</td>\n",
       "      <td>1.722569</td>\n",
       "      <td>0</td>\n",
       "      <td>0</td>\n",
       "      <td>1</td>\n",
       "      <td>0</td>\n",
       "      <td>0</td>\n",
       "      <td>0</td>\n",
       "      <td>0</td>\n",
       "      <td>1</td>\n",
       "      <td>0</td>\n",
       "      <td>0</td>\n",
       "      <td>0</td>\n",
       "      <td>0</td>\n",
       "      <td>0</td>\n",
       "    </tr>\n",
       "  </tbody>\n",
       "</table>\n",
       "</div>"
      ],
      "text/plain": [
       "   mean_review_year  review_count  unclean  homeless  unfriendly  BW  EDH  IL  \\\n",
       "0         -0.087367      1.722569        0         0           1   0    0   0   \n",
       "\n",
       "   NC  NV  ON  PA  QC  SC  WI  \n",
       "0   0   1   0   0   0   0   0  "
      ]
     },
     "execution_count": 790,
     "metadata": {},
     "output_type": "execute_result"
    }
   ],
   "source": [
    "from sklearn import preprocessing\n",
    "temp = pd.DataFrame(preprocessing.scale(X.ix[:,0:2]),columns=X.columns[:2])\n",
    "import copy\t\n",
    "standardized_X=copy.deepcopy(X)\n",
    "standardized_X[['mean_review_year','review_count']]=temp[['mean_review_year','review_count']]\n",
    "standardized_X.head(1)"
   ]
  },
  {
   "cell_type": "code",
   "execution_count": 791,
   "metadata": {
    "collapsed": false
   },
   "outputs": [
    {
     "data": {
      "text/plain": [
       "2013.477594106229"
      ]
     },
     "execution_count": 791,
     "metadata": {},
     "output_type": "execute_result"
    }
   ],
   "source": [
    "X.mean_review_year.mean()"
   ]
  },
  {
   "cell_type": "code",
   "execution_count": 792,
   "metadata": {
    "collapsed": true
   },
   "outputs": [],
   "source": [
    "#Centering quantitative variables as oppossed to standardizing\n",
    "standardized_X=copy.deepcopy(X)\n",
    "standardized_X['mean_review_year']=X['mean_review_year']-X['mean_review_year'].mean()\n",
    "standardized_X['review_count']=X['review_count']-X['review_count'].mean()"
   ]
  },
  {
   "cell_type": "code",
   "execution_count": 793,
   "metadata": {
    "collapsed": false
   },
   "outputs": [],
   "source": [
    "standardized_Y=preprocessing.scale(Y)"
   ]
  },
  {
   "cell_type": "code",
   "execution_count": 794,
   "metadata": {
    "collapsed": false
   },
   "outputs": [],
   "source": [
    "X_train, X_test, Y_train, Y_test = sklearn.model_selection.train_test_split\\\n",
    "(standardized_X, Y, test_size=0.30, random_state = 5)"
   ]
  },
  {
   "cell_type": "code",
   "execution_count": 795,
   "metadata": {
    "collapsed": false,
    "scrolled": false
   },
   "outputs": [
    {
     "name": "stdout",
     "output_type": "stream",
     "text": [
      "                            OLS Regression Results                            \n",
      "==============================================================================\n",
      "Dep. Variable:                Y_train   R-squared:                       0.174\n",
      "Model:                            OLS   Adj. R-squared:                  0.137\n",
      "Method:                 Least Squares   F-statistic:                     4.632\n",
      "Date:                Fri, 30 Dec 2016   Prob (F-statistic):           4.62e-08\n",
      "Time:                        21:18:45   Log-Likelihood:                -305.28\n",
      "No. Observations:                 345   AIC:                             642.6\n",
      "Df Residuals:                     329   BIC:                             704.1\n",
      "Df Model:                          15                                         \n",
      "Covariance Type:            nonrobust                                         \n",
      "===============================================================================\n",
      "                  coef    std err          t      P>|t|      [95.0% Conf. Int.]\n",
      "-------------------------------------------------------------------------------\n",
      "Intercept       3.5663      0.074     48.338      0.000         3.421     3.711\n",
      "X_train[0]     -0.0927      0.038     -2.461      0.014        -0.167    -0.019\n",
      "X_train[1]      0.0027      0.003      0.990      0.323        -0.003     0.008\n",
      "X_train[2]     -0.2268      0.085     -2.677      0.008        -0.394    -0.060\n",
      "X_train[3]      0.2897      0.168      1.728      0.085        -0.040     0.619\n",
      "X_train[4]     -0.2754      0.079     -3.498      0.001        -0.430    -0.121\n",
      "X_train[5]     -0.9562      0.629     -1.521      0.129        -2.193     0.281\n",
      "X_train[6]      0.1339      0.176      0.763      0.446        -0.211     0.479\n",
      "X_train[7]     -0.3327      0.351     -0.947      0.344        -1.024     0.358\n",
      "X_train[8]     -0.2543      0.126     -2.024      0.044        -0.502    -0.007\n",
      "X_train[9]     -0.2223      0.077     -2.870      0.004        -0.375    -0.070\n",
      "X_train[10]    -0.3317      0.282     -1.177      0.240        -0.886     0.223\n",
      "X_train[11]     0.2439      0.161      1.510      0.132        -0.074     0.562\n",
      "X_train[12]     0.3968      0.148      2.681      0.008         0.106     0.688\n",
      "X_train[13]    -0.1314      0.606     -0.217      0.829        -1.324     1.062\n",
      "X_train[14]     0.0944      0.219      0.430      0.667        -0.337     0.526\n",
      "==============================================================================\n",
      "Omnibus:                        0.774   Durbin-Watson:                   1.996\n",
      "Prob(Omnibus):                  0.679   Jarque-Bera (JB):                0.641\n",
      "Skew:                          -0.102   Prob(JB):                        0.726\n",
      "Kurtosis:                       3.053   Cond. No.                         314.\n",
      "==============================================================================\n",
      "\n",
      "Warnings:\n",
      "[1] Standard Errors assume that the covariance matrix of the errors is correctly specified.\n"
     ]
    }
   ],
   "source": [
    "import statsmodels.api as sm\n",
    "from statsmodels.formula.api import ols\n",
    "m = ols('Y_train ~ X_train', X_train).fit()\n",
    "print m.summary()"
   ]
  },
  {
   "cell_type": "code",
   "execution_count": 796,
   "metadata": {
    "collapsed": false
   },
   "outputs": [
    {
     "data": {
      "text/plain": [
       "0.65436391701781982"
      ]
     },
     "execution_count": 796,
     "metadata": {},
     "output_type": "execute_result"
    }
   ],
   "source": [
    "lm = LinearRegression()\n",
    "lm.fit(X_train, Y_train)\n",
    "Y_pred=lm.predict(X_test)\n",
    "rmse(Y_test,Y_pred)"
   ]
  },
  {
   "cell_type": "markdown",
   "metadata": {},
   "source": [
    "## Comparing the model with standardized regressors to the one without standardized regressors"
   ]
  },
  {
   "cell_type": "markdown",
   "metadata": {},
   "source": [
    "Goodness of fit statistics between the two models remain the same: R-squared, adjusted R-squared, F-statistic, the F'statistic's p-value, AIC, and BIC.  Regressor t-values and p-values remain the same (including those of the standardized regressors).  Non-standardized regressor coefficients (the dummy variables), standard errors, and confidence intervals remain the same.  \n",
    "\n",
    "What has changed includes: <br>\n",
    "1) coefficients, standard errors, and confidence intervals for the standardized variables (though their t and p-values are the same).<br>\n",
    "2) the intercept, its standard error, t-value, p-value, and confidence interval <br>\n",
    "3) the condition number has been reduced to 24.8, so this solution did the trick and it looks the condition number is not indicating a multicollinearity problem. <br>\n",
    "4) The vifs for every regressor have changed.  Variables with more problematic vifs have seen their vifs decrease substantially (as shown below): mean_review_year, review_count, and the friendliness dummy variable's vifs have decreased from (4.77, 4.27, and 3.35) down to (1.25, 1.54, and 1.99), respectively.  All other variables, which had vifs under 2, have changed very little.\n"
   ]
  },
  {
   "cell_type": "markdown",
   "metadata": {},
   "source": [
    "The coefficient of -0.0789 for standardized mean_review_year can be interpreted as follows:\n",
    "When there is a one-unit increase in standardized mean_review_year, meaning when mean_review_year increases by one standard deviation, then we predict the overall star score to decrease by .0789, holding all other variables constant.  "
   ]
  },
  {
   "cell_type": "markdown",
   "metadata": {},
   "source": [
    "## Centering vs Standardizing and how you can't do this to reduce multicollinearity"
   ]
  },
  {
   "cell_type": "markdown",
   "metadata": {},
   "source": [
    "The same exact model results from x-standardization can be achieved by centering the two quantitative variables about their means.  Standardizing our variables is the action of centering AND scaling, so the centering of our regressors in the above x-standardization is what is really changing the modeling results.  To center our quantitative regressors about their means, just subtract from each regressor's values its sample mean.      \n",
    "\n",
    "While standardizing/centering the variables lowers the condition number and vifs, suggesting that it decreases the presence of multicollinearity, this is actually not the case.  Some resources purport that centering reduces multicollinearity, but this claim is widely regarded as incorrect.  An academic paper titled \"Moderating effects, the myth of mean centering\" (source 1), writes that, \"mean centering does not reduce multicollinearity at all\" (page 1).  I've found resources that are spreading the myth, such as the following: on page 580 of \"Research Design and Statistical Analysis: Third Edition\", the authors write that mean-centering provides \"more interpretable coefficients...and will also often reduce multicollinearity\".  \n",
    "\n",
    "In a blog post titled, \"Mean-centering Does Nothing for Multicollinearity!\", the author maintains the following:\n",
    "\n",
    "Centering the data does not change the level of multicollinearity in the data.  However, it DOES affect the vifs, which are thus not immune to mean centering.  Since vifs are used to measure the level of multicollinearity present, and they might get reduced from having centered the data, then this provides a misleading indication that multicollinearity is reduced when it is not.  The author writes that \"[y]our numbers will change to sound acceptably lower, but...[c]hanging the numbers used to describe the problem doesn't change the problem\".  Mean-centering to lower vifs is equivalent to \"switching your speedometer from miles per hour to nautical miles per hour...to reduce the severity of a car accident\" (source 2).\n",
    "\n",
    "1) https://flora.insead.edu/fichiersti_wp/inseadwp2005/2005-30.pdf\n",
    "2) http://ordinary-gentlemen.com/2015/07/02/mean-centering-does-nothing-for-multicollinearity/\n",
    " "
   ]
  },
  {
   "cell_type": "code",
   "execution_count": 48,
   "metadata": {
    "collapsed": false
   },
   "outputs": [
    {
     "data": {
      "text/html": [
       "<div>\n",
       "<table border=\"1\" class=\"dataframe\">\n",
       "  <thead>\n",
       "    <tr style=\"text-align: right;\">\n",
       "      <th></th>\n",
       "      <th>Regressor</th>\n",
       "      <th>VIF</th>\n",
       "    </tr>\n",
       "  </thead>\n",
       "  <tbody>\n",
       "    <tr>\n",
       "      <th>0</th>\n",
       "      <td>mean_review_year</td>\n",
       "      <td>1.221205</td>\n",
       "    </tr>\n",
       "    <tr>\n",
       "      <th>1</th>\n",
       "      <td>review_count</td>\n",
       "      <td>1.543484</td>\n",
       "    </tr>\n",
       "    <tr>\n",
       "      <th>2</th>\n",
       "      <td>unclean</td>\n",
       "      <td>1.454897</td>\n",
       "    </tr>\n",
       "    <tr>\n",
       "      <th>3</th>\n",
       "      <td>homeless</td>\n",
       "      <td>1.089596</td>\n",
       "    </tr>\n",
       "    <tr>\n",
       "      <th>4</th>\n",
       "      <td>unfriendly</td>\n",
       "      <td>2.008130</td>\n",
       "    </tr>\n",
       "    <tr>\n",
       "      <th>5</th>\n",
       "      <td>BW</td>\n",
       "      <td>1.084765</td>\n",
       "    </tr>\n",
       "    <tr>\n",
       "      <th>6</th>\n",
       "      <td>EDH</td>\n",
       "      <td>1.152545</td>\n",
       "    </tr>\n",
       "    <tr>\n",
       "      <th>7</th>\n",
       "      <td>IL</td>\n",
       "      <td>1.015952</td>\n",
       "    </tr>\n",
       "    <tr>\n",
       "      <th>8</th>\n",
       "      <td>NC</td>\n",
       "      <td>1.100915</td>\n",
       "    </tr>\n",
       "    <tr>\n",
       "      <th>9</th>\n",
       "      <td>NV</td>\n",
       "      <td>1.432673</td>\n",
       "    </tr>\n",
       "    <tr>\n",
       "      <th>10</th>\n",
       "      <td>ON</td>\n",
       "      <td>1.056523</td>\n",
       "    </tr>\n",
       "    <tr>\n",
       "      <th>11</th>\n",
       "      <td>PA</td>\n",
       "      <td>1.101863</td>\n",
       "    </tr>\n",
       "    <tr>\n",
       "      <th>12</th>\n",
       "      <td>QC</td>\n",
       "      <td>1.102487</td>\n",
       "    </tr>\n",
       "    <tr>\n",
       "      <th>13</th>\n",
       "      <td>SC</td>\n",
       "      <td>1.020495</td>\n",
       "    </tr>\n",
       "    <tr>\n",
       "      <th>14</th>\n",
       "      <td>WI</td>\n",
       "      <td>1.036111</td>\n",
       "    </tr>\n",
       "  </tbody>\n",
       "</table>\n",
       "</div>"
      ],
      "text/plain": [
       "           Regressor       VIF\n",
       "0   mean_review_year  1.221205\n",
       "1       review_count  1.543484\n",
       "2            unclean  1.454897\n",
       "3           homeless  1.089596\n",
       "4         unfriendly  2.008130\n",
       "5                 BW  1.084765\n",
       "6                EDH  1.152545\n",
       "7                 IL  1.015952\n",
       "8                 NC  1.100915\n",
       "9                 NV  1.432673\n",
       "10                ON  1.056523\n",
       "11                PA  1.101863\n",
       "12                QC  1.102487\n",
       "13                SC  1.020495\n",
       "14                WI  1.036111"
      ]
     },
     "execution_count": 48,
     "metadata": {},
     "output_type": "execute_result"
    }
   ],
   "source": [
    "X_stan_vifs=pd.DataFrame(standardized_X.columns,columns=['Regressor'])\n",
    "X_stan_vifs['VIF']=vifs(X_train)\n",
    "X_stan_vifs"
   ]
  },
  {
   "cell_type": "markdown",
   "metadata": {},
   "source": [
    "## Principal Components Regression"
   ]
  },
  {
   "cell_type": "markdown",
   "metadata": {},
   "source": [
    "Principal components regression (PCR) is the act of regressing the dependent variable on the principal components of the data.  It is a \"biased regression technique\" in that we omit principal components close to zero, and this omission necessarily entails that we are approximating the data (though this may be a good approximation).  Thus our parameter estimates will necessarily be biased.  This technique is a last resort for reducing multicollinearity, and should be considered only after having tried other solutions (source 1)\n",
    "\n",
    "Using principal component regression offers several potential benefits: <br>\n",
    "1) You can perform dimensionality reduction on the predictors, which will reduce the model's complexity.  There is a principal component for every predictor, so by NOT selecting all of the principal components, you'll have reduced the dimensionality of the data.  Selecting too many principal components may result in PCR performing worse than linear regression.  Ideally, it is best to have most of the variation in the original data explained by just a small subset of principal components (the ones with the biggest eigenvalues).  \n",
    "\n",
    "2) You can reduce the presence of multicollinearity by using less than the total number of principal components.\n",
    "\n",
    "3) You can reduce the risk of overfitting the model since using less variables via dimensionality reduction means having to estimate less coefficients.  <br>\n",
    "\n",
    "source 1: http://www4.ncsu.edu/~slrace/LinearAlgebra2016/Solutions/solution6.pdf <br>\n",
    "source 2: https://www.r-bloggers.com/performing-principal-components-regression-pcr-in-r/"
   ]
  },
  {
   "cell_type": "markdown",
   "metadata": {},
   "source": [
    "## Can we use Principal Components Analysis (PCA) given that we have dummy variables?"
   ]
  },
  {
   "cell_type": "markdown",
   "metadata": {},
   "source": [
    "PCA is often used for dimensionality reduction when all variables are quantitative.  Multiple Correspondence Analysis (MCA) is often used when all variables are categorical.  What about when variables are mixed (quantitative AND qualitative?), which is the case for my model?  \n",
    "\n",
    "PCA can be used for a mixture of variable types (according to source (1)), though the results might not be perfect.   \n",
    "\n",
    "1) http://data-mining-tutorials.blogspot.com/2013/03/factor-analysis-for-mixed-data.html"
   ]
  },
  {
   "cell_type": "markdown",
   "metadata": {},
   "source": [
    "## Generating the eigenvalues and eigenvectors"
   ]
  },
  {
   "cell_type": "markdown",
   "metadata": {},
   "source": [
    "Extracting eigenvalues and eigenvectors from the correlation or covariance matrix of the \n",
    "predictor data is done as follows, and you'll get an array of eigenvalues and an array \n",
    "eigenvector coeffients:\n",
    "\n",
    "scipy.linalg.eig(X.corr())\n",
    "scipy.linalg.eig(X.cov())\n",
    "\n",
    "scipy.linalg.eig(X.corr())[0]            returns eigenvalues\n",
    "scipy.linalg.eigvals(X.corr())           also just returns eigenvalues\n",
    "\n",
    "evals, evecs = np.scipy.eig(X.corr)\n",
    "eval1 = evals[0]\n",
    "evec1 = evecs[:,0]\n",
    "\n",
    "The eigenvector array is an array consisting of arrays.\n",
    "Each array represents a row of the nxn eigenvector matrix (for n predictors).\n",
    "The nth value of each array represents column n (eigenvector n) of the eigenvector matrix \n",
    "If evecs represents this array, then,\n",
    "evecs = [ [array1 values], [array2 values], [array3 values] ] \n",
    "evecs[0]  = [array1 values] = row 0\n",
    "evecs[:,0] = [ first value of each array ] = the first eigenvector\n",
    "pd.DataFrame[evecs] properly shows the eigenvector matrix  because it interprets each array as\n",
    "a row."
   ]
  },
  {
   "cell_type": "markdown",
   "metadata": {},
   "source": [
    "I will generate eigenvectors and eigenvalues from the covariance matrix to verify that my principal components code is correct.  I'll do this by verifying that the variances of the principal component scores match the eigenvalues and that the sum of the eigenvalues matches the sum of the variances of the predictors.  It is best to generate principal components from the correlation matrix though, which is equivalent to standarizing your predictors, so I'll do this for the regression analysis."
   ]
  },
  {
   "cell_type": "code",
   "execution_count": 49,
   "metadata": {
    "collapsed": false,
    "scrolled": true
   },
   "outputs": [
    {
     "data": {
      "text/html": [
       "<div>\n",
       "<table border=\"1\" class=\"dataframe\">\n",
       "  <thead>\n",
       "    <tr style=\"text-align: right;\">\n",
       "      <th></th>\n",
       "      <th>0</th>\n",
       "      <th>1</th>\n",
       "      <th>2</th>\n",
       "      <th>3</th>\n",
       "      <th>4</th>\n",
       "      <th>5</th>\n",
       "      <th>6</th>\n",
       "      <th>7</th>\n",
       "      <th>8</th>\n",
       "      <th>9</th>\n",
       "      <th>10</th>\n",
       "      <th>11</th>\n",
       "      <th>12</th>\n",
       "      <th>13</th>\n",
       "      <th>14</th>\n",
       "    </tr>\n",
       "  </thead>\n",
       "  <tbody>\n",
       "    <tr>\n",
       "      <th>0</th>\n",
       "      <td>-0.005825</td>\n",
       "      <td>0.993451</td>\n",
       "      <td>0.085929</td>\n",
       "      <td>0.055952</td>\n",
       "      <td>-0.020628</td>\n",
       "      <td>0.002599</td>\n",
       "      <td>0.022877</td>\n",
       "      <td>0.009369</td>\n",
       "      <td>-0.005831</td>\n",
       "      <td>-0.026491</td>\n",
       "      <td>0.004666</td>\n",
       "      <td>0.019413</td>\n",
       "      <td>0.001639</td>\n",
       "      <td>-0.017879</td>\n",
       "      <td>0.002422</td>\n",
       "    </tr>\n",
       "    <tr>\n",
       "      <th>1</th>\n",
       "      <td>0.999779</td>\n",
       "      <td>0.004232</td>\n",
       "      <td>0.005372</td>\n",
       "      <td>0.015640</td>\n",
       "      <td>-0.011744</td>\n",
       "      <td>-0.002082</td>\n",
       "      <td>-0.000189</td>\n",
       "      <td>0.000626</td>\n",
       "      <td>0.002005</td>\n",
       "      <td>-0.001470</td>\n",
       "      <td>0.000790</td>\n",
       "      <td>0.000707</td>\n",
       "      <td>0.000077</td>\n",
       "      <td>0.000014</td>\n",
       "      <td>-0.000005</td>\n",
       "    </tr>\n",
       "  </tbody>\n",
       "</table>\n",
       "</div>"
      ],
      "text/plain": [
       "         0         1         2         3         4         5         6   \\\n",
       "0 -0.005825  0.993451  0.085929  0.055952 -0.020628  0.002599  0.022877   \n",
       "1  0.999779  0.004232  0.005372  0.015640 -0.011744 -0.002082 -0.000189   \n",
       "\n",
       "         7         8         9         10        11        12        13  \\\n",
       "0  0.009369 -0.005831 -0.026491  0.004666  0.019413  0.001639 -0.017879   \n",
       "1  0.000626  0.002005 -0.001470  0.000790  0.000707  0.000077  0.000014   \n",
       "\n",
       "         14  \n",
       "0  0.002422  \n",
       "1 -0.000005  "
      ]
     },
     "execution_count": 49,
     "metadata": {},
     "output_type": "execute_result"
    }
   ],
   "source": [
    "import scipy\n",
    "evals,evecs=scipy.linalg.eig(X.cov())\n",
    "eigenvectors=pd.DataFrame(evecs)\n",
    "eigenvectors.head(2)"
   ]
  },
  {
   "cell_type": "markdown",
   "metadata": {},
   "source": [
    "The eigenvalues are given as complex numbers with a coefficient of zero on the imaginary part, so I'm going to convert them to float format, as shown below.  Also, I've generated principal component scores, which are the values of the principal components.  The variance of each principal component's scores should equal that principal component's eigenvalue, and the sum of the eigenvalues equals the sum of the variances of the predictor variables.  Thus, the sum of the principal component variances should equal the sum of variances of the predictor variables and should thus explain all of the variation in the predictors.  I verify that the variances of the principal component scores matches the eigenvalues, as shown below as well."
   ]
  },
  {
   "cell_type": "code",
   "execution_count": 50,
   "metadata": {
    "collapsed": false
   },
   "outputs": [
    {
     "data": {
      "text/html": [
       "<div>\n",
       "<table border=\"1\" class=\"dataframe\">\n",
       "  <thead>\n",
       "    <tr style=\"text-align: right;\">\n",
       "      <th></th>\n",
       "      <th>0</th>\n",
       "      <th>1</th>\n",
       "      <th>2</th>\n",
       "      <th>3</th>\n",
       "      <th>4</th>\n",
       "      <th>5</th>\n",
       "      <th>6</th>\n",
       "      <th>7</th>\n",
       "      <th>8</th>\n",
       "      <th>9</th>\n",
       "      <th>10</th>\n",
       "      <th>11</th>\n",
       "      <th>14</th>\n",
       "      <th>13</th>\n",
       "      <th>12</th>\n",
       "    </tr>\n",
       "  </thead>\n",
       "  <tbody>\n",
       "    <tr>\n",
       "      <th>0</th>\n",
       "      <td>257.568716</td>\n",
       "      <td>0.88857</td>\n",
       "      <td>0.21424</td>\n",
       "      <td>0.182858</td>\n",
       "      <td>0.150227</td>\n",
       "      <td>0.074246</td>\n",
       "      <td>0.049073</td>\n",
       "      <td>0.043393</td>\n",
       "      <td>0.039268</td>\n",
       "      <td>0.031721</td>\n",
       "      <td>0.018916</td>\n",
       "      <td>0.011112</td>\n",
       "      <td>0.005962</td>\n",
       "      <td>0.003718</td>\n",
       "      <td>0.002001</td>\n",
       "    </tr>\n",
       "  </tbody>\n",
       "</table>\n",
       "</div>"
      ],
      "text/plain": [
       "           0        1        2         3         4         5         6   \\\n",
       "0  257.568716  0.88857  0.21424  0.182858  0.150227  0.074246  0.049073   \n",
       "\n",
       "         7         8         9         10        11        14        13  \\\n",
       "0  0.043393  0.039268  0.031721  0.018916  0.011112  0.005962  0.003718   \n",
       "\n",
       "         12  \n",
       "0  0.002001  "
      ]
     },
     "execution_count": 50,
     "metadata": {},
     "output_type": "execute_result"
    }
   ],
   "source": [
    "temp=[]\n",
    "eigenvalues=pd.DataFrame(evals)[0]\n",
    "for j in range(len(eigenvalues)):\n",
    "    temp.append(np.float(eigenvalues[j]))\n",
    "eigenvalues=pd.DataFrame(temp)[0]\n",
    "pd.DataFrame(eigenvalues.sort_values(ascending=False)).T"
   ]
  },
  {
   "cell_type": "code",
   "execution_count": 51,
   "metadata": {
    "collapsed": false
   },
   "outputs": [
    {
     "data": {
      "text/html": [
       "<div>\n",
       "<table border=\"1\" class=\"dataframe\">\n",
       "  <thead>\n",
       "    <tr style=\"text-align: right;\">\n",
       "      <th></th>\n",
       "      <th>0</th>\n",
       "      <th>1</th>\n",
       "      <th>2</th>\n",
       "      <th>3</th>\n",
       "      <th>4</th>\n",
       "      <th>5</th>\n",
       "      <th>6</th>\n",
       "      <th>7</th>\n",
       "      <th>8</th>\n",
       "      <th>9</th>\n",
       "      <th>10</th>\n",
       "      <th>11</th>\n",
       "      <th>12</th>\n",
       "      <th>13</th>\n",
       "      <th>14</th>\n",
       "    </tr>\n",
       "  </thead>\n",
       "  <tbody>\n",
       "    <tr>\n",
       "      <th>0</th>\n",
       "      <td>257.568716</td>\n",
       "      <td>0.88857</td>\n",
       "      <td>0.21424</td>\n",
       "      <td>0.182858</td>\n",
       "      <td>0.150227</td>\n",
       "      <td>0.074246</td>\n",
       "      <td>0.049073</td>\n",
       "      <td>0.043393</td>\n",
       "      <td>0.039268</td>\n",
       "      <td>0.031721</td>\n",
       "      <td>0.018916</td>\n",
       "      <td>0.011112</td>\n",
       "      <td>0.002001</td>\n",
       "      <td>0.003718</td>\n",
       "      <td>0.005962</td>\n",
       "    </tr>\n",
       "  </tbody>\n",
       "</table>\n",
       "</div>"
      ],
      "text/plain": [
       "           0        1        2         3         4         5         6   \\\n",
       "0  257.568716  0.88857  0.21424  0.182858  0.150227  0.074246  0.049073   \n",
       "\n",
       "         7         8         9         10        11        12        13  \\\n",
       "0  0.043393  0.039268  0.031721  0.018916  0.011112  0.002001  0.003718   \n",
       "\n",
       "         14  \n",
       "0  0.005962  "
      ]
     },
     "execution_count": 51,
     "metadata": {},
     "output_type": "execute_result"
    }
   ],
   "source": [
    "scores=pd.DataFrame()\n",
    "for j in range(0,len(eigenvectors)):\n",
    "    scores[j]=np.dot(X,eigenvectors[j])\n",
    "pd.DataFrame((scores.std()**2)).T"
   ]
  },
  {
   "cell_type": "markdown",
   "metadata": {},
   "source": [
    "**We can verify that we have the correct eigenvalues for<br>**\n",
    "**1)** PCA done on the correlation matrix, by verifying that the sum of the eigenvalues equals the sum of the standardized predictor variances (meaning the sum of the trace(correlation matrix)).  Using the correlation matrix in PCA is equivalent to standardizing our predictors to have unit variances (variances of 1), which is what the values are along the diagonal of the correlation matrix (it consists of 1's).  So we know the sum of our eigenvalues should equal the number of variables.  <br>\n",
    "**2)** PCA done on the covariance matrix, by verifying that the sum of the eigenvalues equals the sum of the predictor variances (meaning the sum of the trace(covariance matrix)).  "
   ]
  },
  {
   "cell_type": "markdown",
   "metadata": {},
   "source": [
    "The sum of our predictor variances and standardized predictor variances, as shown below, should match the sum of our eigenvalues for PCA done on the covariance and correlation matrix (also shown below, respectively):"
   ]
  },
  {
   "cell_type": "code",
   "execution_count": 52,
   "metadata": {
    "collapsed": false
   },
   "outputs": [
    {
     "data": {
      "text/plain": [
       "(259.28402110043487, 15.0)"
      ]
     },
     "execution_count": 52,
     "metadata": {},
     "output_type": "execute_result"
    }
   ],
   "source": [
    "np.trace(X.cov()), np.trace(X.corr())"
   ]
  },
  {
   "cell_type": "code",
   "execution_count": 53,
   "metadata": {
    "collapsed": false
   },
   "outputs": [
    {
     "data": {
      "text/plain": [
       "(259.28402110043464, 15.0)"
      ]
     },
     "execution_count": 53,
     "metadata": {},
     "output_type": "execute_result"
    }
   ],
   "source": [
    "temp0=[]\n",
    "temp1=pd.DataFrame(scipy.linalg.eig(X.cov())[0])\n",
    "for j in range(len(temp1)):\n",
    "    temp0.append(np.float(temp1[0][j]))\n",
    "temp2=[]\n",
    "temp3=pd.DataFrame(scipy.linalg.eig(X.corr())[0])\n",
    "for j in range(len(temp3)):\n",
    "    temp2.append(np.float(temp3[0][j]))\n",
    "np.sum(pd.DataFrame(temp0)).item(),np.sum(pd.DataFrame(temp2)).item()"
   ]
  },
  {
   "cell_type": "code",
   "execution_count": null,
   "metadata": {
    "collapsed": false
   },
   "outputs": [],
   "source": [
    "#this used to work, what happened?????\n",
    "#np.sum(pd.DataFrame(scipy.linalg.eig(X.cov())[0])[0].apply(f)), \\\n",
    "#np.sum(pd.DataFrame(scipy.linalg.eig(X.corr())[0])[0].apply(f))"
   ]
  },
  {
   "cell_type": "markdown",
   "metadata": {},
   "source": [
    "## Verifying that manually calculating principal component scores using the scipy module matches those automatically generated from the sklearn module"
   ]
  },
  {
   "cell_type": "markdown",
   "metadata": {},
   "source": [
    "I can generate principal component scores using the following code, where I multiply eigenvectors generated from the correlation matrix by standardized regressors.  Regressors are standardized because eigenvectors generated from the correlation matrix are equivalent to standardizing regressors and then generating eigenvectors from the covariance matrix.  "
   ]
  },
  {
   "cell_type": "code",
   "execution_count": 54,
   "metadata": {
    "collapsed": false,
    "scrolled": true
   },
   "outputs": [
    {
     "data": {
      "text/html": [
       "<div>\n",
       "<table border=\"1\" class=\"dataframe\">\n",
       "  <thead>\n",
       "    <tr style=\"text-align: right;\">\n",
       "      <th></th>\n",
       "      <th>0</th>\n",
       "      <th>1</th>\n",
       "      <th>2</th>\n",
       "      <th>3</th>\n",
       "      <th>4</th>\n",
       "      <th>5</th>\n",
       "      <th>6</th>\n",
       "      <th>7</th>\n",
       "      <th>8</th>\n",
       "      <th>9</th>\n",
       "      <th>10</th>\n",
       "      <th>11</th>\n",
       "      <th>12</th>\n",
       "      <th>13</th>\n",
       "      <th>14</th>\n",
       "    </tr>\n",
       "  </thead>\n",
       "  <tbody>\n",
       "    <tr>\n",
       "      <th>0</th>\n",
       "      <td>1.807268</td>\n",
       "      <td>-0.795901</td>\n",
       "      <td>-0.314871</td>\n",
       "      <td>-0.510892</td>\n",
       "      <td>0.607629</td>\n",
       "      <td>0.779729</td>\n",
       "      <td>1.050846</td>\n",
       "      <td>0.062781</td>\n",
       "      <td>-0.122791</td>\n",
       "      <td>-0.272909</td>\n",
       "      <td>-0.037411</td>\n",
       "      <td>0.010897</td>\n",
       "      <td>0.084312</td>\n",
       "      <td>-0.052585</td>\n",
       "      <td>-0.033877</td>\n",
       "    </tr>\n",
       "    <tr>\n",
       "      <th>1</th>\n",
       "      <td>-0.748844</td>\n",
       "      <td>0.351024</td>\n",
       "      <td>0.100155</td>\n",
       "      <td>-0.645575</td>\n",
       "      <td>1.059277</td>\n",
       "      <td>-0.776077</td>\n",
       "      <td>1.287054</td>\n",
       "      <td>0.471318</td>\n",
       "      <td>-0.453906</td>\n",
       "      <td>-0.159592</td>\n",
       "      <td>-0.271972</td>\n",
       "      <td>0.013736</td>\n",
       "      <td>0.097066</td>\n",
       "      <td>0.147575</td>\n",
       "      <td>-0.109744</td>\n",
       "    </tr>\n",
       "    <tr>\n",
       "      <th>2</th>\n",
       "      <td>1.209284</td>\n",
       "      <td>0.556524</td>\n",
       "      <td>0.389719</td>\n",
       "      <td>0.139938</td>\n",
       "      <td>-1.008005</td>\n",
       "      <td>-0.309087</td>\n",
       "      <td>-0.767120</td>\n",
       "      <td>-1.016238</td>\n",
       "      <td>0.090876</td>\n",
       "      <td>0.510876</td>\n",
       "      <td>0.226465</td>\n",
       "      <td>0.447944</td>\n",
       "      <td>-0.098049</td>\n",
       "      <td>0.059434</td>\n",
       "      <td>0.109500</td>\n",
       "    </tr>\n",
       "    <tr>\n",
       "      <th>3</th>\n",
       "      <td>2.439342</td>\n",
       "      <td>0.181188</td>\n",
       "      <td>-0.496249</td>\n",
       "      <td>-0.206734</td>\n",
       "      <td>0.187442</td>\n",
       "      <td>-0.618350</td>\n",
       "      <td>0.458869</td>\n",
       "      <td>-0.923325</td>\n",
       "      <td>-0.041197</td>\n",
       "      <td>0.372298</td>\n",
       "      <td>-0.023439</td>\n",
       "      <td>0.577323</td>\n",
       "      <td>-0.059171</td>\n",
       "      <td>0.135539</td>\n",
       "      <td>-0.002889</td>\n",
       "    </tr>\n",
       "  </tbody>\n",
       "</table>\n",
       "</div>"
      ],
      "text/plain": [
       "         0         1         2         3         4         5         6   \\\n",
       "0  1.807268 -0.795901 -0.314871 -0.510892  0.607629  0.779729  1.050846   \n",
       "1 -0.748844  0.351024  0.100155 -0.645575  1.059277 -0.776077  1.287054   \n",
       "2  1.209284  0.556524  0.389719  0.139938 -1.008005 -0.309087 -0.767120   \n",
       "3  2.439342  0.181188 -0.496249 -0.206734  0.187442 -0.618350  0.458869   \n",
       "\n",
       "         7         8         9         10        11        12        13  \\\n",
       "0  0.062781 -0.122791 -0.272909 -0.037411  0.010897  0.084312 -0.052585   \n",
       "1  0.471318 -0.453906 -0.159592 -0.271972  0.013736  0.097066  0.147575   \n",
       "2 -1.016238  0.090876  0.510876  0.226465  0.447944 -0.098049  0.059434   \n",
       "3 -0.923325 -0.041197  0.372298 -0.023439  0.577323 -0.059171  0.135539   \n",
       "\n",
       "         14  \n",
       "0 -0.033877  \n",
       "1 -0.109744  \n",
       "2  0.109500  \n",
       "3 -0.002889  "
      ]
     },
     "execution_count": 54,
     "metadata": {},
     "output_type": "execute_result"
    }
   ],
   "source": [
    "from sklearn.preprocessing import normalize, scale\n",
    "evals,evecs=scipy.linalg.eig(X.corr())\n",
    "eigenvectors=pd.DataFrame(evecs)\n",
    "\n",
    "scores=pd.DataFrame()\n",
    "for j in range(0,len(eigenvectors)):\n",
    "    scores[j]=np.dot(scale(X),eigenvectors[j])\n",
    "scores.head(4)"
   ]
  },
  {
   "cell_type": "code",
   "execution_count": 55,
   "metadata": {
    "collapsed": false
   },
   "outputs": [
    {
     "name": "stdout",
     "output_type": "stream",
     "text": [
      "means: array([  2.24911408e-13,  -2.15751843e-17])  \n",
      "sds: array([ 1.,  1.])\n"
     ]
    }
   ],
   "source": [
    "#The scale function in sklearn's preprocessing package gives variables (m=0, std=1)\n",
    "print 'means: %r  \\nsds: %r' %(scale(X).mean(axis=0)[:2], scale(X).std(axis=0)[:2])"
   ]
  },
  {
   "cell_type": "markdown",
   "metadata": {},
   "source": [
    "Variances of principal components are shown below:"
   ]
  },
  {
   "cell_type": "code",
   "execution_count": 56,
   "metadata": {
    "collapsed": false
   },
   "outputs": [
    {
     "data": {
      "text/html": [
       "<div>\n",
       "<table border=\"1\" class=\"dataframe\">\n",
       "  <thead>\n",
       "    <tr style=\"text-align: right;\">\n",
       "      <th></th>\n",
       "      <th>0</th>\n",
       "      <th>1</th>\n",
       "      <th>2</th>\n",
       "      <th>3</th>\n",
       "    </tr>\n",
       "  </thead>\n",
       "  <tbody>\n",
       "    <tr>\n",
       "      <th>0</th>\n",
       "      <td>2.035233</td>\n",
       "      <td>0.401702</td>\n",
       "      <td>0.462263</td>\n",
       "      <td>1.390651</td>\n",
       "    </tr>\n",
       "  </tbody>\n",
       "</table>\n",
       "</div>"
      ],
      "text/plain": [
       "          0         1         2         3\n",
       "0  2.035233  0.401702  0.462263  1.390651"
      ]
     },
     "execution_count": 56,
     "metadata": {},
     "output_type": "execute_result"
    }
   ],
   "source": [
    "pd.DataFrame((scores.std()**2)).T.ix[:,:3]"
   ]
  },
  {
   "cell_type": "markdown",
   "metadata": {},
   "source": [
    "Alternatively, principal component scores can be generated from the sklearn module:"
   ]
  },
  {
   "cell_type": "code",
   "execution_count": 57,
   "metadata": {
    "collapsed": false
   },
   "outputs": [],
   "source": [
    "from sklearn.decomposition import PCA\n",
    "from sklearn.preprocessing import normalize, scale\n",
    "pca = PCA(n_components=2)\n",
    "X_stan=pd.DataFrame(scale(X))\n",
    "X_reduced = pca.fit_transform(X_stan)\n",
    "# http://scikit-learn.org/stable/modules/generated/sklearn.preprocessing.normalize.html\n",
    "# http://stats.stackexchange.com/questions/82050/principal-component-analysis-and-regression-in-python\n",
    "# http://scikit-learn.org/stable/modules/preprocessing.html"
   ]
  },
  {
   "cell_type": "markdown",
   "metadata": {},
   "source": [
    "Principal components are given in order in the output of the sklearn module, unlike in the scipy module, which does not give principal components in order.  Notice that the variances of the first two principal components from sklearn matches the variances of scipy principal components that have indices 0 and 3.  Principal components are ordered based on the size of their variances, meaning their eigenvalues."
   ]
  },
  {
   "cell_type": "code",
   "execution_count": 58,
   "metadata": {
    "collapsed": false
   },
   "outputs": [
    {
     "data": {
      "text/plain": [
       "0    2.035233\n",
       "1    1.390651\n",
       "dtype: float64"
      ]
     },
     "execution_count": 58,
     "metadata": {},
     "output_type": "execute_result"
    }
   ],
   "source": [
    "X_reduced = pca.transform(X_stan)\n",
    "two_pca=pd.DataFrame(X_reduced)\n",
    "two_pca.std()**2"
   ]
  },
  {
   "cell_type": "markdown",
   "metadata": {},
   "source": [
    "## Determining how many principal components to use in a principal components regression"
   ]
  },
  {
   "cell_type": "markdown",
   "metadata": {},
   "source": [
    "In choosing the number of principal components to retain in principal components analysis, consider the following methods:\n",
    "\n",
    "**1)** Retain enough components to explain some specified percentage of the total variation of the variables, usually around 80%.\n",
    "**2)** Exclude principal components whose eigenvalues are less than the average: sum(lambdas) / # of components.  \n",
    "**3)** Make a scree plot (eigenvalue vs principal component number), where the larger the number of the principal component, the smaller the eigenvalue.  Select the number of components equal to the number of the component at the elbow of the curve, where the slope changes from steep to shallow and remains fairly level afterwards.  \n",
    "**4)** Exclude principal components whose eigenvalues are close to zero (this is needed for a principal components regression in which we want to reduce multicollinearity)\n",
    "\n",
    "For a principal components regression, where the goal is to reduce multicollinearity, we need to omit principal components whose eigenvalues are close to zero.  These principal components have variances close to zero (since their eigenvalue=their variance), making them close to being constant, making them correlated with the intercept (close to being a multiple of the intercept).  You won't reduce multicollinearity by including principal components that are correlated with the intercept, since multicollinearity is, by definition, the presence of correlation among the predictor variables.  Variables that are correlated with the intercept are included in this definition.  \n",
    "\n",
    " \n",
    "source 1) Introduction to Linear Regression Analysis - Fifth Edition <br>\n",
    "source 2) http://www4.ncsu.edu/~slrace/LinearAlgebra2016/Solutions/solution6.pdf <br>\n",
    "source 3) http://stat.ethz.ch/~mmarloes/teaching/fall08/Notes3.pdf (for 1-3)"
   ]
  },
  {
   "cell_type": "markdown",
   "metadata": {},
   "source": [
    "Eigenvalues generated from the correlation matrix are shown below:"
   ]
  },
  {
   "cell_type": "code",
   "execution_count": 59,
   "metadata": {
    "collapsed": false
   },
   "outputs": [
    {
     "data": {
      "text/html": [
       "<div>\n",
       "<table border=\"1\" class=\"dataframe\">\n",
       "  <thead>\n",
       "    <tr style=\"text-align: right;\">\n",
       "      <th></th>\n",
       "      <th>0</th>\n",
       "      <th>1</th>\n",
       "      <th>2</th>\n",
       "      <th>3</th>\n",
       "      <th>4</th>\n",
       "      <th>5</th>\n",
       "      <th>6</th>\n",
       "      <th>7</th>\n",
       "      <th>8</th>\n",
       "      <th>9</th>\n",
       "      <th>10</th>\n",
       "      <th>11</th>\n",
       "      <th>12</th>\n",
       "      <th>13</th>\n",
       "      <th>14</th>\n",
       "    </tr>\n",
       "  </thead>\n",
       "  <tbody>\n",
       "    <tr>\n",
       "      <th>0</th>\n",
       "      <td>2.031113</td>\n",
       "      <td>1.387835</td>\n",
       "      <td>1.165453</td>\n",
       "      <td>1.076992</td>\n",
       "      <td>1.058159</td>\n",
       "      <td>1.047012</td>\n",
       "      <td>1.036619</td>\n",
       "      <td>1.013886</td>\n",
       "      <td>1.012616</td>\n",
       "      <td>0.95365</td>\n",
       "      <td>0.915962</td>\n",
       "      <td>0.73367</td>\n",
       "      <td>0.704817</td>\n",
       "      <td>0.461327</td>\n",
       "      <td>0.400889</td>\n",
       "    </tr>\n",
       "  </tbody>\n",
       "</table>\n",
       "</div>"
      ],
      "text/plain": [
       "         0         1         2         3         4         5         6   \\\n",
       "0  2.031113  1.387835  1.165453  1.076992  1.058159  1.047012  1.036619   \n",
       "\n",
       "         7         8        9         10       11        12        13  \\\n",
       "0  1.013886  1.012616  0.95365  0.915962  0.73367  0.704817  0.461327   \n",
       "\n",
       "         14  \n",
       "0  0.400889  "
      ]
     },
     "execution_count": 59,
     "metadata": {},
     "output_type": "execute_result"
    }
   ],
   "source": [
    "temp=[]\n",
    "eigenvalues=pd.DataFrame(evals)[0]\n",
    "for j in range(len(eigenvalues)):\n",
    "    temp.append(np.float(eigenvalues[j]))\n",
    "eigenvalues=pd.DataFrame(temp)[0]\n",
    "eigenvalues=pd.DataFrame(list(eigenvalues.sort_values(ascending=False))).T\n",
    "eigenvalues"
   ]
  },
  {
   "cell_type": "markdown",
   "metadata": {},
   "source": [
    "Under method 1, as specified above, the minimum number of principal components to retain such that at least 80% of the variation of the predictor variables is retained is 10.  Thus, method 1 recommends 10 principal components.  See the Variance Explained plot below, and look at the \"Cumulative\" line.  The point on this line associated with principal component j represents the proportion of variation explained by the first (j+1) principal components (meaning all components before component j, as well as component j).  I've also included a line showing the non-cumulative proportions--the proportion of variation explained by each principal component.  \n",
    "\n",
    "10 principal components is a lot, considering that there are 14 principal components.  This means that the first several principal components do not retain much of the information in the original data.  \n",
    "\n",
    "Also shown below is an array of the proportion of total variation explained by each component and all components below each component.  "
   ]
  },
  {
   "cell_type": "code",
   "execution_count": 60,
   "metadata": {
    "collapsed": false
   },
   "outputs": [
    {
     "data": {
      "text/plain": [
       "<matplotlib.text.Text at 0x12ee91ad0>"
      ]
     },
     "execution_count": 60,
     "metadata": {},
     "output_type": "execute_result"
    },
    {
     "data": {
      "image/png": "[encoded data removed]",
      "text/plain": [
       "<matplotlib.figure.Figure at 0x12ee78a90>"
      ]
     },
     "metadata": {},
     "output_type": "display_data"
    }
   ],
   "source": [
    "total_variation=np.sum(eigenvalues.values)\n",
    "cum_variation=[]\n",
    "cum=0\n",
    "for j in range(len(eigenvalues.columns)):  \n",
    "    cum=cum+eigenvalues[j].item()\n",
    "    cum_variation.append(cum)\n",
    "Cum_Variance_Explained=cum_variation/total_variation\n",
    "Variance_Explained=eigenvalues.values[0]/total_variation\n",
    "\n",
    "x=eigenvalues.columns.values\n",
    "y=Cum_Variance_Explained\n",
    "y2=Variance_Explained\n",
    "plt.xlim(0,15)\n",
    "plt.scatter(x,y,s=50,facecolors='none')\n",
    "plt.scatter(x,y2,s=50,facecolors='none')\n",
    "plt.plot(x,y,x,y2)\n",
    "plt.xlabel('Component Number')\n",
    "plt.ylabel('Proportion')\n",
    "plt.legend(['Cumulative','Proportion'],loc='upper left')\n",
    "plt.title('Variance Explained')"
   ]
  },
  {
   "cell_type": "code",
   "execution_count": 61,
   "metadata": {
    "collapsed": false
   },
   "outputs": [
    {
     "data": {
      "text/plain": [
       "array([ 0.13540754,  0.22792991,  0.30562676,  0.37742619,  0.44797012,\n",
       "        0.51777094,  0.58687887,  0.6544713 ,  0.72197902,  0.7855557 ,\n",
       "        0.84661982,  0.89553116,  0.94251893,  0.97327406,  1.        ])"
      ]
     },
     "execution_count": 61,
     "metadata": {},
     "output_type": "execute_result"
    }
   ],
   "source": [
    "Cum_Variance_Explained"
   ]
  },
  {
   "cell_type": "markdown",
   "metadata": {},
   "source": [
    "Under method 2, where we exclude principal components whose eigenvalues are less than the average eigenvalue, 8 components are recommended.  The mean eigenvalue is 1, as shown below.  There are 8 components whose eigenvalues are greater than a value of 1."
   ]
  },
  {
   "cell_type": "code",
   "execution_count": 62,
   "metadata": {
    "collapsed": false
   },
   "outputs": [
    {
     "data": {
      "text/plain": [
       "1.0"
      ]
     },
     "execution_count": 62,
     "metadata": {},
     "output_type": "execute_result"
    }
   ],
   "source": [
    "eigenvalues.values[0].mean()"
   ]
  },
  {
   "cell_type": "markdown",
   "metadata": {},
   "source": [
    "Under method 3, there appears to be an elbow in the scree plot at around 2-3 principal components, however, the first two principal components only explain 32% of the variation of the original data.  Using the elbow rule to select components would not result in the components retaining much of the variance of the original data.  "
   ]
  },
  {
   "cell_type": "code",
   "execution_count": 63,
   "metadata": {
    "collapsed": false
   },
   "outputs": [
    {
     "data": {
      "text/plain": [
       "array([ 0.13540754,  0.22792991,  0.30562676,  0.37742619,  0.44797012,\n",
       "        0.51777094,  0.58687887,  0.6544713 ,  0.72197902,  0.7855557 ,\n",
       "        0.84661982,  0.89553116,  0.94251893,  0.97327406,  1.        ])"
      ]
     },
     "execution_count": 63,
     "metadata": {},
     "output_type": "execute_result"
    }
   ],
   "source": [
    "y"
   ]
  },
  {
   "cell_type": "code",
   "execution_count": 64,
   "metadata": {
    "collapsed": false
   },
   "outputs": [
    {
     "data": {
      "text/plain": [
       "<matplotlib.text.Text at 0x12efb4a90>"
      ]
     },
     "execution_count": 64,
     "metadata": {},
     "output_type": "execute_result"
    },
    {
     "data": {
      "image/png": "[encoded data removed]",
      "text/plain": [
       "<matplotlib.figure.Figure at 0x12ee78710>"
      ]
     },
     "metadata": {},
     "output_type": "display_data"
    }
   ],
   "source": [
    "temp=[]\n",
    "eigenvalues=pd.DataFrame(evals)[0]\n",
    "for j in range(len(eigenvalues)):\n",
    "    temp.append(np.float(eigenvalues[j]))\n",
    "eigenvalues=pd.DataFrame(temp)[0]\n",
    "\n",
    "x=eigenvalues.index.values\n",
    "y=pd.DataFrame(list(eigenvalues.sort_values(ascending=False)))[0].values\n",
    "plt.xlim(0,15)\n",
    "plt.scatter(x,y,c='k',s=30)\n",
    "plt.plot(x,y)\n",
    "plt.xlabel('Component Number')\n",
    "plt.ylabel('Eigenvalue')\n",
    "plt.title('Scree Plot')"
   ]
  },
  {
   "cell_type": "markdown",
   "metadata": {},
   "source": [
    "Under method 4, arguably the most important method for a principal components regression, we exclude all principal components with eigenvalues close to zero.  Shown below, the last two components are closer to zero than the others (<.5), so these two should at least be excluded to reduce multicollinearity.   "
   ]
  },
  {
   "cell_type": "code",
   "execution_count": 65,
   "metadata": {
    "collapsed": false
   },
   "outputs": [
    {
     "data": {
      "text/plain": [
       "array([ 2.03111317,  1.38783544,  1.16545276,  1.07699152,  1.05815894,\n",
       "        1.04701224,  1.03661903,  1.01388638,  1.01261583,  0.95365015,\n",
       "        0.91596182,  0.7336701 ,  0.70481659,  0.46132689,  0.40088915])"
      ]
     },
     "execution_count": 65,
     "metadata": {},
     "output_type": "execute_result"
    }
   ],
   "source": [
    "pd.DataFrame(list(eigenvalues.sort_values(ascending=False)))[0].values"
   ]
  },
  {
   "cell_type": "markdown",
   "metadata": {},
   "source": [
    "The methods recommend retaining between 3-12 principal components.  Three components would not result in much of the variation being explained.  I will select 10 principal components, so that 80% of the variation in the data is explained and components with eigenvalues close to zero are excluded.    "
   ]
  },
  {
   "cell_type": "markdown",
   "metadata": {},
   "source": [
    "## Running the principal components regression"
   ]
  },
  {
   "cell_type": "code",
   "execution_count": 786,
   "metadata": {
    "collapsed": true
   },
   "outputs": [],
   "source": [
    "pca = PCA(n_components=10)\n",
    "X_stan=pd.DataFrame(scale(X))\n",
    "X_reduced = pd.DataFrame(pca.fit_transform(X_stan))"
   ]
  },
  {
   "cell_type": "code",
   "execution_count": 787,
   "metadata": {
    "collapsed": false
   },
   "outputs": [],
   "source": [
    "X_train, X_test, Y_train, Y_test = sklearn.model_selection.train_test_split\\\n",
    "(X_reduced, Y, test_size=0.30, random_state = 5)"
   ]
  },
  {
   "cell_type": "code",
   "execution_count": 788,
   "metadata": {
    "collapsed": false
   },
   "outputs": [
    {
     "name": "stdout",
     "output_type": "stream",
     "text": [
      "                            OLS Regression Results                            \n",
      "==============================================================================\n",
      "Dep. Variable:                Y_train   R-squared:                       0.134\n",
      "Model:                            OLS   Adj. R-squared:                  0.108\n",
      "Method:                 Least Squares   F-statistic:                     5.156\n",
      "Date:                Fri, 30 Dec 2016   Prob (F-statistic):           5.01e-07\n",
      "Time:                        21:17:42   Log-Likelihood:                -313.57\n",
      "No. Observations:                 345   AIC:                             649.1\n",
      "Df Residuals:                     334   BIC:                             691.4\n",
      "Df Model:                          10                                         \n",
      "Covariance Type:            nonrobust                                         \n",
      "==============================================================================\n",
      "                 coef    std err          t      P>|t|      [95.0% Conf. Int.]\n",
      "------------------------------------------------------------------------------\n",
      "Intercept      3.3044      0.033    100.457      0.000         3.240     3.369\n",
      "X_train[0]    -0.1194      0.023     -5.245      0.000        -0.164    -0.075\n",
      "X_train[1]     0.0493      0.028      1.732      0.084        -0.007     0.105\n",
      "X_train[2]    -0.0180      0.030     -0.595      0.552        -0.077     0.041\n",
      "X_train[3]     0.0885      0.031      2.830      0.005         0.027     0.150\n",
      "X_train[4]    -0.0201      0.032     -0.635      0.526        -0.082     0.042\n",
      "X_train[5]    -0.0340      0.030     -1.147      0.252        -0.092     0.024\n",
      "X_train[6]     0.0287      0.031      0.916      0.360        -0.033     0.090\n",
      "X_train[7]     0.0158      0.031      0.503      0.615        -0.046     0.077\n",
      "X_train[8]    -0.0555      0.029     -1.945      0.053        -0.112     0.001\n",
      "X_train[9]    -0.0796      0.033     -2.415      0.016        -0.144    -0.015\n",
      "==============================================================================\n",
      "Omnibus:                        0.790   Durbin-Watson:                   2.036\n",
      "Prob(Omnibus):                  0.674   Jarque-Bera (JB):                0.687\n",
      "Skew:                          -0.108   Prob(JB):                        0.709\n",
      "Kurtosis:                       3.029   Cond. No.                         1.56\n",
      "==============================================================================\n",
      "\n",
      "Warnings:\n",
      "[1] Standard Errors assume that the covariance matrix of the errors is correctly specified.\n"
     ]
    }
   ],
   "source": [
    "import statsmodels.api as sm\n",
    "from statsmodels.formula.api import ols\n",
    "m = ols('Y_train ~ X_train', X_train).fit()\n",
    "print m.summary()"
   ]
  },
  {
   "cell_type": "code",
   "execution_count": 789,
   "metadata": {
    "collapsed": false
   },
   "outputs": [
    {
     "data": {
      "text/plain": [
       "0.64525272245601428"
      ]
     },
     "execution_count": 789,
     "metadata": {},
     "output_type": "execute_result"
    }
   ],
   "source": [
    "lm = LinearRegression()\n",
    "lm.fit(X_train, Y_train)\n",
    "Y_pred=lm.predict(X_test)\n",
    "rmse(Y_test,Y_pred)"
   ]
  },
  {
   "cell_type": "markdown",
   "metadata": {},
   "source": [
    "## MODEL COMPARISONS"
   ]
  },
  {
   "cell_type": "markdown",
   "metadata": {},
   "source": [
    "# Random Forests"
   ]
  },
  {
   "cell_type": "code",
   "execution_count": 799,
   "metadata": {
    "collapsed": true
   },
   "outputs": [],
   "source": [
    "X_train, X_test, Y_train, Y_test = sklearn.model_selection.train_test_split\\\n",
    "(X, Y, test_size=0.30, random_state = 5)"
   ]
  },
  {
   "cell_type": "markdown",
   "metadata": {},
   "source": [
    "## Investigating the effect on the root mean squared error of changing the model parameters max_features and n_estimators"
   ]
  },
  {
   "cell_type": "markdown",
   "metadata": {},
   "source": [
    "Below, I will investigate the impact of model parameters max_features and n_estimators.  A max_features value of none indicates all features are considered in choosing the best split in each tree."
   ]
  },
  {
   "cell_type": "code",
   "execution_count": 800,
   "metadata": {
    "collapsed": false
   },
   "outputs": [],
   "source": [
    "RANDOM_STATE = 112\n",
    "from collections import OrderedDict\n",
    "\n",
    "ensemble_clfs = [\n",
    "    (\"RandomForestRegressor, max_features='sqrt'\",\n",
    "        RandomForestRegressor(warm_start=True, oob_score=True,\n",
    "                               max_features=\"sqrt\",\n",
    "                               random_state=RANDOM_STATE)),\n",
    "    (\"RandomForestRegressor, max_features='None'\",\n",
    "        RandomForestRegressor(warm_start=True, max_features=None,\n",
    "                               oob_score=True,\n",
    "                               random_state=RANDOM_STATE)),\n",
    "    (\"RandomForestRegressor, max_features=.10\",\n",
    "        RandomForestRegressor(warm_start=True, max_features=.1,\n",
    "                               oob_score=True,\n",
    "                               random_state=RANDOM_STATE)),    \n",
    "    (\"RandomForestRegressor, max_features=.30\",\n",
    "        RandomForestRegressor(warm_start=True, max_features=.3,\n",
    "                               oob_score=True,\n",
    "                               random_state=RANDOM_STATE)),    \n",
    "    (\"RandomForestRegressor, max_features=.50\",\n",
    "        RandomForestRegressor(warm_start=True, max_features=.5,\n",
    "                               oob_score=True,\n",
    "                               random_state=RANDOM_STATE)),  \n",
    "    (\"RandomForestRegressor, max_features=.80\",\n",
    "        RandomForestRegressor(warm_start=True, max_features=.8,\n",
    "                               oob_score=True,\n",
    "                               random_state=RANDOM_STATE)),    \n",
    "]\n",
    "\n",
    "\n",
    "# NOTE: Setting the `warm_start` construction parameter to `True` disables\n",
    "# support for parallelized ensembles but is necessary for tracking the OOB\n",
    "# error trajectory during training."
   ]
  },
  {
   "cell_type": "code",
   "execution_count": 801,
   "metadata": {
    "collapsed": false
   },
   "outputs": [
    {
     "data": {
      "text/plain": [
       "OrderedDict([(\"RandomForestRegressor, max_features='sqrt'\", []),\n",
       "             (\"RandomForestRegressor, max_features='None'\", []),\n",
       "             ('RandomForestRegressor, max_features=.10', []),\n",
       "             ('RandomForestRegressor, max_features=.30', []),\n",
       "             ('RandomForestRegressor, max_features=.50', []),\n",
       "             ('RandomForestRegressor, max_features=.80', [])])"
      ]
     },
     "execution_count": 801,
     "metadata": {},
     "output_type": "execute_result"
    }
   ],
   "source": [
    "# Map a classifier name to a list of (<n_estimators>, <error rate>) pairs.\n",
    "rmse_list = OrderedDict((j, []) for j, _ in ensemble_clfs)\n",
    "rmse_list"
   ]
  },
  {
   "cell_type": "code",
   "execution_count": 802,
   "metadata": {
    "collapsed": true
   },
   "outputs": [],
   "source": [
    "#Generate an rmse for each number of trees used in each of the three models\n",
    "# Range of `n_estimators` values to explore.\n",
    "min_estimators = 15\n",
    "max_estimators = 175\n",
    "\n",
    "#Fit a model for each number of max_features and each number of trees\n",
    "for label, clf in ensemble_clfs:\n",
    "    for i in range(min_estimators, max_estimators + 1):\n",
    "        clf.set_params(n_estimators=i)\n",
    "        clf.fit(X_train, Y_train)\n",
    "        \n",
    "        #Record the rmse for each `n_estimators=i` setting.\n",
    "        rmse = np.sqrt(sklearn.metrics.mean_squared_error(Y_test, clf.predict(X_test)))\n",
    "        rmse_list[label].append((i, rmse))"
   ]
  },
  {
   "cell_type": "code",
   "execution_count": 427,
   "metadata": {
    "collapsed": false
   },
   "outputs": [],
   "source": [
    "#rmse_list.items()[i] gives the label data and tuples of model with the ith max_feature value\n",
    "#rmse_list.items()[i][0] gives the label data of the model with the ith max_feature value\n",
    "#rmse_list.items()[i][1] gives a list of tuples (# of trees,rmse) of the ith max_feature model"
   ]
  },
  {
   "cell_type": "code",
   "execution_count": 803,
   "metadata": {
    "collapsed": false,
    "scrolled": true
   },
   "outputs": [
    {
     "data": {
      "image/png": "[encoded data removed]",
      "text/plain": [
       "<matplotlib.figure.Figure at 0x11ffb0750>"
      ]
     },
     "metadata": {},
     "output_type": "display_data"
    }
   ],
   "source": [
    "# Generate the \"rmse\" vs. \"n_estimators\" plot.\n",
    "for label, clf_rmse in rmse_list.items():\n",
    "    xs, ys = zip(*clf_rmse)\n",
    "    plt.plot(xs, ys, label=label)\n",
    "    \n",
    "plt.xlim(min_estimators, max_estimators)\n",
    "plt.xlabel(\"n_estimators\")\n",
    "plt.ylabel(\"rmse\")\n",
    "plt.legend(loc=\"upper right\")\n",
    "plt.title('RMSE for Random Forests')\n",
    "plt.show()"
   ]
  },
  {
   "cell_type": "markdown",
   "metadata": {},
   "source": [
    "Above, we see that rmse values stay fairly level for a given max_features value after about 100 trees, so we won't see much (if any) of a performance gain by increasing the number of trees beyond this.  I will use 300 trees to be sure that I do not miss any loss in performance from using too small of an n_estimators value.  "
   ]
  },
  {
   "cell_type": "markdown",
   "metadata": {},
   "source": [
    "There is a different curve for each considered max_features value.  Generating random subsets whose size is 50% of the total number of features results in the lowest rmse values.  30% is the next best max_features value.  All other max_features values result in curves that have rmse values around .65 for tree values greater than 100.  Clearly, max_features makes a difference, so I will tune this parameter using GridSearchCV.  "
   ]
  },
  {
   "cell_type": "markdown",
   "metadata": {},
   "source": [
    "## Creating the model by tuning the max_features parameter using GridSearchCV"
   ]
  },
  {
   "cell_type": "markdown",
   "metadata": {},
   "source": [
    "From having looked at the rmse plot above, I decided to use 300 trees.  I also decided to tune the max_features parameter using GridSearchCV, which I will do below, as well as generate the model."
   ]
  },
  {
   "cell_type": "markdown",
   "metadata": {},
   "source": [
    "GridSearchCV uses K-fold cross validation to tune/optimize parameters of an estimator, which in this case is the Random Forest Regressor.  I will look for an optimal max_features value, which is the maximum number of features to draw a random subset of features from at each split in each decision tree comprising the random forest.  <br>\n",
    "\n",
    "For each considered parameter value, GridSearchCV calculates a cross validation score (cv score), which is the average score using that parameter from k models, where each model is fitted from the other (k-1) folds that the training data was divided into (where each of the k folds is treated as a validation fold, with the other k-1 folds as training folds).  The parameter that has the highest cv score is used in the model, which is then evaluated on the test set (the train split was split into training and validation sets used for tuning the parameters). <br>\n",
    "\n",
    "The cv parameter controls the number of folds to use in finding the best parameters.  In this case, I'll use 5 folds, meaning I'll generate 5 models for each considered max_features value and calculate the average score for each max_features value. <br>  \n",
    "\n",
    "The score in this case is the negative of the mean squared error.  Sklearn scores follow the convention of higher means better, and since lower means better for mean squared error, they stuck a negative sign in front to keep this score metric congruent with their convention.  "
   ]
  },
  {
   "cell_type": "code",
   "execution_count": 724,
   "metadata": {
    "collapsed": false
   },
   "outputs": [
    {
     "data": {
      "text/plain": [
       "(RandomForestRegressor(bootstrap=True, criterion='mse', max_depth=None,\n",
       "            max_features=0.1, max_leaf_nodes=None, min_impurity_split=1e-07,\n",
       "            min_samples_leaf=1, min_samples_split=2,\n",
       "            min_weight_fraction_leaf=0.0, n_estimators=300, n_jobs=1,\n",
       "            oob_score=True, random_state=112, verbose=0, warm_start=True),\n",
       " {'max_features': 0.1},\n",
       " -0.3917144605567583,\n",
       " [mean: -0.43751, std: 0.07967, params: {'max_features': None},\n",
       "  mean: -0.39686, std: 0.05727, params: {'max_features': 'sqrt'},\n",
       "  mean: -0.39171, std: 0.05333, params: {'max_features': 0.1},\n",
       "  mean: -0.39686, std: 0.05727, params: {'max_features': 0.2},\n",
       "  mean: -0.40097, std: 0.06106, params: {'max_features': 0.3},\n",
       "  mean: -0.40865, std: 0.06498, params: {'max_features': 0.4},\n",
       "  mean: -0.41391, std: 0.06526, params: {'max_features': 0.5},\n",
       "  mean: -0.41478, std: 0.07162, params: {'max_features': 0.6},\n",
       "  mean: -0.41954, std: 0.07386, params: {'max_features': 0.7},\n",
       "  mean: -0.42564, std: 0.07820, params: {'max_features': 0.8},\n",
       "  mean: -0.42943, std: 0.07796, params: {'max_features': 0.9}])"
      ]
     },
     "execution_count": 724,
     "metadata": {},
     "output_type": "execute_result"
    }
   ],
   "source": [
    "from sklearn.grid_search import GridSearchCV\n",
    "clf=RandomForestRegressor(warm_start=True, oob_score=True,random_state=RANDOM_STATE,\n",
    "                         n_estimators=300)\n",
    "parameters={\"max_features\":[None,'sqrt',.1,.2,.3,.4,.5,.6,.7,.8,.9]}\n",
    "fitmodel = GridSearchCV(clf, param_grid=parameters, cv=5, scoring=\"neg_mean_squared_error\")\n",
    "fitmodel.fit(X_train, Y_train)\n",
    "fitmodel.best_estimator_, fitmodel.best_params_, fitmodel.best_score_, fitmodel.grid_scores_"
   ]
  },
  {
   "cell_type": "markdown",
   "metadata": {},
   "source": [
    "As shown below, the root mean squared error of the model is .65, indicating that the typical amount by which a predicted test set star score deviates from its actual value is .65.  "
   ]
  },
  {
   "cell_type": "code",
   "execution_count": 808,
   "metadata": {
    "collapsed": false
   },
   "outputs": [
    {
     "data": {
      "text/plain": [
       "0.64949034403249839"
      ]
     },
     "execution_count": 808,
     "metadata": {},
     "output_type": "execute_result"
    }
   ],
   "source": [
    "def rmse(Y_test,Y_pred):   \n",
    "    return np.sqrt(sklearn.metrics.mean_squared_error(Y_test,Y_pred))\n",
    "\n",
    "clf=RandomForestRegressor(warm_start=True, oob_score=True,random_state=RANDOM_STATE,\n",
    "                         n_estimators=300, max_features=fitmodel.best_params_['max_features'])\n",
    "clf.fit(X_train,Y_train)\n",
    "Y_pred=clf.predict(X_test)\n",
    "rmse(Y_test,Y_pred)"
   ]
  },
  {
   "cell_type": "code",
   "execution_count": null,
   "metadata": {
    "collapsed": true
   },
   "outputs": [],
   "source": []
  },
  {
   "cell_type": "code",
   "execution_count": null,
   "metadata": {
    "collapsed": true
   },
   "outputs": [],
   "source": []
  },
  {
   "cell_type": "code",
   "execution_count": null,
   "metadata": {
    "collapsed": true
   },
   "outputs": [],
   "source": []
  },
  {
   "cell_type": "code",
   "execution_count": null,
   "metadata": {
    "collapsed": true
   },
   "outputs": [],
   "source": []
  },
  {
   "cell_type": "code",
   "execution_count": null,
   "metadata": {
    "collapsed": true
   },
   "outputs": [],
   "source": []
  },
  {
   "cell_type": "markdown",
   "metadata": {},
   "source": [
    "**RMSE** <br>\n",
    "Principal Components Regression: 0.64525 <br>\n",
    "Random Forest:        0.64949  <br>\n",
    "Linear Regression:    0.65436  <br>"
   ]
  },
  {
   "cell_type": "markdown",
   "metadata": {},
   "source": []
  },
  {
   "cell_type": "code",
   "execution_count": null,
   "metadata": {
    "collapsed": true
   },
   "outputs": [],
   "source": []
  },
  {
   "cell_type": "code",
   "execution_count": null,
   "metadata": {
    "collapsed": true
   },
   "outputs": [],
   "source": []
  },
  {
   "cell_type": "code",
   "execution_count": null,
   "metadata": {
    "collapsed": true
   },
   "outputs": [],
   "source": []
  },
  {
   "cell_type": "code",
   "execution_count": null,
   "metadata": {
    "collapsed": true
   },
   "outputs": [],
   "source": []
  },
  {
   "cell_type": "code",
   "execution_count": 221,
   "metadata": {
    "collapsed": false
   },
   "outputs": [
    {
     "name": "stdout",
     "output_type": "stream",
     "text": [
      "10000000 loops, best of 3: 25.9 ns per loop\n"
     ]
    }
   ],
   "source": [
    "%timeit()"
   ]
  },
  {
   "cell_type": "code",
   "execution_count": 201,
   "metadata": {
    "collapsed": false
   },
   "outputs": [],
   "source": [
    "confusion_matrix=pd.crosstab(index=Y_test,columns=predictions,rownames=\\\n",
    "            ['actual'],colnames=['predicted'])"
   ]
  },
  {
   "cell_type": "code",
   "execution_count": null,
   "metadata": {
    "collapsed": true
   },
   "outputs": [],
   "source": []
  },
  {
   "cell_type": "code",
   "execution_count": null,
   "metadata": {
    "collapsed": true
   },
   "outputs": [],
   "source": []
  },
  {
   "cell_type": "code",
   "execution_count": null,
   "metadata": {
    "collapsed": true
   },
   "outputs": [],
   "source": []
  },
  {
   "cell_type": "code",
   "execution_count": null,
   "metadata": {
    "collapsed": true
   },
   "outputs": [],
   "source": []
  },
  {
   "cell_type": "code",
   "execution_count": null,
   "metadata": {
    "collapsed": true
   },
   "outputs": [],
   "source": []
  },
  {
   "cell_type": "code",
   "execution_count": null,
   "metadata": {
    "collapsed": true
   },
   "outputs": [],
   "source": []
  },
  {
   "cell_type": "code",
   "execution_count": null,
   "metadata": {
    "collapsed": true
   },
   "outputs": [],
   "source": []
  },
  {
   "cell_type": "markdown",
   "metadata": {
    "collapsed": true
   },
   "source": [
    "## The Condition Number"
   ]
  },
  {
   "cell_type": "markdown",
   "metadata": {},
   "source": [
    "The condition number can be calculated as the ratio of the largest eigenvalue to the smallest eigenvalue, where the eigenvalues are calculated from the sample correlation matrix (which, is equivalent to producing eigenvalues from a sample covariance matrix that is based on variables standardized to have unit variance--a variance of 1; thus PCA done on a correlation matrix is the same as PCA done on a covariance matrix with standardized variables).  \n",
    "\n",
    "The following sources define the condition number as the ratio of the maximum and minimum eigenvalues.  Other sources mention the condition number as the square root of the maximum and minimum eigenvalues such as in source (3).  Source (3) recommends that the condition number \"be calculated from a transformed data matrix in which each regressor has unit length\", meaning from variables standardized to have a variance of 1.  Calculating variables from the correlation matrix is equivalent to this, as I mention above.    \n",
    "\n",
    "1) http://amosdevelopment.com/webhelp/conditionnumberofthesamplecorrelationmatrix.htm <br>\n",
    "2) Introduction to Linear Regression Analysis 5th Edition <br>\n",
    "3) An Introduction to Modern Econometrics Using Stata by Christopher F. Baum <br>"
   ]
  },
  {
   "cell_type": "code",
   "execution_count": null,
   "metadata": {
    "collapsed": false
   },
   "outputs": [],
   "source": [
    "pd.DataFrame(scipy.linalg.eig(X.corr())[0])[0].apply(f)[0]\\\n",
    "/pd.DataFrame(scipy.linalg.eig(X.corr())[0])[0].apply(f)[14]"
   ]
  },
  {
   "cell_type": "markdown",
   "metadata": {},
   "source": [
    "The condition number above is calculated as the largest eigenvalue divided by the smallest eigenvalue.  "
   ]
  },
  {
   "cell_type": "code",
   "execution_count": null,
   "metadata": {
    "collapsed": true
   },
   "outputs": [],
   "source": [
    "Normalizing Regressor Variables"
   ]
  },
  {
   "cell_type": "markdown",
   "metadata": {},
   "source": [
    "## Normalizing Regressor Variables"
   ]
  },
  {
   "cell_type": "markdown",
   "metadata": {},
   "source": [
    "Normalization of all predictor variables is the act of re-scaling them to have the same range of values, such as between [0,1] or [-1,1].  A drawback of normalization, unlike with standardization, is the normalized variable has a smaller standard deviation and the effect of outliers is suppressed.  A common re-scaling is ( (x-xmin)/(xmax-xmin) )."
   ]
  },
  {
   "cell_type": "markdown",
   "metadata": {},
   "source": [
    "## Standardizing Regressor Variables"
   ]
  },
  {
   "cell_type": "markdown",
   "metadata": {},
   "source": [
    "Standardization of all predictors is the act of re-scaling them to have mean zero and unit variances (or unit length), so \"they'll have the properties of the standard normal distribution\" (1).  A standardized value is interpreted as the number of standard deviations the original value is from the mean, or equivalently, the difference from the mean in number of standard deviations.  For example, -3 indicates that the value is 3 standard deviations below the mean.  A standardized regression coefficient, is one calculated from a \n",
    "\n",
    "\n",
    "**1) Both the dependent and independent variables can be standardized (full standardization or fully standardized coefficients)**<br>\n",
    "If you standardize both, then the standardized regression coefficients are interpreted as how many standard deviations the dependent variable changes per standard deviation increase in the predictor variable.  This does not mean the actual standard deviations change for both variables, but that the amount of change is EXPRESSED in standard deviations.  Thus, it represents how much y will change in number of standard deviations if the x value increases by 1 standard deviation.\n",
    "\n",
    "When all variables are standardized, the intercept becomes zero.  When all standardized predictors have value zero, then they are at their mean value because each is 0 sd's away from their mean.  Since the least squares regression line must pass through (mean x, mean y), this means that the predicted y must also be 0 sds from its mean in order for it to be equal to its mean value, since the predictors are at their mean values (source 5).  \n",
    "\n",
    "Regression coefficients based on having standardized all variables (x's and y) are called standardized regression coefficients (though as shown below, it doesn't have to be all variables).  These are actually the same thing as the regression coefficients calculated from unstandardized coefficients and then multiplying each by their respective standard deviation and dividing by the standard deviation of the dependent variable.  \n",
    "\n",
    "Bi-standardized = (Bi-unstandardized) (sd.i/sd.y)  \n",
    "(source 7)\n",
    "\n",
    "**2) Just the independent variables can be standardized (x-standardized coefficients).** <br>\n",
    "The standardized regression coefficients are interpreted as the average change in the dependent variable per 1 standard deviation increase in the predictor variable.  This allows you to still assess the relative importance of predictors while still keeping a more meaningful interpretation of y.  \n",
    "\n",
    "**3) Just the dependent variable can be standarized (y-standardized coefficients).**<br>\n",
    "The standardized regression coefficients are interpreted as how many standard deviations y changes for a one unit increase in x.  (source 2)  \n",
    "\n",
    "**4) Additional information**<br>\n",
    "a) Just some of the independent variables can standardized.  <br>\n",
    "b) Many sources advice against standardizing the dummy variables.  Just standardize the quantitative variables (source 4, and source 2). <br>\n",
    "c) Standardizing (shifting and scaling your variables), regardless of the type of standardization (x,y, full) won't affect the model fit (like R-squared), or the fitted values, since the model is built based on variable correlations.  It also does not affect standardized variable t-values or p-values, as well as non-standardized variable results (source 2 and 6).  <br>\n",
    "d) Standardizing DOES affect standardized variable coefficients, their standard errors and  confidence intervals, and completely affects all intercept results (observe source 2 data).\n",
    "e) The type of standardization done (x,y,full) will affect the estimated coefficients, their standard errors, and the confidence intervals (and their interpretations, of course), but not the t-values, p-values.  \n",
    "f) Standardizing affects VIFs and the condition number.\n",
    "\n",
    "**5) Why standardize variables?**<br>\n",
    "Coefficients are primarily standardized to determine which has the greatest effect on Y, meaning which can be regarded as having the greatest relative importance (which has the biggest number).  Simply take the ratio of the two standardized coefficients.  If one standardized coefficient is twice as big, then the regressor is twice as important in its effect on y.  When variables have different units of measurement, then determining which is more important is hard, but standardizing allows us to do it, since we scale them to make them unit less!  \n",
    "\n",
    "1) http://sebastianraschka.com/Articles/2014_about_feature_scaling.html <br>\n",
    "2) https://www3.nd.edu/~rwilliam/stats1/x92b.pdf<br>\n",
    "3) http://polisci.msu.edu/jacoby/icpsr/regress3/lectures/week2/8.RelImport.pdf<br>\n",
    "4) http://pj.freefaculty.org/guides/stat/Regression/StandardizedBeta/Standardized-1-lecture.pdf <br>\n",
    "5) http://mezeylab.cb.bscb.cornell.edu/labmembers/documents/supplement%205%20-%20multiple%20regression.pdf<br>\n",
    "6) http://stats.stackexchange.com/questions/32649/some-of-my-predictors-are-on-very-different-scales-do-i-need-to-transform-them<br>\n",
    "7) \"How to Standardize Regression Coefficients\" by Johan Bring"
   ]
  },
  {
   "cell_type": "markdown",
   "metadata": {},
   "source": [
    "## Identifying multicollinearity:"
   ]
  },
  {
   "cell_type": "markdown",
   "metadata": {},
   "source": [
    "1) A condition number between 100-1000 indicates moderate-severe multicollinearity.  A number greater than 30 can also indicate it.  \n",
    "\n",
    "2) A variance inflation factor (VIF) indicates a multicollinearity problem if its value is greater than 4 (just a rule of thumb...some say 5, some say less than 4), where a VIF>10 indicates severe multicollinearity.  If regressors ARE NOT correlated, the VIF will be 1.  VIF=1/tolerance level, so equivalent criterion for the tolerance level would be a tolerance level<.25 indicates multicollinearity problems, though some sources say <.4 also indicates problems.  \n",
    "\n",
    "3) Look for high pairwise correlations between regressors, since by definition, multicollinearity is when regressors are highly correlated.\n",
    "\n",
    "4) A regressor that should be highly correlated with the dependent variable (you see a strong correlation in the scatterplot of y vs that variable) has a regression coefficient that is insignificant.  This stems from consequences #1 and #2 (as shown below) since the estimated coefficient of that variable has a standard error that will be large from a strong presence of multicollinearity.  A stronger indication of multicollinearity (besides just one insignificant regressor) is if we see a high r-squared, but few significant t-values (multiple insignificant regressors).     \n",
    "\n",
    "5) The sign on a regressor coefficient (+/-) is the opposite of what it should be (increasing the size of a house shouldn't cause the house price to decrease).  \n",
    "\n",
    "6) Adding or removing a regressor greatly changes regression results"
   ]
  },
  {
   "cell_type": "markdown",
   "metadata": {},
   "source": [
    "## Consequences of multicollinearity include:"
   ]
  },
  {
   "cell_type": "markdown",
   "metadata": {},
   "source": [
    "1) Standard errors (std devs) of regressor coefficient estimates (b1,b2..) will be large.  Specifically, variables that are correlated will have large standard deviations on their coefficient estimates\n",
    "\n",
    "2) Due to the large standard errors, confidence intervals of the estimated coefficients will be wider and the t-statistic value will be lower.  Thus, the null hypothesis that the regressor coefficient is zero has a greater chance of being accepted.  \n",
    "\n",
    "3) Small changes in the data can lead to large changes in the regressor coefficient estimates (even opposite signs) and their standard errors (aka your model results are not robust).  For example, if you drop an observation, this could change the model a lot.  Regarding model robustness, a model is statistically robust if it predicts reliably across different samples of data (meaning even when its estimates are constructed from different samples).  \n",
    "\n",
    "R-squared can still be high with strong multicollinearity. \n",
    "\n",
    "Multicollinearity does not bias results (in that the average estimated parameter will differ from the population parameter).  However, due to the large standard errors, it is very possible that the coefficient estimate we have come up with from our sample is farther the true coefficient.  The standard error of the coefficient estimate is the typical amount by which we expect the estimated coefficient to differ from its mean, where because our estimated coefficient is constructed in a way that makes it unbiased, this causes its mean to be the coefficient if it was constructed from population data (the thing we're estimating, whose value we'd like to know).  So the greater the standard error, the greater the typical amount by which an estimated coefficient calculated from a given sample will potentially differ from the population coefficient.   "
   ]
  },
  {
   "cell_type": "markdown",
   "metadata": {},
   "source": [
    "Multicollinearity information sources:\n",
    "http://blog.minitab.com/blog/understanding-statistics/handling-multicollinearity-in-regression-analysis\n",
    "http://www.brynmawr.edu/socialwork/GSSW/Vartanian/Handouts/MC_PHD.htm\n",
    "https://en.wikipedia.org/wiki/Multicollinearity"
   ]
  },
  {
   "cell_type": "markdown",
   "metadata": {},
   "source": [
    "## Explanation of VIFs"
   ]
  },
  {
   "cell_type": "markdown",
   "metadata": {},
   "source": [
    "A variance inflation factor is a factor that quantifies the amount of inflation of an estimated coefficient's variance due to being correlated with other regressor variables.  The VIF is thus a measurement of the factor by which an estimated coefficient's variance is inflated.  Inflated from what though?  More specifically, the VIF is a factor by which the variance is inflated from what it WOULD have been had the regressor been the ONLY regressor in them model (thus the regressor is not correlated with any other regressors in the model because there ARE no other regressors in the model).  \n",
    "\n",
    "For example, a VIF of 4 indicates that estimated variance (squared standard error) of an estimated coefficient is 4 times higher because of that regressor being correlated with other regressors.  \n",
    "\n",
    "I have seen in one source the mistake of saying \"a VIF of 8 implies that the standard errors are larger by a factor of 8 than would otherwise be the case\".  A VIF of 8 implies that the SQUARED standard errors (estimated variances) are larger by a factor of 8.  If you square root the variance formula for the regressor coefficient to get the standard deviation formula, then the VIF is also square rooted, hence the VIF is reduced to sqrt(8)=2.83, so the standard error is 3 times higher because of the regressor being correlated with other variables (not 8 times higher).  \n",
    "source with incorrect statement: http://www.how2stats.net/2011/09/variance-inflation-factor-vif.html\n",
    "\n",
    "A regressor's variance in a model with no other regressors is the ratio of the variance of error terms to the sum of squared deviations of that regressor's values from its mean value.  A regressor's variance in a model with other regressors that it is correlated to is the above variance multiplied by (1/1-Rsquared) where Rsquared is associated with regressing this regressor on all other regressors.  1-Rsquared is called the tolerance level.  Low tolerance levels indicate greater multicollinearity because the smaller the percentage of unexplained variation in the regressor (aka 1-Rsquared) from a model of the regressor regressed on the other regressors, then the greater those regressors are correlated with the regressor.    \n",
    "\n",
    "Also, there is a VIF for each regressor.  "
   ]
  },
  {
   "cell_type": "markdown",
   "metadata": {},
   "source": [
    "## My explanation of p-values, t-values, and hypothesis tests associated with regressor coefficients, and interpreting regressor coefficients"
   ]
  },
  {
   "cell_type": "markdown",
   "metadata": {},
   "source": [
    "The p value for a given coefficient is the probability that the test statistic value (the student t value in this case) for this coefficient is at least as extreme as the observed value from the assumed population mean coefficient of 0.  The null hypothesis assumes that regression coefficients, if calculated from population data, are zero, meaning there is no linear relationship between the dependent variable and its regressors.  The greater the t-value associated with an estimated coefficient, then the less likely that the distance between the estimated coefficient and the population mean coefficient of 0 was observed by chance, and the more likely that the population mean regressor coefficient is not actually zero.  \n",
    "\n",
    "Hypothesis tests of regressor coefficients, as well as p values, only have meaning if the sample statistic of the regressor coefficient is approximately normally distributed, which is the case if the dependent variable observations are normally distributed, which is the case if regression line error terms are normally distributed (and we assume mean zero for the error terms).  P values and t values are thus calculated assuming the error terms of the regression line are normally distributed (or that the estimator of the slope coefficient is normally distributed). \n",
    "\n",
    "The assumption of the normality of error terms makes sense--that errors vary about the mean error and we'd expect the mean error to be zero (the regression line would not be that great if the average error wasn not zero).  Assuming the normal distribution makes sense.  We'd expect the likelihood of error values above and below the mean error of zero to be the same (the distribution is symmetric) or else the regression line would be systematically under or over-predicting, making it un-optimal.  We'd also expect error values farther from the mean to be less likely, hence most errors are concentrated around the mean error, and two tails extend off in both directions (the tails contain more extreme errors.  \n",
    "\n",
    "Regression residuals are an estimate of the population regression line error terms (errors from a line constructed from population data rather than sample data), hence we examine the distribution of residuals using a normal Q-Q plot and histogram to see if residuals are approximately normally distributed, which would serve as evidence that regression errors are normally distributed.  If they aren't, then our regressor coefficient p values and t values cannot be interpreted as providing a measurement of the predictability of the dependent variable from the regressors (or as a measurement of the linear relationship between the two).\n",
    "\n",
    "Regressor coefficients (when the y and x variables are not transformed) are interpreted as the change in the dependent variable for a one-unit change in the predictor variable of interest, holding the effect all other predictor variables constant.\n",
    "\n",
    "Regressors with low p-values add a statistically significant amount of predictability of y or in other words, these variables add to the explanation in the variation of y.   All other coefficients have large p values.  "
   ]
  },
  {
   "cell_type": "code",
   "execution_count": null,
   "metadata": {
    "collapsed": true
   },
   "outputs": [],
   "source": []
  },
  {
   "cell_type": "code",
   "execution_count": null,
   "metadata": {
    "collapsed": true
   },
   "outputs": [],
   "source": []
  },
  {
   "cell_type": "code",
   "execution_count": null,
   "metadata": {
    "collapsed": true
   },
   "outputs": [],
   "source": []
  },
  {
   "cell_type": "code",
   "execution_count": null,
   "metadata": {
    "collapsed": true
   },
   "outputs": [],
   "source": []
  },
  {
   "cell_type": "code",
   "execution_count": null,
   "metadata": {
    "collapsed": true
   },
   "outputs": [],
   "source": []
  },
  {
   "cell_type": "code",
   "execution_count": null,
   "metadata": {
    "collapsed": true
   },
   "outputs": [],
   "source": []
  },
  {
   "cell_type": "code",
   "execution_count": null,
   "metadata": {
    "collapsed": true
   },
   "outputs": [],
   "source": []
  }
 ],
 "metadata": {
  "kernelspec": {
   "display_name": "Python 2",
   "language": "python",
   "name": "python2"
  },
  "language_info": {
   "codemirror_mode": {
    "name": "ipython",
    "version": 2
   },
   "file_extension": ".py",
   "mimetype": "text/x-python",
   "name": "python",
   "nbconvert_exporter": "python",
   "pygments_lexer": "ipython2",
   "version": "2.7.10"
  }
 },
 "nbformat": 4,
 "nbformat_minor": 0
}
