{
 "cells": [
  {
   "cell_type": "markdown",
   "metadata": {},
   "source": [
    "## Setting up the data"
   ]
  },
  {
   "cell_type": "code",
   "execution_count": 2,
   "metadata": {
    "collapsed": false
   },
   "outputs": [],
   "source": [
    "%matplotlib inline\n",
    "import matplotlib\n",
    "import matplotlib.pyplot as plt\n",
    "import numpy as np\n",
    "import pandas as pd\n",
    "import json\n",
    "import sklearn\n",
    "import scipy\n",
    "from datetime import datetime\n",
    "from pandas.io.json import json_normalize\n",
    "import seaborn as sns\n",
    "import statsmodels.api as sm\n",
    "from statsmodels.formula.api import ols\n",
    "from collections import OrderedDict\n",
    "from sklearn.decomposition import PCA\n",
    "from sklearn.preprocessing import normalize, scale\n",
    "from statsmodels.regression.linear_model import OLS as reg\n",
    "from sklearn.linear_model import LinearRegression\n",
    "from sklearn.model_selection import train_test_split\n",
    "from sklearn import preprocessing\n",
    "from sklearn.ensemble import RandomForestRegressor\n",
    "from sklearn.grid_search import GridSearchCV\n",
    "plt.rcParams['figure.figsize'] = 9,7"
   ]
  },
  {
   "cell_type": "code",
   "execution_count": 3,
   "metadata": {
    "collapsed": true
   },
   "outputs": [],
   "source": [
    "import warnings\n",
    "warnings.filterwarnings('ignore')\n",
    "#use 'default' to show warnings and 'ignore' to hide warnings"
   ]
  },
  {
   "cell_type": "code",
   "execution_count": 4,
   "metadata": {
    "collapsed": false
   },
   "outputs": [],
   "source": [
    "with open('/Users/Work/Desktop/Springboard/data/yelp_dataset_challenge_academic_dataset/\\\n",
    "yelp_academic_dataset_business.json', 'rb') as f:\n",
    "    data = f.readlines()\n",
    "data_json_str = \"[\" + ','.join(data) + \"]\"\n",
    "df = pd.read_json(data_json_str)"
   ]
  },
  {
   "cell_type": "code",
   "execution_count": 5,
   "metadata": {
    "collapsed": true
   },
   "outputs": [],
   "source": [
    "starbucks=df[df.name.str.contains('Starbucks')]"
   ]
  },
  {
   "cell_type": "code",
   "execution_count": 6,
   "metadata": {
    "collapsed": false
   },
   "outputs": [],
   "source": [
    "import pickle\n",
    "o = open('/Users/Work/Desktop/Springboard/data/yelp_dataset_challenge_academic_dataset/\\\n",
    "reviews_pickle.pkl','r')\n",
    "reviews=pickle.load(o) \n",
    "o.close()"
   ]
  },
  {
   "cell_type": "code",
   "execution_count": 153,
   "metadata": {
    "collapsed": false
   },
   "outputs": [],
   "source": [
    "df2=pd.DataFrame(reviews)"
   ]
  },
  {
   "cell_type": "code",
   "execution_count": 161,
   "metadata": {
    "collapsed": false
   },
   "outputs": [
    {
     "data": {
      "text/html": [
       "<div>\n",
       "<table border=\"1\" class=\"dataframe\">\n",
       "  <thead>\n",
       "    <tr style=\"text-align: right;\">\n",
       "      <th></th>\n",
       "      <th>Field Name</th>\n",
       "      <th>Type</th>\n",
       "      <th>Description</th>\n",
       "      <th>Example</th>\n",
       "    </tr>\n",
       "  </thead>\n",
       "  <tbody>\n",
       "    <tr>\n",
       "      <th>0</th>\n",
       "      <td>votes</td>\n",
       "      <td>object</td>\n",
       "      <td>useful: count, funny: count, cool: count</td>\n",
       "      <td>{u'funny': 0, u'useful': 0, u'cool': 0}</td>\n",
       "    </tr>\n",
       "    <tr>\n",
       "      <th>1</th>\n",
       "      <td>user_id</td>\n",
       "      <td>object</td>\n",
       "      <td>encrypted user id</td>\n",
       "      <td>7DeM4C66zVflYNrZn_Vv9g</td>\n",
       "    </tr>\n",
       "    <tr>\n",
       "      <th>2</th>\n",
       "      <td>text</td>\n",
       "      <td>object</td>\n",
       "      <td>review text</td>\n",
       "      <td>This is a tiny Starbucks and it locations like...</td>\n",
       "    </tr>\n",
       "    <tr>\n",
       "      <th>3</th>\n",
       "      <td>business_id</td>\n",
       "      <td>object</td>\n",
       "      <td>encrypted business id</td>\n",
       "      <td>3gmBc0qN_LtGbZAjTtHWZg</td>\n",
       "    </tr>\n",
       "    <tr>\n",
       "      <th>4</th>\n",
       "      <td>stars</td>\n",
       "      <td>int64</td>\n",
       "      <td>star rating</td>\n",
       "      <td>3</td>\n",
       "    </tr>\n",
       "    <tr>\n",
       "      <th>5</th>\n",
       "      <td>date</td>\n",
       "      <td>object</td>\n",
       "      <td>date, formatted like 2012-03-14</td>\n",
       "      <td>2009-06-10</td>\n",
       "    </tr>\n",
       "    <tr>\n",
       "      <th>6</th>\n",
       "      <td>type</td>\n",
       "      <td>object</td>\n",
       "      <td>review</td>\n",
       "      <td>review</td>\n",
       "    </tr>\n",
       "  </tbody>\n",
       "</table>\n",
       "</div>"
      ],
      "text/plain": [
       "    Field Name    Type                               Description  \\\n",
       "0        votes  object  useful: count, funny: count, cool: count   \n",
       "1      user_id  object                         encrypted user id   \n",
       "2         text  object                               review text   \n",
       "3  business_id  object                     encrypted business id   \n",
       "4        stars   int64                               star rating   \n",
       "5         date  object           date, formatted like 2012-03-14   \n",
       "6         type  object                                    review   \n",
       "\n",
       "                                             Example  \n",
       "0            {u'funny': 0, u'useful': 0, u'cool': 0}  \n",
       "1                             7DeM4C66zVflYNrZn_Vv9g  \n",
       "2  This is a tiny Starbucks and it locations like...  \n",
       "3                             3gmBc0qN_LtGbZAjTtHWZg  \n",
       "4                                                  3  \n",
       "5                                         2009-06-10  \n",
       "6                                             review  "
      ]
     },
     "execution_count": 161,
     "metadata": {},
     "output_type": "execute_result"
    }
   ],
   "source": [
    "data_dictionary_reviews={\n",
    "'type': 'review',\n",
    " 'business_id': 'encrypted business id',\n",
    "'user_id': 'encrypted user id',\n",
    "'stars': 'star rating',\n",
    "'text': 'review text',\n",
    "'date': 'date, formatted like 2012-03-14',\n",
    "'votes': '''useful: count, funny: count, cool: count'''\n",
    "}\n",
    "ddr=pd.DataFrame({\n",
    "             'Description': data_dictionary_reviews.values(),\n",
    "              'Field Name': data_dictionary_reviews.keys()\n",
    "    })\n",
    "ddr['Field Type']=['object','object','object','object','int64','object','object']\n",
    "data_dict_reviews=pd.DataFrame(zip(ddr['Field Name'].values,ddr['Field Type'].values,\n",
    "                     ddr['Description'].values),\n",
    "                 columns=['Field Name','Type','Description'])\n",
    "data_dict_reviews['Example']=['''{u'funny': 0, u'useful': 0, u'cool': 0}''',\n",
    "                            '7DeM4C66zVflYNrZn_Vv9g', \n",
    "                            'This is a tiny Starbucks and it locations like...',\n",
    "                            '3gmBc0qN_LtGbZAjTtHWZg','3','2009-06-10','review']\n",
    "data_dict_reviews         "
   ]
  },
  {
   "cell_type": "code",
   "execution_count": 125,
   "metadata": {
    "collapsed": false,
    "scrolled": false
   },
   "outputs": [
    {
     "data": {
      "text/html": [
       "<div>\n",
       "<table border=\"1\" class=\"dataframe\">\n",
       "  <thead>\n",
       "    <tr style=\"text-align: right;\">\n",
       "      <th></th>\n",
       "      <th>Field Name</th>\n",
       "      <th>Type</th>\n",
       "      <th>Description</th>\n",
       "      <th>Example</th>\n",
       "    </tr>\n",
       "  </thead>\n",
       "  <tbody>\n",
       "    <tr>\n",
       "      <th>0</th>\n",
       "      <td>business_id</td>\n",
       "      <td>object</td>\n",
       "      <td>encrypted business id</td>\n",
       "      <td>-8x21h1bkRD9uwEw1ec1xw</td>\n",
       "    </tr>\n",
       "    <tr>\n",
       "      <th>1</th>\n",
       "      <td>full_address</td>\n",
       "      <td>object</td>\n",
       "      <td>localized address</td>\n",
       "      <td>8150 S Maryland Pkwy\\nSte D-1\\nSoutheast\\nLas ...</td>\n",
       "    </tr>\n",
       "    <tr>\n",
       "      <th>2</th>\n",
       "      <td>open</td>\n",
       "      <td>bool</td>\n",
       "      <td>True / False (True if store still operates)</td>\n",
       "      <td>True</td>\n",
       "    </tr>\n",
       "    <tr>\n",
       "      <th>3</th>\n",
       "      <td>categories</td>\n",
       "      <td>object</td>\n",
       "      <td>localized category names</td>\n",
       "      <td>[Food, Coffee &amp; Tea]</td>\n",
       "    </tr>\n",
       "    <tr>\n",
       "      <th>4</th>\n",
       "      <td>city</td>\n",
       "      <td>object</td>\n",
       "      <td>city</td>\n",
       "      <td>Las Vegas</td>\n",
       "    </tr>\n",
       "    <tr>\n",
       "      <th>5</th>\n",
       "      <td>review_count</td>\n",
       "      <td>int64</td>\n",
       "      <td>review count</td>\n",
       "      <td>47</td>\n",
       "    </tr>\n",
       "    <tr>\n",
       "      <th>6</th>\n",
       "      <td>name</td>\n",
       "      <td>object</td>\n",
       "      <td>business name</td>\n",
       "      <td>Starbucks</td>\n",
       "    </tr>\n",
       "    <tr>\n",
       "      <th>7</th>\n",
       "      <td>neighborhoods</td>\n",
       "      <td>object</td>\n",
       "      <td>hood names</td>\n",
       "      <td>[Southeast]</td>\n",
       "    </tr>\n",
       "    <tr>\n",
       "      <th>8</th>\n",
       "      <td>longitude</td>\n",
       "      <td>float64</td>\n",
       "      <td>longitude</td>\n",
       "      <td>-115.135398</td>\n",
       "    </tr>\n",
       "    <tr>\n",
       "      <th>9</th>\n",
       "      <td>state</td>\n",
       "      <td>object</td>\n",
       "      <td>state</td>\n",
       "      <td>NV</td>\n",
       "    </tr>\n",
       "    <tr>\n",
       "      <th>10</th>\n",
       "      <td>stars</td>\n",
       "      <td>float64</td>\n",
       "      <td>star rating, rounded to half-stars</td>\n",
       "      <td>3.5</td>\n",
       "    </tr>\n",
       "    <tr>\n",
       "      <th>11</th>\n",
       "      <td>latitude</td>\n",
       "      <td>float64</td>\n",
       "      <td>latitude</td>\n",
       "      <td>36.041659</td>\n",
       "    </tr>\n",
       "    <tr>\n",
       "      <th>12</th>\n",
       "      <td>type</td>\n",
       "      <td>object</td>\n",
       "      <td>business</td>\n",
       "      <td>business</td>\n",
       "    </tr>\n",
       "  </tbody>\n",
       "</table>\n",
       "</div>"
      ],
      "text/plain": [
       "       Field Name     Type                                      Description  \\\n",
       "0     business_id   object                            encrypted business id   \n",
       "1    full_address   object                                localized address   \n",
       "2            open     bool  True / False (True if store still operates)       \n",
       "3      categories   object                         localized category names   \n",
       "4            city   object                                             city   \n",
       "5    review_count    int64                                     review count   \n",
       "6            name   object                                    business name   \n",
       "7   neighborhoods   object                                       hood names   \n",
       "8       longitude  float64                                        longitude   \n",
       "9           state   object                                            state   \n",
       "10          stars  float64               star rating, rounded to half-stars   \n",
       "11       latitude  float64                                         latitude   \n",
       "12           type   object                                         business   \n",
       "\n",
       "                                              Example  \n",
       "0                              -8x21h1bkRD9uwEw1ec1xw  \n",
       "1   8150 S Maryland Pkwy\\nSte D-1\\nSoutheast\\nLas ...  \n",
       "2                                                True  \n",
       "3                                [Food, Coffee & Tea]  \n",
       "4                                           Las Vegas  \n",
       "5                                                  47  \n",
       "6                                           Starbucks  \n",
       "7                                         [Southeast]  \n",
       "8                                         -115.135398  \n",
       "9                                                  NV  \n",
       "10                                                3.5  \n",
       "11                                          36.041659  \n",
       "12                                           business  "
      ]
     },
     "execution_count": 125,
     "metadata": {},
     "output_type": "execute_result"
    }
   ],
   "source": [
    "data_dictionary_business={\n",
    "'type': 'business',\n",
    "'business_id': '''encrypted business id''',\n",
    "'name': '''business name''',\n",
    "'neighborhoods': '''hood names''',\n",
    "'full_address': '''localized address''',\n",
    "'city': '''city''',\n",
    "'state': '''state''',\n",
    "'latitude': '''latitude''',\n",
    "'longitude': '''longitude''',\n",
    "'stars': '''star rating, rounded to half-stars''',\n",
    "'review_count': '''review count''',\n",
    "'categories': '''localized category names''',\n",
    "'open': '''True / False (True if store still operates)    '''}\n",
    "ddb=pd.DataFrame({\n",
    "              'Description': data_dictionary_business.values(),\n",
    "              'Field Name': data_dictionary_business.keys()\n",
    "              })\n",
    "ddb['Field Type']=['object','object','bool','object','object','int64','object','object',\n",
    "                  'float64','object','float64','float64','object']\n",
    "data_dict_business=pd.DataFrame(zip(ddb['Field Name'].values,ddb['Field Type'].values,\n",
    "                     ddb['Description'].values),\n",
    "                 columns=['Field Name','Type','Description'])\n",
    "data_dict_business['Example']=['-8x21h1bkRD9uwEw1ec1xw',\n",
    "                              '8150 S Maryland Pkwy\\nSte D-1\\nSoutheast\\nLas ...',\n",
    "                              'True','[Food, Coffee & Tea]','Las Vegas','47','Starbucks',\n",
    "                               '[Southeast]','-115.135398','NV','3.5','36.041659','business' \n",
    "                              ]\n",
    "data_dict_business"
   ]
  },
  {
   "cell_type": "markdown",
   "metadata": {},
   "source": [
    "## Year predictor variable"
   ]
  },
  {
   "cell_type": "code",
   "execution_count": 8,
   "metadata": {
    "collapsed": false
   },
   "outputs": [],
   "source": [
    "df2.date=pd.to_datetime(df2.date)\n",
    "temp=[]\n",
    "for j in range(len(df2)):\n",
    "    temp.append(df2.date[j].year)\n",
    "df2['year']=temp"
   ]
  },
  {
   "cell_type": "code",
   "execution_count": 9,
   "metadata": {
    "collapsed": false
   },
   "outputs": [],
   "source": [
    "avg_year=pd.DataFrame(df2.groupby('business_id').mean().year).reset_index()\n",
    "avg_year.columns=['business_id','mean_review_year']\n",
    "starbucks=pd.merge(avg_year,starbucks,on='business_id')\n",
    "starbucks['mean_review_year_rounded']=starbucks.mean_review_year.round()"
   ]
  },
  {
   "cell_type": "markdown",
   "metadata": {},
   "source": [
    "## Indicator Variables"
   ]
  },
  {
   "cell_type": "markdown",
   "metadata": {},
   "source": [
    "### Cleanliness"
   ]
  },
  {
   "cell_type": "code",
   "execution_count": 10,
   "metadata": {
    "collapsed": false
   },
   "outputs": [],
   "source": [
    "unclean=df2[(df2.text.str.contains('dirty')) | (df2.text.str.contains('filthy')) |\n",
    "          (df2.text.str.contains('messy'))].business_id.unique()\n",
    "starbucks['unclean'] = starbucks['business_id'].map( lambda x: 1 if x in list(list(unclean)) else 0)"
   ]
  },
  {
   "cell_type": "markdown",
   "metadata": {},
   "source": [
    "### Homeless Problem"
   ]
  },
  {
   "cell_type": "code",
   "execution_count": 11,
   "metadata": {
    "collapsed": false
   },
   "outputs": [],
   "source": [
    "homeless=df2[df2.text.str.contains('homeless')].business_id.unique()\n",
    "starbucks['homeless'] = starbucks['business_id'].map( lambda x: 1 if x in list(list(homeless)) else 0)"
   ]
  },
  {
   "cell_type": "markdown",
   "metadata": {},
   "source": [
    "### Friendliness"
   ]
  },
  {
   "cell_type": "code",
   "execution_count": 12,
   "metadata": {
    "collapsed": false
   },
   "outputs": [],
   "source": [
    "unfriendly=df2[df2.text.str.contains('rude',case=False) | (df2.text.str.contains('mean',case=False))].business_id\n",
    "starbucks['unfriendly'] = starbucks['business_id'].map( lambda x: 1 if x in list(list(unfriendly)) else 0)"
   ]
  },
  {
   "cell_type": "markdown",
   "metadata": {},
   "source": [
    "## Creating dummy variables and avoiding the dummy variable trap"
   ]
  },
  {
   "cell_type": "code",
   "execution_count": 13,
   "metadata": {
    "collapsed": false
   },
   "outputs": [],
   "source": [
    "X=starbucks[['state','mean_review_year','review_count','unclean','homeless','unfriendly']]\n",
    "state_dummies=pd.get_dummies(X.state)\n",
    "X=pd.concat([X,state_dummies],axis=1)\n",
    "del X['state']\n",
    "del X['AZ']\n",
    "Y=starbucks.stars.values"
   ]
  },
  {
   "cell_type": "markdown",
   "metadata": {},
   "source": [
    "pd.get_dummies creates a dummy variable for each value of state, but we need (number of unique state values) - 1 dummy variables, since there has to be meaning when all state dummy variable values have value zero.  Also, if we did not exclude a category/state variable, any given state variable would perfectly correlate with the other state dummy variables, which would lead to a multicollinearity problem in our regresion model (high standard errors and therefore insignificant p-values for our state variables).  This scenario is called the dummy variable trap. <br>\n",
    "source: https://www.quora.com/Do-you-include-all-dummy-variables-in-a-regression-model\n",
    "\n",
    "The dummy variable to exclude as the reference category should typically be the largest/most common category.  If you select a small reference category (one of the least common categories), the other dummies will necessarily have high VIFs (even if they aren't correlated with other variables).  <br>\n",
    "source: http://statisticalhorizons.com/multicollinearity\n",
    "\n",
    "There are 11 state values in the data (as shown below), and pd.get_dummies created 11 state dummy variables.  We need 10 dummy variables.  When all variables have value zero, this will represent the observation having a state value that is the state that did NOT get its own dummy variable.  The intercept of the model is then necessary and will reflect the reference state category's effect on y (since all other state variables will have value zero), as well as a store that is regarded as friendly, clean, and not having a homeless problem (which is the 0 values for the other dummy variables).  The intercept will not be completely interpretable though because the two variables review count and mean review year cannot have zero values, since this would not make sense.  "
   ]
  },
  {
   "cell_type": "code",
   "execution_count": 163,
   "metadata": {
    "collapsed": false
   },
   "outputs": [
    {
     "data": {
      "text/plain": [
       "362"
      ]
     },
     "execution_count": 163,
     "metadata": {},
     "output_type": "execute_result"
    }
   ],
   "source": [
    "201+161"
   ]
  },
  {
   "cell_type": "code",
   "execution_count": 14,
   "metadata": {
    "collapsed": false
   },
   "outputs": [
    {
     "data": {
      "text/plain": [
       "state\n",
       "AZ     201\n",
       "BW       2\n",
       "EDH     20\n",
       "IL       3\n",
       "NC      41\n",
       "NV     161\n",
       "ON       6\n",
       "PA      23\n",
       "QC      26\n",
       "SC       1\n",
       "WI      10\n",
       "dtype: int64"
      ]
     },
     "execution_count": 14,
     "metadata": {},
     "output_type": "execute_result"
    }
   ],
   "source": [
    "starbucks.groupby(['state']).size()"
   ]
  },
  {
   "cell_type": "markdown",
   "metadata": {},
   "source": [
    "AZ is the largest category and has 201 observations, as shown above, so I am going to select AZ as the base level state.  Hence I am removing the AZ column.  All other state dummy variable columns will have value zero, which will indicate that the obsevation has state value AZ. The code that deletes X['SC'] is above.  In showing that AZ was successfully removed, I count the number of observations in the regressor matrix with zero values for all state dummy variables.  There are 201, as shown below, which is the number of observations for AZ.   "
   ]
  },
  {
   "cell_type": "code",
   "execution_count": 545,
   "metadata": {
    "collapsed": false
   },
   "outputs": [
    {
     "data": {
      "text/plain": [
       "201"
      ]
     },
     "execution_count": 545,
     "metadata": {},
     "output_type": "execute_result"
    }
   ],
   "source": [
    "len(X[(X.BW==0) & (X.EDH==0) & (X.IL==0) & (X.NC==0) & (X.NV==0) & (X.ON==0) & \\\n",
    "(X.PA==0) & (X.QC==0) & (X.WI==0) & (X.SC==0)])"
   ]
  },
  {
   "cell_type": "markdown",
   "metadata": {},
   "source": [
    "## The models and how they will be evaluated"
   ]
  },
  {
   "cell_type": "markdown",
   "metadata": {},
   "source": [
    "In building a model to predict Starbucks Yelp scores, I will generate and compare four models created from the following techniques: Linear Regression, Principal Component Regression, Random Forests, Gradient Boosted Regression Trees.  "
   ]
  },
  {
   "cell_type": "markdown",
   "metadata": {},
   "source": [
    "Models will be compared and ranked by their root mean square error (rmse), the typical amount by which a model's predictions deviate from the actual values.  The Linear Regression and Principal Component Regression models will be built by splitting the data into train and test splits.  70% of the data will be randomly selected for training the models, while the remaining 30% will be used to evaluate the performance of the models.  \n",
    "\n",
    "The Random Forest and Gradient Boosting methods will be built using 5-fold cross validation and Grid Search.  Grid Search evaluates different model parameters and determines the values that lead to optimal model performance.\n",
    "\n",
    "Each model's rmse generated from testing the model on the test split data will be used to rank it against the other models."
   ]
  },
  {
   "cell_type": "markdown",
   "metadata": {},
   "source": [
    "## Linear Regression"
   ]
  },
  {
   "cell_type": "markdown",
   "metadata": {},
   "source": [
    "Below, I build a linear regression model on the train split data and then evaluate whether the assumptions of a linear regression model are met."
   ]
  },
  {
   "cell_type": "code",
   "execution_count": 708,
   "metadata": {
    "collapsed": false
   },
   "outputs": [
    {
     "data": {
      "text/plain": [
       "LinearRegression(copy_X=True, fit_intercept=True, n_jobs=1, normalize=False)"
      ]
     },
     "execution_count": 708,
     "metadata": {},
     "output_type": "execute_result"
    }
   ],
   "source": [
    "from sklearn.linear_model import LinearRegression\n",
    "from sklearn.model_selection import train_test_split\n",
    "import sklearn\n",
    "\n",
    "X_train, X_test, Y_train, Y_test = sklearn.model_selection.train_test_split\\\n",
    "(X, Y, test_size=0.30, random_state = 5)\n",
    "\n",
    "lm = LinearRegression()\n",
    "lm.fit(X_train, Y_train)"
   ]
  },
  {
   "cell_type": "markdown",
   "metadata": {},
   "source": [
    "## Validating regression assumptions"
   ]
  },
  {
   "cell_type": "code",
   "execution_count": 671,
   "metadata": {
    "collapsed": false
   },
   "outputs": [
    {
     "data": {
      "text/plain": [
       "(-2, 2.2)"
      ]
     },
     "execution_count": 671,
     "metadata": {},
     "output_type": "execute_result"
    },
    {
     "data": {
      "image/png": "[encoded data removed]",
      "text/plain": [
       "<matplotlib.figure.Figure at 0x136c11ad0>"
      ]
     },
     "metadata": {},
     "output_type": "display_data"
    }
   ],
   "source": [
    "plt.scatter(lm.predict(X_train), lm.predict(X_train) - Y_train, c='b', s=40, alpha=0.5)\n",
    "plt.scatter(lm.predict(X_test), lm.predict(X_test) - Y_test, c='g', s=40)\n",
    "plt.hlines(y = 0, xmin=2.5, xmax = 4.5)\n",
    "plt.title('Residual Plot using training (blue) and test (green) data')\n",
    "plt.ylabel('Residuals')\n",
    "plt.xlabel('Predicted Overall Star Score')\n",
    "plt.xlim(2.5,4.3)\n",
    "plt.ylim(-2,2.2)"
   ]
  },
  {
   "cell_type": "code",
   "execution_count": 672,
   "metadata": {
    "collapsed": false
   },
   "outputs": [
    {
     "data": {
      "image/png": "[encoded data removed]",
      "text/plain": [
       "<matplotlib.figure.Figure at 0x136acb050>"
      ]
     },
     "metadata": {},
     "output_type": "display_data"
    }
   ],
   "source": [
    "import statsmodels.api as sm\n",
    "residuals=lm.predict(X_train) - Y_train\n",
    "sm.qqplot(residuals,line='s')\n",
    "plt.show()"
   ]
  },
  {
   "cell_type": "code",
   "execution_count": 673,
   "metadata": {
    "collapsed": false
   },
   "outputs": [
    {
     "data": {
      "text/plain": [
       "(array([  3.,   5.,  15.,  54.,  79.,  82.,  57.,  28.,  17.,   5.]),\n",
       " array([-1.84127777, -1.49139085, -1.14150392, -0.791617  , -0.44173008,\n",
       "        -0.09184315,  0.25804377,  0.6079307 ,  0.95781762,  1.30770454,\n",
       "         1.65759147]),\n",
       " <a list of 10 Patch objects>)"
      ]
     },
     "execution_count": 673,
     "metadata": {},
     "output_type": "execute_result"
    },
    {
     "data": {
      "image/png": "[encoded data removed]",
      "text/plain": [
       "<matplotlib.figure.Figure at 0x149ee3ad0>"
      ]
     },
     "metadata": {},
     "output_type": "display_data"
    }
   ],
   "source": [
    "plt.hist(residuals,bins=10)"
   ]
  },
  {
   "cell_type": "markdown",
   "metadata": {},
   "source": [
    "Linear regression assumptions consist of the following:\n",
    "1. The relationship between y and the independent variables is linear.\n",
    "2. The errors are normally distributed.  \n",
    "3. The errors are uncorrelated (or independent).  \n",
    "4. The errors have constant variance (same variance across x's), meaning homoscedasticity is present.  \n",
    "\n",
    "**Assumption 1.** <br>\n",
    "I investigated linear relationships in the exploratory data analysis, and the relationship between y and the numeric variables appears linear. <br>\n",
    "\n",
    "**Assumption 2.** <br> \n",
    "Residuals appear to be normally distributed, as shown by the Q-Q plot and histogram above. <br>\n",
    "\n",
    "**Assumption 3.** <br>\n",
    "There appears to be 6 diagonal bands of residuals, and one band each on the top and bottom where both consist of a couple outlier points.  The bands are tilted in a way that suggests residuals increase linearly as predicted stars increases.  I am not sure if this means autocorrelation (correlated residuals) is present, so I'll calculate a durbin watson statistic, which tests for autocorrelation.  There are in fact 8 total unique star scores that customers have given stores in the data, since the min and max y's are (1.5, 5), respectively, and stars can only be given in .5 increments.  Given that there are 8 bands, I am sure this is related to this fact. <br>\n",
    "\n",
    "**Assumption 4.** <br>\n",
    "In the residual plot above, residuals do not seem to have a larger or smaller spread for a given x value as x increases, so I do not see much evidence of heteroskedasticity. <br>"
   ]
  },
  {
   "cell_type": "markdown",
   "metadata": {},
   "source": [
    "## Looking into assumption 3, that residuals are uncorrelated"
   ]
  },
  {
   "cell_type": "markdown",
   "metadata": {},
   "source": [
    "In testing for autocorrelation using the Durbin-Watson statistic, resultant statistic values always lie between 0 and 4.  Values less than 2 indicate residuals may be positively correlated.  Values greater than 2 indicate residuals may be negatively correlated.  Values close to 2 indicate residuals are uncorrelated.  "
   ]
  },
  {
   "cell_type": "markdown",
   "metadata": {},
   "source": [
    "The Durbin Watson Test Statistic Value is 1.996, as shown below, which is very close to 2, and provides evidence that residuals are uncorrelated."
   ]
  },
  {
   "cell_type": "code",
   "execution_count": 552,
   "metadata": {
    "collapsed": false
   },
   "outputs": [
    {
     "data": {
      "text/plain": [
       "1.9957803180357045"
      ]
     },
     "execution_count": 552,
     "metadata": {},
     "output_type": "execute_result"
    }
   ],
   "source": [
    "sm.stats.stattools.durbin_watson(residuals)\n",
    "#statsmodels.sourceforge.net/devel/generated/statsmodels.stats.stattools.durbin_watson.html"
   ]
  },
  {
   "cell_type": "markdown",
   "metadata": {},
   "source": [
    "In conclusion, regression assumptions appear to hold reasonably well.  "
   ]
  },
  {
   "cell_type": "markdown",
   "metadata": {},
   "source": [
    "## Investigating the goodness-of-fit of the model"
   ]
  },
  {
   "cell_type": "markdown",
   "metadata": {},
   "source": [
    "The coefficient of determination (r-squared) is as follows:"
   ]
  },
  {
   "cell_type": "code",
   "execution_count": 553,
   "metadata": {
    "collapsed": false
   },
   "outputs": [
    {
     "data": {
      "text/plain": [
       "0.17435016119149505"
      ]
     },
     "execution_count": 553,
     "metadata": {},
     "output_type": "execute_result"
    }
   ],
   "source": [
    "r2=lm.score(X_train,Y_train)\n",
    "r2"
   ]
  },
  {
   "cell_type": "markdown",
   "metadata": {},
   "source": [
    "The adjusted R-squared, which does not automatically increase as we add more predictors to the model, and is hence a more accurate and better measurement of model fit, is as follows:"
   ]
  },
  {
   "cell_type": "code",
   "execution_count": 554,
   "metadata": {
    "collapsed": false
   },
   "outputs": [
    {
     "data": {
      "text/plain": [
       "0.13670655151937483"
      ]
     },
     "execution_count": 554,
     "metadata": {},
     "output_type": "execute_result"
    }
   ],
   "source": [
    "p=len(X_train.columns) #number of predictors\n",
    "n=len(X_train) #sample size\n",
    "1 - ( (n-1)*(1-r2)/np.float(n-p-1) )"
   ]
  },
  {
   "cell_type": "markdown",
   "metadata": {},
   "source": [
    "The adjusted R-squared is 13.7%, meaning the model explains 13.7% of the variation in overall star score.  This is low and perhaps suggests that the model could be significantly improved, given that one would expect the variables being measured to have a definite impact on overall star score (barista friendliness, store cleanliness, homeless problems, state, etc).  The dummy variables account for the variables in which they are measuring in a simplistic fashion, and I suspect that sentiment analysis on text review content would yield a much more predictive model.    "
   ]
  },
  {
   "cell_type": "markdown",
   "metadata": {},
   "source": [
    "The statsmodels module provides many goodness of fit statistics.  The r-squared and adjusted r-squared are the same as those generated above using the sklearn module (the estimated intercept and Durbin Watson statistic are the same too), so we know the results are the same in both, and I can use goodness of fit statistics below to further examine the model."
   ]
  },
  {
   "cell_type": "markdown",
   "metadata": {},
   "source": [
    "### I am going to use the statsmodels module to produce goodness of fit criteria, and I'll also recreate the regression line using statsmodels. Some information about statsmodels is below:"
   ]
  },
  {
   "cell_type": "markdown",
   "metadata": {},
   "source": [
    "\n",
    "statsmodels.api does not automatically add an intercept to the model (top code) <br>\n",
    "statsmodels.formula.api automatically adds an intercept (bottom code) <br>\n",
    "\n",
    "m=sm.OLS(Y, X).fit() <br>\n",
    "m.summary()                             (does NOT include intercept) <br>\n",
    "\n",
    "m=ols('Y~X',X).fit() <br>\n",
    "m.summary()                             (includes intercept) <br>\n",
    "\n",
    "To automatically add the intercept to the top code expression, <br>\n",
    "X= (how it's originally defined) , and then add the following: <br>\n",
    "X = sm.add_constant(X) <br>\n",
    "m = sm.OLS(Y,X).fit() <br>\n"
   ]
  },
  {
   "cell_type": "code",
   "execution_count": 555,
   "metadata": {
    "collapsed": false
   },
   "outputs": [
    {
     "name": "stdout",
     "output_type": "stream",
     "text": [
      "                            OLS Regression Results                            \n",
      "==============================================================================\n",
      "Dep. Variable:                Y_train   R-squared:                       0.174\n",
      "Model:                            OLS   Adj. R-squared:                  0.137\n",
      "Method:                 Least Squares   F-statistic:                     4.632\n",
      "Date:                Fri, 06 Jan 2017   Prob (F-statistic):           4.62e-08\n",
      "Time:                        14:35:41   Log-Likelihood:                -305.28\n",
      "No. Observations:                 345   AIC:                             642.6\n",
      "Df Residuals:                     329   BIC:                             704.1\n",
      "Df Model:                          15                                         \n",
      "Covariance Type:            nonrobust                                         \n",
      "===============================================================================\n",
      "                  coef    std err          t      P>|t|      [95.0% Conf. Int.]\n",
      "-------------------------------------------------------------------------------\n",
      "Intercept     190.2266     75.886      2.507      0.013        40.944   339.509\n",
      "X_train[0]     -0.0927      0.038     -2.461      0.014        -0.167    -0.019\n",
      "X_train[1]      0.0027      0.003      0.990      0.323        -0.003     0.008\n",
      "X_train[2]     -0.2268      0.085     -2.677      0.008        -0.394    -0.060\n",
      "X_train[3]      0.2897      0.168      1.728      0.085        -0.040     0.619\n",
      "X_train[4]     -0.2754      0.079     -3.498      0.001        -0.430    -0.121\n",
      "X_train[5]     -0.9562      0.629     -1.521      0.129        -2.193     0.281\n",
      "X_train[6]      0.1339      0.176      0.763      0.446        -0.211     0.479\n",
      "X_train[7]     -0.3327      0.351     -0.947      0.344        -1.024     0.358\n",
      "X_train[8]     -0.2543      0.126     -2.024      0.044        -0.502    -0.007\n",
      "X_train[9]     -0.2223      0.077     -2.870      0.004        -0.375    -0.070\n",
      "X_train[10]    -0.3317      0.282     -1.177      0.240        -0.886     0.223\n",
      "X_train[11]     0.2439      0.161      1.510      0.132        -0.074     0.562\n",
      "X_train[12]     0.3968      0.148      2.681      0.008         0.106     0.688\n",
      "X_train[13]    -0.1314      0.606     -0.217      0.829        -1.324     1.062\n",
      "X_train[14]     0.0944      0.219      0.430      0.667        -0.337     0.526\n",
      "==============================================================================\n",
      "Omnibus:                        0.774   Durbin-Watson:                   1.996\n",
      "Prob(Omnibus):                  0.679   Jarque-Bera (JB):                0.641\n",
      "Skew:                          -0.102   Prob(JB):                        0.726\n",
      "Kurtosis:                       3.053   Cond. No.                     4.73e+06\n",
      "==============================================================================\n",
      "\n",
      "Warnings:\n",
      "[1] Standard Errors assume that the covariance matrix of the errors is correctly specified.\n",
      "[2] The condition number is large, 4.73e+06. This might indicate that there are\n",
      "strong multicollinearity or other numerical problems.\n"
     ]
    }
   ],
   "source": [
    "import statsmodels.api as sm\n",
    "from statsmodels.formula.api import ols\n",
    "m = ols('Y_train ~ X_train', X_train).fit()\n",
    "print m.summary()"
   ]
  },
  {
   "cell_type": "markdown",
   "metadata": {},
   "source": [
    "The F-statistic value is 4.632.  This means the variation explained by the regression coefficients is 4.632 times the unexplained variation, or that the average explained variation is 4.632 times the average unexplained variation.  The associated p-value is 4.62e-08, which means that the null hypothesis that all regression coefficients of the regressors are zero is rejected at all of the usual significance levels (like the 1% level)."
   ]
  },
  {
   "cell_type": "markdown",
   "metadata": {},
   "source": [
    "The intercept of 190.2266 does not have a practical interpretation because it would not make sense for the variables mean_review_year and review_count to be zero.  "
   ]
  },
  {
   "cell_type": "markdown",
   "metadata": {},
   "source": [
    "Regressor coefficients with p values less than .05 include X_train[0], X_train[2], X_train[4] and three of the state dummy variables.  Thus, mean review year, the cleanliness dummy variable, the unfriendliness dummy variable and three state dummy variables have regressor coefficients that are statistically significantly different from zero at the .05 significance level."
   ]
  },
  {
   "cell_type": "markdown",
   "metadata": {},
   "source": [
    "Notice that all regressors with non-significant p-values at the .05 level have 95% confidence intervals that contain zero.  This means for these regressors, the sign of the coefficient could be negative or positive and each regressor's interval was calculated with 95% confidence.  A statistically significant p-value at the 1% or 5% level won't contain zero, so you'll know the sign of the regressor coefficient with 99%/95% confidence.  "
   ]
  },
  {
   "cell_type": "markdown",
   "metadata": {},
   "source": [
    "Below, I calculate the root mean squared error, which is the typical error in this model's predictions on the test split versus the actual values.  The typical error is .6544.  "
   ]
  },
  {
   "cell_type": "code",
   "execution_count": 556,
   "metadata": {
    "collapsed": false
   },
   "outputs": [],
   "source": [
    "def rmse(Y_test,Y_pred):   \n",
    "    return np.sqrt(sklearn.metrics.mean_squared_error(Y_test,Y_pred))"
   ]
  },
  {
   "cell_type": "code",
   "execution_count": 557,
   "metadata": {
    "collapsed": false
   },
   "outputs": [
    {
     "data": {
      "text/plain": [
       "0.65436391701781838"
      ]
     },
     "execution_count": 557,
     "metadata": {},
     "output_type": "execute_result"
    }
   ],
   "source": [
    "Y_pred=lm.predict(X_test)\n",
    "rmse(Y_test,Y_pred)"
   ]
  },
  {
   "cell_type": "markdown",
   "metadata": {},
   "source": [
    "## Multicollinearity"
   ]
  },
  {
   "cell_type": "markdown",
   "metadata": {},
   "source": [
    "The statsmodels module output provides a warning at the bottom, \"The condition number is large, 4.73e+06. This might indicate that there are strong multicollinearity or other numerical problems.\"  The condition number is 4,730,000.  This is huge.  A condition number greater than 30 is a sign of multicollinearity problems, and a number between 100-1000 is a sign of moderate-several problems.      "
   ]
  },
  {
   "cell_type": "markdown",
   "metadata": {},
   "source": [
    "The presence of a strong amount of multicollinearity means that regressors are highly correlated with one another.  This can lead to statistically insignificant estimated coefficients.  To check for multicollinearity problems, we inspect the variance inflation factor for each regressor.  A value of at least 4-5 may indicate a strong presence of multicollinearity.\n"
   ]
  },
  {
   "cell_type": "markdown",
   "metadata": {},
   "source": [
    "Most of the variance inflation factors (VIFs) are all fairly low and are all less than 5.  The greatest VIFs are for mean_review_year and review_count, which have VIFs of 4.84 and 4.32, respectively.  This means that the square of the standard errors for these estimated coefficients (aka the estimated variances of these estimated coefficients) are 4-5 times higher than they otherwise would have been because of correlations between these predictors and other predictors.  "
   ]
  },
  {
   "cell_type": "markdown",
   "metadata": {},
   "source": [
    "I created the VIFs from code that I modified and added to, located here:\n",
    "http://statsmodels.sourceforge.net/devel/_modules/statsmodels/stats/outliers_influence.html#variance_inflation_factor\n",
    "\n",
    "The VIFs code is shown below:"
   ]
  },
  {
   "cell_type": "code",
   "execution_count": 558,
   "metadata": {
    "collapsed": false
   },
   "outputs": [],
   "source": [
    "'''The below code is used to create functions for calculating VIFs\n",
    "\n",
    "variance_inflation_factor(X,j) takes a matrix X of regressors (where each regressor has its  \n",
    "own column) and calculates the VIF for the jth column (regressor) where\n",
    "j starts at 0.\n",
    "\n",
    "vifs(X) takes a matrix X of regressors and returns a list of VIFs for each regressor\n",
    "'''\n",
    "\n",
    "\n",
    "from statsmodels.regression.linear_model import OLS as reg\n",
    "def variance_inflation_factor(exog, exog_idx):\n",
    "    k_vars = exog.shape[1] #returns number of columns of exog, 0 would return number of rows\n",
    "    x_i = exog.ix[:,exog_idx] # I've edited this formula by adding .ix, so you give col index\n",
    "                              #this produces a series of values of regressor the vif is for\n",
    "    mask = np.arange(k_vars) != exog_idx  \n",
    "    # first produces array of column indices of regressor matrix exog, then from this array, \n",
    "    # an array of T/F's where only the selected column index (for the vif) gets a False value\n",
    "    x_noti = exog.ix[:, mask] # edited this by adding .ix.  Produces regressor matrix that\n",
    "                              #excludes the selected column that the vif is for\n",
    "    r_squared_i = reg(x_i, x_noti).fit().rsquared\n",
    "    vif = 1. / (1. - r_squared_i)\n",
    "    return vif\n",
    "\n",
    "def vifs(regressor_matrix):\n",
    "    vifs=[]\n",
    "    for jth_regressor in range(regressor_matrix.shape[1]):\n",
    "        vif_j=variance_inflation_factor(regressor_matrix, jth_regressor)\n",
    "        vifs.append(vif_j)   \n",
    "    return vifs"
   ]
  },
  {
   "cell_type": "markdown",
   "metadata": {},
   "source": [
    "A table of the calculate VIFs is shown below."
   ]
  },
  {
   "cell_type": "code",
   "execution_count": 559,
   "metadata": {
    "collapsed": false
   },
   "outputs": [
    {
     "data": {
      "text/html": [
       "<div>\n",
       "<table border=\"1\" class=\"dataframe\">\n",
       "  <thead>\n",
       "    <tr style=\"text-align: right;\">\n",
       "      <th></th>\n",
       "      <th>Regressor</th>\n",
       "      <th>VIF</th>\n",
       "    </tr>\n",
       "  </thead>\n",
       "  <tbody>\n",
       "    <tr>\n",
       "      <th>0</th>\n",
       "      <td>mean_review_year</td>\n",
       "      <td>4.838519</td>\n",
       "    </tr>\n",
       "    <tr>\n",
       "      <th>1</th>\n",
       "      <td>review_count</td>\n",
       "      <td>4.316291</td>\n",
       "    </tr>\n",
       "    <tr>\n",
       "      <th>2</th>\n",
       "      <td>unclean</td>\n",
       "      <td>1.593765</td>\n",
       "    </tr>\n",
       "    <tr>\n",
       "      <th>3</th>\n",
       "      <td>homeless</td>\n",
       "      <td>1.085516</td>\n",
       "    </tr>\n",
       "    <tr>\n",
       "      <th>4</th>\n",
       "      <td>unfriendly</td>\n",
       "      <td>3.341173</td>\n",
       "    </tr>\n",
       "    <tr>\n",
       "      <th>5</th>\n",
       "      <td>BW</td>\n",
       "      <td>1.012663</td>\n",
       "    </tr>\n",
       "    <tr>\n",
       "      <th>6</th>\n",
       "      <td>EDH</td>\n",
       "      <td>1.125951</td>\n",
       "    </tr>\n",
       "    <tr>\n",
       "      <th>7</th>\n",
       "      <td>IL</td>\n",
       "      <td>1.026680</td>\n",
       "    </tr>\n",
       "    <tr>\n",
       "      <th>8</th>\n",
       "      <td>NC</td>\n",
       "      <td>1.225491</td>\n",
       "    </tr>\n",
       "    <tr>\n",
       "      <th>9</th>\n",
       "      <td>NV</td>\n",
       "      <td>1.964982</td>\n",
       "    </tr>\n",
       "    <tr>\n",
       "      <th>10</th>\n",
       "      <td>ON</td>\n",
       "      <td>1.065227</td>\n",
       "    </tr>\n",
       "    <tr>\n",
       "      <th>11</th>\n",
       "      <td>PA</td>\n",
       "      <td>1.133818</td>\n",
       "    </tr>\n",
       "    <tr>\n",
       "      <th>12</th>\n",
       "      <td>QC</td>\n",
       "      <td>1.215261</td>\n",
       "    </tr>\n",
       "    <tr>\n",
       "      <th>13</th>\n",
       "      <td>SC</td>\n",
       "      <td>1.019281</td>\n",
       "    </tr>\n",
       "    <tr>\n",
       "      <th>14</th>\n",
       "      <td>WI</td>\n",
       "      <td>1.067528</td>\n",
       "    </tr>\n",
       "  </tbody>\n",
       "</table>\n",
       "</div>"
      ],
      "text/plain": [
       "           Regressor       VIF\n",
       "0   mean_review_year  4.838519\n",
       "1       review_count  4.316291\n",
       "2            unclean  1.593765\n",
       "3           homeless  1.085516\n",
       "4         unfriendly  3.341173\n",
       "5                 BW  1.012663\n",
       "6                EDH  1.125951\n",
       "7                 IL  1.026680\n",
       "8                 NC  1.225491\n",
       "9                 NV  1.964982\n",
       "10                ON  1.065227\n",
       "11                PA  1.133818\n",
       "12                QC  1.215261\n",
       "13                SC  1.019281\n",
       "14                WI  1.067528"
      ]
     },
     "execution_count": 559,
     "metadata": {},
     "output_type": "execute_result"
    }
   ],
   "source": [
    "X_vifs=pd.DataFrame(X.columns,columns=['Regressor'])\n",
    "X_vifs['VIF']=vifs(X_train)\n",
    "X_vifs"
   ]
  },
  {
   "cell_type": "markdown",
   "metadata": {},
   "source": [
    "## Why is the condition number high if the VIFs are low?"
   ]
  },
  {
   "cell_type": "markdown",
   "metadata": {},
   "source": [
    "The condition number can sometimes be high (above 30) without there actually being multicollinearity problems.  According to wikipedia, the false flagging of the condition number can be remedied using standardized regressor variables.  If the condition number does actually indicate multicollinearity though, using standardized variables does not actually reduce multicollinearity and can provide a misleading reduction in the vifs and condition number.  Regardless, let's run a regression with standardized regressor variables and observe the results.  \n",
    "https://en.wikipedia.org/wiki/Multicollinearity"
   ]
  },
  {
   "cell_type": "markdown",
   "metadata": {},
   "source": [
    "## Running the regression with standardized quantitative regressors"
   ]
  },
  {
   "cell_type": "markdown",
   "metadata": {},
   "source": [
    "The following code standardizes the quantitative regressor variables to have mean 0 and unit variance (=1).  It is not common practice to standardize dummy variables since it does not make much sense.  Thus, only mean_review_year and review_count are standardized.    "
   ]
  },
  {
   "cell_type": "code",
   "execution_count": 582,
   "metadata": {
    "collapsed": false
   },
   "outputs": [
    {
     "data": {
      "text/html": [
       "<div>\n",
       "<table border=\"1\" class=\"dataframe\">\n",
       "  <thead>\n",
       "    <tr style=\"text-align: right;\">\n",
       "      <th></th>\n",
       "      <th>mean_review_year</th>\n",
       "      <th>review_count</th>\n",
       "      <th>unclean</th>\n",
       "      <th>homeless</th>\n",
       "      <th>unfriendly</th>\n",
       "      <th>BW</th>\n",
       "      <th>EDH</th>\n",
       "      <th>IL</th>\n",
       "      <th>NC</th>\n",
       "      <th>NV</th>\n",
       "      <th>ON</th>\n",
       "      <th>PA</th>\n",
       "      <th>QC</th>\n",
       "      <th>SC</th>\n",
       "      <th>WI</th>\n",
       "    </tr>\n",
       "  </thead>\n",
       "  <tbody>\n",
       "    <tr>\n",
       "      <th>0</th>\n",
       "      <td>-0.087367</td>\n",
       "      <td>1.722569</td>\n",
       "      <td>0</td>\n",
       "      <td>0</td>\n",
       "      <td>1</td>\n",
       "      <td>0</td>\n",
       "      <td>0</td>\n",
       "      <td>0</td>\n",
       "      <td>0</td>\n",
       "      <td>1</td>\n",
       "      <td>0</td>\n",
       "      <td>0</td>\n",
       "      <td>0</td>\n",
       "      <td>0</td>\n",
       "      <td>0</td>\n",
       "    </tr>\n",
       "  </tbody>\n",
       "</table>\n",
       "</div>"
      ],
      "text/plain": [
       "   mean_review_year  review_count  unclean  homeless  unfriendly  BW  EDH  IL  \\\n",
       "0         -0.087367      1.722569        0         0           1   0    0   0   \n",
       "\n",
       "   NC  NV  ON  PA  QC  SC  WI  \n",
       "0   0   1   0   0   0   0   0  "
      ]
     },
     "execution_count": 582,
     "metadata": {},
     "output_type": "execute_result"
    }
   ],
   "source": [
    "from sklearn import preprocessing\n",
    "temp = pd.DataFrame(preprocessing.scale(X.ix[:,0:2]),columns=X.columns[:2])\n",
    "import copy\t\n",
    "standardized_X=copy.deepcopy(X)\n",
    "standardized_X[['mean_review_year','review_count']]=temp[['mean_review_year','review_count']]\n",
    "standardized_X.head(1)"
   ]
  },
  {
   "cell_type": "code",
   "execution_count": 583,
   "metadata": {
    "collapsed": false
   },
   "outputs": [],
   "source": [
    "X_train, X_test, Y_train, Y_test = sklearn.model_selection.train_test_split\\\n",
    "(standardized_X, Y, test_size=0.30, random_state = 5)"
   ]
  },
  {
   "cell_type": "code",
   "execution_count": 584,
   "metadata": {
    "collapsed": false,
    "scrolled": false
   },
   "outputs": [
    {
     "name": "stdout",
     "output_type": "stream",
     "text": [
      "                            OLS Regression Results                            \n",
      "==============================================================================\n",
      "Dep. Variable:                Y_train   R-squared:                       0.174\n",
      "Model:                            OLS   Adj. R-squared:                  0.137\n",
      "Method:                 Least Squares   F-statistic:                     4.632\n",
      "Date:                Fri, 06 Jan 2017   Prob (F-statistic):           4.62e-08\n",
      "Time:                        14:45:13   Log-Likelihood:                -305.28\n",
      "No. Observations:                 345   AIC:                             642.6\n",
      "Df Residuals:                     329   BIC:                             704.1\n",
      "Df Model:                          15                                         \n",
      "Covariance Type:            nonrobust                                         \n",
      "===============================================================================\n",
      "                  coef    std err          t      P>|t|      [95.0% Conf. Int.]\n",
      "-------------------------------------------------------------------------------\n",
      "Intercept       3.5663      0.074     48.338      0.000         3.421     3.711\n",
      "X_train[0]     -0.0873      0.035     -2.461      0.014        -0.157    -0.018\n",
      "X_train[1]      0.0431      0.044      0.990      0.323        -0.042     0.129\n",
      "X_train[2]     -0.2268      0.085     -2.677      0.008        -0.394    -0.060\n",
      "X_train[3]      0.2897      0.168      1.728      0.085        -0.040     0.619\n",
      "X_train[4]     -0.2754      0.079     -3.498      0.001        -0.430    -0.121\n",
      "X_train[5]     -0.9562      0.629     -1.521      0.129        -2.193     0.281\n",
      "X_train[6]      0.1339      0.176      0.763      0.446        -0.211     0.479\n",
      "X_train[7]     -0.3327      0.351     -0.947      0.344        -1.024     0.358\n",
      "X_train[8]     -0.2543      0.126     -2.024      0.044        -0.502    -0.007\n",
      "X_train[9]     -0.2223      0.077     -2.870      0.004        -0.375    -0.070\n",
      "X_train[10]    -0.3317      0.282     -1.177      0.240        -0.886     0.223\n",
      "X_train[11]     0.2439      0.161      1.510      0.132        -0.074     0.562\n",
      "X_train[12]     0.3968      0.148      2.681      0.008         0.106     0.688\n",
      "X_train[13]    -0.1314      0.606     -0.217      0.829        -1.324     1.062\n",
      "X_train[14]     0.0944      0.219      0.430      0.667        -0.337     0.526\n",
      "==============================================================================\n",
      "Omnibus:                        0.774   Durbin-Watson:                   1.996\n",
      "Prob(Omnibus):                  0.679   Jarque-Bera (JB):                0.641\n",
      "Skew:                          -0.102   Prob(JB):                        0.726\n",
      "Kurtosis:                       3.053   Cond. No.                         25.3\n",
      "==============================================================================\n",
      "\n",
      "Warnings:\n",
      "[1] Standard Errors assume that the covariance matrix of the errors is correctly specified.\n"
     ]
    }
   ],
   "source": [
    "import statsmodels.api as sm\n",
    "from statsmodels.formula.api import ols\n",
    "m = ols('Y_train ~ X_train', X_train).fit()\n",
    "print m.summary()"
   ]
  },
  {
   "cell_type": "code",
   "execution_count": 796,
   "metadata": {
    "collapsed": false
   },
   "outputs": [
    {
     "data": {
      "text/plain": [
       "0.65436391701781982"
      ]
     },
     "execution_count": 796,
     "metadata": {},
     "output_type": "execute_result"
    }
   ],
   "source": [
    "lm = LinearRegression()\n",
    "lm.fit(X_train, Y_train)\n",
    "Y_pred=lm.predict(X_test)\n",
    "rmse(Y_test,Y_pred)"
   ]
  },
  {
   "cell_type": "markdown",
   "metadata": {},
   "source": [
    "## Comparing the model with standardized regressors to the one without standardized regressors"
   ]
  },
  {
   "cell_type": "markdown",
   "metadata": {},
   "source": [
    "Goodness of fit statistics between the two models remain the same: R-squared, adjusted R-squared, F-statistic, the F'statistic's p-value, AIC, and BIC.  Regressor t-values and p-values remain the same (including those of the standardized regressors).  Non-standardized regressor coefficients (of the dummy variables), standard errors, and confidence intervals remain the same.  \n",
    "\n",
    "What has changed includes: <br>\n",
    "1) estimated coefficients, standard errors, and confidence intervals for the standardized variables (though their t and p-values are the same).<br>\n",
    "2) the intercept, its standard error, t-value, p-value, and confidence interval <br>\n",
    "3) the condition number has been reduced to 25.3, so this solution did the trick and it appears that the high condition number we observed in the previous model was not actually indicating a multicollinearity problem.  Remember: the wikipedia source I provided claimed that standardizing could remedy a false flagging of the condition number.  Even if this claim is false, it is still interesting observing the results of a model with standardized regressors versus unstandardized regressors. <br>\n",
    "4) The vifs for every regressor have changed.  Variables with more problematic vifs have seen their vifs decrease substantially (as shown below): mean_review_year, review_count, and the friendliness dummy variable's vifs have decreased from (4.84, 4.32, 3.34) down to (1.22, 1.54, and 2.01), respectively.  All other variables, which had vifs under 2, also see their VIFs go down."
   ]
  },
  {
   "cell_type": "markdown",
   "metadata": {},
   "source": [
    "The coefficient of -0.0873 for standardized mean_review_year can be interpreted as follows:\n",
    "When there is a one-unit increase in standardized mean_review_year, meaning when mean_review_year increases by one standard deviation, then we predict the overall star score to decrease by .0873, holding all other variables constant.  "
   ]
  },
  {
   "cell_type": "markdown",
   "metadata": {},
   "source": [
    "The rmse is .6544, which is the same as the non-standardized regressor regression model.  This makes sense because standardizing the variables does not affect their relationship with y (the correlations) and hence the model fit and predictability of the model.  "
   ]
  },
  {
   "cell_type": "code",
   "execution_count": 585,
   "metadata": {
    "collapsed": false
   },
   "outputs": [
    {
     "data": {
      "text/html": [
       "<div>\n",
       "<table border=\"1\" class=\"dataframe\">\n",
       "  <thead>\n",
       "    <tr style=\"text-align: right;\">\n",
       "      <th></th>\n",
       "      <th>Regressor</th>\n",
       "      <th>VIF</th>\n",
       "    </tr>\n",
       "  </thead>\n",
       "  <tbody>\n",
       "    <tr>\n",
       "      <th>0</th>\n",
       "      <td>mean_review_year</td>\n",
       "      <td>1.221205</td>\n",
       "    </tr>\n",
       "    <tr>\n",
       "      <th>1</th>\n",
       "      <td>review_count</td>\n",
       "      <td>1.543484</td>\n",
       "    </tr>\n",
       "    <tr>\n",
       "      <th>2</th>\n",
       "      <td>unclean</td>\n",
       "      <td>1.454897</td>\n",
       "    </tr>\n",
       "    <tr>\n",
       "      <th>3</th>\n",
       "      <td>homeless</td>\n",
       "      <td>1.089596</td>\n",
       "    </tr>\n",
       "    <tr>\n",
       "      <th>4</th>\n",
       "      <td>unfriendly</td>\n",
       "      <td>2.008130</td>\n",
       "    </tr>\n",
       "    <tr>\n",
       "      <th>5</th>\n",
       "      <td>BW</td>\n",
       "      <td>1.084765</td>\n",
       "    </tr>\n",
       "    <tr>\n",
       "      <th>6</th>\n",
       "      <td>EDH</td>\n",
       "      <td>1.152545</td>\n",
       "    </tr>\n",
       "    <tr>\n",
       "      <th>7</th>\n",
       "      <td>IL</td>\n",
       "      <td>1.015952</td>\n",
       "    </tr>\n",
       "    <tr>\n",
       "      <th>8</th>\n",
       "      <td>NC</td>\n",
       "      <td>1.100915</td>\n",
       "    </tr>\n",
       "    <tr>\n",
       "      <th>9</th>\n",
       "      <td>NV</td>\n",
       "      <td>1.432673</td>\n",
       "    </tr>\n",
       "    <tr>\n",
       "      <th>10</th>\n",
       "      <td>ON</td>\n",
       "      <td>1.056523</td>\n",
       "    </tr>\n",
       "    <tr>\n",
       "      <th>11</th>\n",
       "      <td>PA</td>\n",
       "      <td>1.101863</td>\n",
       "    </tr>\n",
       "    <tr>\n",
       "      <th>12</th>\n",
       "      <td>QC</td>\n",
       "      <td>1.102487</td>\n",
       "    </tr>\n",
       "    <tr>\n",
       "      <th>13</th>\n",
       "      <td>SC</td>\n",
       "      <td>1.020495</td>\n",
       "    </tr>\n",
       "    <tr>\n",
       "      <th>14</th>\n",
       "      <td>WI</td>\n",
       "      <td>1.036111</td>\n",
       "    </tr>\n",
       "  </tbody>\n",
       "</table>\n",
       "</div>"
      ],
      "text/plain": [
       "           Regressor       VIF\n",
       "0   mean_review_year  1.221205\n",
       "1       review_count  1.543484\n",
       "2            unclean  1.454897\n",
       "3           homeless  1.089596\n",
       "4         unfriendly  2.008130\n",
       "5                 BW  1.084765\n",
       "6                EDH  1.152545\n",
       "7                 IL  1.015952\n",
       "8                 NC  1.100915\n",
       "9                 NV  1.432673\n",
       "10                ON  1.056523\n",
       "11                PA  1.101863\n",
       "12                QC  1.102487\n",
       "13                SC  1.020495\n",
       "14                WI  1.036111"
      ]
     },
     "execution_count": 585,
     "metadata": {},
     "output_type": "execute_result"
    }
   ],
   "source": [
    "X_stan_vifs=pd.DataFrame(standardized_X.columns,columns=['Regressor'])\n",
    "X_stan_vifs['VIF']=vifs(X_train)\n",
    "X_stan_vifs"
   ]
  },
  {
   "cell_type": "markdown",
   "metadata": {},
   "source": [
    "## Principal Components Regression"
   ]
  },
  {
   "cell_type": "markdown",
   "metadata": {},
   "source": [
    "Principal components regression (PCR) is the act of regressing the dependent variable on the principal components of the data.  It is a \"biased regression technique\" in that we omit principal components close to zero, and this omission necessarily entails that we are approximating the data (though this may be a good approximation).  Thus our parameter estimates will necessarily be biased.  This technique is a last resort for reducing multicollinearity, and should be considered only after having tried other solutions (source 1).\n",
    "\n",
    "Using principal component regression offers several potential benefits: <br>\n",
    "1) You can perform dimensionality reduction on the predictors, which will reduce the model's complexity.  There is a principal component for every predictor, so by NOT selecting all of the principal components, you'll have reduced the dimensionality of the data.  Selecting too many principal components may result in PCR performing worse than linear regression.  Ideally, it is best to have most of the variation in the original data explained by just a small subset of principal components (the ones with the biggest eigenvalues).  \n",
    "\n",
    "2) You can reduce the presence of multicollinearity by using less than the total number of principal components.  Principal components are, by definition, uncorrelated, and multicollienarity is the presence of correlated regressors.  While it would therefore appear that multicollinearity goes away completely by using any number of the principal components, such as including ALL of them, using all of them merely HIDES the presence of multicollinearity.  You must exclude principal components with eigenvalues close to zero, which are actually correlated with the intercept since in the extreme: a zero eigenvalue implies zero variance, which implies the component is a constant variable, which implies that it is a multiple of the intercept, which implies that it is correlated with the intercept. (source 1).  \n",
    "\n",
    "PCR does not completely remove multicollinearity (as one might conclude because it has VIFs of 1, meaning uncorrelated regressors).  It just reduces it (source 3).\n",
    "\n",
    "3) You can reduce the risk of overfitting the model since using less variables via dimensionality reduction means having to estimate less coefficients.  <br>\n",
    "\n",
    "source 1: http://www4.ncsu.edu/~slrace/LinearAlgebra2016/Solutions/solution6.pdf <br>\n",
    "source 2: https://www.r-bloggers.com/performing-principal-components-regression-pcr-in-r/ <br>\n",
    "source 3: \"A User's Guide to Principal Components\" by  J. Edward Jackson (page 271)"
   ]
  },
  {
   "cell_type": "markdown",
   "metadata": {},
   "source": [
    "## Can we use Principal Components Analysis (PCA) given that we have dummy variables?"
   ]
  },
  {
   "cell_type": "markdown",
   "metadata": {},
   "source": [
    "PCA is often used for dimensionality reduction when all variables are quantitative.  Multiple Correspondence Analysis (MCA) is often used when all variables are categorical.  What about when variables are mixed (quantitative AND qualitative?), which is the case for my model?  \n",
    "\n",
    "PCA can be used for a mixture of variable types (according to source (1) below), though the results might not be perfect.   \n",
    "\n",
    "1) http://data-mining-tutorials.blogspot.com/2013/03/factor-analysis-for-mixed-data.html"
   ]
  },
  {
   "cell_type": "markdown",
   "metadata": {},
   "source": [
    "## Generating the eigenvalues and eigenvectors"
   ]
  },
  {
   "cell_type": "markdown",
   "metadata": {},
   "source": [
    "Eigenvalues and eigenvectors from either the correlation or covariance matrix of the predictor data are used in creating the principal components.  Extracting eigenvalues and eigenvectors from these matrices is done as follows, and you'll get an array of eigenvalues and an array \n",
    "eigenvector coeffients:\n",
    "\n",
    "scipy.linalg.eig(X.corr()) <br>\n",
    "scipy.linalg.eig(X.cov()) <br>\n",
    "\n",
    "scipy.linalg.eig(X.corr())[0] returns eigenvalues  <br>\n",
    "scipy.linalg.eigvals(X.corr()) also just returns eigenvalues <br>\n",
    "\n",
    "evals, evecs = np.scipy.eig(X.corr) <br>\n",
    "eval1 = evals[0]  returns the first eigenvalue from the output <br>\n",
    "evec1 = evecs[:,0] returns the eigenvector associated with the first eigenvalue <br>\n",
    "\n",
    "The eigenvector array is an array consisting of arrays. <br>\n",
    "Each array represents a row of the nxn eigenvector matrix (for n predictors). <br>\n",
    "The nth value of each array represents column n (eigenvector n) of the eigenvector matrix. <br>\n",
    "If evecs represents this array, then, <br>\n",
    "evecs = [ [array1 values], [array2 values], [array3 values] ] <br>\n",
    "evecs[0]  = [array1 values] = row 0 <br>\n",
    "evecs[:,0] = [ first value of each array ] = the first eigenvector <br>\n",
    "pd.DataFrame[evecs] properly shows the eigenvector matrix  because it interprets each array as\n",
    "a row."
   ]
  },
  {
   "cell_type": "markdown",
   "metadata": {},
   "source": [
    "I will generate eigenvectors and eigenvalues from the covariance matrix to verify that the principal components code makes sense and is correct.  I'll do this by verifying that the variances of the principal component scores match the eigenvalues and that the sum of the eigenvalues matches the sum of the variances of the predictors.  It is best to generate principal components from the correlation matrix though, which is equivalent to standarizing your predictors, so I'll use the correlation matrix for the regression analysis."
   ]
  },
  {
   "cell_type": "markdown",
   "metadata": {},
   "source": [
    "Eigenvectors from the covariance matrix:"
   ]
  },
  {
   "cell_type": "code",
   "execution_count": 21,
   "metadata": {
    "collapsed": false,
    "scrolled": true
   },
   "outputs": [
    {
     "data": {
      "text/html": [
       "<div>\n",
       "<table border=\"1\" class=\"dataframe\">\n",
       "  <thead>\n",
       "    <tr style=\"text-align: right;\">\n",
       "      <th></th>\n",
       "      <th>0</th>\n",
       "      <th>1</th>\n",
       "      <th>2</th>\n",
       "      <th>3</th>\n",
       "      <th>4</th>\n",
       "      <th>5</th>\n",
       "      <th>6</th>\n",
       "      <th>7</th>\n",
       "      <th>8</th>\n",
       "      <th>9</th>\n",
       "      <th>10</th>\n",
       "      <th>11</th>\n",
       "      <th>12</th>\n",
       "      <th>13</th>\n",
       "      <th>14</th>\n",
       "    </tr>\n",
       "  </thead>\n",
       "  <tbody>\n",
       "    <tr>\n",
       "      <th>0</th>\n",
       "      <td>-0.005825</td>\n",
       "      <td>0.993451</td>\n",
       "      <td>0.085929</td>\n",
       "      <td>0.055952</td>\n",
       "      <td>-0.020628</td>\n",
       "      <td>0.002599</td>\n",
       "      <td>0.022877</td>\n",
       "      <td>0.009369</td>\n",
       "      <td>-0.005831</td>\n",
       "      <td>-0.026491</td>\n",
       "      <td>0.004666</td>\n",
       "      <td>0.019413</td>\n",
       "      <td>0.001639</td>\n",
       "      <td>-0.017879</td>\n",
       "      <td>0.002422</td>\n",
       "    </tr>\n",
       "    <tr>\n",
       "      <th>1</th>\n",
       "      <td>0.999779</td>\n",
       "      <td>0.004232</td>\n",
       "      <td>0.005372</td>\n",
       "      <td>0.015640</td>\n",
       "      <td>-0.011744</td>\n",
       "      <td>-0.002082</td>\n",
       "      <td>-0.000189</td>\n",
       "      <td>0.000626</td>\n",
       "      <td>0.002005</td>\n",
       "      <td>-0.001470</td>\n",
       "      <td>0.000790</td>\n",
       "      <td>0.000707</td>\n",
       "      <td>0.000077</td>\n",
       "      <td>0.000014</td>\n",
       "      <td>-0.000005</td>\n",
       "    </tr>\n",
       "  </tbody>\n",
       "</table>\n",
       "</div>"
      ],
      "text/plain": [
       "         0         1         2         3         4         5         6   \\\n",
       "0 -0.005825  0.993451  0.085929  0.055952 -0.020628  0.002599  0.022877   \n",
       "1  0.999779  0.004232  0.005372  0.015640 -0.011744 -0.002082 -0.000189   \n",
       "\n",
       "         7         8         9         10        11        12        13  \\\n",
       "0  0.009369 -0.005831 -0.026491  0.004666  0.019413  0.001639 -0.017879   \n",
       "1  0.000626  0.002005 -0.001470  0.000790  0.000707  0.000077  0.000014   \n",
       "\n",
       "         14  \n",
       "0  0.002422  \n",
       "1 -0.000005  "
      ]
     },
     "execution_count": 21,
     "metadata": {},
     "output_type": "execute_result"
    }
   ],
   "source": [
    "import scipy\n",
    "evals,evecs=scipy.linalg.eig(X.cov())\n",
    "eigenvectors=pd.DataFrame(evecs)\n",
    "eigenvectors.head(2)"
   ]
  },
  {
   "cell_type": "markdown",
   "metadata": {},
   "source": [
    "The eigenvalues are given as complex numbers with a coefficient of zero on the imaginary part, so I'm going to convert them to float format, as shown below.  Also, I've generated principal component scores, which are the values of the principal components.  The variance of each principal component's scores should equal that principal component's eigenvalue, and the sum of the eigenvalues should equal the sum of the variances of the predictor variables.  Thus, the sum of the principal component variances should equal the sum of variances of the predictor variables and should thus explain all of the variation in the predictors.  I verify that the variances of the principal component scores matches the eigenvalues, as shown below."
   ]
  },
  {
   "cell_type": "markdown",
   "metadata": {},
   "source": [
    "Eigenvalues of the covariance matrix:"
   ]
  },
  {
   "cell_type": "code",
   "execution_count": 675,
   "metadata": {
    "collapsed": false
   },
   "outputs": [
    {
     "data": {
      "text/html": [
       "<div>\n",
       "<table border=\"1\" class=\"dataframe\">\n",
       "  <thead>\n",
       "    <tr style=\"text-align: right;\">\n",
       "      <th></th>\n",
       "      <th>0</th>\n",
       "      <th>1</th>\n",
       "      <th>2</th>\n",
       "      <th>3</th>\n",
       "      <th>4</th>\n",
       "      <th>5</th>\n",
       "      <th>6</th>\n",
       "      <th>7</th>\n",
       "      <th>8</th>\n",
       "      <th>9</th>\n",
       "      <th>10</th>\n",
       "      <th>11</th>\n",
       "      <th>14</th>\n",
       "      <th>13</th>\n",
       "      <th>12</th>\n",
       "    </tr>\n",
       "  </thead>\n",
       "  <tbody>\n",
       "    <tr>\n",
       "      <th>0</th>\n",
       "      <td>257.568716</td>\n",
       "      <td>0.88857</td>\n",
       "      <td>0.21424</td>\n",
       "      <td>0.182858</td>\n",
       "      <td>0.150227</td>\n",
       "      <td>0.074246</td>\n",
       "      <td>0.049073</td>\n",
       "      <td>0.043393</td>\n",
       "      <td>0.039268</td>\n",
       "      <td>0.031721</td>\n",
       "      <td>0.018916</td>\n",
       "      <td>0.011112</td>\n",
       "      <td>0.005962</td>\n",
       "      <td>0.003718</td>\n",
       "      <td>0.002001</td>\n",
       "    </tr>\n",
       "  </tbody>\n",
       "</table>\n",
       "</div>"
      ],
      "text/plain": [
       "           0        1        2         3         4         5         6   \\\n",
       "0  257.568716  0.88857  0.21424  0.182858  0.150227  0.074246  0.049073   \n",
       "\n",
       "         7         8         9         10        11        14        13  \\\n",
       "0  0.043393  0.039268  0.031721  0.018916  0.011112  0.005962  0.003718   \n",
       "\n",
       "         12  \n",
       "0  0.002001  "
      ]
     },
     "execution_count": 675,
     "metadata": {},
     "output_type": "execute_result"
    }
   ],
   "source": [
    "temp=[]\n",
    "eigenvalues=pd.DataFrame(evals)[0]\n",
    "for j in range(len(eigenvalues)):\n",
    "    temp.append(np.float(eigenvalues[j]))\n",
    "eigenvalues=pd.DataFrame(temp)[0]\n",
    "pd.DataFrame(eigenvalues.sort_values(ascending=False)).T"
   ]
  },
  {
   "cell_type": "markdown",
   "metadata": {},
   "source": [
    "Variances of the principal components generated from the eigenvalues and eigenvectors of the covariance matrix:"
   ]
  },
  {
   "cell_type": "code",
   "execution_count": 676,
   "metadata": {
    "collapsed": false
   },
   "outputs": [
    {
     "data": {
      "text/html": [
       "<div>\n",
       "<table border=\"1\" class=\"dataframe\">\n",
       "  <thead>\n",
       "    <tr style=\"text-align: right;\">\n",
       "      <th></th>\n",
       "      <th>0</th>\n",
       "      <th>1</th>\n",
       "      <th>2</th>\n",
       "      <th>3</th>\n",
       "      <th>4</th>\n",
       "      <th>5</th>\n",
       "      <th>6</th>\n",
       "      <th>7</th>\n",
       "      <th>8</th>\n",
       "      <th>9</th>\n",
       "      <th>10</th>\n",
       "      <th>11</th>\n",
       "      <th>12</th>\n",
       "      <th>13</th>\n",
       "      <th>14</th>\n",
       "    </tr>\n",
       "  </thead>\n",
       "  <tbody>\n",
       "    <tr>\n",
       "      <th>0</th>\n",
       "      <td>257.568716</td>\n",
       "      <td>0.88857</td>\n",
       "      <td>0.21424</td>\n",
       "      <td>0.182858</td>\n",
       "      <td>0.150227</td>\n",
       "      <td>0.074246</td>\n",
       "      <td>0.049073</td>\n",
       "      <td>0.043393</td>\n",
       "      <td>0.039268</td>\n",
       "      <td>0.031721</td>\n",
       "      <td>0.018916</td>\n",
       "      <td>0.011112</td>\n",
       "      <td>0.002001</td>\n",
       "      <td>0.003718</td>\n",
       "      <td>0.005962</td>\n",
       "    </tr>\n",
       "  </tbody>\n",
       "</table>\n",
       "</div>"
      ],
      "text/plain": [
       "           0        1        2         3         4         5         6   \\\n",
       "0  257.568716  0.88857  0.21424  0.182858  0.150227  0.074246  0.049073   \n",
       "\n",
       "         7         8         9         10        11        12        13  \\\n",
       "0  0.043393  0.039268  0.031721  0.018916  0.011112  0.002001  0.003718   \n",
       "\n",
       "         14  \n",
       "0  0.005962  "
      ]
     },
     "execution_count": 676,
     "metadata": {},
     "output_type": "execute_result"
    }
   ],
   "source": [
    "scores=pd.DataFrame()\n",
    "for j in range(0,len(eigenvectors)):\n",
    "    scores[j]=np.dot(X,eigenvectors[j])\n",
    "pd.DataFrame((scores.std()**2)).T"
   ]
  },
  {
   "cell_type": "markdown",
   "metadata": {},
   "source": [
    "**We can verify that we have the correct eigenvalues for<br>**\n",
    "**1)** PCA done on the correlation matrix, by verifying that the sum of the eigenvalues equals the sum of the standardized predictor variances (meaning the sum of the trace(correlation matrix)).  Using the correlation matrix in PCA is equivalent to standardizing our predictors to have unit variances (variances of 1), which is what the values are along the diagonal of the correlation matrix (it consists of 1's).  So we know the sum of our eigenvalues should equal the number of variables.  <br>\n",
    "**2)** PCA done on the covariance matrix, by verifying that the sum of the eigenvalues equals the sum of the predictor variances (meaning the sum of the trace(covariance matrix)).  "
   ]
  },
  {
   "cell_type": "markdown",
   "metadata": {},
   "source": [
    "The sum of our predictor variances and standardized predictor variances, as shown below, should match the sum of our eigenvalues for PCA done on the covariance and correlation matrix (also shown below, respectively):"
   ]
  },
  {
   "cell_type": "code",
   "execution_count": 677,
   "metadata": {
    "collapsed": false
   },
   "outputs": [
    {
     "data": {
      "text/plain": [
       "(259.28402110043481, 15.0)"
      ]
     },
     "execution_count": 677,
     "metadata": {},
     "output_type": "execute_result"
    }
   ],
   "source": [
    "np.trace(X.cov()), np.trace(X.corr())"
   ]
  },
  {
   "cell_type": "code",
   "execution_count": 678,
   "metadata": {
    "collapsed": false
   },
   "outputs": [
    {
     "data": {
      "text/plain": [
       "(259.2840211004346, 15.0)"
      ]
     },
     "execution_count": 678,
     "metadata": {},
     "output_type": "execute_result"
    }
   ],
   "source": [
    "temp0=[]\n",
    "temp1=pd.DataFrame(scipy.linalg.eig(X.cov())[0])\n",
    "for j in range(len(temp1)):\n",
    "    temp0.append(np.float(temp1[0][j]))\n",
    "temp2=[]\n",
    "temp3=pd.DataFrame(scipy.linalg.eig(X.corr())[0])\n",
    "for j in range(len(temp3)):\n",
    "    temp2.append(np.float(temp3[0][j]))\n",
    "np.sum(pd.DataFrame(temp0)).item(),np.sum(pd.DataFrame(temp2)).item()"
   ]
  },
  {
   "cell_type": "markdown",
   "metadata": {},
   "source": [
    "## Verifying that manually calculating principal component scores using the scipy module matches those automatically generated from the sklearn module (since I'll be using the sklearn module)"
   ]
  },
  {
   "cell_type": "markdown",
   "metadata": {},
   "source": [
    "I can manually calculate principal component scores from eigenvectors generated from the scipy module, where I multiply eigenvectors generated from the correlation matrix by standardized regressors.  Regressors are standardized because eigenvectors generated from the correlation matrix are equivalent to standardizing regressors and then generating eigenvectors from the covariance matrix.  "
   ]
  },
  {
   "cell_type": "code",
   "execution_count": 679,
   "metadata": {
    "collapsed": false,
    "scrolled": true
   },
   "outputs": [
    {
     "data": {
      "text/html": [
       "<div>\n",
       "<table border=\"1\" class=\"dataframe\">\n",
       "  <thead>\n",
       "    <tr style=\"text-align: right;\">\n",
       "      <th></th>\n",
       "      <th>0</th>\n",
       "      <th>1</th>\n",
       "      <th>2</th>\n",
       "      <th>3</th>\n",
       "      <th>4</th>\n",
       "      <th>5</th>\n",
       "      <th>6</th>\n",
       "      <th>7</th>\n",
       "      <th>8</th>\n",
       "      <th>9</th>\n",
       "      <th>10</th>\n",
       "      <th>11</th>\n",
       "      <th>12</th>\n",
       "      <th>13</th>\n",
       "      <th>14</th>\n",
       "    </tr>\n",
       "  </thead>\n",
       "  <tbody>\n",
       "    <tr>\n",
       "      <th>0</th>\n",
       "      <td>1.807268</td>\n",
       "      <td>-0.795901</td>\n",
       "      <td>-0.314871</td>\n",
       "      <td>-0.510892</td>\n",
       "      <td>0.607629</td>\n",
       "      <td>0.779729</td>\n",
       "      <td>1.050846</td>\n",
       "      <td>0.062781</td>\n",
       "      <td>-0.122791</td>\n",
       "      <td>-0.272909</td>\n",
       "      <td>-0.037411</td>\n",
       "      <td>0.010897</td>\n",
       "      <td>0.084312</td>\n",
       "      <td>-0.052585</td>\n",
       "      <td>-0.033877</td>\n",
       "    </tr>\n",
       "    <tr>\n",
       "      <th>1</th>\n",
       "      <td>-0.748844</td>\n",
       "      <td>0.351024</td>\n",
       "      <td>0.100155</td>\n",
       "      <td>-0.645575</td>\n",
       "      <td>1.059277</td>\n",
       "      <td>-0.776077</td>\n",
       "      <td>1.287054</td>\n",
       "      <td>0.471318</td>\n",
       "      <td>-0.453906</td>\n",
       "      <td>-0.159592</td>\n",
       "      <td>-0.271972</td>\n",
       "      <td>0.013736</td>\n",
       "      <td>0.097066</td>\n",
       "      <td>0.147575</td>\n",
       "      <td>-0.109744</td>\n",
       "    </tr>\n",
       "    <tr>\n",
       "      <th>2</th>\n",
       "      <td>1.209284</td>\n",
       "      <td>0.556524</td>\n",
       "      <td>0.389719</td>\n",
       "      <td>0.139938</td>\n",
       "      <td>-1.008005</td>\n",
       "      <td>-0.309087</td>\n",
       "      <td>-0.767120</td>\n",
       "      <td>-1.016238</td>\n",
       "      <td>0.090876</td>\n",
       "      <td>0.510876</td>\n",
       "      <td>0.226465</td>\n",
       "      <td>0.447944</td>\n",
       "      <td>-0.098049</td>\n",
       "      <td>0.059434</td>\n",
       "      <td>0.109500</td>\n",
       "    </tr>\n",
       "    <tr>\n",
       "      <th>3</th>\n",
       "      <td>2.439342</td>\n",
       "      <td>0.181188</td>\n",
       "      <td>-0.496249</td>\n",
       "      <td>-0.206734</td>\n",
       "      <td>0.187442</td>\n",
       "      <td>-0.618350</td>\n",
       "      <td>0.458869</td>\n",
       "      <td>-0.923325</td>\n",
       "      <td>-0.041197</td>\n",
       "      <td>0.372298</td>\n",
       "      <td>-0.023439</td>\n",
       "      <td>0.577323</td>\n",
       "      <td>-0.059171</td>\n",
       "      <td>0.135539</td>\n",
       "      <td>-0.002889</td>\n",
       "    </tr>\n",
       "  </tbody>\n",
       "</table>\n",
       "</div>"
      ],
      "text/plain": [
       "         0         1         2         3         4         5         6   \\\n",
       "0  1.807268 -0.795901 -0.314871 -0.510892  0.607629  0.779729  1.050846   \n",
       "1 -0.748844  0.351024  0.100155 -0.645575  1.059277 -0.776077  1.287054   \n",
       "2  1.209284  0.556524  0.389719  0.139938 -1.008005 -0.309087 -0.767120   \n",
       "3  2.439342  0.181188 -0.496249 -0.206734  0.187442 -0.618350  0.458869   \n",
       "\n",
       "         7         8         9         10        11        12        13  \\\n",
       "0  0.062781 -0.122791 -0.272909 -0.037411  0.010897  0.084312 -0.052585   \n",
       "1  0.471318 -0.453906 -0.159592 -0.271972  0.013736  0.097066  0.147575   \n",
       "2 -1.016238  0.090876  0.510876  0.226465  0.447944 -0.098049  0.059434   \n",
       "3 -0.923325 -0.041197  0.372298 -0.023439  0.577323 -0.059171  0.135539   \n",
       "\n",
       "         14  \n",
       "0 -0.033877  \n",
       "1 -0.109744  \n",
       "2  0.109500  \n",
       "3 -0.002889  "
      ]
     },
     "execution_count": 679,
     "metadata": {},
     "output_type": "execute_result"
    }
   ],
   "source": [
    "from sklearn.preprocessing import normalize, scale\n",
    "evals,evecs=scipy.linalg.eig(X.corr())\n",
    "eigenvectors=pd.DataFrame(evecs)\n",
    "\n",
    "scores=pd.DataFrame()\n",
    "for j in range(0,len(eigenvectors)):\n",
    "    scores[j]=np.dot(scale(X),eigenvectors[j])\n",
    "scores.head(4)"
   ]
  },
  {
   "cell_type": "markdown",
   "metadata": {},
   "source": [
    "The scale function in sklearn's preprocessing package gives variables (m=0, std=1).  The mean and sd of the first two standardized regressors is shown below:"
   ]
  },
  {
   "cell_type": "code",
   "execution_count": 680,
   "metadata": {
    "collapsed": false
   },
   "outputs": [
    {
     "name": "stdout",
     "output_type": "stream",
     "text": [
      "means: array([  2.24911408e-13,  -2.15751843e-17])  \n",
      "sds: array([ 1.,  1.])\n"
     ]
    }
   ],
   "source": [
    "print 'means: %r  \\nsds: %r' %(scale(X).mean(axis=0)[:2], scale(X).std(axis=0)[:2])"
   ]
  },
  {
   "cell_type": "markdown",
   "metadata": {},
   "source": [
    "Variances of principal components are shown below:"
   ]
  },
  {
   "cell_type": "code",
   "execution_count": 681,
   "metadata": {
    "collapsed": false
   },
   "outputs": [
    {
     "data": {
      "text/html": [
       "<div>\n",
       "<table border=\"1\" class=\"dataframe\">\n",
       "  <thead>\n",
       "    <tr style=\"text-align: right;\">\n",
       "      <th></th>\n",
       "      <th>0</th>\n",
       "      <th>1</th>\n",
       "      <th>2</th>\n",
       "      <th>3</th>\n",
       "    </tr>\n",
       "  </thead>\n",
       "  <tbody>\n",
       "    <tr>\n",
       "      <th>0</th>\n",
       "      <td>2.035233</td>\n",
       "      <td>0.401702</td>\n",
       "      <td>0.462263</td>\n",
       "      <td>1.390651</td>\n",
       "    </tr>\n",
       "  </tbody>\n",
       "</table>\n",
       "</div>"
      ],
      "text/plain": [
       "          0         1         2         3\n",
       "0  2.035233  0.401702  0.462263  1.390651"
      ]
     },
     "execution_count": 681,
     "metadata": {},
     "output_type": "execute_result"
    }
   ],
   "source": [
    "pd.DataFrame((scores.std()**2)).T.ix[:,:3]"
   ]
  },
  {
   "cell_type": "markdown",
   "metadata": {},
   "source": [
    "Alternatively, principal component scores can be automatically generated from the sklearn module:"
   ]
  },
  {
   "cell_type": "code",
   "execution_count": 682,
   "metadata": {
    "collapsed": false
   },
   "outputs": [],
   "source": [
    "from sklearn.decomposition import PCA\n",
    "from sklearn.preprocessing import normalize, scale\n",
    "pca = PCA(n_components=2)\n",
    "X_stan=pd.DataFrame(scale(X))\n",
    "X_reduced = pca.fit_transform(X_stan)\n",
    "# http://scikit-learn.org/stable/modules/generated/sklearn.preprocessing.normalize.html\n",
    "# http://stats.stackexchange.com/questions/82050/principal-component-analysis-and-regression-in-python\n",
    "# http://scikit-learn.org/stable/modules/preprocessing.html"
   ]
  },
  {
   "cell_type": "markdown",
   "metadata": {},
   "source": [
    "Principal components are given in order in the output of the sklearn module, unlike in the scipy module, which does not give principal components in order.  This means the component labeled as component j from sklearn will have a greater variance than component j+1, while this is not the case for components from scipy.  Notice that the variances of the first two principal components from sklearn matches the variances of scipy principal components that have indices 0 and 3.  Principal components from sklearn are ordered based on the size of their variances, meaning their eigenvalues."
   ]
  },
  {
   "cell_type": "markdown",
   "metadata": {},
   "source": [
    "The variances of the first two principal components from the sklearn module:"
   ]
  },
  {
   "cell_type": "code",
   "execution_count": 683,
   "metadata": {
    "collapsed": false
   },
   "outputs": [
    {
     "data": {
      "text/plain": [
       "0    2.035233\n",
       "1    1.390651\n",
       "dtype: float64"
      ]
     },
     "execution_count": 683,
     "metadata": {},
     "output_type": "execute_result"
    }
   ],
   "source": [
    "X_reduced = pca.transform(X_stan)\n",
    "two_pca=pd.DataFrame(X_reduced)\n",
    "two_pca.std()**2"
   ]
  },
  {
   "cell_type": "markdown",
   "metadata": {},
   "source": [
    "## Determining how many principal components to use in a principal component regression"
   ]
  },
  {
   "cell_type": "markdown",
   "metadata": {},
   "source": [
    "In choosing the number of principal components to retain in principal components analysis, consider the following methods:\n",
    "\n",
    "**1)** Retain enough components to explain some specified percentage of the total variation of the predictor variables, usually around 80%. <br>\n",
    "**2)** Exclude principal components whose eigenvalues are less than the average: sum(eigenvalues) / # of components.  \n",
    "**3)** Make a scree plot (eigenvalue vs principal component number), where the larger the number of the principal component, the smaller the eigenvalue.  Select the number of components equal to the number of the component at the elbow of the curve (assuming components are labeled starting at 1), where the slope changes from steep to shallow and remains fairly level afterwards.  \n",
    "**4)** Exclude principal components whose eigenvalues are close to zero (this is needed for a principal component regression in which we want to reduce multicollinearity)\n",
    "\n",
    "We have to consider the results of method 4 since (as I've already stated) for a principal component regression where the goal is to reduce multicollinearity, we need to omit principal components whose eigenvalues are close to zero.  These principal components have variances close to zero (since their eigenvalue=their variance), making them close to being constant, making them correlated with the intercept (close to being a multiple of the intercept).  You won't reduce multicollinearity by including principal components that are correlated with the intercept, since multicollinearity is, by definition, the presence of correlation among the predictor variables.  Variables that are correlated with the intercept are _included_ in this definition.  \n",
    "\n",
    " \n",
    "source 1) Introduction to Linear Regression Analysis - Fifth Edition <br>\n",
    "source 2) http://www4.ncsu.edu/~slrace/LinearAlgebra2016/Solutions/solution6.pdf <br>\n",
    "source 3) http://stat.ethz.ch/~mmarloes/teaching/fall08/Notes3.pdf (for 1-3)"
   ]
  },
  {
   "cell_type": "markdown",
   "metadata": {},
   "source": [
    "Eigenvalues generated from the correlation matrix are shown below:"
   ]
  },
  {
   "cell_type": "code",
   "execution_count": 684,
   "metadata": {
    "collapsed": false
   },
   "outputs": [
    {
     "data": {
      "text/html": [
       "<div>\n",
       "<table border=\"1\" class=\"dataframe\">\n",
       "  <thead>\n",
       "    <tr style=\"text-align: right;\">\n",
       "      <th></th>\n",
       "      <th>0</th>\n",
       "      <th>1</th>\n",
       "      <th>2</th>\n",
       "      <th>3</th>\n",
       "      <th>4</th>\n",
       "      <th>5</th>\n",
       "      <th>6</th>\n",
       "      <th>7</th>\n",
       "      <th>8</th>\n",
       "      <th>9</th>\n",
       "      <th>10</th>\n",
       "      <th>11</th>\n",
       "      <th>12</th>\n",
       "      <th>13</th>\n",
       "      <th>14</th>\n",
       "    </tr>\n",
       "  </thead>\n",
       "  <tbody>\n",
       "    <tr>\n",
       "      <th>0</th>\n",
       "      <td>2.031113</td>\n",
       "      <td>1.387835</td>\n",
       "      <td>1.165453</td>\n",
       "      <td>1.076992</td>\n",
       "      <td>1.058159</td>\n",
       "      <td>1.047012</td>\n",
       "      <td>1.036619</td>\n",
       "      <td>1.013886</td>\n",
       "      <td>1.012616</td>\n",
       "      <td>0.95365</td>\n",
       "      <td>0.915962</td>\n",
       "      <td>0.73367</td>\n",
       "      <td>0.704817</td>\n",
       "      <td>0.461327</td>\n",
       "      <td>0.400889</td>\n",
       "    </tr>\n",
       "  </tbody>\n",
       "</table>\n",
       "</div>"
      ],
      "text/plain": [
       "         0         1         2         3         4         5         6   \\\n",
       "0  2.031113  1.387835  1.165453  1.076992  1.058159  1.047012  1.036619   \n",
       "\n",
       "         7         8        9         10       11        12        13  \\\n",
       "0  1.013886  1.012616  0.95365  0.915962  0.73367  0.704817  0.461327   \n",
       "\n",
       "         14  \n",
       "0  0.400889  "
      ]
     },
     "execution_count": 684,
     "metadata": {},
     "output_type": "execute_result"
    }
   ],
   "source": [
    "temp=[]\n",
    "eigenvalues=pd.DataFrame(evals)[0]\n",
    "for j in range(len(eigenvalues)):\n",
    "    temp.append(np.float(eigenvalues[j]))\n",
    "eigenvalues=pd.DataFrame(temp)[0]\n",
    "eigenvalues=pd.DataFrame(list(eigenvalues.sort_values(ascending=False))).T\n",
    "eigenvalues"
   ]
  },
  {
   "cell_type": "markdown",
   "metadata": {},
   "source": [
    "I will first determine the number of principal components recommended by method 1, the number of components needed so that at least 80% of the variation in the predictor variables is retained. <br>\n",
    "\n",
    "Observe the Variance Explained plot below, and look at the \"Cumulative\" line.  The point on this line associated with principal component j represents the proportion of variation explained by the first (j+1) principal components (meaning all components before component j, as well as component j).  This is because the first component has label 0.  I've also included a line showing the non-cumulative proportions--the proportion of variation explained by each principal component.  \n",
    "\n",
    "Also shown below is an array of the cumulative proportion of total variation explained by each component and all components before each component.  "
   ]
  },
  {
   "cell_type": "code",
   "execution_count": 685,
   "metadata": {
    "collapsed": false
   },
   "outputs": [
    {
     "data": {
      "text/plain": [
       "<matplotlib.text.Text at 0x13281b910>"
      ]
     },
     "execution_count": 685,
     "metadata": {},
     "output_type": "execute_result"
    },
    {
     "data": {
      "image/png": "[encoded data removed]",
      "text/plain": [
       "<matplotlib.figure.Figure at 0x136f3e550>"
      ]
     },
     "metadata": {},
     "output_type": "display_data"
    }
   ],
   "source": [
    "total_variation=np.sum(eigenvalues.values)\n",
    "cum_variation=[]\n",
    "cum=0\n",
    "for j in range(len(eigenvalues.columns)):  \n",
    "    cum=cum+eigenvalues[j].item()\n",
    "    cum_variation.append(cum)\n",
    "Cum_Variance_Explained=cum_variation/total_variation\n",
    "Variance_Explained=eigenvalues.values[0]/total_variation\n",
    "\n",
    "x=eigenvalues.columns.values\n",
    "y=Cum_Variance_Explained\n",
    "y2=Variance_Explained\n",
    "plt.xlim(0,15)\n",
    "plt.scatter(x,y,s=50,facecolors='none')\n",
    "plt.scatter(x,y2,s=50,facecolors='none')\n",
    "plt.plot(x,y,x,y2)\n",
    "plt.xlabel('Component Number')\n",
    "plt.ylabel('Proportion')\n",
    "plt.legend(['Cumulative','Proportion'],loc='upper left')\n",
    "plt.title('Variance Explained')"
   ]
  },
  {
   "cell_type": "code",
   "execution_count": 686,
   "metadata": {
    "collapsed": false
   },
   "outputs": [
    {
     "data": {
      "text/plain": [
       "array([ 0.13540754,  0.22792991,  0.30562676,  0.37742619,  0.44797012,\n",
       "        0.51777094,  0.58687887,  0.6544713 ,  0.72197902,  0.7855557 ,\n",
       "        0.84661982,  0.89553116,  0.94251893,  0.97327406,  1.        ])"
      ]
     },
     "execution_count": 686,
     "metadata": {},
     "output_type": "execute_result"
    }
   ],
   "source": [
    "Cum_Variance_Explained"
   ]
  },
  {
   "cell_type": "markdown",
   "metadata": {},
   "source": [
    "The minimum number of principal components to retain such that at least 80% of the variation of the predictor variables is retained is 11.  Thus, method 1 recommends 11 principal components.  <br>\n",
    "\n",
    "11 principal components is a lot, considering that there are 15 principal components.  This means that the first several principal components do not retain much of the information in the original data.  \n"
   ]
  },
  {
   "cell_type": "markdown",
   "metadata": {},
   "source": [
    "Under method 2, where we exclude principal components whose eigenvalues are less than the average eigenvalue, 9 components are recommended.  The mean eigenvalue is 1, as shown below.  There are 9 components whose eigenvalues are greater than a value of 1."
   ]
  },
  {
   "cell_type": "code",
   "execution_count": 687,
   "metadata": {
    "collapsed": false
   },
   "outputs": [
    {
     "data": {
      "text/plain": [
       "1.0"
      ]
     },
     "execution_count": 687,
     "metadata": {},
     "output_type": "execute_result"
    }
   ],
   "source": [
    "eigenvalues.values[0].mean()"
   ]
  },
  {
   "cell_type": "code",
   "execution_count": 719,
   "metadata": {
    "collapsed": false
   },
   "outputs": [
    {
     "data": {
      "text/plain": [
       "array([ 2.03111317,  1.38783544,  1.16545276,  1.07699152,  1.05815894,\n",
       "        1.04701224,  1.03661903,  1.01388638,  1.01261583,  0.95365015,\n",
       "        0.91596182,  0.7336701 ,  0.70481659,  0.46132689,  0.40088915])"
      ]
     },
     "execution_count": 719,
     "metadata": {},
     "output_type": "execute_result"
    }
   ],
   "source": [
    "pd.DataFrame(list(eigenvalues.sort_values(ascending=False)))[0].values"
   ]
  },
  {
   "cell_type": "markdown",
   "metadata": {},
   "source": [
    "Under method 3, there appears to be an elbow in the scree plot (shown below) at around 3-5 principal components, however, the first three principal components only explain 30.6% of the variation of the original data.  Using the elbow rule to select components would not result in the components retaining much of the variance of the original data.  "
   ]
  },
  {
   "cell_type": "code",
   "execution_count": 689,
   "metadata": {
    "collapsed": false
   },
   "outputs": [
    {
     "data": {
      "text/plain": [
       "<matplotlib.text.Text at 0x136ac84d0>"
      ]
     },
     "execution_count": 689,
     "metadata": {},
     "output_type": "execute_result"
    },
    {
     "data": {
      "image/png": "[encoded data removed]",
      "text/plain": [
       "<matplotlib.figure.Figure at 0x129fb2cd0>"
      ]
     },
     "metadata": {},
     "output_type": "display_data"
    }
   ],
   "source": [
    "temp=[]\n",
    "eigenvalues=pd.DataFrame(evals)[0]\n",
    "for j in range(len(eigenvalues)):\n",
    "    temp.append(np.float(eigenvalues[j]))\n",
    "eigenvalues=pd.DataFrame(temp)[0]\n",
    "\n",
    "x=eigenvalues.index.values\n",
    "y=pd.DataFrame(list(eigenvalues.sort_values(ascending=False)))[0].values\n",
    "plt.xlim(0,15)\n",
    "plt.scatter(x,y,c='k',s=30)\n",
    "plt.plot(x,y)\n",
    "plt.xlabel('Component Number')\n",
    "plt.ylabel('Eigenvalue')\n",
    "plt.title('Scree Plot')"
   ]
  },
  {
   "cell_type": "markdown",
   "metadata": {},
   "source": [
    "Under method 4, arguably the most important method for a principal components regression, we exclude all principal components with eigenvalues close to zero.  Shown below, the last two components are closer to zero than the others (<.5), so these two should at least be excluded to reduce multicollinearity.   "
   ]
  },
  {
   "cell_type": "code",
   "execution_count": 690,
   "metadata": {
    "collapsed": false
   },
   "outputs": [
    {
     "data": {
      "text/plain": [
       "array([ 2.03111317,  1.38783544,  1.16545276,  1.07699152,  1.05815894,\n",
       "        1.04701224,  1.03661903,  1.01388638,  1.01261583,  0.95365015,\n",
       "        0.91596182,  0.7336701 ,  0.70481659,  0.46132689,  0.40088915])"
      ]
     },
     "execution_count": 690,
     "metadata": {},
     "output_type": "execute_result"
    }
   ],
   "source": [
    "pd.DataFrame(list(eigenvalues.sort_values(ascending=False)))[0].values"
   ]
  },
  {
   "cell_type": "markdown",
   "metadata": {},
   "source": [
    "The methods recommend retaining between 9-12 principal components (I'm excluding the scree plot method, which recommends too few, since 3-5 components does not account for enough variation in the predictor data).  I will select 10 principal components, so that 79% of the variation in the data is explained and components with eigenvalues close to zero are excluded.  Remember, we want to select as few principal components as possible to reduce the dimensionality of the data as much as possible, which will lead to a greater reduction in multicollinearity and model complexity.  We also want to retain as much of the variation in the data as possible, so we can't select too few principal components.  It's a delicate balance."
   ]
  },
  {
   "cell_type": "markdown",
   "metadata": {},
   "source": [
    "## Running the principal components regression"
   ]
  },
  {
   "cell_type": "code",
   "execution_count": 17,
   "metadata": {
    "collapsed": true
   },
   "outputs": [],
   "source": [
    "pca = PCA(n_components=10)\n",
    "X_stan=pd.DataFrame(scale(X))\n",
    "X_reduced = pd.DataFrame(pca.fit_transform(X_stan))"
   ]
  },
  {
   "cell_type": "code",
   "execution_count": 18,
   "metadata": {
    "collapsed": false
   },
   "outputs": [],
   "source": [
    "X_train, X_test, Y_train, Y_test = sklearn.model_selection.train_test_split\\\n",
    "(X_reduced, Y, test_size=0.30, random_state = 5)"
   ]
  },
  {
   "cell_type": "code",
   "execution_count": 19,
   "metadata": {
    "collapsed": false
   },
   "outputs": [
    {
     "name": "stdout",
     "output_type": "stream",
     "text": [
      "                            OLS Regression Results                            \n",
      "==============================================================================\n",
      "Dep. Variable:                Y_train   R-squared:                       0.134\n",
      "Model:                            OLS   Adj. R-squared:                  0.108\n",
      "Method:                 Least Squares   F-statistic:                     5.156\n",
      "Date:                Mon, 16 Jan 2017   Prob (F-statistic):           5.01e-07\n",
      "Time:                        22:56:38   Log-Likelihood:                -313.57\n",
      "No. Observations:                 345   AIC:                             649.1\n",
      "Df Residuals:                     334   BIC:                             691.4\n",
      "Df Model:                          10                                         \n",
      "Covariance Type:            nonrobust                                         \n",
      "==============================================================================\n",
      "                 coef    std err          t      P>|t|      [95.0% Conf. Int.]\n",
      "------------------------------------------------------------------------------\n",
      "Intercept      3.3044      0.033    100.457      0.000         3.240     3.369\n",
      "X_train[0]    -0.1194      0.023     -5.245      0.000        -0.164    -0.075\n",
      "X_train[1]     0.0493      0.028      1.732      0.084        -0.007     0.105\n",
      "X_train[2]    -0.0180      0.030     -0.595      0.552        -0.077     0.041\n",
      "X_train[3]     0.0885      0.031      2.830      0.005         0.027     0.150\n",
      "X_train[4]    -0.0201      0.032     -0.635      0.526        -0.082     0.042\n",
      "X_train[5]    -0.0340      0.030     -1.147      0.252        -0.092     0.024\n",
      "X_train[6]     0.0287      0.031      0.916      0.360        -0.033     0.090\n",
      "X_train[7]     0.0158      0.031      0.503      0.615        -0.046     0.077\n",
      "X_train[8]    -0.0555      0.029     -1.945      0.053        -0.112     0.001\n",
      "X_train[9]    -0.0796      0.033     -2.415      0.016        -0.144    -0.015\n",
      "==============================================================================\n",
      "Omnibus:                        0.790   Durbin-Watson:                   2.036\n",
      "Prob(Omnibus):                  0.674   Jarque-Bera (JB):                0.687\n",
      "Skew:                          -0.108   Prob(JB):                        0.709\n",
      "Kurtosis:                       3.029   Cond. No.                         1.56\n",
      "==============================================================================\n",
      "\n",
      "Warnings:\n",
      "[1] Standard Errors assume that the covariance matrix of the errors is correctly specified.\n"
     ]
    }
   ],
   "source": [
    "import statsmodels.api as sm\n",
    "from statsmodels.formula.api import ols\n",
    "m = ols('Y_train ~ X_train', X_train).fit()\n",
    "print m.summary()"
   ]
  },
  {
   "cell_type": "code",
   "execution_count": 720,
   "metadata": {
    "collapsed": false
   },
   "outputs": [
    {
     "data": {
      "text/plain": [
       "[1.0000000000000002,\n",
       " 1.0000000000000002,\n",
       " 1.0,\n",
       " 1.0000000000000002,\n",
       " 0.99999999999999978,\n",
       " 1.0,\n",
       " 1.0,\n",
       " 0.99999999999999978,\n",
       " 1.0000000000000002,\n",
       " 1.0000000000000002]"
      ]
     },
     "execution_count": 720,
     "metadata": {},
     "output_type": "execute_result"
    }
   ],
   "source": [
    "vifs(X_reduced)"
   ]
  },
  {
   "cell_type": "code",
   "execution_count": 694,
   "metadata": {
    "collapsed": false
   },
   "outputs": [
    {
     "data": {
      "text/plain": [
       "0.64525272245601428"
      ]
     },
     "execution_count": 694,
     "metadata": {},
     "output_type": "execute_result"
    }
   ],
   "source": [
    "lm = LinearRegression()\n",
    "lm.fit(X_train, Y_train)\n",
    "Y_pred=lm.predict(X_test)\n",
    "rmse(Y_test,Y_pred)"
   ]
  },
  {
   "cell_type": "code",
   "execution_count": 39,
   "metadata": {
    "collapsed": false
   },
   "outputs": [
    {
     "data": {
      "text/plain": [
       "Index([u'mean_review_year',     u'review_count',          u'unclean',\n",
       "               u'homeless',       u'unfriendly',               u'BW',\n",
       "                    u'EDH',               u'IL',               u'NC',\n",
       "                     u'NV',               u'ON',               u'PA',\n",
       "                     u'QC',               u'SC',               u'WI'],\n",
       "      dtype='object')"
      ]
     },
     "execution_count": 39,
     "metadata": {},
     "output_type": "execute_result"
    }
   ],
   "source": [
    "X.columns"
   ]
  },
  {
   "cell_type": "markdown",
   "metadata": {},
   "source": [
    "Eigenvectors of each principal component used in the regression are shown below.  Column 0, for example, shows the loadings for the first principal component, whose score for the jth observation is calculated as (.028407x1 + .580833x2 + 358037x3+..) where xj represents the jth standardized predictor variable (mean 0, variance 1).  x1 is standardized mean_review_year, for example.  "
   ]
  },
  {
   "cell_type": "code",
   "execution_count": 40,
   "metadata": {
    "collapsed": false
   },
   "outputs": [
    {
     "data": {
      "text/plain": [
       "Index([u'mean_review_year',     u'review_count',          u'unclean',\n",
       "               u'homeless',       u'unfriendly',               u'BW',\n",
       "                    u'EDH',               u'IL',               u'NC',\n",
       "                     u'NV',               u'ON',               u'PA',\n",
       "                     u'QC',               u'SC',               u'WI'],\n",
       "      dtype='object')"
      ]
     },
     "execution_count": 40,
     "metadata": {},
     "output_type": "execute_result"
    }
   ],
   "source": [
    "X.columns"
   ]
  },
  {
   "cell_type": "code",
   "execution_count": 37,
   "metadata": {
    "collapsed": false,
    "scrolled": true
   },
   "outputs": [
    {
     "data": {
      "text/html": [
       "<div>\n",
       "<table border=\"1\" class=\"dataframe\">\n",
       "  <thead>\n",
       "    <tr style=\"text-align: right;\">\n",
       "      <th></th>\n",
       "      <th>0</th>\n",
       "      <th>1</th>\n",
       "      <th>2</th>\n",
       "      <th>3</th>\n",
       "      <th>4</th>\n",
       "      <th>5</th>\n",
       "      <th>6</th>\n",
       "      <th>7</th>\n",
       "      <th>8</th>\n",
       "      <th>9</th>\n",
       "      <th>10</th>\n",
       "    </tr>\n",
       "  </thead>\n",
       "  <tbody>\n",
       "    <tr>\n",
       "      <th>0</th>\n",
       "      <td>0.028407</td>\n",
       "      <td>-0.215979</td>\n",
       "      <td>-0.246843</td>\n",
       "      <td>-0.652006</td>\n",
       "      <td>-0.611572</td>\n",
       "      <td>-0.127973</td>\n",
       "      <td>-0.249898</td>\n",
       "      <td>0.052371</td>\n",
       "      <td>-0.090657</td>\n",
       "      <td>0.009113</td>\n",
       "      <td>0.021932</td>\n",
       "    </tr>\n",
       "    <tr>\n",
       "      <th>1</th>\n",
       "      <td>0.580833</td>\n",
       "      <td>-0.762709</td>\n",
       "      <td>0.013750</td>\n",
       "      <td>0.143558</td>\n",
       "      <td>0.071954</td>\n",
       "      <td>0.118615</td>\n",
       "      <td>0.017723</td>\n",
       "      <td>-0.150921</td>\n",
       "      <td>0.098352</td>\n",
       "      <td>-0.028052</td>\n",
       "      <td>-0.031110</td>\n",
       "    </tr>\n",
       "    <tr>\n",
       "      <th>2</th>\n",
       "      <td>0.358037</td>\n",
       "      <td>0.308736</td>\n",
       "      <td>-0.056895</td>\n",
       "      <td>0.198740</td>\n",
       "      <td>-0.122576</td>\n",
       "      <td>-0.564572</td>\n",
       "      <td>-0.230091</td>\n",
       "      <td>-0.445720</td>\n",
       "      <td>0.056732</td>\n",
       "      <td>0.268385</td>\n",
       "      <td>-0.000596</td>\n",
       "    </tr>\n",
       "    <tr>\n",
       "      <th>3</th>\n",
       "      <td>0.195960</td>\n",
       "      <td>0.063761</td>\n",
       "      <td>-0.039427</td>\n",
       "      <td>0.170444</td>\n",
       "      <td>-0.091368</td>\n",
       "      <td>-0.271491</td>\n",
       "      <td>-0.153967</td>\n",
       "      <td>0.571654</td>\n",
       "      <td>0.521656</td>\n",
       "      <td>-0.063805</td>\n",
       "      <td>-0.254856</td>\n",
       "    </tr>\n",
       "    <tr>\n",
       "      <th>4</th>\n",
       "      <td>0.506827</td>\n",
       "      <td>0.467154</td>\n",
       "      <td>-0.172231</td>\n",
       "      <td>0.016039</td>\n",
       "      <td>-0.190056</td>\n",
       "      <td>0.643903</td>\n",
       "      <td>-0.088100</td>\n",
       "      <td>-0.017395</td>\n",
       "      <td>0.055271</td>\n",
       "      <td>-0.021637</td>\n",
       "      <td>0.152139</td>\n",
       "    </tr>\n",
       "    <tr>\n",
       "      <th>5</th>\n",
       "      <td>-0.062862</td>\n",
       "      <td>-0.010927</td>\n",
       "      <td>-0.223634</td>\n",
       "      <td>0.385781</td>\n",
       "      <td>-0.470199</td>\n",
       "      <td>-0.050476</td>\n",
       "      <td>0.393868</td>\n",
       "      <td>0.064155</td>\n",
       "      <td>-0.236328</td>\n",
       "      <td>-0.092305</td>\n",
       "      <td>-0.186933</td>\n",
       "    </tr>\n",
       "    <tr>\n",
       "      <th>6</th>\n",
       "      <td>-0.135999</td>\n",
       "      <td>-0.126067</td>\n",
       "      <td>-0.342619</td>\n",
       "      <td>0.205413</td>\n",
       "      <td>-0.055733</td>\n",
       "      <td>-0.096568</td>\n",
       "      <td>0.109626</td>\n",
       "      <td>0.034074</td>\n",
       "      <td>0.167147</td>\n",
       "      <td>0.074977</td>\n",
       "      <td>0.809068</td>\n",
       "    </tr>\n",
       "    <tr>\n",
       "      <th>7</th>\n",
       "      <td>-0.021255</td>\n",
       "      <td>0.010934</td>\n",
       "      <td>-0.091540</td>\n",
       "      <td>-0.081920</td>\n",
       "      <td>0.159570</td>\n",
       "      <td>-0.152359</td>\n",
       "      <td>-0.082813</td>\n",
       "      <td>-0.107765</td>\n",
       "      <td>0.192614</td>\n",
       "      <td>-0.102942</td>\n",
       "      <td>0.212165</td>\n",
       "    </tr>\n",
       "    <tr>\n",
       "      <th>8</th>\n",
       "      <td>-0.065771</td>\n",
       "      <td>-0.007311</td>\n",
       "      <td>-0.399199</td>\n",
       "      <td>0.207581</td>\n",
       "      <td>0.155067</td>\n",
       "      <td>-0.032926</td>\n",
       "      <td>-0.470614</td>\n",
       "      <td>0.017002</td>\n",
       "      <td>-0.169306</td>\n",
       "      <td>-0.658000</td>\n",
       "      <td>-0.063324</td>\n",
       "    </tr>\n",
       "    <tr>\n",
       "      <th>9</th>\n",
       "      <td>0.310493</td>\n",
       "      <td>0.137603</td>\n",
       "      <td>-0.471202</td>\n",
       "      <td>-0.360412</td>\n",
       "      <td>0.404012</td>\n",
       "      <td>-0.226116</td>\n",
       "      <td>0.516231</td>\n",
       "      <td>0.124662</td>\n",
       "      <td>-0.126101</td>\n",
       "      <td>-0.050002</td>\n",
       "      <td>-0.098180</td>\n",
       "    </tr>\n",
       "    <tr>\n",
       "      <th>10</th>\n",
       "      <td>-0.161264</td>\n",
       "      <td>-0.052438</td>\n",
       "      <td>-0.260945</td>\n",
       "      <td>0.182866</td>\n",
       "      <td>-0.240805</td>\n",
       "      <td>0.081120</td>\n",
       "      <td>0.274298</td>\n",
       "      <td>-0.203859</td>\n",
       "      <td>0.231485</td>\n",
       "      <td>-0.098855</td>\n",
       "      <td>-0.186166</td>\n",
       "    </tr>\n",
       "    <tr>\n",
       "      <th>11</th>\n",
       "      <td>-0.107230</td>\n",
       "      <td>-0.087351</td>\n",
       "      <td>-0.342104</td>\n",
       "      <td>0.196370</td>\n",
       "      <td>0.045665</td>\n",
       "      <td>0.103948</td>\n",
       "      <td>-0.139405</td>\n",
       "      <td>0.040978</td>\n",
       "      <td>-0.100544</td>\n",
       "      <td>0.543543</td>\n",
       "      <td>-0.239661</td>\n",
       "    </tr>\n",
       "    <tr>\n",
       "      <th>12</th>\n",
       "      <td>-0.272045</td>\n",
       "      <td>-0.047861</td>\n",
       "      <td>-0.349133</td>\n",
       "      <td>-0.161857</td>\n",
       "      <td>0.189191</td>\n",
       "      <td>0.238843</td>\n",
       "      <td>-0.133999</td>\n",
       "      <td>-0.183366</td>\n",
       "      <td>0.480348</td>\n",
       "      <td>0.204580</td>\n",
       "      <td>-0.200335</td>\n",
       "    </tr>\n",
       "    <tr>\n",
       "      <th>13</th>\n",
       "      <td>0.056416</td>\n",
       "      <td>-0.047473</td>\n",
       "      <td>-0.053607</td>\n",
       "      <td>0.096956</td>\n",
       "      <td>0.056363</td>\n",
       "      <td>0.026283</td>\n",
       "      <td>-0.140385</td>\n",
       "      <td>0.574466</td>\n",
       "      <td>-0.187655</td>\n",
       "      <td>0.298206</td>\n",
       "      <td>0.159123</td>\n",
       "    </tr>\n",
       "    <tr>\n",
       "      <th>14</th>\n",
       "      <td>-0.005911</td>\n",
       "      <td>-0.062996</td>\n",
       "      <td>-0.193285</td>\n",
       "      <td>0.084589</td>\n",
       "      <td>0.159184</td>\n",
       "      <td>0.008439</td>\n",
       "      <td>-0.241890</td>\n",
       "      <td>-0.095559</td>\n",
       "      <td>-0.456741</td>\n",
       "      <td>0.162375</td>\n",
       "      <td>-0.068595</td>\n",
       "    </tr>\n",
       "  </tbody>\n",
       "</table>\n",
       "</div>"
      ],
      "text/plain": [
       "          0         1         2         3         4         5         6   \\\n",
       "0   0.028407 -0.215979 -0.246843 -0.652006 -0.611572 -0.127973 -0.249898   \n",
       "1   0.580833 -0.762709  0.013750  0.143558  0.071954  0.118615  0.017723   \n",
       "2   0.358037  0.308736 -0.056895  0.198740 -0.122576 -0.564572 -0.230091   \n",
       "3   0.195960  0.063761 -0.039427  0.170444 -0.091368 -0.271491 -0.153967   \n",
       "4   0.506827  0.467154 -0.172231  0.016039 -0.190056  0.643903 -0.088100   \n",
       "5  -0.062862 -0.010927 -0.223634  0.385781 -0.470199 -0.050476  0.393868   \n",
       "6  -0.135999 -0.126067 -0.342619  0.205413 -0.055733 -0.096568  0.109626   \n",
       "7  -0.021255  0.010934 -0.091540 -0.081920  0.159570 -0.152359 -0.082813   \n",
       "8  -0.065771 -0.007311 -0.399199  0.207581  0.155067 -0.032926 -0.470614   \n",
       "9   0.310493  0.137603 -0.471202 -0.360412  0.404012 -0.226116  0.516231   \n",
       "10 -0.161264 -0.052438 -0.260945  0.182866 -0.240805  0.081120  0.274298   \n",
       "11 -0.107230 -0.087351 -0.342104  0.196370  0.045665  0.103948 -0.139405   \n",
       "12 -0.272045 -0.047861 -0.349133 -0.161857  0.189191  0.238843 -0.133999   \n",
       "13  0.056416 -0.047473 -0.053607  0.096956  0.056363  0.026283 -0.140385   \n",
       "14 -0.005911 -0.062996 -0.193285  0.084589  0.159184  0.008439 -0.241890   \n",
       "\n",
       "          7         8         9         10  \n",
       "0   0.052371 -0.090657  0.009113  0.021932  \n",
       "1  -0.150921  0.098352 -0.028052 -0.031110  \n",
       "2  -0.445720  0.056732  0.268385 -0.000596  \n",
       "3   0.571654  0.521656 -0.063805 -0.254856  \n",
       "4  -0.017395  0.055271 -0.021637  0.152139  \n",
       "5   0.064155 -0.236328 -0.092305 -0.186933  \n",
       "6   0.034074  0.167147  0.074977  0.809068  \n",
       "7  -0.107765  0.192614 -0.102942  0.212165  \n",
       "8   0.017002 -0.169306 -0.658000 -0.063324  \n",
       "9   0.124662 -0.126101 -0.050002 -0.098180  \n",
       "10 -0.203859  0.231485 -0.098855 -0.186166  \n",
       "11  0.040978 -0.100544  0.543543 -0.239661  \n",
       "12 -0.183366  0.480348  0.204580 -0.200335  \n",
       "13  0.574466 -0.187655  0.298206  0.159123  \n",
       "14 -0.095559 -0.456741  0.162375 -0.068595  "
      ]
     },
     "execution_count": 37,
     "metadata": {},
     "output_type": "execute_result"
    }
   ],
   "source": [
    "evals,evecs=scipy.linalg.eig(X.corr())\n",
    "pd.DataFrame(evecs).ix[:,:10]"
   ]
  },
  {
   "cell_type": "markdown",
   "metadata": {},
   "source": [
    "## Comparing the PCR model with the Linear Regression (LR) model"
   ]
  },
  {
   "cell_type": "markdown",
   "metadata": {},
   "source": [
    "The adjusted R-squared for PCR is lower than that of LR (.108 vs .137).  The AIC is higher, while the BIC is lower (649.1 vs 642.6, 691.4 vs 704.1) respectively.  The AIC value is lower for models with a better goodness-of-fit and less complexity.  We want to minimize AIC.  BIC is similar to AIC, and we also want to minimize it, except it rewards less complexity even more (by increasing the penalty amount for the number of predictors).  It makes sense that the PCR has a lower BIC value than LR's value, since while PCR has a worse fit as judged by its adjusted R-squared, it also has less complexity, which is more rewarded in the BIC value.  <br>\n",
    "\n",
    "Unlike in the linear regression model, the presence of multicollinearity is greatly diminished in PCR, due to the principal components being uncorrelated.  This is evidenced by each having a VIF of 1, as shown above.  The condition number is also only 1.56.  <br>\n",
    "\n",
    "The rmse has decreased to .645 from .654, meaning this model has less error in predicting the test data.  "
   ]
  },
  {
   "cell_type": "markdown",
   "metadata": {},
   "source": [
    "# Random Forests"
   ]
  },
  {
   "cell_type": "markdown",
   "metadata": {},
   "source": [
    "In this section, I implement a Random Forest regression model, and I tune the max_features parameter while doing so.  The random forest I'll be implementing is composed of regression trees.  A regression decision tree differs from a classification decision tree in that its response variable is numeric rather than categorical.  Each tree in a random forest is constructed using two randomization processes called tree bagging and feature bagging.  "
   ]
  },
  {
   "cell_type": "code",
   "execution_count": 18,
   "metadata": {
    "collapsed": true
   },
   "outputs": [],
   "source": [
    "X_train, X_test, Y_train, Y_test = sklearn.model_selection.train_test_split\\\n",
    "(X, Y, test_size=0.30, random_state = 5)"
   ]
  },
  {
   "cell_type": "markdown",
   "metadata": {},
   "source": [
    "Below, I will investigate the effect on the rmse of changing the max_features and n_estimators parameters in the Random Forest model.  n_estimators sets the number of regression trees to create in the random forest.  max_features sets the size of the random subset of features generated at each split in every tree (so all trees and splits will have the same number of randomly selected features), which is part of the feature bagging randomization step in constructing the trees.\n",
    "\n",
    "A max_features value of _none_ indicates all features are considered in choosing the best split in each tree.  "
   ]
  },
  {
   "cell_type": "code",
   "execution_count": 19,
   "metadata": {
    "collapsed": true
   },
   "outputs": [],
   "source": [
    "RANDOM_STATE = 112\n",
    "from collections import OrderedDict\n",
    "from sklearn.ensemble import RandomForestRegressor\n",
    "from sklearn.grid_search import GridSearchCV"
   ]
  },
  {
   "cell_type": "code",
   "execution_count": 699,
   "metadata": {
    "collapsed": false
   },
   "outputs": [],
   "source": [
    "ensemble_clfs = [\n",
    "    (\"RandomForestRegressor, max_features='sqrt'\",\n",
    "        RandomForestRegressor(warm_start=True, oob_score=True,\n",
    "                               max_features=\"sqrt\",\n",
    "                               random_state=RANDOM_STATE)),\n",
    "    (\"RandomForestRegressor, max_features='None'\",\n",
    "        RandomForestRegressor(warm_start=True, max_features=None,\n",
    "                               oob_score=True,\n",
    "                               random_state=RANDOM_STATE)),\n",
    "    (\"RandomForestRegressor, max_features=.10\",\n",
    "        RandomForestRegressor(warm_start=True, max_features=.1,\n",
    "                               oob_score=True,\n",
    "                               random_state=RANDOM_STATE)),    \n",
    "    (\"RandomForestRegressor, max_features=.30\",\n",
    "        RandomForestRegressor(warm_start=True, max_features=.3,\n",
    "                               oob_score=True,\n",
    "                               random_state=RANDOM_STATE)),    \n",
    "    (\"RandomForestRegressor, max_features=.50\",\n",
    "        RandomForestRegressor(warm_start=True, max_features=.5,\n",
    "                               oob_score=True,\n",
    "                               random_state=RANDOM_STATE)),  \n",
    "    (\"RandomForestRegressor, max_features=.80\",\n",
    "        RandomForestRegressor(warm_start=True, max_features=.8,\n",
    "                               oob_score=True,\n",
    "                               random_state=RANDOM_STATE)),    \n",
    "]\n",
    "\n",
    "\n",
    "# NOTE: Setting the `warm_start` construction parameter to `True` disables\n",
    "# support for parallelized ensembles but is necessary for tracking the OOB\n",
    "# error trajectory during training."
   ]
  },
  {
   "cell_type": "code",
   "execution_count": 801,
   "metadata": {
    "collapsed": false
   },
   "outputs": [
    {
     "data": {
      "text/plain": [
       "OrderedDict([(\"RandomForestRegressor, max_features='sqrt'\", []),\n",
       "             (\"RandomForestRegressor, max_features='None'\", []),\n",
       "             ('RandomForestRegressor, max_features=.10', []),\n",
       "             ('RandomForestRegressor, max_features=.30', []),\n",
       "             ('RandomForestRegressor, max_features=.50', []),\n",
       "             ('RandomForestRegressor, max_features=.80', [])])"
      ]
     },
     "execution_count": 801,
     "metadata": {},
     "output_type": "execute_result"
    }
   ],
   "source": [
    "# Map a classifier name to a list of (<n_estimators>, <error rate>) pairs.\n",
    "rmse_list = OrderedDict((j, []) for j, _ in ensemble_clfs)\n",
    "rmse_list"
   ]
  },
  {
   "cell_type": "code",
   "execution_count": 802,
   "metadata": {
    "collapsed": true
   },
   "outputs": [],
   "source": [
    "#Generate an rmse for each number of trees used in each of the three models\n",
    "# Range of `n_estimators` values to explore.\n",
    "min_estimators = 15\n",
    "max_estimators = 175\n",
    "\n",
    "#Fit a model for each number of max_features and each number of trees\n",
    "for label, clf in ensemble_clfs:\n",
    "    for i in range(min_estimators, max_estimators + 1):\n",
    "        clf.set_params(n_estimators=i)\n",
    "        clf.fit(X_train, Y_train)\n",
    "        \n",
    "        #Record the rmse for each `n_estimators=i` setting.\n",
    "        rmse = np.sqrt(sklearn.metrics.mean_squared_error(Y_test, clf.predict(X_test)))\n",
    "        rmse_list[label].append((i, rmse))"
   ]
  },
  {
   "cell_type": "code",
   "execution_count": 803,
   "metadata": {
    "collapsed": false,
    "scrolled": true
   },
   "outputs": [
    {
     "data": {
      "image/png": "[encoded data removed]",
      "text/plain": [
       "<matplotlib.figure.Figure at 0x11ffb0750>"
      ]
     },
     "metadata": {},
     "output_type": "display_data"
    }
   ],
   "source": [
    "# Generate the \"rmse\" vs. \"n_estimators\" plot.\n",
    "for label, clf_rmse in rmse_list.items():\n",
    "    xs, ys = zip(*clf_rmse)\n",
    "    plt.plot(xs, ys, label=label)\n",
    "    \n",
    "#rmse_list.items()[i] gives the label data and tuples of model with the ith max_feature value\n",
    "#rmse_list.items()[i][0] gives the label data of the model with the ith max_feature value\n",
    "#rmse_list.items()[i][1] gives a list of tuples (# of trees,rmse) of the ith max_feature model\n",
    "\n",
    "plt.xlim(min_estimators, max_estimators)\n",
    "plt.xlabel(\"n_estimators\")\n",
    "plt.ylabel(\"rmse\")\n",
    "plt.legend(loc=\"upper right\")\n",
    "plt.title('RMSE for Random Forests')\n",
    "plt.show()"
   ]
  },
  {
   "cell_type": "markdown",
   "metadata": {},
   "source": [
    "Above, we see that rmse values stay fairly level for a given max_features value after about 100 trees, so we won't see much (if any) of a performance gain by increasing the number of trees beyond this.  I will use 300 trees to be sure that I do not miss any loss in performance from using too small of an n_estimators value.  "
   ]
  },
  {
   "cell_type": "markdown",
   "metadata": {},
   "source": [
    "There is a different curve for each considered max_features value.  Generating random subsets whose size is 50% of the total number of features results in the lowest rmse values.  30% is the next best max_features value.  All other max_features values result in curves that have rmse values around .65 for tree values greater than 100.  Clearly, max_features makes a difference, so I will tune this parameter using GridSearchCV.  "
   ]
  },
  {
   "cell_type": "markdown",
   "metadata": {},
   "source": [
    "## Creating the model by tuning the max_features parameter using GridSearchCV"
   ]
  },
  {
   "cell_type": "markdown",
   "metadata": {},
   "source": [
    "From having looked at the rmse plot above, I decide to use 300 trees and to tune the max_features parameter using GridSearchCV, which I will do below, as well as generate the model."
   ]
  },
  {
   "cell_type": "markdown",
   "metadata": {},
   "source": [
    "GridSearchCV uses K-fold cross validation to tune/optimize parameters of an estimator, which in this case is the Random Forest Regressor.  I will look for an optimal max_features value.  <br>\n",
    "\n",
    "For each considered parameter value, GridSearchCV calculates a cross validation score (cv score), which is the average score using that parameter from k models, where each model is fitted from the other (k-1) folds that the training data was divided into (where each of the k folds is treated as a validation fold, with the other k-1 folds as training folds).  The parameter that has the highest cv score is used in the model, which is then evaluated on the test set (the train split was split into training and validation sets used for tuning the parameters). <br>\n",
    "\n",
    "The cv parameter controls the number of folds to use in finding the best parameters.  In this case, I'll use 5 folds, meaning I'll generate 5 models for each considered max_features value and calculate the average score for each max_features value. <br>  \n",
    "\n",
    "The score in this case is the negative of the mean squared error.  Sklearn scores follow the convention of higher means better, and since lower means better for mean squared error, they stuck a negative sign in front to keep this score metric congruent with their convention.  "
   ]
  },
  {
   "cell_type": "code",
   "execution_count": 21,
   "metadata": {
    "collapsed": false
   },
   "outputs": [
    {
     "data": {
      "text/plain": [
       "(RandomForestRegressor(bootstrap=True, criterion='mse', max_depth=None,\n",
       "            max_features=0.1, max_leaf_nodes=None, min_impurity_split=1e-07,\n",
       "            min_samples_leaf=1, min_samples_split=2,\n",
       "            min_weight_fraction_leaf=0.0, n_estimators=300, n_jobs=1,\n",
       "            oob_score=True, random_state=112, verbose=0, warm_start=True),\n",
       " {'max_features': 0.1},\n",
       " -0.3917144605567583,\n",
       " [mean: -0.43751, std: 0.07967, params: {'max_features': None},\n",
       "  mean: -0.39686, std: 0.05727, params: {'max_features': 'sqrt'},\n",
       "  mean: -0.39171, std: 0.05333, params: {'max_features': 0.1},\n",
       "  mean: -0.39686, std: 0.05727, params: {'max_features': 0.2},\n",
       "  mean: -0.40097, std: 0.06106, params: {'max_features': 0.3},\n",
       "  mean: -0.40865, std: 0.06498, params: {'max_features': 0.4},\n",
       "  mean: -0.41391, std: 0.06526, params: {'max_features': 0.5},\n",
       "  mean: -0.41478, std: 0.07162, params: {'max_features': 0.6},\n",
       "  mean: -0.41954, std: 0.07386, params: {'max_features': 0.7},\n",
       "  mean: -0.42564, std: 0.07820, params: {'max_features': 0.8},\n",
       "  mean: -0.42943, std: 0.07796, params: {'max_features': 0.9}])"
      ]
     },
     "execution_count": 21,
     "metadata": {},
     "output_type": "execute_result"
    }
   ],
   "source": [
    "from sklearn.grid_search import GridSearchCV\n",
    "clf=RandomForestRegressor(warm_start=True, oob_score=True,random_state=RANDOM_STATE,\n",
    "                         n_estimators=300)\n",
    "parameters={\"max_features\":[None,'sqrt',.1,.2,.3,.4,.5,.6,.7,.8,.9]}\n",
    "fitmodel = GridSearchCV(clf, param_grid=parameters, cv=5, scoring=\"neg_mean_squared_error\")\n",
    "fitmodel.fit(X_train, Y_train)\n",
    "fitmodel.best_estimator_, fitmodel.best_params_, fitmodel.best_score_, fitmodel.grid_scores_"
   ]
  },
  {
   "cell_type": "markdown",
   "metadata": {},
   "source": [
    "As shown below, the root mean squared error of the model is .6495, indicating that the typical amount by which a predicted test set star score deviates from its actual value is .6495.  The model has a lower rmse than linear regression, but not principal component regression."
   ]
  },
  {
   "cell_type": "code",
   "execution_count": 22,
   "metadata": {
    "collapsed": false
   },
   "outputs": [
    {
     "data": {
      "text/plain": [
       "0.64949034403249839"
      ]
     },
     "execution_count": 22,
     "metadata": {},
     "output_type": "execute_result"
    }
   ],
   "source": [
    "def rmse(Y_test,Y_pred):   \n",
    "    return np.sqrt(sklearn.metrics.mean_squared_error(Y_test,Y_pred))\n",
    "\n",
    "clf=RandomForestRegressor(warm_start=True, oob_score=True,random_state=RANDOM_STATE,\n",
    "                         n_estimators=300, max_features=fitmodel.best_params_['max_features'])\n",
    "clf.fit(X_train,Y_train)\n",
    "Y_pred=clf.predict(X_test)\n",
    "rmse(Y_test,Y_pred)"
   ]
  },
  {
   "cell_type": "markdown",
   "metadata": {},
   "source": [
    "The predictors that contribute the most to the random forest can be assessed by calculating the \"feature importance\" or \"variable importance\" value of each variable.  Feature importance measures the level of usefulness of the variable in predicting the response in the model (source 4).  As shown below, the most important features in the random forest are mean_review_year, review_count.\n",
    "\n",
    "Sklearn does not seem to provide clear documentation on the calculation of feature importance for its RandomForestRegressor estimator, though several sources have inspected the underlying code and have mentioned the following:  source 1 says that it is based on the reduction in error rate at each node where the feature split the data, source 2 says that the MSE is used to calculate impurity.  Thus, it looks like a feature will have a higher feature importance if it offers a larger average MSE reduction across the trees where the feature split the data.  In every tree in which the feature splits the data, it causes an MSE reduction, and source 3 says that sklearn averages this metric across all trees. <br>\n",
    "\n",
    "Sklearn does say that it normalizes feature importances so that they sum to one. \n",
    "\n",
    "Feature importance in sklearn's RandomForestClassifier is calculated by default as the \"gini importance\" or \"mean decrease impurity\".\n",
    "\n",
    "source 1: https://www.quora.com/How-do-I-find-variable-importance-in-random-forest <br>\n",
    "source 2: http://stackoverflow.com/questions/32083289/feature-importance-results-differ-in-r-and-sklearn-random-forest-regression?noredirect=1&lq=1 <br>\n",
    "source 3: http://stackoverflow.com/questions/27862667/feature-importance-calculation-for-gradient-boosted-regression-tree-versus-rando?noredirect=1&lq=1 <br>\n",
    "source 4: http://support.sas.com/documentation/cdl/en/stathpug/68163/HTML/default/viewer.htm#stathpug_hpsplit_details30.htm\n"
   ]
  },
  {
   "cell_type": "code",
   "execution_count": 28,
   "metadata": {
    "collapsed": false
   },
   "outputs": [
    {
     "data": {
      "text/plain": [
       "<matplotlib.axes._subplots.AxesSubplot at 0x12c631ad0>"
      ]
     },
     "execution_count": 28,
     "metadata": {},
     "output_type": "execute_result"
    },
    {
     "data": {
      "image/png": "[encoded data removed]",
      "text/plain": [
       "<matplotlib.figure.Figure at 0x12c60f990>"
      ]
     },
     "metadata": {},
     "output_type": "display_data"
    }
   ],
   "source": [
    "feat_imp = pd.Series(clf.feature_importances_, index=X.columns)\n",
    "feat_imp.sort_values(inplace=True, ascending=True)\n",
    "feat_imp.head(20).plot(kind='barh', title='Feature importance')"
   ]
  },
  {
   "cell_type": "markdown",
   "metadata": {},
   "source": [
    "## Gradient Boosting for Regression"
   ]
  },
  {
   "cell_type": "markdown",
   "metadata": {},
   "source": [
    "A gradient boosted regression tree starts out as just a regression tree that predicts y.  Then, a regression tree that predicts the residuals of the model is created, and its residual predictions are added to to each predicted y value, such that each yhat then equals <br>\n",
    "yhat1 = yhat + learning rate (predicted residual for yhat model).  <br>\n",
    "\n",
    "Then another regression tree is created which models yhat1's residuals, such that each predicted value then equals <br>\n",
    "yhat2 = yhat1 + learning rate (predicted residual for yhat1 model). <br>\n",
    "\n",
    "This process is repeated for a predetermined number of boosting stages, meaning trees that improve the original tree.  This value is set by the n_estimators parameter in the algorithm I'll be using: sklearn.ensemble.GradientBoostingRegressor.  <br>\n",
    "\n",
    "The learning rate controls the impact of each subsequent tree on the previous model that is being adjusted.  Lower learning rates are desirable since they make the model less sensitive to the specific characteristics of each tree, which allows it to generalize better.  This also means a greater number of trees are required, so the code will take longer to run."
   ]
  },
  {
   "cell_type": "markdown",
   "metadata": {},
   "source": [
    "I am going to plot the rmse for models with differing learning rates across differing n_estimators values."
   ]
  },
  {
   "cell_type": "code",
   "execution_count": 33,
   "metadata": {
    "collapsed": true
   },
   "outputs": [],
   "source": [
    "X_train, X_test, Y_train, Y_test = sklearn.model_selection.train_test_split\\\n",
    "(X, Y, test_size=0.30, random_state = 5)\n",
    "\n",
    "from sklearn import ensemble\n",
    "from sklearn.grid_search import GridSearchCV\n",
    "RANDOM_STATE = 200"
   ]
  },
  {
   "cell_type": "code",
   "execution_count": 705,
   "metadata": {
    "collapsed": false
   },
   "outputs": [],
   "source": [
    "from collections import OrderedDict\n",
    "ensemble_clfs = [\n",
    "\n",
    "    (\"Gradient Boosting, learning rate='.005'\",\n",
    "       ensemble.GradientBoostingRegressor(random_state=RANDOM_STATE,learning_rate=.005)),\n",
    "    (\"Gradient Boosting, learning rate='.01'\",\n",
    "       ensemble.GradientBoostingRegressor(random_state=RANDOM_STATE,learning_rate=.01)),\n",
    "    (\"Gradient Boosting, learning rate='.05'\",\n",
    "       ensemble.GradientBoostingRegressor(random_state=RANDOM_STATE,learning_rate=.05)),\n",
    "    (\"Gradient Boosting, learning rate='.1'\",\n",
    "       ensemble.GradientBoostingRegressor(random_state=RANDOM_STATE,learning_rate=.10)) \n",
    "    \n",
    "]"
   ]
  },
  {
   "cell_type": "code",
   "execution_count": 255,
   "metadata": {
    "collapsed": true
   },
   "outputs": [],
   "source": [
    "rmse_list = OrderedDict((j, []) for j, _ in ensemble_clfs)\n",
    "min_estimators = 20\n",
    "max_estimators = 1500\n",
    "\n",
    "#Fit a model for each number of max_features and each number of trees\n",
    "for label, clf in ensemble_clfs:\n",
    "    for i in range(min_estimators, max_estimators + 1):\n",
    "        clf.set_params(n_estimators=i)\n",
    "        clf.fit(X_train, Y_train)\n",
    "        \n",
    "        #Record the rmse for each `n_estimators=i` setting.\n",
    "        rmse = np.sqrt(sklearn.metrics.mean_squared_error(Y_test, clf.predict(X_test)))\n",
    "        rmse_list[label].append((i, rmse))"
   ]
  },
  {
   "cell_type": "code",
   "execution_count": 256,
   "metadata": {
    "collapsed": false
   },
   "outputs": [
    {
     "data": {
      "image/png": "[encoded data removed]",
      "text/plain": [
       "<matplotlib.figure.Figure at 0x12534ea90>"
      ]
     },
     "metadata": {},
     "output_type": "display_data"
    }
   ],
   "source": [
    "# Generate the \"rmse\" vs. \"n_estimators\" plot.\n",
    "for label, clf_rmse in rmse_list.items():\n",
    "    xs, ys = zip(*clf_rmse)\n",
    "    plt.plot(xs, ys, label=label)\n",
    "    \n",
    "plt.xlim(min_estimators, max_estimators)\n",
    "plt.xlabel(\"n_estimators\")\n",
    "plt.ylabel(\"rmse\")\n",
    "plt.legend(loc=\"upper left\")\n",
    "plt.title('RMSE for Gradient Boosting')\n",
    "plt.show()"
   ]
  },
  {
   "cell_type": "markdown",
   "metadata": {},
   "source": [
    "The above plot shows that the rmse only increases as trees increase for higher values of the learning rate (.05 and .1), indicating that these values are too fast and the tree is overfitting.  Overfitting is a problem with gradient boosted decision trees, which can quickly learn and overfit the data without very many trees. As we know, each subsequent tree added to the model is designed to model the residuals in the predictions from the previous sequence of trees.  By using a lower learning rate we control and lesson the level of impact that each subsequent residual model has on the overall model.  We slow down the rate at which the model learns from the data so as to find the optimal level of fitting, which is before overfitting occurs, and to therefore increase the model's generalizability.  Notice that even for lower learning rate values, overfitting eventually occurs, but it takes many more trees for this to happen than for higher learning rate values, where overfitting occurs immediately.  \n",
    "\n",
    "source: http://machinelearningmastery.com/tune-learning-rate-for-gradient-boosting-with-xgboost-in-python/"
   ]
  },
  {
   "cell_type": "markdown",
   "metadata": {},
   "source": [
    "It looks like about 300 trees should be adequate with a learning rate tuned to this value.  I will use the rule of thumb provided by the creator of XGBoost, Tianqi Chen, which is a learning rate somewhere in the range of (2-10/# of trees).  Thus, I will tune the learning rate across these values.  \n",
    "\n",
    "A rule of thumb for the parameter min_samples_split, the minimum number of samples required to split an internal node, is setting this value to .5-1% of the number of observations in your data.  In this case, the training data consists of 70% of the original data, so this means 345 observations.  The recommended min_samples_split values should then range from 1.7-3.5.  I will set the value at 2, which is the default value.  "
   ]
  },
  {
   "cell_type": "markdown",
   "metadata": {},
   "source": [
    "Below, I tune the following parameters using GridSearchCV:"
   ]
  },
  {
   "cell_type": "markdown",
   "metadata": {},
   "source": [
    "max_depth - controls the size (number of layers) of each tree where you can think of layer j as being composed of nodes or decision values arrived at from having gone through j decisions or splits.  Less layers can mean a worse prediction, though too many layers can lead to overfitting and less generalizability.\n",
    "\n",
    "learning_rate - controls the impact of each tree on the current model.  Use a lower learning rate to prevent overfitting, but the code will take longer. <br>\n",
    "\n",
    "subsample - sets % of observations (rows) randomly sampled to use in fitting the model.  We use a value lower than 1 to prevent overfitting.  <br>\n",
    "\n",
    "max_features - sets the size of the random subset of features generated at each split.  We use lower values to prevent overfitting. <br>"
   ]
  },
  {
   "cell_type": "code",
   "execution_count": 294,
   "metadata": {
    "collapsed": false,
    "scrolled": true
   },
   "outputs": [
    {
     "data": {
      "text/plain": [
       "(GradientBoostingRegressor(alpha=0.9, criterion='friedman_mse', init=None,\n",
       "              learning_rate=0.0133333333333, loss='ls', max_depth=4,\n",
       "              max_features=1, max_leaf_nodes=None, min_impurity_split=1e-07,\n",
       "              min_samples_leaf=1, min_samples_split=2,\n",
       "              min_weight_fraction_leaf=0.0, n_estimators=300,\n",
       "              presort='auto', random_state=200, subsample=0.5, verbose=0,\n",
       "              warm_start=False),\n",
       " {'learning_rate': 0.013333333333333334,\n",
       "  'max_depth': 4,\n",
       "  'max_features': 1,\n",
       "  'subsample': 0.5},\n",
       " -0.3544635981971545,\n",
       " [mean: -0.37059, std: 0.04817, params: {'max_features': 0.4, 'subsample': 0.5, 'learning_rate': 0.006666666666666667, 'max_depth': 4},\n",
       "  mean: -0.37122, std: 0.05006, params: {'max_features': 0.4, 'subsample': 0.75, 'learning_rate': 0.006666666666666667, 'max_depth': 4},\n",
       "  mean: -0.37815, std: 0.05157, params: {'max_features': 0.4, 'subsample': 1, 'learning_rate': 0.006666666666666667, 'max_depth': 4},\n",
       "  mean: -0.37516, std: 0.05543, params: {'max_features': 0.6, 'subsample': 0.5, 'learning_rate': 0.006666666666666667, 'max_depth': 4},\n",
       "  mean: -0.37899, std: 0.05619, params: {'max_features': 0.6, 'subsample': 0.75, 'learning_rate': 0.006666666666666667, 'max_depth': 4},\n",
       "  mean: -0.38826, std: 0.05191, params: {'max_features': 0.6, 'subsample': 1, 'learning_rate': 0.006666666666666667, 'max_depth': 4},\n",
       "  mean: -0.38308, std: 0.05655, params: {'max_features': 0.8, 'subsample': 0.5, 'learning_rate': 0.006666666666666667, 'max_depth': 4},\n",
       "  mean: -0.38409, std: 0.05856, params: {'max_features': 0.8, 'subsample': 0.75, 'learning_rate': 0.006666666666666667, 'max_depth': 4},\n",
       "  mean: -0.39794, std: 0.05403, params: {'max_features': 0.8, 'subsample': 1, 'learning_rate': 0.006666666666666667, 'max_depth': 4},\n",
       "  mean: -0.36215, std: 0.04059, params: {'max_features': 1, 'subsample': 0.5, 'learning_rate': 0.006666666666666667, 'max_depth': 4},\n",
       "  mean: -0.36591, std: 0.03897, params: {'max_features': 1, 'subsample': 0.75, 'learning_rate': 0.006666666666666667, 'max_depth': 4},\n",
       "  mean: -0.37041, std: 0.04024, params: {'max_features': 1, 'subsample': 1, 'learning_rate': 0.006666666666666667, 'max_depth': 4},\n",
       "  mean: -0.38094, std: 0.05325, params: {'max_features': 0.4, 'subsample': 0.5, 'learning_rate': 0.006666666666666667, 'max_depth': 6},\n",
       "  mean: -0.38641, std: 0.05577, params: {'max_features': 0.4, 'subsample': 0.75, 'learning_rate': 0.006666666666666667, 'max_depth': 6},\n",
       "  mean: -0.40209, std: 0.06490, params: {'max_features': 0.4, 'subsample': 1, 'learning_rate': 0.006666666666666667, 'max_depth': 6},\n",
       "  mean: -0.38836, std: 0.06509, params: {'max_features': 0.6, 'subsample': 0.5, 'learning_rate': 0.006666666666666667, 'max_depth': 6},\n",
       "  mean: -0.39900, std: 0.06375, params: {'max_features': 0.6, 'subsample': 0.75, 'learning_rate': 0.006666666666666667, 'max_depth': 6},\n",
       "  mean: -0.41858, std: 0.07395, params: {'max_features': 0.6, 'subsample': 1, 'learning_rate': 0.006666666666666667, 'max_depth': 6},\n",
       "  mean: -0.39764, std: 0.06082, params: {'max_features': 0.8, 'subsample': 0.5, 'learning_rate': 0.006666666666666667, 'max_depth': 6},\n",
       "  mean: -0.40827, std: 0.06696, params: {'max_features': 0.8, 'subsample': 0.75, 'learning_rate': 0.006666666666666667, 'max_depth': 6},\n",
       "  mean: -0.43570, std: 0.07773, params: {'max_features': 0.8, 'subsample': 1, 'learning_rate': 0.006666666666666667, 'max_depth': 6},\n",
       "  mean: -0.35513, std: 0.04270, params: {'max_features': 1, 'subsample': 0.5, 'learning_rate': 0.006666666666666667, 'max_depth': 6},\n",
       "  mean: -0.35806, std: 0.04134, params: {'max_features': 1, 'subsample': 0.75, 'learning_rate': 0.006666666666666667, 'max_depth': 6},\n",
       "  mean: -0.36054, std: 0.03995, params: {'max_features': 1, 'subsample': 1, 'learning_rate': 0.006666666666666667, 'max_depth': 6},\n",
       "  mean: -0.39160, std: 0.05632, params: {'max_features': 0.4, 'subsample': 0.5, 'learning_rate': 0.006666666666666667, 'max_depth': 8},\n",
       "  mean: -0.40812, std: 0.05986, params: {'max_features': 0.4, 'subsample': 0.75, 'learning_rate': 0.006666666666666667, 'max_depth': 8},\n",
       "  mean: -0.42644, std: 0.07390, params: {'max_features': 0.4, 'subsample': 1, 'learning_rate': 0.006666666666666667, 'max_depth': 8},\n",
       "  mean: -0.40431, std: 0.06283, params: {'max_features': 0.6, 'subsample': 0.5, 'learning_rate': 0.006666666666666667, 'max_depth': 8},\n",
       "  mean: -0.42312, std: 0.06917, params: {'max_features': 0.6, 'subsample': 0.75, 'learning_rate': 0.006666666666666667, 'max_depth': 8},\n",
       "  mean: -0.44924, std: 0.08135, params: {'max_features': 0.6, 'subsample': 1, 'learning_rate': 0.006666666666666667, 'max_depth': 8},\n",
       "  mean: -0.41159, std: 0.06445, params: {'max_features': 0.8, 'subsample': 0.5, 'learning_rate': 0.006666666666666667, 'max_depth': 8},\n",
       "  mean: -0.43531, std: 0.07392, params: {'max_features': 0.8, 'subsample': 0.75, 'learning_rate': 0.006666666666666667, 'max_depth': 8},\n",
       "  mean: -0.47456, std: 0.09518, params: {'max_features': 0.8, 'subsample': 1, 'learning_rate': 0.006666666666666667, 'max_depth': 8},\n",
       "  mean: -0.36344, std: 0.04350, params: {'max_features': 1, 'subsample': 0.5, 'learning_rate': 0.006666666666666667, 'max_depth': 8},\n",
       "  mean: -0.36628, std: 0.04169, params: {'max_features': 1, 'subsample': 0.75, 'learning_rate': 0.006666666666666667, 'max_depth': 8},\n",
       "  mean: -0.36785, std: 0.04428, params: {'max_features': 1, 'subsample': 1, 'learning_rate': 0.006666666666666667, 'max_depth': 8},\n",
       "  mean: -0.39935, std: 0.06021, params: {'max_features': 0.4, 'subsample': 0.5, 'learning_rate': 0.006666666666666667, 'max_depth': 10},\n",
       "  mean: -0.42638, std: 0.06347, params: {'max_features': 0.4, 'subsample': 0.75, 'learning_rate': 0.006666666666666667, 'max_depth': 10},\n",
       "  mean: -0.44741, std: 0.07545, params: {'max_features': 0.4, 'subsample': 1, 'learning_rate': 0.006666666666666667, 'max_depth': 10},\n",
       "  mean: -0.41091, std: 0.06162, params: {'max_features': 0.6, 'subsample': 0.5, 'learning_rate': 0.006666666666666667, 'max_depth': 10},\n",
       "  mean: -0.43989, std: 0.07327, params: {'max_features': 0.6, 'subsample': 0.75, 'learning_rate': 0.006666666666666667, 'max_depth': 10},\n",
       "  mean: -0.48040, std: 0.08998, params: {'max_features': 0.6, 'subsample': 1, 'learning_rate': 0.006666666666666667, 'max_depth': 10},\n",
       "  mean: -0.42079, std: 0.06652, params: {'max_features': 0.8, 'subsample': 0.5, 'learning_rate': 0.006666666666666667, 'max_depth': 10},\n",
       "  mean: -0.45116, std: 0.07949, params: {'max_features': 0.8, 'subsample': 0.75, 'learning_rate': 0.006666666666666667, 'max_depth': 10},\n",
       "  mean: -0.52703, std: 0.10091, params: {'max_features': 0.8, 'subsample': 1, 'learning_rate': 0.006666666666666667, 'max_depth': 10},\n",
       "  mean: -0.37006, std: 0.04255, params: {'max_features': 1, 'subsample': 0.5, 'learning_rate': 0.006666666666666667, 'max_depth': 10},\n",
       "  mean: -0.37669, std: 0.04590, params: {'max_features': 1, 'subsample': 0.75, 'learning_rate': 0.006666666666666667, 'max_depth': 10},\n",
       "  mean: -0.37841, std: 0.04844, params: {'max_features': 1, 'subsample': 1, 'learning_rate': 0.006666666666666667, 'max_depth': 10},\n",
       "  mean: -0.37648, std: 0.05342, params: {'max_features': 0.4, 'subsample': 0.5, 'learning_rate': 0.01, 'max_depth': 4},\n",
       "  mean: -0.37921, std: 0.05682, params: {'max_features': 0.4, 'subsample': 0.75, 'learning_rate': 0.01, 'max_depth': 4},\n",
       "  mean: -0.38725, std: 0.05854, params: {'max_features': 0.4, 'subsample': 1, 'learning_rate': 0.01, 'max_depth': 4},\n",
       "  mean: -0.38589, std: 0.06121, params: {'max_features': 0.6, 'subsample': 0.5, 'learning_rate': 0.01, 'max_depth': 4},\n",
       "  mean: -0.39004, std: 0.06335, params: {'max_features': 0.6, 'subsample': 0.75, 'learning_rate': 0.01, 'max_depth': 4},\n",
       "  mean: -0.39642, std: 0.05441, params: {'max_features': 0.6, 'subsample': 1, 'learning_rate': 0.01, 'max_depth': 4},\n",
       "  mean: -0.39329, std: 0.06617, params: {'max_features': 0.8, 'subsample': 0.5, 'learning_rate': 0.01, 'max_depth': 4},\n",
       "  mean: -0.39426, std: 0.06654, params: {'max_features': 0.8, 'subsample': 0.75, 'learning_rate': 0.01, 'max_depth': 4},\n",
       "  mean: -0.40648, std: 0.05992, params: {'max_features': 0.8, 'subsample': 1, 'learning_rate': 0.01, 'max_depth': 4},\n",
       "  mean: -0.35651, std: 0.04161, params: {'max_features': 1, 'subsample': 0.5, 'learning_rate': 0.01, 'max_depth': 4},\n",
       "  mean: -0.36055, std: 0.03874, params: {'max_features': 1, 'subsample': 0.75, 'learning_rate': 0.01, 'max_depth': 4},\n",
       "  mean: -0.36546, std: 0.04052, params: {'max_features': 1, 'subsample': 1, 'learning_rate': 0.01, 'max_depth': 4},\n",
       "  mean: -0.39796, std: 0.06114, params: {'max_features': 0.4, 'subsample': 0.5, 'learning_rate': 0.01, 'max_depth': 6},\n",
       "  mean: -0.40400, std: 0.06117, params: {'max_features': 0.4, 'subsample': 0.75, 'learning_rate': 0.01, 'max_depth': 6},\n",
       "  mean: -0.42123, std: 0.07443, params: {'max_features': 0.4, 'subsample': 1, 'learning_rate': 0.01, 'max_depth': 6},\n",
       "  mean: -0.40604, std: 0.07661, params: {'max_features': 0.6, 'subsample': 0.5, 'learning_rate': 0.01, 'max_depth': 6},\n",
       "  mean: -0.41942, std: 0.07694, params: {'max_features': 0.6, 'subsample': 0.75, 'learning_rate': 0.01, 'max_depth': 6},\n",
       "  mean: -0.43938, std: 0.08548, params: {'max_features': 0.6, 'subsample': 1, 'learning_rate': 0.01, 'max_depth': 6},\n",
       "  mean: -0.41687, std: 0.07119, params: {'max_features': 0.8, 'subsample': 0.5, 'learning_rate': 0.01, 'max_depth': 6},\n",
       "  mean: -0.43216, std: 0.07630, params: {'max_features': 0.8, 'subsample': 0.75, 'learning_rate': 0.01, 'max_depth': 6},\n",
       "  mean: -0.45605, std: 0.09132, params: {'max_features': 0.8, 'subsample': 1, 'learning_rate': 0.01, 'max_depth': 6},\n",
       "  mean: -0.35797, std: 0.04539, params: {'max_features': 1, 'subsample': 0.5, 'learning_rate': 0.01, 'max_depth': 6},\n",
       "  mean: -0.35949, std: 0.04219, params: {'max_features': 1, 'subsample': 0.75, 'learning_rate': 0.01, 'max_depth': 6},\n",
       "  mean: -0.36199, std: 0.04199, params: {'max_features': 1, 'subsample': 1, 'learning_rate': 0.01, 'max_depth': 6},\n",
       "  mean: -0.41093, std: 0.06032, params: {'max_features': 0.4, 'subsample': 0.5, 'learning_rate': 0.01, 'max_depth': 8},\n",
       "  mean: -0.42888, std: 0.07047, params: {'max_features': 0.4, 'subsample': 0.75, 'learning_rate': 0.01, 'max_depth': 8},\n",
       "  mean: -0.45416, std: 0.08389, params: {'max_features': 0.4, 'subsample': 1, 'learning_rate': 0.01, 'max_depth': 8},\n",
       "  mean: -0.42771, std: 0.06671, params: {'max_features': 0.6, 'subsample': 0.5, 'learning_rate': 0.01, 'max_depth': 8},\n",
       "  mean: -0.44706, std: 0.07737, params: {'max_features': 0.6, 'subsample': 0.75, 'learning_rate': 0.01, 'max_depth': 8},\n",
       "  mean: -0.48032, std: 0.09000, params: {'max_features': 0.6, 'subsample': 1, 'learning_rate': 0.01, 'max_depth': 8},\n",
       "  mean: -0.44094, std: 0.07446, params: {'max_features': 0.8, 'subsample': 0.5, 'learning_rate': 0.01, 'max_depth': 8},\n",
       "  mean: -0.46354, std: 0.08257, params: {'max_features': 0.8, 'subsample': 0.75, 'learning_rate': 0.01, 'max_depth': 8},\n",
       "  mean: -0.49912, std: 0.10360, params: {'max_features': 0.8, 'subsample': 1, 'learning_rate': 0.01, 'max_depth': 8},\n",
       "  mean: -0.37120, std: 0.04720, params: {'max_features': 1, 'subsample': 0.5, 'learning_rate': 0.01, 'max_depth': 8},\n",
       "  mean: -0.37741, std: 0.04374, params: {'max_features': 1, 'subsample': 0.75, 'learning_rate': 0.01, 'max_depth': 8},\n",
       "  mean: -0.37971, std: 0.04796, params: {'max_features': 1, 'subsample': 1, 'learning_rate': 0.01, 'max_depth': 8},\n",
       "  mean: -0.42498, std: 0.07221, params: {'max_features': 0.4, 'subsample': 0.5, 'learning_rate': 0.01, 'max_depth': 10},\n",
       "  mean: -0.44794, std: 0.06532, params: {'max_features': 0.4, 'subsample': 0.75, 'learning_rate': 0.01, 'max_depth': 10},\n",
       "  mean: -0.47525, std: 0.08439, params: {'max_features': 0.4, 'subsample': 1, 'learning_rate': 0.01, 'max_depth': 10},\n",
       "  mean: -0.43802, std: 0.07674, params: {'max_features': 0.6, 'subsample': 0.5, 'learning_rate': 0.01, 'max_depth': 10},\n",
       "  mean: -0.46367, std: 0.07400, params: {'max_features': 0.6, 'subsample': 0.75, 'learning_rate': 0.01, 'max_depth': 10},\n",
       "  mean: -0.51000, std: 0.09416, params: {'max_features': 0.6, 'subsample': 1, 'learning_rate': 0.01, 'max_depth': 10},\n",
       "  mean: -0.44518, std: 0.07071, params: {'max_features': 0.8, 'subsample': 0.5, 'learning_rate': 0.01, 'max_depth': 10},\n",
       "  mean: -0.47791, std: 0.08251, params: {'max_features': 0.8, 'subsample': 0.75, 'learning_rate': 0.01, 'max_depth': 10},\n",
       "  mean: -0.55904, std: 0.11582, params: {'max_features': 0.8, 'subsample': 1, 'learning_rate': 0.01, 'max_depth': 10},\n",
       "  mean: -0.38708, std: 0.04924, params: {'max_features': 1, 'subsample': 0.5, 'learning_rate': 0.01, 'max_depth': 10},\n",
       "  mean: -0.39881, std: 0.04956, params: {'max_features': 1, 'subsample': 0.75, 'learning_rate': 0.01, 'max_depth': 10},\n",
       "  mean: -0.40022, std: 0.05270, params: {'max_features': 1, 'subsample': 1, 'learning_rate': 0.01, 'max_depth': 10},\n",
       "  mean: -0.38412, std: 0.05391, params: {'max_features': 0.4, 'subsample': 0.5, 'learning_rate': 0.013333333333333334, 'max_depth': 4},\n",
       "  mean: -0.38871, std: 0.06517, params: {'max_features': 0.4, 'subsample': 0.75, 'learning_rate': 0.013333333333333334, 'max_depth': 4},\n",
       "  mean: -0.39497, std: 0.06615, params: {'max_features': 0.4, 'subsample': 1, 'learning_rate': 0.013333333333333334, 'max_depth': 4},\n",
       "  mean: -0.39365, std: 0.06927, params: {'max_features': 0.6, 'subsample': 0.5, 'learning_rate': 0.013333333333333334, 'max_depth': 4},\n",
       "  mean: -0.39894, std: 0.07067, params: {'max_features': 0.6, 'subsample': 0.75, 'learning_rate': 0.013333333333333334, 'max_depth': 4},\n",
       "  mean: -0.40524, std: 0.06838, params: {'max_features': 0.6, 'subsample': 1, 'learning_rate': 0.013333333333333334, 'max_depth': 4},\n",
       "  mean: -0.40756, std: 0.07620, params: {'max_features': 0.8, 'subsample': 0.5, 'learning_rate': 0.013333333333333334, 'max_depth': 4},\n",
       "  mean: -0.40864, std: 0.07421, params: {'max_features': 0.8, 'subsample': 0.75, 'learning_rate': 0.013333333333333334, 'max_depth': 4},\n",
       "  mean: -0.41769, std: 0.06538, params: {'max_features': 0.8, 'subsample': 1, 'learning_rate': 0.013333333333333334, 'max_depth': 4},\n",
       "  mean: -0.35446, std: 0.04292, params: {'max_features': 1, 'subsample': 0.5, 'learning_rate': 0.013333333333333334, 'max_depth': 4},\n",
       "  mean: -0.35882, std: 0.03975, params: {'max_features': 1, 'subsample': 0.75, 'learning_rate': 0.013333333333333334, 'max_depth': 4},\n",
       "  mean: -0.36428, std: 0.04130, params: {'max_features': 1, 'subsample': 1, 'learning_rate': 0.013333333333333334, 'max_depth': 4},\n",
       "  mean: -0.41182, std: 0.06447, params: {'max_features': 0.4, 'subsample': 0.5, 'learning_rate': 0.013333333333333334, 'max_depth': 6},\n",
       "  mean: -0.42073, std: 0.07075, params: {'max_features': 0.4, 'subsample': 0.75, 'learning_rate': 0.013333333333333334, 'max_depth': 6},\n",
       "  mean: -0.43750, std: 0.08493, params: {'max_features': 0.4, 'subsample': 1, 'learning_rate': 0.013333333333333334, 'max_depth': 6},\n",
       "  mean: -0.42213, std: 0.08016, params: {'max_features': 0.6, 'subsample': 0.5, 'learning_rate': 0.013333333333333334, 'max_depth': 6},\n",
       "  mean: -0.43633, std: 0.08016, params: {'max_features': 0.6, 'subsample': 0.75, 'learning_rate': 0.013333333333333334, 'max_depth': 6},\n",
       "  mean: -0.45744, std: 0.09536, params: {'max_features': 0.6, 'subsample': 1, 'learning_rate': 0.013333333333333334, 'max_depth': 6},\n",
       "  mean: -0.43400, std: 0.07735, params: {'max_features': 0.8, 'subsample': 0.5, 'learning_rate': 0.013333333333333334, 'max_depth': 6},\n",
       "  mean: -0.44947, std: 0.07649, params: {'max_features': 0.8, 'subsample': 0.75, 'learning_rate': 0.013333333333333334, 'max_depth': 6},\n",
       "  mean: -0.47343, std: 0.09889, params: {'max_features': 0.8, 'subsample': 1, 'learning_rate': 0.013333333333333334, 'max_depth': 6},\n",
       "  mean: -0.36411, std: 0.04838, params: {'max_features': 1, 'subsample': 0.5, 'learning_rate': 0.013333333333333334, 'max_depth': 6},\n",
       "  mean: -0.36514, std: 0.04141, params: {'max_features': 1, 'subsample': 0.75, 'learning_rate': 0.013333333333333334, 'max_depth': 6},\n",
       "  mean: -0.36867, std: 0.04255, params: {'max_features': 1, 'subsample': 1, 'learning_rate': 0.013333333333333334, 'max_depth': 6},\n",
       "  mean: -0.43284, std: 0.06552, params: {'max_features': 0.4, 'subsample': 0.5, 'learning_rate': 0.013333333333333334, 'max_depth': 8},\n",
       "  mean: -0.45293, std: 0.07428, params: {'max_features': 0.4, 'subsample': 0.75, 'learning_rate': 0.013333333333333334, 'max_depth': 8},\n",
       "  mean: -0.47684, std: 0.08356, params: {'max_features': 0.4, 'subsample': 1, 'learning_rate': 0.013333333333333334, 'max_depth': 8},\n",
       "  mean: -0.44938, std: 0.08210, params: {'max_features': 0.6, 'subsample': 0.5, 'learning_rate': 0.013333333333333334, 'max_depth': 8},\n",
       "  mean: -0.46994, std: 0.08144, params: {'max_features': 0.6, 'subsample': 0.75, 'learning_rate': 0.013333333333333334, 'max_depth': 8},\n",
       "  mean: -0.49641, std: 0.09439, params: {'max_features': 0.6, 'subsample': 1, 'learning_rate': 0.013333333333333334, 'max_depth': 8},\n",
       "  mean: -0.46309, std: 0.07865, params: {'max_features': 0.8, 'subsample': 0.5, 'learning_rate': 0.013333333333333334, 'max_depth': 8},\n",
       "  mean: -0.48712, std: 0.08674, params: {'max_features': 0.8, 'subsample': 0.75, 'learning_rate': 0.013333333333333334, 'max_depth': 8},\n",
       "  mean: -0.51925, std: 0.10983, params: {'max_features': 0.8, 'subsample': 1, 'learning_rate': 0.013333333333333334, 'max_depth': 8},\n",
       "  mean: -0.38217, std: 0.04914, params: {'max_features': 1, 'subsample': 0.5, 'learning_rate': 0.013333333333333334, 'max_depth': 8},\n",
       "  mean: -0.39103, std: 0.04675, params: {'max_features': 1, 'subsample': 0.75, 'learning_rate': 0.013333333333333334, 'max_depth': 8},\n",
       "  mean: -0.39070, std: 0.04937, params: {'max_features': 1, 'subsample': 1, 'learning_rate': 0.013333333333333334, 'max_depth': 8},\n",
       "  mean: -0.45615, std: 0.07516, params: {'max_features': 0.4, 'subsample': 0.5, 'learning_rate': 0.013333333333333334, 'max_depth': 10},\n",
       "  mean: -0.46522, std: 0.07045, params: {'max_features': 0.4, 'subsample': 0.75, 'learning_rate': 0.013333333333333334, 'max_depth': 10},\n",
       "  mean: -0.49418, std: 0.08532, params: {'max_features': 0.4, 'subsample': 1, 'learning_rate': 0.013333333333333334, 'max_depth': 10},\n",
       "  mean: -0.45537, std: 0.07751, params: {'max_features': 0.6, 'subsample': 0.5, 'learning_rate': 0.013333333333333334, 'max_depth': 10},\n",
       "  mean: -0.48587, std: 0.08726, params: {'max_features': 0.6, 'subsample': 0.75, 'learning_rate': 0.013333333333333334, 'max_depth': 10},\n",
       "  mean: -0.52558, std: 0.09758, params: {'max_features': 0.6, 'subsample': 1, 'learning_rate': 0.013333333333333334, 'max_depth': 10},\n",
       "  mean: -0.47888, std: 0.07278, params: {'max_features': 0.8, 'subsample': 0.5, 'learning_rate': 0.013333333333333334, 'max_depth': 10},\n",
       "  mean: -0.49797, std: 0.08651, params: {'max_features': 0.8, 'subsample': 0.75, 'learning_rate': 0.013333333333333334, 'max_depth': 10},\n",
       "  mean: -0.57502, std: 0.11319, params: {'max_features': 0.8, 'subsample': 1, 'learning_rate': 0.013333333333333334, 'max_depth': 10},\n",
       "  mean: -0.40327, std: 0.04739, params: {'max_features': 1, 'subsample': 0.5, 'learning_rate': 0.013333333333333334, 'max_depth': 10},\n",
       "  mean: -0.41510, std: 0.05067, params: {'max_features': 1, 'subsample': 0.75, 'learning_rate': 0.013333333333333334, 'max_depth': 10},\n",
       "  mean: -0.41599, std: 0.05743, params: {'max_features': 1, 'subsample': 1, 'learning_rate': 0.013333333333333334, 'max_depth': 10},\n",
       "  mean: -0.39413, std: 0.05703, params: {'max_features': 0.4, 'subsample': 0.5, 'learning_rate': 0.016666666666666666, 'max_depth': 4},\n",
       "  mean: -0.40067, std: 0.07380, params: {'max_features': 0.4, 'subsample': 0.75, 'learning_rate': 0.016666666666666666, 'max_depth': 4},\n",
       "  mean: -0.40295, std: 0.07279, params: {'max_features': 0.4, 'subsample': 1, 'learning_rate': 0.016666666666666666, 'max_depth': 4},\n",
       "  mean: -0.40365, std: 0.07695, params: {'max_features': 0.6, 'subsample': 0.5, 'learning_rate': 0.016666666666666666, 'max_depth': 4},\n",
       "  mean: -0.40925, std: 0.07258, params: {'max_features': 0.6, 'subsample': 0.75, 'learning_rate': 0.016666666666666666, 'max_depth': 4},\n",
       "  mean: -0.41276, std: 0.07089, params: {'max_features': 0.6, 'subsample': 1, 'learning_rate': 0.016666666666666666, 'max_depth': 4},\n",
       "  mean: -0.41815, std: 0.07826, params: {'max_features': 0.8, 'subsample': 0.5, 'learning_rate': 0.016666666666666666, 'max_depth': 4},\n",
       "  mean: -0.41682, std: 0.07600, params: {'max_features': 0.8, 'subsample': 0.75, 'learning_rate': 0.016666666666666666, 'max_depth': 4},\n",
       "  mean: -0.42102, std: 0.06925, params: {'max_features': 0.8, 'subsample': 1, 'learning_rate': 0.016666666666666666, 'max_depth': 4},\n",
       "  mean: -0.35669, std: 0.04385, params: {'max_features': 1, 'subsample': 0.5, 'learning_rate': 0.016666666666666666, 'max_depth': 4},\n",
       "  mean: -0.35897, std: 0.04058, params: {'max_features': 1, 'subsample': 0.75, 'learning_rate': 0.016666666666666666, 'max_depth': 4},\n",
       "  mean: -0.36573, std: 0.04007, params: {'max_features': 1, 'subsample': 1, 'learning_rate': 0.016666666666666666, 'max_depth': 4},\n",
       "  mean: -0.42971, std: 0.07761, params: {'max_features': 0.4, 'subsample': 0.5, 'learning_rate': 0.016666666666666666, 'max_depth': 6},\n",
       "  mean: -0.44183, std: 0.08003, params: {'max_features': 0.4, 'subsample': 0.75, 'learning_rate': 0.016666666666666666, 'max_depth': 6},\n",
       "  mean: -0.44783, std: 0.08578, params: {'max_features': 0.4, 'subsample': 1, 'learning_rate': 0.016666666666666666, 'max_depth': 6},\n",
       "  mean: -0.43733, std: 0.08130, params: {'max_features': 0.6, 'subsample': 0.5, 'learning_rate': 0.016666666666666666, 'max_depth': 6},\n",
       "  mean: -0.44952, std: 0.08031, params: {'max_features': 0.6, 'subsample': 0.75, 'learning_rate': 0.016666666666666666, 'max_depth': 6},\n",
       "  mean: -0.47291, std: 0.10058, params: {'max_features': 0.6, 'subsample': 1, 'learning_rate': 0.016666666666666666, 'max_depth': 6},\n",
       "  mean: -0.45257, std: 0.07532, params: {'max_features': 0.8, 'subsample': 0.5, 'learning_rate': 0.016666666666666666, 'max_depth': 6},\n",
       "  mean: -0.46444, std: 0.08224, params: {'max_features': 0.8, 'subsample': 0.75, 'learning_rate': 0.016666666666666666, 'max_depth': 6},\n",
       "  mean: -0.49226, std: 0.10538, params: {'max_features': 0.8, 'subsample': 1, 'learning_rate': 0.016666666666666666, 'max_depth': 6},\n",
       "  mean: -0.37222, std: 0.04847, params: {'max_features': 1, 'subsample': 0.5, 'learning_rate': 0.016666666666666666, 'max_depth': 6},\n",
       "  mean: -0.37081, std: 0.04311, params: {'max_features': 1, 'subsample': 0.75, 'learning_rate': 0.016666666666666666, 'max_depth': 6},\n",
       "  mean: -0.37493, std: 0.04296, params: {'max_features': 1, 'subsample': 1, 'learning_rate': 0.016666666666666666, 'max_depth': 6},\n",
       "  mean: -0.44689, std: 0.06934, params: {'max_features': 0.4, 'subsample': 0.5, 'learning_rate': 0.016666666666666666, 'max_depth': 8},\n",
       "  mean: -0.46573, std: 0.07427, params: {'max_features': 0.4, 'subsample': 0.75, 'learning_rate': 0.016666666666666666, 'max_depth': 8},\n",
       "  mean: -0.48576, std: 0.09043, params: {'max_features': 0.4, 'subsample': 1, 'learning_rate': 0.016666666666666666, 'max_depth': 8},\n",
       "  mean: -0.46532, std: 0.07427, params: {'max_features': 0.6, 'subsample': 0.5, 'learning_rate': 0.016666666666666666, 'max_depth': 8},\n",
       "  mean: -0.48279, std: 0.08271, params: {'max_features': 0.6, 'subsample': 0.75, 'learning_rate': 0.016666666666666666, 'max_depth': 8},\n",
       "  mean: -0.51184, std: 0.10095, params: {'max_features': 0.6, 'subsample': 1, 'learning_rate': 0.016666666666666666, 'max_depth': 8},\n",
       "  mean: -0.48020, std: 0.07513, params: {'max_features': 0.8, 'subsample': 0.5, 'learning_rate': 0.016666666666666666, 'max_depth': 8},\n",
       "  mean: -0.49797, std: 0.08893, params: {'max_features': 0.8, 'subsample': 0.75, 'learning_rate': 0.016666666666666666, 'max_depth': 8},\n",
       "  mean: -0.53444, std: 0.11473, params: {'max_features': 0.8, 'subsample': 1, 'learning_rate': 0.016666666666666666, 'max_depth': 8},\n",
       "  mean: -0.39643, std: 0.05165, params: {'max_features': 1, 'subsample': 0.5, 'learning_rate': 0.016666666666666666, 'max_depth': 8},\n",
       "  mean: -0.40646, std: 0.04895, params: {'max_features': 1, 'subsample': 0.75, 'learning_rate': 0.016666666666666666, 'max_depth': 8},\n",
       "  mean: -0.40644, std: 0.05475, params: {'max_features': 1, 'subsample': 1, 'learning_rate': 0.016666666666666666, 'max_depth': 8},\n",
       "  mean: -0.46534, std: 0.07525, params: {'max_features': 0.4, 'subsample': 0.5, 'learning_rate': 0.016666666666666666, 'max_depth': 10},\n",
       "  mean: -0.47609, std: 0.06978, params: {'max_features': 0.4, 'subsample': 0.75, 'learning_rate': 0.016666666666666666, 'max_depth': 10},\n",
       "  mean: -0.50119, std: 0.08463, params: {'max_features': 0.4, 'subsample': 1, 'learning_rate': 0.016666666666666666, 'max_depth': 10},\n",
       "  mean: -0.47897, std: 0.07429, params: {'max_features': 0.6, 'subsample': 0.5, 'learning_rate': 0.016666666666666666, 'max_depth': 10},\n",
       "  mean: -0.49337, std: 0.08183, params: {'max_features': 0.6, 'subsample': 0.75, 'learning_rate': 0.016666666666666666, 'max_depth': 10},\n",
       "  mean: -0.52865, std: 0.09811, params: {'max_features': 0.6, 'subsample': 1, 'learning_rate': 0.016666666666666666, 'max_depth': 10},\n",
       "  mean: -0.49212, std: 0.07484, params: {'max_features': 0.8, 'subsample': 0.5, 'learning_rate': 0.016666666666666666, 'max_depth': 10},\n",
       "  mean: -0.50594, std: 0.08743, params: {'max_features': 0.8, 'subsample': 0.75, 'learning_rate': 0.016666666666666666, 'max_depth': 10},\n",
       "  mean: -0.58188, std: 0.12124, params: {'max_features': 0.8, 'subsample': 1, 'learning_rate': 0.016666666666666666, 'max_depth': 10},\n",
       "  mean: -0.41988, std: 0.05123, params: {'max_features': 1, 'subsample': 0.5, 'learning_rate': 0.016666666666666666, 'max_depth': 10},\n",
       "  mean: -0.42852, std: 0.05046, params: {'max_features': 1, 'subsample': 0.75, 'learning_rate': 0.016666666666666666, 'max_depth': 10},\n",
       "  mean: -0.43320, std: 0.06096, params: {'max_features': 1, 'subsample': 1, 'learning_rate': 0.016666666666666666, 'max_depth': 10},\n",
       "  mean: -0.40094, std: 0.06629, params: {'max_features': 0.4, 'subsample': 0.5, 'learning_rate': 0.02, 'max_depth': 4},\n",
       "  mean: -0.40447, std: 0.07673, params: {'max_features': 0.4, 'subsample': 0.75, 'learning_rate': 0.02, 'max_depth': 4},\n",
       "  mean: -0.40990, std: 0.07887, params: {'max_features': 0.4, 'subsample': 1, 'learning_rate': 0.02, 'max_depth': 4},\n",
       "  mean: -0.41622, std: 0.08102, params: {'max_features': 0.6, 'subsample': 0.5, 'learning_rate': 0.02, 'max_depth': 4},\n",
       "  mean: -0.41252, std: 0.07687, params: {'max_features': 0.6, 'subsample': 0.75, 'learning_rate': 0.02, 'max_depth': 4},\n",
       "  mean: -0.41907, std: 0.07337, params: {'max_features': 0.6, 'subsample': 1, 'learning_rate': 0.02, 'max_depth': 4},\n",
       "  mean: -0.43091, std: 0.08350, params: {'max_features': 0.8, 'subsample': 0.5, 'learning_rate': 0.02, 'max_depth': 4},\n",
       "  mean: -0.42519, std: 0.07616, params: {'max_features': 0.8, 'subsample': 0.75, 'learning_rate': 0.02, 'max_depth': 4},\n",
       "  mean: -0.43735, std: 0.08376, params: {'max_features': 0.8, 'subsample': 1, 'learning_rate': 0.02, 'max_depth': 4},\n",
       "  mean: -0.35845, std: 0.04340, params: {'max_features': 1, 'subsample': 0.5, 'learning_rate': 0.02, 'max_depth': 4},\n",
       "  mean: -0.36089, std: 0.04088, params: {'max_features': 1, 'subsample': 0.75, 'learning_rate': 0.02, 'max_depth': 4},\n",
       "  mean: -0.36908, std: 0.03979, params: {'max_features': 1, 'subsample': 1, 'learning_rate': 0.02, 'max_depth': 4},\n",
       "  mean: -0.43912, std: 0.07388, params: {'max_features': 0.4, 'subsample': 0.5, 'learning_rate': 0.02, 'max_depth': 6},\n",
       "  mean: -0.45725, std: 0.08540, params: {'max_features': 0.4, 'subsample': 0.75, 'learning_rate': 0.02, 'max_depth': 6},\n",
       "  mean: -0.45978, std: 0.08874, params: {'max_features': 0.4, 'subsample': 1, 'learning_rate': 0.02, 'max_depth': 6},\n",
       "  mean: -0.46056, std: 0.08430, params: {'max_features': 0.6, 'subsample': 0.5, 'learning_rate': 0.02, 'max_depth': 6},\n",
       "  mean: -0.46113, std: 0.08450, params: {'max_features': 0.6, 'subsample': 0.75, 'learning_rate': 0.02, 'max_depth': 6},\n",
       "  mean: -0.48206, std: 0.09859, params: {'max_features': 0.6, 'subsample': 1, 'learning_rate': 0.02, 'max_depth': 6},\n",
       "  mean: -0.47093, std: 0.09023, params: {'max_features': 0.8, 'subsample': 0.5, 'learning_rate': 0.02, 'max_depth': 6},\n",
       "  mean: -0.47742, std: 0.08082, params: {'max_features': 0.8, 'subsample': 0.75, 'learning_rate': 0.02, 'max_depth': 6},\n",
       "  mean: -0.50172, std: 0.11393, params: {'max_features': 0.8, 'subsample': 1, 'learning_rate': 0.02, 'max_depth': 6},\n",
       "  mean: -0.37920, std: 0.05126, params: {'max_features': 1, 'subsample': 0.5, 'learning_rate': 0.02, 'max_depth': 6},\n",
       "  mean: -0.37884, std: 0.04379, params: {'max_features': 1, 'subsample': 0.75, 'learning_rate': 0.02, 'max_depth': 6},\n",
       "  mean: -0.38162, std: 0.04505, params: {'max_features': 1, 'subsample': 1, 'learning_rate': 0.02, 'max_depth': 6},\n",
       "  mean: -0.46992, std: 0.07508, params: {'max_features': 0.4, 'subsample': 0.5, 'learning_rate': 0.02, 'max_depth': 8},\n",
       "  mean: -0.47965, std: 0.07325, params: {'max_features': 0.4, 'subsample': 0.75, 'learning_rate': 0.02, 'max_depth': 8},\n",
       "  mean: -0.49410, std: 0.09462, params: {'max_features': 0.4, 'subsample': 1, 'learning_rate': 0.02, 'max_depth': 8},\n",
       "  mean: -0.47776, std: 0.08120, params: {'max_features': 0.6, 'subsample': 0.5, 'learning_rate': 0.02, 'max_depth': 8},\n",
       "  mean: -0.49370, std: 0.09042, params: {'max_features': 0.6, 'subsample': 0.75, 'learning_rate': 0.02, 'max_depth': 8},\n",
       "  mean: -0.52127, std: 0.10395, params: {'max_features': 0.6, 'subsample': 1, 'learning_rate': 0.02, 'max_depth': 8},\n",
       "  mean: -0.49109, std: 0.08767, params: {'max_features': 0.8, 'subsample': 0.5, 'learning_rate': 0.02, 'max_depth': 8},\n",
       "  mean: -0.51361, std: 0.08364, params: {'max_features': 0.8, 'subsample': 0.75, 'learning_rate': 0.02, 'max_depth': 8},\n",
       "  mean: -0.54475, std: 0.11794, params: {'max_features': 0.8, 'subsample': 1, 'learning_rate': 0.02, 'max_depth': 8},\n",
       "  mean: -0.40944, std: 0.05514, params: {'max_features': 1, 'subsample': 0.5, 'learning_rate': 0.02, 'max_depth': 8},\n",
       "  mean: -0.41439, std: 0.05326, params: {'max_features': 1, 'subsample': 0.75, 'learning_rate': 0.02, 'max_depth': 8},\n",
       "  mean: -0.41741, std: 0.05457, params: {'max_features': 1, 'subsample': 1, 'learning_rate': 0.02, 'max_depth': 8},\n",
       "  mean: -0.47200, std: 0.07857, params: {'max_features': 0.4, 'subsample': 0.5, 'learning_rate': 0.02, 'max_depth': 10},\n",
       "  mean: -0.49794, std: 0.07475, params: {'max_features': 0.4, 'subsample': 0.75, 'learning_rate': 0.02, 'max_depth': 10},\n",
       "  mean: -0.50442, std: 0.08529, params: {'max_features': 0.4, 'subsample': 1, 'learning_rate': 0.02, 'max_depth': 10},\n",
       "  mean: -0.48839, std: 0.06722, params: {'max_features': 0.6, 'subsample': 0.5, 'learning_rate': 0.02, 'max_depth': 10},\n",
       "  mean: -0.50004, std: 0.08247, params: {'max_features': 0.6, 'subsample': 0.75, 'learning_rate': 0.02, 'max_depth': 10},\n",
       "  mean: -0.53424, std: 0.10144, params: {'max_features': 0.6, 'subsample': 1, 'learning_rate': 0.02, 'max_depth': 10},\n",
       "  mean: -0.49990, std: 0.09362, params: {'max_features': 0.8, 'subsample': 0.5, 'learning_rate': 0.02, 'max_depth': 10},\n",
       "  mean: -0.51171, std: 0.08889, params: {'max_features': 0.8, 'subsample': 0.75, 'learning_rate': 0.02, 'max_depth': 10},\n",
       "  mean: -0.58536, std: 0.11938, params: {'max_features': 0.8, 'subsample': 1, 'learning_rate': 0.02, 'max_depth': 10},\n",
       "  mean: -0.42954, std: 0.05485, params: {'max_features': 1, 'subsample': 0.5, 'learning_rate': 0.02, 'max_depth': 10},\n",
       "  mean: -0.43823, std: 0.05188, params: {'max_features': 1, 'subsample': 0.75, 'learning_rate': 0.02, 'max_depth': 10},\n",
       "  mean: -0.44067, std: 0.06038, params: {'max_features': 1, 'subsample': 1, 'learning_rate': 0.02, 'max_depth': 10},\n",
       "  mean: -0.40975, std: 0.06888, params: {'max_features': 0.4, 'subsample': 0.5, 'learning_rate': 0.023333333333333334, 'max_depth': 4},\n",
       "  mean: -0.41845, std: 0.07958, params: {'max_features': 0.4, 'subsample': 0.75, 'learning_rate': 0.023333333333333334, 'max_depth': 4},\n",
       "  mean: -0.41645, std: 0.08735, params: {'max_features': 0.4, 'subsample': 1, 'learning_rate': 0.023333333333333334, 'max_depth': 4},\n",
       "  mean: -0.42395, std: 0.08083, params: {'max_features': 0.6, 'subsample': 0.5, 'learning_rate': 0.023333333333333334, 'max_depth': 4},\n",
       "  mean: -0.42317, std: 0.07901, params: {'max_features': 0.6, 'subsample': 0.75, 'learning_rate': 0.023333333333333334, 'max_depth': 4},\n",
       "  mean: -0.42982, std: 0.08623, params: {'max_features': 0.6, 'subsample': 1, 'learning_rate': 0.023333333333333334, 'max_depth': 4},\n",
       "  mean: -0.43107, std: 0.08750, params: {'max_features': 0.8, 'subsample': 0.5, 'learning_rate': 0.023333333333333334, 'max_depth': 4},\n",
       "  mean: -0.43624, std: 0.08370, params: {'max_features': 0.8, 'subsample': 0.75, 'learning_rate': 0.023333333333333334, 'max_depth': 4},\n",
       "  mean: -0.44030, std: 0.08377, params: {'max_features': 0.8, 'subsample': 1, 'learning_rate': 0.023333333333333334, 'max_depth': 4},\n",
       "  mean: -0.36008, std: 0.04496, params: {'max_features': 1, 'subsample': 0.5, 'learning_rate': 0.023333333333333334, 'max_depth': 4},\n",
       "  mean: -0.36405, std: 0.04098, params: {'max_features': 1, 'subsample': 0.75, 'learning_rate': 0.023333333333333334, 'max_depth': 4},\n",
       "  mean: -0.36990, std: 0.04106, params: {'max_features': 1, 'subsample': 1, 'learning_rate': 0.023333333333333334, 'max_depth': 4},\n",
       "  mean: -0.44992, std: 0.07544, params: {'max_features': 0.4, 'subsample': 0.5, 'learning_rate': 0.023333333333333334, 'max_depth': 6},\n",
       "  mean: -0.46100, std: 0.08655, params: {'max_features': 0.4, 'subsample': 0.75, 'learning_rate': 0.023333333333333334, 'max_depth': 6},\n",
       "  mean: -0.47705, std: 0.09615, params: {'max_features': 0.4, 'subsample': 1, 'learning_rate': 0.023333333333333334, 'max_depth': 6},\n",
       "  mean: -0.46368, std: 0.08506, params: {'max_features': 0.6, 'subsample': 0.5, 'learning_rate': 0.023333333333333334, 'max_depth': 6},\n",
       "  mean: -0.47534, std: 0.08949, params: {'max_features': 0.6, 'subsample': 0.75, 'learning_rate': 0.023333333333333334, 'max_depth': 6},\n",
       "  mean: -0.49607, std: 0.09550, params: {'max_features': 0.6, 'subsample': 1, 'learning_rate': 0.023333333333333334, 'max_depth': 6},\n",
       "  mean: -0.48981, std: 0.08912, params: {'max_features': 0.8, 'subsample': 0.5, 'learning_rate': 0.023333333333333334, 'max_depth': 6},\n",
       "  mean: -0.48959, std: 0.09082, params: {'max_features': 0.8, 'subsample': 0.75, 'learning_rate': 0.023333333333333334, 'max_depth': 6},\n",
       "  mean: -0.51100, std: 0.11420, params: {'max_features': 0.8, 'subsample': 1, 'learning_rate': 0.023333333333333334, 'max_depth': 6},\n",
       "  mean: -0.38124, std: 0.05337, params: {'max_features': 1, 'subsample': 0.5, 'learning_rate': 0.023333333333333334, 'max_depth': 6},\n",
       "  mean: -0.38590, std: 0.04371, params: {'max_features': 1, 'subsample': 0.75, 'learning_rate': 0.023333333333333334, 'max_depth': 6},\n",
       "  mean: -0.39071, std: 0.04836, params: {'max_features': 1, 'subsample': 1, 'learning_rate': 0.023333333333333334, 'max_depth': 6},\n",
       "  mean: -0.47434, std: 0.07399, params: {'max_features': 0.4, 'subsample': 0.5, 'learning_rate': 0.023333333333333334, 'max_depth': 8},\n",
       "  mean: -0.47632, std: 0.07575, params: {'max_features': 0.4, 'subsample': 0.75, 'learning_rate': 0.023333333333333334, 'max_depth': 8},\n",
       "  mean: -0.50594, std: 0.09029, params: {'max_features': 0.4, 'subsample': 1, 'learning_rate': 0.023333333333333334, 'max_depth': 8},\n",
       "  mean: -0.48687, std: 0.08072, params: {'max_features': 0.6, 'subsample': 0.5, 'learning_rate': 0.023333333333333334, 'max_depth': 8},\n",
       "  mean: -0.50715, std: 0.08375, params: {'max_features': 0.6, 'subsample': 0.75, 'learning_rate': 0.023333333333333334, 'max_depth': 8},\n",
       "  mean: -0.53049, std: 0.10782, params: {'max_features': 0.6, 'subsample': 1, 'learning_rate': 0.023333333333333334, 'max_depth': 8},\n",
       "  mean: -0.50386, std: 0.07951, params: {'max_features': 0.8, 'subsample': 0.5, 'learning_rate': 0.023333333333333334, 'max_depth': 8},\n",
       "  mean: -0.51645, std: 0.08655, params: {'max_features': 0.8, 'subsample': 0.75, 'learning_rate': 0.023333333333333334, 'max_depth': 8},\n",
       "  mean: -0.54939, std: 0.11250, params: {'max_features': 0.8, 'subsample': 1, 'learning_rate': 0.023333333333333334, 'max_depth': 8},\n",
       "  mean: -0.41769, std: 0.05649, params: {'max_features': 1, 'subsample': 0.5, 'learning_rate': 0.023333333333333334, 'max_depth': 8},\n",
       "  mean: -0.42375, std: 0.05647, params: {'max_features': 1, 'subsample': 0.75, 'learning_rate': 0.023333333333333334, 'max_depth': 8},\n",
       "  mean: -0.42460, std: 0.06296, params: {'max_features': 1, 'subsample': 1, 'learning_rate': 0.023333333333333334, 'max_depth': 8},\n",
       "  mean: -0.48277, std: 0.07061, params: {'max_features': 0.4, 'subsample': 0.5, 'learning_rate': 0.023333333333333334, 'max_depth': 10},\n",
       "  mean: -0.48375, std: 0.06897, params: {'max_features': 0.4, 'subsample': 0.75, 'learning_rate': 0.023333333333333334, 'max_depth': 10},\n",
       "  mean: -0.51093, std: 0.09505, params: {'max_features': 0.4, 'subsample': 1, 'learning_rate': 0.023333333333333334, 'max_depth': 10},\n",
       "  mean: -0.49060, std: 0.08733, params: {'max_features': 0.6, 'subsample': 0.5, 'learning_rate': 0.023333333333333334, 'max_depth': 10},\n",
       "  mean: -0.49002, std: 0.08032, params: {'max_features': 0.6, 'subsample': 0.75, 'learning_rate': 0.023333333333333334, 'max_depth': 10},\n",
       "  mean: -0.54523, std: 0.09626, params: {'max_features': 0.6, 'subsample': 1, 'learning_rate': 0.023333333333333334, 'max_depth': 10},\n",
       "  mean: -0.50129, std: 0.07666, params: {'max_features': 0.8, 'subsample': 0.5, 'learning_rate': 0.023333333333333334, 'max_depth': 10},\n",
       "  mean: -0.52056, std: 0.09179, params: {'max_features': 0.8, 'subsample': 0.75, 'learning_rate': 0.023333333333333334, 'max_depth': 10},\n",
       "  mean: -0.58909, std: 0.12549, params: {'max_features': 0.8, 'subsample': 1, 'learning_rate': 0.023333333333333334, 'max_depth': 10},\n",
       "  mean: -0.43581, std: 0.05496, params: {'max_features': 1, 'subsample': 0.5, 'learning_rate': 0.023333333333333334, 'max_depth': 10},\n",
       "  mean: -0.44613, std: 0.05708, params: {'max_features': 1, 'subsample': 0.75, 'learning_rate': 0.023333333333333334, 'max_depth': 10},\n",
       "  mean: -0.44402, std: 0.06447, params: {'max_features': 1, 'subsample': 1, 'learning_rate': 0.023333333333333334, 'max_depth': 10},\n",
       "  mean: -0.42060, std: 0.06924, params: {'max_features': 0.4, 'subsample': 0.5, 'learning_rate': 0.02666666666666667, 'max_depth': 4},\n",
       "  mean: -0.42514, std: 0.08198, params: {'max_features': 0.4, 'subsample': 0.75, 'learning_rate': 0.02666666666666667, 'max_depth': 4},\n",
       "  mean: -0.42501, std: 0.09000, params: {'max_features': 0.4, 'subsample': 1, 'learning_rate': 0.02666666666666667, 'max_depth': 4},\n",
       "  mean: -0.43238, std: 0.09255, params: {'max_features': 0.6, 'subsample': 0.5, 'learning_rate': 0.02666666666666667, 'max_depth': 4},\n",
       "  mean: -0.43860, std: 0.09023, params: {'max_features': 0.6, 'subsample': 0.75, 'learning_rate': 0.02666666666666667, 'max_depth': 4},\n",
       "  mean: -0.43267, std: 0.08149, params: {'max_features': 0.6, 'subsample': 1, 'learning_rate': 0.02666666666666667, 'max_depth': 4},\n",
       "  mean: -0.43881, std: 0.09287, params: {'max_features': 0.8, 'subsample': 0.5, 'learning_rate': 0.02666666666666667, 'max_depth': 4},\n",
       "  mean: -0.44856, std: 0.08823, params: {'max_features': 0.8, 'subsample': 0.75, 'learning_rate': 0.02666666666666667, 'max_depth': 4},\n",
       "  mean: -0.45058, std: 0.08643, params: {'max_features': 0.8, 'subsample': 1, 'learning_rate': 0.02666666666666667, 'max_depth': 4},\n",
       "  mean: -0.36311, std: 0.04585, params: {'max_features': 1, 'subsample': 0.5, 'learning_rate': 0.02666666666666667, 'max_depth': 4},\n",
       "  mean: -0.36751, std: 0.04362, params: {'max_features': 1, 'subsample': 0.75, 'learning_rate': 0.02666666666666667, 'max_depth': 4},\n",
       "  mean: -0.37307, std: 0.04086, params: {'max_features': 1, 'subsample': 1, 'learning_rate': 0.02666666666666667, 'max_depth': 4},\n",
       "  mean: -0.46044, std: 0.07178, params: {'max_features': 0.4, 'subsample': 0.5, 'learning_rate': 0.02666666666666667, 'max_depth': 6},\n",
       "  mean: -0.47026, std: 0.08297, params: {'max_features': 0.4, 'subsample': 0.75, 'learning_rate': 0.02666666666666667, 'max_depth': 6},\n",
       "  mean: -0.47961, std: 0.09910, params: {'max_features': 0.4, 'subsample': 1, 'learning_rate': 0.02666666666666667, 'max_depth': 6},\n",
       "  mean: -0.48792, std: 0.08172, params: {'max_features': 0.6, 'subsample': 0.5, 'learning_rate': 0.02666666666666667, 'max_depth': 6},\n",
       "  mean: -0.47849, std: 0.08428, params: {'max_features': 0.6, 'subsample': 0.75, 'learning_rate': 0.02666666666666667, 'max_depth': 6},\n",
       "  mean: -0.50923, std: 0.09285, params: {'max_features': 0.6, 'subsample': 1, 'learning_rate': 0.02666666666666667, 'max_depth': 6},\n",
       "  mean: -0.49774, std: 0.08103, params: {'max_features': 0.8, 'subsample': 0.5, 'learning_rate': 0.02666666666666667, 'max_depth': 6},\n",
       "  mean: -0.49701, std: 0.08824, params: {'max_features': 0.8, 'subsample': 0.75, 'learning_rate': 0.02666666666666667, 'max_depth': 6},\n",
       "  mean: -0.52358, std: 0.11389, params: {'max_features': 0.8, 'subsample': 1, 'learning_rate': 0.02666666666666667, 'max_depth': 6},\n",
       "  mean: -0.39105, std: 0.05595, params: {'max_features': 1, 'subsample': 0.5, 'learning_rate': 0.02666666666666667, 'max_depth': 6},\n",
       "  mean: -0.39127, std: 0.04521, params: {'max_features': 1, 'subsample': 0.75, 'learning_rate': 0.02666666666666667, 'max_depth': 6},\n",
       "  mean: -0.39545, std: 0.05030, params: {'max_features': 1, 'subsample': 1, 'learning_rate': 0.02666666666666667, 'max_depth': 6},\n",
       "  mean: -0.47726, std: 0.08543, params: {'max_features': 0.4, 'subsample': 0.5, 'learning_rate': 0.02666666666666667, 'max_depth': 8},\n",
       "  mean: -0.50109, std: 0.07530, params: {'max_features': 0.4, 'subsample': 0.75, 'learning_rate': 0.02666666666666667, 'max_depth': 8},\n",
       "  mean: -0.51086, std: 0.08944, params: {'max_features': 0.4, 'subsample': 1, 'learning_rate': 0.02666666666666667, 'max_depth': 8},\n",
       "  mean: -0.50643, std: 0.07860, params: {'max_features': 0.6, 'subsample': 0.5, 'learning_rate': 0.02666666666666667, 'max_depth': 8},\n",
       "  mean: -0.51166, std: 0.07572, params: {'max_features': 0.6, 'subsample': 0.75, 'learning_rate': 0.02666666666666667, 'max_depth': 8},\n",
       "  mean: -0.54454, std: 0.10476, params: {'max_features': 0.6, 'subsample': 1, 'learning_rate': 0.02666666666666667, 'max_depth': 8},\n",
       "  mean: -0.51741, std: 0.07224, params: {'max_features': 0.8, 'subsample': 0.5, 'learning_rate': 0.02666666666666667, 'max_depth': 8},\n",
       "  mean: -0.52691, std: 0.08092, params: {'max_features': 0.8, 'subsample': 0.75, 'learning_rate': 0.02666666666666667, 'max_depth': 8},\n",
       "  mean: -0.55066, std: 0.11517, params: {'max_features': 0.8, 'subsample': 1, 'learning_rate': 0.02666666666666667, 'max_depth': 8},\n",
       "  mean: -0.42532, std: 0.05633, params: {'max_features': 1, 'subsample': 0.5, 'learning_rate': 0.02666666666666667, 'max_depth': 8},\n",
       "  mean: -0.42572, std: 0.05517, params: {'max_features': 1, 'subsample': 0.75, 'learning_rate': 0.02666666666666667, 'max_depth': 8},\n",
       "  mean: -0.43289, std: 0.06648, params: {'max_features': 1, 'subsample': 1, 'learning_rate': 0.02666666666666667, 'max_depth': 8},\n",
       "  mean: -0.48135, std: 0.07551, params: {'max_features': 0.4, 'subsample': 0.5, 'learning_rate': 0.02666666666666667, 'max_depth': 10},\n",
       "  mean: -0.49748, std: 0.07464, params: {'max_features': 0.4, 'subsample': 0.75, 'learning_rate': 0.02666666666666667, 'max_depth': 10},\n",
       "  mean: -0.50562, std: 0.09041, params: {'max_features': 0.4, 'subsample': 1, 'learning_rate': 0.02666666666666667, 'max_depth': 10},\n",
       "  mean: -0.50768, std: 0.08338, params: {'max_features': 0.6, 'subsample': 0.5, 'learning_rate': 0.02666666666666667, 'max_depth': 10},\n",
       "  mean: -0.51149, std: 0.08479, params: {'max_features': 0.6, 'subsample': 0.75, 'learning_rate': 0.02666666666666667, 'max_depth': 10},\n",
       "  mean: -0.54371, std: 0.10124, params: {'max_features': 0.6, 'subsample': 1, 'learning_rate': 0.02666666666666667, 'max_depth': 10},\n",
       "  mean: -0.50730, std: 0.09234, params: {'max_features': 0.8, 'subsample': 0.5, 'learning_rate': 0.02666666666666667, 'max_depth': 10},\n",
       "  mean: -0.51513, std: 0.08324, params: {'max_features': 0.8, 'subsample': 0.75, 'learning_rate': 0.02666666666666667, 'max_depth': 10},\n",
       "  mean: -0.59119, std: 0.11425, params: {'max_features': 0.8, 'subsample': 1, 'learning_rate': 0.02666666666666667, 'max_depth': 10},\n",
       "  mean: -0.45162, std: 0.06194, params: {'max_features': 1, 'subsample': 0.5, 'learning_rate': 0.02666666666666667, 'max_depth': 10},\n",
       "  mean: -0.44762, std: 0.05846, params: {'max_features': 1, 'subsample': 0.75, 'learning_rate': 0.02666666666666667, 'max_depth': 10},\n",
       "  mean: -0.45271, std: 0.06128, params: {'max_features': 1, 'subsample': 1, 'learning_rate': 0.02666666666666667, 'max_depth': 10},\n",
       "  mean: -0.42611, std: 0.07066, params: {'max_features': 0.4, 'subsample': 0.5, 'learning_rate': 0.03, 'max_depth': 4},\n",
       "  mean: -0.43275, std: 0.08436, params: {'max_features': 0.4, 'subsample': 0.75, 'learning_rate': 0.03, 'max_depth': 4},\n",
       "  mean: -0.43639, std: 0.09076, params: {'max_features': 0.4, 'subsample': 1, 'learning_rate': 0.03, 'max_depth': 4},\n",
       "  mean: -0.43776, std: 0.09784, params: {'max_features': 0.6, 'subsample': 0.5, 'learning_rate': 0.03, 'max_depth': 4},\n",
       "  mean: -0.45185, std: 0.09123, params: {'max_features': 0.6, 'subsample': 0.75, 'learning_rate': 0.03, 'max_depth': 4},\n",
       "  mean: -0.44556, std: 0.08938, params: {'max_features': 0.6, 'subsample': 1, 'learning_rate': 0.03, 'max_depth': 4},\n",
       "  mean: -0.45150, std: 0.08772, params: {'max_features': 0.8, 'subsample': 0.5, 'learning_rate': 0.03, 'max_depth': 4},\n",
       "  mean: -0.45365, std: 0.08847, params: {'max_features': 0.8, 'subsample': 0.75, 'learning_rate': 0.03, 'max_depth': 4},\n",
       "  mean: -0.45857, std: 0.08176, params: {'max_features': 0.8, 'subsample': 1, 'learning_rate': 0.03, 'max_depth': 4},\n",
       "  mean: -0.36817, std: 0.04762, params: {'max_features': 1, 'subsample': 0.5, 'learning_rate': 0.03, 'max_depth': 4},\n",
       "  mean: -0.36941, std: 0.04535, params: {'max_features': 1, 'subsample': 0.75, 'learning_rate': 0.03, 'max_depth': 4},\n",
       "  mean: -0.37552, std: 0.04377, params: {'max_features': 1, 'subsample': 1, 'learning_rate': 0.03, 'max_depth': 4},\n",
       "  mean: -0.47572, std: 0.08037, params: {'max_features': 0.4, 'subsample': 0.5, 'learning_rate': 0.03, 'max_depth': 6},\n",
       "  mean: -0.47333, std: 0.08734, params: {'max_features': 0.4, 'subsample': 0.75, 'learning_rate': 0.03, 'max_depth': 6},\n",
       "  mean: -0.49366, std: 0.09892, params: {'max_features': 0.4, 'subsample': 1, 'learning_rate': 0.03, 'max_depth': 6},\n",
       "  mean: -0.49201, std: 0.07736, params: {'max_features': 0.6, 'subsample': 0.5, 'learning_rate': 0.03, 'max_depth': 6},\n",
       "  mean: -0.49640, std: 0.08695, params: {'max_features': 0.6, 'subsample': 0.75, 'learning_rate': 0.03, 'max_depth': 6},\n",
       "  mean: -0.51821, std: 0.10591, params: {'max_features': 0.6, 'subsample': 1, 'learning_rate': 0.03, 'max_depth': 6},\n",
       "  mean: -0.50737, std: 0.08222, params: {'max_features': 0.8, 'subsample': 0.5, 'learning_rate': 0.03, 'max_depth': 6},\n",
       "  mean: -0.50977, std: 0.08616, params: {'max_features': 0.8, 'subsample': 0.75, 'learning_rate': 0.03, 'max_depth': 6},\n",
       "  mean: -0.53763, std: 0.11966, params: {'max_features': 0.8, 'subsample': 1, 'learning_rate': 0.03, 'max_depth': 6},\n",
       "  mean: -0.39322, std: 0.05462, params: {'max_features': 1, 'subsample': 0.5, 'learning_rate': 0.03, 'max_depth': 6},\n",
       "  mean: -0.39516, std: 0.04762, params: {'max_features': 1, 'subsample': 0.75, 'learning_rate': 0.03, 'max_depth': 6},\n",
       "  mean: -0.40311, std: 0.05362, params: {'max_features': 1, 'subsample': 1, 'learning_rate': 0.03, 'max_depth': 6},\n",
       "  mean: -0.49924, std: 0.07532, params: {'max_features': 0.4, 'subsample': 0.5, 'learning_rate': 0.03, 'max_depth': 8},\n",
       "  mean: -0.49583, std: 0.08356, params: {'max_features': 0.4, 'subsample': 0.75, 'learning_rate': 0.03, 'max_depth': 8},\n",
       "  mean: -0.51347, std: 0.07996, params: {'max_features': 0.4, 'subsample': 1, 'learning_rate': 0.03, 'max_depth': 8},\n",
       "  mean: -0.50137, std: 0.08487, params: {'max_features': 0.6, 'subsample': 0.5, 'learning_rate': 0.03, 'max_depth': 8},\n",
       "  mean: -0.51676, std: 0.08173, params: {'max_features': 0.6, 'subsample': 0.75, 'learning_rate': 0.03, 'max_depth': 8},\n",
       "  mean: -0.53619, std: 0.10610, params: {'max_features': 0.6, 'subsample': 1, 'learning_rate': 0.03, 'max_depth': 8},\n",
       "  mean: -0.52868, std: 0.09166, params: {'max_features': 0.8, 'subsample': 0.5, 'learning_rate': 0.03, 'max_depth': 8},\n",
       "  mean: -0.52294, std: 0.08023, params: {'max_features': 0.8, 'subsample': 0.75, 'learning_rate': 0.03, 'max_depth': 8},\n",
       "  mean: -0.55609, std: 0.11371, params: {'max_features': 0.8, 'subsample': 1, 'learning_rate': 0.03, 'max_depth': 8},\n",
       "  mean: -0.42990, std: 0.05368, params: {'max_features': 1, 'subsample': 0.5, 'learning_rate': 0.03, 'max_depth': 8},\n",
       "  mean: -0.43148, std: 0.06244, params: {'max_features': 1, 'subsample': 0.75, 'learning_rate': 0.03, 'max_depth': 8},\n",
       "  mean: -0.44179, std: 0.06706, params: {'max_features': 1, 'subsample': 1, 'learning_rate': 0.03, 'max_depth': 8},\n",
       "  mean: -0.48845, std: 0.07305, params: {'max_features': 0.4, 'subsample': 0.5, 'learning_rate': 0.03, 'max_depth': 10},\n",
       "  mean: -0.50187, std: 0.07132, params: {'max_features': 0.4, 'subsample': 0.75, 'learning_rate': 0.03, 'max_depth': 10},\n",
       "  mean: -0.51745, std: 0.09991, params: {'max_features': 0.4, 'subsample': 1, 'learning_rate': 0.03, 'max_depth': 10},\n",
       "  mean: -0.50920, std: 0.07549, params: {'max_features': 0.6, 'subsample': 0.5, 'learning_rate': 0.03, 'max_depth': 10},\n",
       "  mean: -0.50655, std: 0.08609, params: {'max_features': 0.6, 'subsample': 0.75, 'learning_rate': 0.03, 'max_depth': 10},\n",
       "  mean: -0.54015, std: 0.10687, params: {'max_features': 0.6, 'subsample': 1, 'learning_rate': 0.03, 'max_depth': 10},\n",
       "  mean: -0.51895, std: 0.08562, params: {'max_features': 0.8, 'subsample': 0.5, 'learning_rate': 0.03, 'max_depth': 10},\n",
       "  mean: -0.51660, std: 0.08867, params: {'max_features': 0.8, 'subsample': 0.75, 'learning_rate': 0.03, 'max_depth': 10},\n",
       "  mean: -0.58971, std: 0.12107, params: {'max_features': 0.8, 'subsample': 1, 'learning_rate': 0.03, 'max_depth': 10},\n",
       "  mean: -0.45062, std: 0.05438, params: {'max_features': 1, 'subsample': 0.5, 'learning_rate': 0.03, 'max_depth': 10},\n",
       "  mean: -0.45739, std: 0.05212, params: {'max_features': 1, 'subsample': 0.75, 'learning_rate': 0.03, 'max_depth': 10},\n",
       "  mean: -0.45824, std: 0.05942, params: {'max_features': 1, 'subsample': 1, 'learning_rate': 0.03, 'max_depth': 10},\n",
       "  mean: -0.42600, std: 0.06899, params: {'max_features': 0.4, 'subsample': 0.5, 'learning_rate': 0.03333333333333333, 'max_depth': 4},\n",
       "  mean: -0.43432, std: 0.08706, params: {'max_features': 0.4, 'subsample': 0.75, 'learning_rate': 0.03333333333333333, 'max_depth': 4},\n",
       "  mean: -0.44524, std: 0.08614, params: {'max_features': 0.4, 'subsample': 1, 'learning_rate': 0.03333333333333333, 'max_depth': 4},\n",
       "  mean: -0.44477, std: 0.10061, params: {'max_features': 0.6, 'subsample': 0.5, 'learning_rate': 0.03333333333333333, 'max_depth': 4},\n",
       "  mean: -0.45512, std: 0.09133, params: {'max_features': 0.6, 'subsample': 0.75, 'learning_rate': 0.03333333333333333, 'max_depth': 4},\n",
       "  mean: -0.45145, std: 0.09342, params: {'max_features': 0.6, 'subsample': 1, 'learning_rate': 0.03333333333333333, 'max_depth': 4},\n",
       "  mean: -0.45952, std: 0.09255, params: {'max_features': 0.8, 'subsample': 0.5, 'learning_rate': 0.03333333333333333, 'max_depth': 4},\n",
       "  mean: -0.46569, std: 0.08677, params: {'max_features': 0.8, 'subsample': 0.75, 'learning_rate': 0.03333333333333333, 'max_depth': 4},\n",
       "  mean: -0.46266, std: 0.08679, params: {'max_features': 0.8, 'subsample': 1, 'learning_rate': 0.03333333333333333, 'max_depth': 4},\n",
       "  mean: -0.36860, std: 0.04789, params: {'max_features': 1, 'subsample': 0.5, 'learning_rate': 0.03333333333333333, 'max_depth': 4},\n",
       "  mean: -0.37289, std: 0.04640, params: {'max_features': 1, 'subsample': 0.75, 'learning_rate': 0.03333333333333333, 'max_depth': 4},\n",
       "  mean: -0.37782, std: 0.04490, params: {'max_features': 1, 'subsample': 1, 'learning_rate': 0.03333333333333333, 'max_depth': 4},\n",
       "  mean: -0.48109, std: 0.07561, params: {'max_features': 0.4, 'subsample': 0.5, 'learning_rate': 0.03333333333333333, 'max_depth': 6},\n",
       "  mean: -0.47640, std: 0.08007, params: {'max_features': 0.4, 'subsample': 0.75, 'learning_rate': 0.03333333333333333, 'max_depth': 6},\n",
       "  mean: -0.49259, std: 0.09935, params: {'max_features': 0.4, 'subsample': 1, 'learning_rate': 0.03333333333333333, 'max_depth': 6},\n",
       "  mean: -0.50576, std: 0.07554, params: {'max_features': 0.6, 'subsample': 0.5, 'learning_rate': 0.03333333333333333, 'max_depth': 6},\n",
       "  mean: -0.50053, std: 0.08017, params: {'max_features': 0.6, 'subsample': 0.75, 'learning_rate': 0.03333333333333333, 'max_depth': 6},\n",
       "  mean: -0.52465, std: 0.10229, params: {'max_features': 0.6, 'subsample': 1, 'learning_rate': 0.03333333333333333, 'max_depth': 6},\n",
       "  mean: -0.51763, std: 0.08184, params: {'max_features': 0.8, 'subsample': 0.5, 'learning_rate': 0.03333333333333333, 'max_depth': 6},\n",
       "  mean: -0.51194, std: 0.08394, params: {'max_features': 0.8, 'subsample': 0.75, 'learning_rate': 0.03333333333333333, 'max_depth': 6},\n",
       "  mean: -0.53716, std: 0.10865, params: {'max_features': 0.8, 'subsample': 1, 'learning_rate': 0.03333333333333333, 'max_depth': 6},\n",
       "  mean: -0.39943, std: 0.05477, params: {'max_features': 1, 'subsample': 0.5, 'learning_rate': 0.03333333333333333, 'max_depth': 6},\n",
       "  mean: -0.39898, std: 0.05213, params: {'max_features': 1, 'subsample': 0.75, 'learning_rate': 0.03333333333333333, 'max_depth': 6},\n",
       "  mean: -0.40805, std: 0.05103, params: {'max_features': 1, 'subsample': 1, 'learning_rate': 0.03333333333333333, 'max_depth': 6},\n",
       "  mean: -0.50217, std: 0.07416, params: {'max_features': 0.4, 'subsample': 0.5, 'learning_rate': 0.03333333333333333, 'max_depth': 8},\n",
       "  mean: -0.51183, std: 0.08313, params: {'max_features': 0.4, 'subsample': 0.75, 'learning_rate': 0.03333333333333333, 'max_depth': 8},\n",
       "  mean: -0.51404, std: 0.08769, params: {'max_features': 0.4, 'subsample': 1, 'learning_rate': 0.03333333333333333, 'max_depth': 8},\n",
       "  mean: -0.52315, std: 0.08810, params: {'max_features': 0.6, 'subsample': 0.5, 'learning_rate': 0.03333333333333333, 'max_depth': 8},\n",
       "  mean: -0.52620, std: 0.07617, params: {'max_features': 0.6, 'subsample': 0.75, 'learning_rate': 0.03333333333333333, 'max_depth': 8},\n",
       "  mean: -0.54084, std: 0.10374, params: {'max_features': 0.6, 'subsample': 1, 'learning_rate': 0.03333333333333333, 'max_depth': 8},\n",
       "  mean: -0.51728, std: 0.08562, params: {'max_features': 0.8, 'subsample': 0.5, 'learning_rate': 0.03333333333333333, 'max_depth': 8},\n",
       "  mean: -0.52157, std: 0.08533, params: {'max_features': 0.8, 'subsample': 0.75, 'learning_rate': 0.03333333333333333, 'max_depth': 8},\n",
       "  mean: -0.56636, std: 0.11769, params: {'max_features': 0.8, 'subsample': 1, 'learning_rate': 0.03333333333333333, 'max_depth': 8},\n",
       "  mean: -0.43875, std: 0.05545, params: {'max_features': 1, 'subsample': 0.5, 'learning_rate': 0.03333333333333333, 'max_depth': 8},\n",
       "  mean: -0.43767, std: 0.06463, params: {'max_features': 1, 'subsample': 0.75, 'learning_rate': 0.03333333333333333, 'max_depth': 8},\n",
       "  mean: -0.44929, std: 0.06708, params: {'max_features': 1, 'subsample': 1, 'learning_rate': 0.03333333333333333, 'max_depth': 8},\n",
       "  mean: -0.50168, std: 0.07045, params: {'max_features': 0.4, 'subsample': 0.5, 'learning_rate': 0.03333333333333333, 'max_depth': 10},\n",
       "  mean: -0.50638, std: 0.06938, params: {'max_features': 0.4, 'subsample': 0.75, 'learning_rate': 0.03333333333333333, 'max_depth': 10},\n",
       "  mean: -0.51996, std: 0.08797, params: {'max_features': 0.4, 'subsample': 1, 'learning_rate': 0.03333333333333333, 'max_depth': 10},\n",
       "  mean: -0.51752, std: 0.08051, params: {'max_features': 0.6, 'subsample': 0.5, 'learning_rate': 0.03333333333333333, 'max_depth': 10},\n",
       "  mean: -0.51521, std: 0.09100, params: {'max_features': 0.6, 'subsample': 0.75, 'learning_rate': 0.03333333333333333, 'max_depth': 10},\n",
       "  mean: -0.54948, std: 0.09510, params: {'max_features': 0.6, 'subsample': 1, 'learning_rate': 0.03333333333333333, 'max_depth': 10},\n",
       "  mean: -0.52514, std: 0.08067, params: {'max_features': 0.8, 'subsample': 0.5, 'learning_rate': 0.03333333333333333, 'max_depth': 10},\n",
       "  mean: -0.52268, std: 0.09007, params: {'max_features': 0.8, 'subsample': 0.75, 'learning_rate': 0.03333333333333333, 'max_depth': 10},\n",
       "  mean: -0.58825, std: 0.11705, params: {'max_features': 0.8, 'subsample': 1, 'learning_rate': 0.03333333333333333, 'max_depth': 10},\n",
       "  mean: -0.46682, std: 0.04804, params: {'max_features': 1, 'subsample': 0.5, 'learning_rate': 0.03333333333333333, 'max_depth': 10},\n",
       "  mean: -0.46542, std: 0.05976, params: {'max_features': 1, 'subsample': 0.75, 'learning_rate': 0.03333333333333333, 'max_depth': 10},\n",
       "  mean: -0.46619, std: 0.06303, params: {'max_features': 1, 'subsample': 1, 'learning_rate': 0.03333333333333333, 'max_depth': 10}])"
      ]
     },
     "execution_count": 294,
     "metadata": {},
     "output_type": "execute_result"
    }
   ],
   "source": [
    "parameters={'min_samples_split': 2,'n_estimators':300,'random_state':RANDOM_STATE}\n",
    "clf = ensemble.GradientBoostingRegressor(**parameters)\n",
    "parameters_grid={'max_depth':[4,6,8,10], \n",
    "                'learning_rate':[x/300.0 for x in range(2,11)],\n",
    "                'subsample':[.5,.75,1],'max_features':[.4,.6,.8,1]}\n",
    "fitmodel = GridSearchCV(clf, param_grid=parameters_grid, cv=5, scoring=\"neg_mean_squared_error\")\n",
    "fitmodel.fit(X_train, Y_train)\n",
    "fitmodel.best_estimator_, fitmodel.best_params_, fitmodel.best_score_, fitmodel.grid_scores_"
   ]
  },
  {
   "cell_type": "markdown",
   "metadata": {},
   "source": [
    "I will now use the parameter values selected by GridSearchCV to build the Gradient Boosted Regression Tree and produce its rmse."
   ]
  },
  {
   "cell_type": "code",
   "execution_count": 706,
   "metadata": {
    "collapsed": false
   },
   "outputs": [
    {
     "data": {
      "text/plain": [
       "0.62185045137513195"
      ]
     },
     "execution_count": 706,
     "metadata": {},
     "output_type": "execute_result"
    }
   ],
   "source": [
    "parameters={'n_estimators': 300, \n",
    "            'max_depth': fitmodel.best_params_['max_depth'], \n",
    "            'min_samples_split': 2,\n",
    "            'learning_rate': fitmodel.best_params_['learning_rate'], 'loss': 'ls',\n",
    "            'subsample': fitmodel.best_params_['subsample'],\n",
    "            'max_features':fitmodel.best_params_['max_features'], 'random_state':RANDOM_STATE}\n",
    "clf = ensemble.GradientBoostingRegressor(**parameters)\n",
    "clf.fit(X_train,Y_train)\n",
    "Y_pred=clf.predict(X_test)\n",
    "rmse(Y_test,Y_pred)"
   ]
  },
  {
   "cell_type": "markdown",
   "metadata": {},
   "source": [
    "Feature importance can also be calculated for Gradient Boosted Regression trees.  As shown below, mean_review_year and review_count have the greatest impact on the trees.  The unfriendly and unclean variables see their variable importances values go up a little.  "
   ]
  },
  {
   "cell_type": "code",
   "execution_count": 41,
   "metadata": {
    "collapsed": false
   },
   "outputs": [
    {
     "data": {
      "text/plain": [
       "<matplotlib.axes._subplots.AxesSubplot at 0x12c693dd0>"
      ]
     },
     "execution_count": 41,
     "metadata": {},
     "output_type": "execute_result"
    },
    {
     "data": {
      "image/png": "[encoded data removed]",
      "text/plain": [
       "<matplotlib.figure.Figure at 0x12c6b3d10>"
      ]
     },
     "metadata": {},
     "output_type": "display_data"
    }
   ],
   "source": [
    "feat_imp = pd.Series(clf.feature_importances_, index=X.columns)\n",
    "feat_imp.sort_values(inplace=True, ascending=True)\n",
    "feat_imp.head(20).plot(kind='barh', title='Feature importance')"
   ]
  },
  {
   "cell_type": "markdown",
   "metadata": {},
   "source": [
    "This model produced the lowest rmse!"
   ]
  },
  {
   "cell_type": "markdown",
   "metadata": {},
   "source": [
    "# Results"
   ]
  },
  {
   "cell_type": "markdown",
   "metadata": {},
   "source": [
    "## **RMSE** \n",
    "Gradient Boosted Regression Tree:              0.62185 <br>\n",
    "Principal Component Regression: 0.64525 <br>\n",
    "Random Forest:        0.64949  <br>\n",
    "Linear Regression:    0.65436  <br>"
   ]
  },
  {
   "cell_type": "markdown",
   "metadata": {},
   "source": [
    "The plot below shows RMSE values centered around the mean RMSE value. <br>\n",
    "_GBM_ standards for Gradient Boosting Machine <br>\n",
    "_PCR_ stands for Principal Component Regression <br>\n",
    "_RF_ stands for Random Forest <br>\n",
    "_LR_ stands for Linear Regression"
   ]
  },
  {
   "cell_type": "code",
   "execution_count": 512,
   "metadata": {
    "collapsed": false
   },
   "outputs": [
    {
     "data": {
      "text/plain": [
       "<matplotlib.axes._subplots.AxesSubplot at 0x127feda10>"
      ]
     },
     "execution_count": 512,
     "metadata": {},
     "output_type": "execute_result"
    },
    {
     "data": {
      "image/png": "[encoded data removed]",
      "text/plain": [
       "<matplotlib.figure.Figure at 0x1278328d0>"
      ]
     },
     "metadata": {},
     "output_type": "display_data"
    }
   ],
   "source": [
    "rmse_results={'GBM': .62185,'PCR': .64525,'RF': .64949,'LR':.65436}\n",
    "rmse_results_centered=zip(rmse_results.keys(),\\\n",
    "            np.round(sklearn.preprocessing.scale(rmse_results.values(),with_std=False),5))\n",
    "rmse_results_centered=dict(rmse_results_centered)\n",
    "sns.barplot(rmse_results_centered.keys(),rmse_results_centered.values(),\n",
    "           order=['GBM','PCR','RF','LR'],)"
   ]
  },
  {
   "cell_type": "markdown",
   "metadata": {
    "collapsed": true
   },
   "source": [
    "# Understanding multicollinearity, standardizing variables, interpreting regression results, and more"
   ]
  },
  {
   "cell_type": "markdown",
   "metadata": {},
   "source": [
    "## Identifying multicollinearity:"
   ]
  },
  {
   "cell_type": "markdown",
   "metadata": {},
   "source": [
    "1) A condition number between 100-1000 indicates moderate-severe multicollinearity.  A number greater than 30 can also indicate it.  \n",
    "\n",
    "2) A variance inflation factor (VIF) indicates a multicollinearity problem if its value is greater than 4 (just a rule of thumb...some say 5, some say less than 4), where a VIF>10 indicates severe multicollinearity.  If regressors ARE NOT correlated, the VIF will be 1.  VIF=1/tolerance level, so equivalent criterion for the tolerance level would be a tolerance level<.25 indicates multicollinearity problems, though some sources say <.4 also indicates problems.  \n",
    "\n",
    "3) Look for high pairwise correlations between regressors, since by definition, multicollinearity is when regressors are highly correlated.\n",
    "\n",
    "4) A regressor that should be highly correlated with the dependent variable (you see a strong correlation in the scatterplot of y vs that variable) has a regression coefficient that is insignificant.  This stems from consequences #1 and #2 (as shown below) since the estimated coefficient of that variable has a standard error that will be large from a strong presence of multicollinearity.  A stronger indication of multicollinearity (besides just one insignificant regressor) is if we see a high r-squared, but few significant t-values (multiple insignificant regressors).     \n",
    "\n",
    "5) The sign on a regressor coefficient (+/-) is the opposite of what it should be (increasing the size of a house shouldn't cause the house price to decrease).  \n",
    "\n",
    "6) Adding or removing a regressor greatly changes regression results"
   ]
  },
  {
   "cell_type": "markdown",
   "metadata": {},
   "source": [
    "## Consequences of multicollinearity include:"
   ]
  },
  {
   "cell_type": "markdown",
   "metadata": {},
   "source": [
    "1) Standard errors (std devs) of regressor coefficient estimates (b1,b2..) will be large.  Specifically, variables that are correlated will have large standard deviations on their coefficient estimates\n",
    "\n",
    "2) Due to the large standard errors, confidence intervals of the estimated coefficients will be wider and the t-statistic value will be lower.  Thus, the null hypothesis that the regressor coefficient is zero has a greater chance of being accepted.  \n",
    "\n",
    "3) Small changes in the data can lead to large changes in the regressor coefficient estimates (even opposite signs) and their standard errors (aka your model results are not robust).  For example, if you drop an observation, this could change the model a lot.  Regarding model robustness, a model is statistically robust if it predicts reliably across different samples of data (meaning even when its estimates are constructed from different samples).  \n",
    "\n",
    "R-squared can still be high with strong multicollinearity. \n",
    "\n",
    "Multicollinearity does not bias results (in that the average estimated parameter will differ from the population parameter).  However, due to the large standard errors, it is very possible that the coefficient estimate we have come up with from our sample is farther the true coefficient.  The standard error of the coefficient estimate is the typical amount by which we expect the estimated coefficient to differ from its mean, where because our estimated coefficient is constructed in a way that makes it unbiased, this causes its mean to be the coefficient if it was constructed from population data (the thing we're estimating, whose value we'd like to know).  So the greater the standard error, the greater the typical amount by which an estimated coefficient calculated from a given sample will potentially differ from the population coefficient.   "
   ]
  },
  {
   "cell_type": "markdown",
   "metadata": {},
   "source": [
    "Multicollinearity information sources:\n",
    "http://blog.minitab.com/blog/understanding-statistics/handling-multicollinearity-in-regression-analysis\n",
    "http://www.brynmawr.edu/socialwork/GSSW/Vartanian/Handouts/MC_PHD.htm\n",
    "https://en.wikipedia.org/wiki/Multicollinearity"
   ]
  },
  {
   "cell_type": "markdown",
   "metadata": {},
   "source": [
    "## Explanation of VIFs"
   ]
  },
  {
   "cell_type": "markdown",
   "metadata": {},
   "source": [
    "A variance inflation factor is a factor that quantifies the amount of inflation of an estimated coefficient's variance due to being correlated with other regressor variables.  The VIF is thus a measurement of the factor by which an estimated coefficient's variance is inflated.  Inflated from what though?  More specifically, the VIF is a factor by which the variance is inflated from what it WOULD have been had the regressor been the ONLY regressor in them model (thus the regressor is not correlated with any other regressors in the model because there ARE no other regressors in the model).  \n",
    "\n",
    "For example, a VIF of 4 indicates that estimated variance (squared standard error) of an estimated coefficient is 4 times higher because of that regressor being correlated with other regressors.  \n",
    "\n",
    "I have seen in one source the mistake of saying \"a VIF of 8 implies that the standard errors are larger by a factor of 8 than would otherwise be the case\".  A VIF of 8 implies that the SQUARED standard errors (estimated variances) are larger by a factor of 8.  If you square root the variance formula for the regressor coefficient to get the standard deviation formula, then the VIF is also square rooted, hence the VIF is reduced to sqrt(8)=2.83, so the standard error is 3 times higher because of the regressor being correlated with other variables (not 8 times higher).  \n",
    "source with incorrect statement: http://www.how2stats.net/2011/09/variance-inflation-factor-vif.html\n",
    "\n",
    "A regressor's variance in a model with no other regressors is the ratio of the variance of error terms to the sum of squared deviations of that regressor's values from its mean value.  A regressor's variance in a model with other regressors that it is correlated to is the above variance multiplied by (1/1-Rsquared) where Rsquared is associated with regressing this regressor on all other regressors.  1-Rsquared is called the tolerance level.  Low tolerance levels indicate greater multicollinearity because the smaller the percentage of unexplained variation in the regressor (aka 1-Rsquared) from a model of the regressor regressed on the other regressors, then the greater those regressors are correlated with the regressor.    \n",
    "\n",
    "Also, there is a VIF for each regressor.  "
   ]
  },
  {
   "cell_type": "markdown",
   "metadata": {
    "collapsed": true
   },
   "source": [
    "## The Condition Number"
   ]
  },
  {
   "cell_type": "markdown",
   "metadata": {},
   "source": [
    "The condition number can be calculated as the ratio of the largest eigenvalue to the smallest eigenvalue, where the eigenvalues are calculated from the sample correlation matrix (which, is equivalent to producing eigenvalues from a sample covariance matrix that is based on variables standardized to have unit variance--a variance of 1; thus PCA done on a correlation matrix is the same as PCA done on a covariance matrix with standardized variables).  \n",
    "\n",
    "The following sources define the condition number as the ratio of the maximum and minimum eigenvalues.  Other sources mention the condition number as the square root of the maximum and minimum eigenvalues such as in source (3).  Source (3) recommends that the condition number \"be calculated from a transformed data matrix in which each regressor has unit length\", meaning from variables standardized to have a variance of 1.  Calculating variables from the correlation matrix is equivalent to this, as I mention above.    \n",
    "\n",
    "1) http://amosdevelopment.com/webhelp/conditionnumberofthesamplecorrelationmatrix.htm <br>\n",
    "2) Introduction to Linear Regression Analysis 5th Edition <br>\n",
    "3) An Introduction to Modern Econometrics Using Stata by Christopher F. Baum <br>"
   ]
  },
  {
   "cell_type": "markdown",
   "metadata": {},
   "source": [
    "## Normalizing Regressor Variables"
   ]
  },
  {
   "cell_type": "markdown",
   "metadata": {},
   "source": [
    "Normalization of all predictor variables is the act of re-scaling them to have the same range of values, such as between [0,1] or [-1,1].  A drawback of normalization, unlike with standardization, is the normalized variable has a smaller standard deviation and the effect of outliers is suppressed.  A common re-scaling is ( (x-xmin)/(xmax-xmin) )."
   ]
  },
  {
   "cell_type": "markdown",
   "metadata": {},
   "source": [
    "## Standardizing Regressor Variables"
   ]
  },
  {
   "cell_type": "markdown",
   "metadata": {},
   "source": [
    "Standardization of all predictors is the act of re-scaling them to have mean zero and unit variances (or unit length), so \"they'll have the properties of the standard normal distribution\" (1).  A standardized value is interpreted as the number of standard deviations the original value is from the mean, or equivalently, the difference from the mean in number of standard deviations.  For example, -3 indicates that the value is 3 standard deviations below the mean.  A standardized regression coefficient, is one calculated from a \n",
    "\n",
    "\n",
    "**1) Both the dependent and independent variables can be standardized (full standardization or fully standardized coefficients)**<br>\n",
    "If you standardize both, then the standardized regression coefficients are interpreted as how many standard deviations the dependent variable changes per standard deviation increase in the predictor variable.  This does not mean the actual standard deviations change for both variables, but that the amount of change is EXPRESSED in standard deviations.  Thus, it represents how much y will change in number of standard deviations if the x value increases by 1 standard deviation.\n",
    "\n",
    "When all variables are standardized, the intercept becomes zero.  When all standardized predictors have value zero, then they are at their mean value because each is 0 sd's away from their mean.  Since the least squares regression line must pass through (mean x, mean y), this means that the predicted y must also be 0 sds from its mean in order for it to be equal to its mean value, since the predictors are at their mean values (source 5).  \n",
    "\n",
    "Regression coefficients based on having standardized all variables (x's and y) are called standardized regression coefficients (though as shown below, it doesn't have to be all variables).  These are actually the same thing as the regression coefficients calculated from unstandardized coefficients and then multiplying each by their respective standard deviation and dividing by the standard deviation of the dependent variable.  \n",
    "\n",
    "Bi-standardized = (Bi-unstandardized) (sd.i/sd.y)  \n",
    "(source 7)\n",
    "\n",
    "**2) Just the independent variables can be standardized (x-standardized coefficients).** <br>\n",
    "The standardized regression coefficients are interpreted as the average change in the dependent variable per 1 standard deviation increase in the predictor variable.  This allows you to still assess the relative importance of predictors while still keeping a more meaningful interpretation of y.  \n",
    "\n",
    "**3) Just the dependent variable can be standarized (y-standardized coefficients).**<br>\n",
    "The standardized regression coefficients are interpreted as how many standard deviations y changes for a one unit increase in x.  (source 2)  \n",
    "\n",
    "**4) Additional information**<br>\n",
    "a) Just some of the independent variables can standardized.  <br>\n",
    "b) Many sources advice against standardizing the dummy variables.  Just standardize the quantitative variables (source 4, and source 2). <br>\n",
    "c) Standardizing (shifting and scaling your variables), regardless of the type of standardization (x,y, full) won't affect the model fit (like R-squared), or the fitted values, since the model is built based on variable correlations.  It also does not affect standardized variable t-values or p-values, as well as non-standardized variable results (source 2 and 6).  <br>\n",
    "d) Standardizing DOES affect standardized variable coefficients, their standard errors and  confidence intervals, and completely affects all intercept results (observe source 2 data).\n",
    "e) The type of standardization done (x,y,full) will affect the estimated coefficients, their standard errors, and the confidence intervals (and their interpretations, of course), but not the t-values, p-values.  \n",
    "f) Standardizing affects VIFs and the condition number.\n",
    "\n",
    "**5) Why standardize variables?**<br>\n",
    "Coefficients are primarily standardized to determine which has the greatest effect on Y, meaning which can be regarded as having the greatest relative importance (which has the biggest number).  Simply take the ratio of the two standardized coefficients.  If one standardized coefficient is twice as big, then the regressor is twice as important in its effect on y.  When variables have different units of measurement, then determining which is more important is hard, but standardizing allows us to do it, since we scale them to make them unit less!  \n",
    "\n",
    "1) http://sebastianraschka.com/Articles/2014_about_feature_scaling.html <br>\n",
    "2) https://www3.nd.edu/~rwilliam/stats1/x92b.pdf<br>\n",
    "3) http://polisci.msu.edu/jacoby/icpsr/regress3/lectures/week2/8.RelImport.pdf<br>\n",
    "4) http://pj.freefaculty.org/guides/stat/Regression/StandardizedBeta/Standardized-1-lecture.pdf <br>\n",
    "5) http://mezeylab.cb.bscb.cornell.edu/labmembers/documents/supplement%205%20-%20multiple%20regression.pdf<br>\n",
    "6) http://stats.stackexchange.com/questions/32649/some-of-my-predictors-are-on-very-different-scales-do-i-need-to-transform-them<br>\n",
    "7) \"How to Standardize Regression Coefficients\" by Johan Bring"
   ]
  },
  {
   "cell_type": "markdown",
   "metadata": {},
   "source": [
    "## Centering vs Standardizing and how you can't do this to reduce multicollinearity"
   ]
  },
  {
   "cell_type": "markdown",
   "metadata": {},
   "source": [
    "The same exact model results from x-standardization can be achieved by centering the two quantitative variables about their means.  Standardizing our variables is the action of centering AND scaling, so the centering of our regressors in the above x-standardization is what is really changing the modeling results.  To center our quantitative regressors about their means, just subtract from each regressor's values its sample mean.      \n",
    "\n",
    "While standardizing/centering the variables lowers the condition number and vifs, suggesting that it decreases the presence of multicollinearity, this is actually not the case.  Some resources purport that centering reduces multicollinearity, but this claim is widely regarded as incorrect.  An academic paper titled \"Moderating effects, the myth of mean centering\" (source 1), writes that, \"mean centering does not reduce multicollinearity at all\" (page 1).  I've found resources that are spreading the myth, such as the following: on page 580 of \"Research Design and Statistical Analysis: Third Edition\", the authors write that mean-centering provides \"more interpretable coefficients...and will also often reduce multicollinearity\".  \n",
    "\n",
    "In a blog post titled, \"Mean-centering Does Nothing for Multicollinearity!\", the author maintains the following:\n",
    "\n",
    "Centering the data does not change the level of multicollinearity in the data.  However, it DOES affect the vifs, which are thus not immune to mean centering.  Since vifs are used to measure the level of multicollinearity present, and they might get reduced from having centered the data, then this provides a misleading indication that multicollinearity is reduced when it is not.  The author writes that \"[y]our numbers will change to sound acceptably lower, but...[c]hanging the numbers used to describe the problem doesn't change the problem\".  Mean-centering to lower vifs is equivalent to \"switching your speedometer from miles per hour to nautical miles per hour...to reduce the severity of a car accident\" (source 2).\n",
    "\n",
    "1) https://flora.insead.edu/fichiersti_wp/inseadwp2005/2005-30.pdf\n",
    "2) http://ordinary-gentlemen.com/2015/07/02/mean-centering-does-nothing-for-multicollinearity/\n",
    " "
   ]
  },
  {
   "cell_type": "markdown",
   "metadata": {},
   "source": [
    "## My explanation of p-values, t-values, and hypothesis tests associated with regressor coefficients, and interpreting regressor coefficients"
   ]
  },
  {
   "cell_type": "markdown",
   "metadata": {},
   "source": [
    "The p value for a given coefficient is the probability that the test statistic value (the student t value in this case) for this coefficient is at least as extreme as the observed value from the assumed population mean coefficient of 0.  The null hypothesis assumes that regression coefficients, if calculated from population data, are zero, meaning there is no linear relationship between the dependent variable and its regressors.  The greater the t-value associated with an estimated coefficient, then the less likely that the distance between the estimated coefficient and the population mean coefficient of 0 was observed by chance, and the more likely that the population mean regressor coefficient is not actually zero.  \n",
    "\n",
    "Hypothesis tests of regressor coefficients, as well as p values, only have meaning if the sample statistic of the regressor coefficient is approximately normally distributed, which is the case if the dependent variable observations are normally distributed, which is the case if regression line error terms are normally distributed (and we assume mean zero for the error terms).  P values and t values are thus calculated assuming the error terms of the regression line are normally distributed (or that the estimator of the slope coefficient is normally distributed). \n",
    "\n",
    "The assumption of the normality of error terms makes sense--that errors vary about the mean error and we'd expect the mean error to be zero (the regression line would not be that great if the average error wasn not zero).  Assuming the normal distribution makes sense.  We'd expect the likelihood of error values above and below the mean error of zero to be the same (the distribution is symmetric) or else the regression line would be systematically under or over-predicting, making it un-optimal.  We'd also expect error values farther from the mean to be less likely, hence most errors are concentrated around the mean error, and two tails extend off in both directions (the tails contain more extreme errors.  \n",
    "\n",
    "Regression residuals are an estimate of the population regression line error terms (errors from a line constructed from population data rather than sample data), hence we examine the distribution of residuals using a normal Q-Q plot and histogram to see if residuals are approximately normally distributed, which would serve as evidence that regression errors are normally distributed.  If they aren't, then our regressor coefficient p values and t values cannot be interpreted as providing a measurement of the predictability of the dependent variable from the regressors (or as a measurement of the linear relationship between the two).\n",
    "\n",
    "Regressor coefficients (when the y and x variables are not transformed) are interpreted as the change in the dependent variable for a one-unit change in the predictor variable of interest, holding the effect all other predictor variables constant.\n",
    "\n",
    "Regressors with low p-values add a statistically significant amount of predictability of y or in other words, these variables add to the explanation in the variation of y.   All other coefficients have large p values.  "
   ]
  }
 ],
 "metadata": {
  "kernelspec": {
   "display_name": "Python 2",
   "language": "python",
   "name": "python2"
  },
  "language_info": {
   "codemirror_mode": {
    "name": "ipython",
    "version": 2
   },
   "file_extension": ".py",
   "mimetype": "text/x-python",
   "name": "python",
   "nbconvert_exporter": "python",
   "pygments_lexer": "ipython2",
   "version": "2.7.10"
  }
 },
 "nbformat": 4,
 "nbformat_minor": 0
}
