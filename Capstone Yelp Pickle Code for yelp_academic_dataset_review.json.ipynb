{
 "cells": [
  {
   "cell_type": "code",
   "execution_count": 1,
   "metadata": {
    "collapsed": false
   },
   "outputs": [],
   "source": [
    "%matplotlib inline\n",
    "import matplotlib\n",
    "import matplotlib.pyplot as plt\n",
    "import numpy as np\n",
    "import pandas as pd\n",
    "import json\n",
    "from pandas.io.json import json_normalize\n",
    "import seaborn as sns"
   ]
  },
  {
   "cell_type": "code",
   "execution_count": 58,
   "metadata": {
    "collapsed": false
   },
   "outputs": [],
   "source": [
    "with open('/Users/Work/Desktop/Springboard/data/yelp_dataset_challenge_academic_dataset/\\\n",
    "yelp_academic_dataset_business.json', 'rb') as f:\n",
    "    data = f.readlines()\n",
    "data_json_str = \"[\" + ','.join(data) + \"]\"\n",
    "df = pd.read_json(data_json_str)\n",
    "starbucks1=df[df.name.str.contains('Starbucks')]['business_id']\n",
    "starbucks=list(starbucks1)"
   ]
  },
  {
   "cell_type": "code",
   "execution_count": 12,
   "metadata": {
    "collapsed": false
   },
   "outputs": [],
   "source": [
    "#open the massive yelp json file and store in yelp_data\n",
    "yelp_data=[]\n",
    "with open('/Users/Work/Desktop/Springboard/data/yelp_dataset_challenge_academic_dataset/\\\n",
    "yelp_academic_dataset_review.json', 'rb') as r:\n",
    "  for line in r:\n",
    "    yelp_data.append(json.loads(line))    "
   ]
  },
  {
   "cell_type": "code",
   "execution_count": 73,
   "metadata": {
    "collapsed": false
   },
   "outputs": [],
   "source": [
    "#create a list of dictionaries from yelp_data, where each dictionary is a different starbucks\n",
    "reviews=[]\n",
    "for x in range(len(yelp_data)):\n",
    "    if yelp_data[x]['business_id'] in starbucks:\n",
    "        reviews.append(yelp_data[x])"
   ]
  },
  {
   "cell_type": "code",
   "execution_count": 82,
   "metadata": {
    "collapsed": true
   },
   "outputs": [],
   "source": [
    "#dump the reviews content into a pickle file so it can be more quickly accessed upon \n",
    "#re-opening this Jupyter Notebook\n",
    "import pickle\n",
    "o = open('/Users/Work/Desktop/Springboard/data/yelp_dataset_challenge_academic_dataset/\\\n",
    "reviews_pickle.pkl','w')\n",
    "pickle.dump(reviews,o)\n",
    "o.close()"
   ]
  },
  {
   "cell_type": "markdown",
   "metadata": {},
   "source": [
    "### Run the below box to import the pickled yelp dataset"
   ]
  },
  {
   "cell_type": "code",
   "execution_count": 1,
   "metadata": {
    "collapsed": false
   },
   "outputs": [],
   "source": [
    "#import the reviews content file that was created above\n",
    "import pickle\n",
    "o = open('/Users/Work/Desktop/Springboard/data/yelp_dataset_challenge_academic_dataset/\\\n",
    "reviews_pickle.pkl','r')\n",
    "reviews=pickle.load(o) \n",
    "o.close()"
   ]
  }
 ],
 "metadata": {
  "kernelspec": {
   "display_name": "Python 2",
   "language": "python",
   "name": "python2"
  },
  "language_info": {
   "codemirror_mode": {
    "name": "ipython",
    "version": 2
   },
   "file_extension": ".py",
   "mimetype": "text/x-python",
   "name": "python",
   "nbconvert_exporter": "python",
   "pygments_lexer": "ipython2",
   "version": "2.7.10"
  }
 },
 "nbformat": 4,
 "nbformat_minor": 0
}
