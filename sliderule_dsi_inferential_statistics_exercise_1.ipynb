{
 "cells": [
  {
   "cell_type": "markdown",
   "metadata": {},
   "source": [
    "### What is the true normal human body temperature? \n",
    "\n",
    "#### Background\n",
    "\n",
    "The mean normal body temperature was held to be 37$^{\\circ}$C or 98.6$^{\\circ}$F for more than 120 years since it was first conceptualized and reported by Carl Wunderlich in a famous 1868 book. In 1992, this value was revised to 36.8$^{\\circ}$C or 98.2$^{\\circ}$F. \n",
    "\n",
    "#### Exercise\n",
    "In this exercise, you will analyze a dataset of human body temperatures and employ the concepts of hypothesis testing, confidence intervals, and statistical significance.\n",
    "\n",
    "Answer the following questions **in this notebook below and submit to your Github account**. \n",
    "\n",
    "1.  Is the distribution of body temperatures normal? \n",
    "    - Remember that this is a condition for the CLT, and hence the statistical tests we are using, to apply. \n",
    "2.  Is the true population mean really 98.6 degrees F?\n",
    "    - Bring out the one sample hypothesis test! In this situation, is it approriate to apply a z-test or a t-test? How will the result be different?\n",
    "3.  At what temperature should we consider someone's temperature to be \"abnormal\"?\n",
    "    - Start by computing the margin of error and confidence interval.\n",
    "4.  Is there a significant difference between males and females in normal temperature?\n",
    "    - Set up and solve for a two sample hypothesis testing.\n",
    "\n",
    "You can include written notes in notebook cells using Markdown: \n",
    "   - In the control panel at the top, choose Cell > Cell Type > Markdown\n",
    "   - Markdown syntax: http://nestacms.com/docs/creating-content/markdown-cheat-sheet\n",
    "\n",
    "#### Resources\n",
    "\n",
    "+ Information and data sources: http://www.amstat.org/publications/jse/datasets/normtemp.txt, http://www.amstat.org/publications/jse/jse_data_archive.htm\n",
    "+ Markdown syntax: http://nestacms.com/docs/creating-content/markdown-cheat-sheet\n",
    "\n",
    "****"
   ]
  },
  {
   "cell_type": "code",
   "execution_count": null,
   "metadata": {
    "collapsed": true
   },
   "outputs": [],
   "source": []
  },
  {
   "cell_type": "code",
   "execution_count": 33,
   "metadata": {
    "collapsed": false
   },
   "outputs": [],
   "source": [
    "%matplotlib inline\n",
    "import matplotlib as mpl\n",
    "import matplotlib.pyplot as plt\n",
    "import numpy as np\n",
    "import pandas as pd\n",
    "import json\n",
    "from pandas.io.json import json_normalize\n",
    "import seaborn as sns\n",
    "from math import *\n",
    "from scipy import stats"
   ]
  },
  {
   "cell_type": "code",
   "execution_count": 16,
   "metadata": {
    "collapsed": false
   },
   "outputs": [],
   "source": [
    "df = pd.read_csv('data/human_body_temperature.csv')"
   ]
  },
  {
   "cell_type": "markdown",
   "metadata": {},
   "source": [
    "# 1. Is the distribution of body temperatures normal?  "
   ]
  },
  {
   "cell_type": "markdown",
   "metadata": {},
   "source": [
    "Yes. The distribution is approximately bell-shaped, as shown below. "
   ]
  },
  {
   "cell_type": "code",
   "execution_count": 12,
   "metadata": {
    "collapsed": false
   },
   "outputs": [
    {
     "data": {
      "text/plain": [
       "(array([  4.,   6.,  15.,  29.,  27.,  30.,  15.,   1.,   2.,   1.]),\n",
       " array([  96.3 ,   96.75,   97.2 ,   97.65,   98.1 ,   98.55,   99.  ,\n",
       "          99.45,   99.9 ,  100.35,  100.8 ]),\n",
       " <a list of 10 Patch objects>)"
      ]
     },
     "execution_count": 12,
     "metadata": {},
     "output_type": "execute_result"
    },
    {
     "data": {
      "image/png": "[encoded data removed]",
      "text/plain": [
       "<matplotlib.figure.Figure at 0x10fe5ba90>"
      ]
     },
     "metadata": {},
     "output_type": "display_data"
    }
   ],
   "source": [
    "plt.hist(df.temperature)"
   ]
  },
  {
   "cell_type": "markdown",
   "metadata": {},
   "source": [
    "# 2. Is the true population mean really 98.6 degrees F?"
   ]
  },
  {
   "cell_type": "code",
   "execution_count": 13,
   "metadata": {
    "collapsed": false
   },
   "outputs": [
    {
     "data": {
      "text/plain": [
       "130"
      ]
     },
     "execution_count": 13,
     "metadata": {},
     "output_type": "execute_result"
    }
   ],
   "source": [
    "len(df) #this is the sample size"
   ]
  },
  {
   "cell_type": "markdown",
   "metadata": {},
   "source": [
    "Since the sample is 130, which is greater than 30, then by the central limit theorem, and the fact that the temperatures appear approximately normally distributed, the sample mean statistic is approximately normally distributed.  Since we do not know the population standard deviation, we'll calculate a t test statistic and run a \n",
    "hypothesis test.  A t distribution has fatter tails than a z distribution, so there is a greater likelihood that the observed test statistic will be a distance that is far away from the assumed population mean than under the z test, and thus a decreased likelihood of rejecting the null hypothesis.  "
   ]
  },
  {
   "cell_type": "markdown",
   "metadata": {},
   "source": [
    "Let's run a two-tailed t test with alpha = .001. \n",
    "Null: mean = 98.6\n",
    "Alternative: mean != 98.6"
   ]
  },
  {
   "cell_type": "code",
   "execution_count": 47,
   "metadata": {
    "collapsed": false
   },
   "outputs": [
    {
     "name": "stdout",
     "output_type": "stream",
     "text": [
      " mean: 98.249230769230749 \n",
      " standard deviation: 0.73318315803894563 \n",
      " standard error: 0.064304416837891024 \n",
      " t value: -5.4548232923645195 \n",
      " p value: 2.4106320415561276e-07\n"
     ]
    }
   ],
   "source": [
    "m=df.temperature.mean()\n",
    "sd=df.temperature.std()\n",
    "standard_error=sd/sqrt(len(df))\n",
    "t=(m-98.6)/standard_error\n",
    "p_value=stats.t.cdf(t,len(df)-1,loc=0,scale=1)*2\n",
    "print ' mean: %r \\n standard deviation: %r \\n standard error: %r \\n t value: %r \\n \\\n",
    "p value: %r' %(m,sd, standard_error,t,p_value)"
   ]
  },
  {
   "cell_type": "markdown",
   "metadata": {},
   "source": [
    "The p-value is very low (<.001) and the null is rejected at the .1% level.  Our statistical test results serve as evidence that the true population mean temperature is not 98.6 degrees F.  "
   ]
  },
  {
   "cell_type": "markdown",
   "metadata": {},
   "source": [
    "The above manually calculated t test results are verified below via the 1 sample t test contained in the stat module of the scipy library:"
   ]
  },
  {
   "cell_type": "code",
   "execution_count": 80,
   "metadata": {
    "collapsed": false
   },
   "outputs": [
    {
     "data": {
      "text/plain": [
       "Ttest_1sampResult(statistic=-5.4548232923645195, pvalue=2.4106320415561276e-07)"
      ]
     },
     "execution_count": 80,
     "metadata": {},
     "output_type": "execute_result"
    }
   ],
   "source": [
    "ttest_1samp(df.temperature,98.6)"
   ]
  },
  {
   "cell_type": "markdown",
   "metadata": {},
   "source": [
    "# 3. At what temperature should we consider someone's temperature to be \"abnormal\"?"
   ]
  },
  {
   "cell_type": "markdown",
   "metadata": {},
   "source": [
    "Let's compute a 95% confidence interval, which we calculate based on the assumption that the sample mean has an approximately normal distribution, which as we already covered, appears to be a reasonable assumption.  By standardizing the sample mean using the sample standard error, we create the t test statistic which we'll use to create the 95% confidence interval.  Since the degrees of freedom is so large (df=129), the test statistic's distribution is very close to a z distribution and the t critical values are +/- 1.96.    "
   ]
  },
  {
   "cell_type": "code",
   "execution_count": 35,
   "metadata": {
    "collapsed": false
   },
   "outputs": [
    {
     "name": "stdout",
     "output_type": "stream",
     "text": [
      " margin of error: 0.126 \n",
      " 95% confidence interval (98.12, 98.38)\n"
     ]
    }
   ],
   "source": [
    "margin_of_error=1.96*standard_error\n",
    "conf_int_lower=m-margin_of_error\n",
    "conf_int_upper=m+margin_of_error\n",
    "print ' margin of error: %.3f \\n 95%% confidence interval (%.2f, %.2f)' \\\n",
    "%(margin_of_error,conf_int_lower,conf_int_upper)"
   ]
  },
  {
   "cell_type": "markdown",
   "metadata": {},
   "source": [
    "A temperature outside the interval (98.12, 98.38) would be considered abnormal since we have 95% confidence that the sample mean temperature is within this interval (as well as 95% confidence that the population mean temperature is within this interval).  "
   ]
  },
  {
   "cell_type": "markdown",
   "metadata": {},
   "source": [
    "# 4. Is there a significant difference between males and females in normal temperature?"
   ]
  },
  {
   "cell_type": "markdown",
   "metadata": {},
   "source": [
    "Let's assume the population variances of male and female temperatures are not the same.  We will conduct a two-tailed hypothesis test with alpha = .001 \n",
    "null: male temperature = female temperature, alternative: male temp != female temp"
   ]
  },
  {
   "cell_type": "code",
   "execution_count": 48,
   "metadata": {
    "collapsed": false
   },
   "outputs": [],
   "source": [
    "#Get the sample means and standard deviations for males and females\n",
    "m_gender=df.groupby('gender').mean()\n",
    "m_male=m_gender.temperature['M']\n",
    "m_female=m_gender.temperature['F']\n",
    "sd_gender=df.groupby('gender').std()\n",
    "sd_male=sd_gender.temperature['M']\n",
    "sd_female=sd_gender.temperature['F']\n",
    "n_male=len(df[df.gender=='M'])\n",
    "n_female=len(df[df.gender=='F'])"
   ]
  },
  {
   "cell_type": "code",
   "execution_count": 76,
   "metadata": {
    "collapsed": true
   },
   "outputs": [],
   "source": [
    "t_two_sample=((m_male-m_female)-0)/sqrt((sd_male**2/n_male)+(sd_female**2/n_female))\n",
    "df_two_sample=(((sd_male**2/n_male)+(sd_female**2/n_female))**2)/((((sd_male**2/n_male)**2)\\\n",
    "/(n_male-1))+(((sd_female**2/n_female)**2)/(n_female-1)))"
   ]
  },
  {
   "cell_type": "code",
   "execution_count": 78,
   "metadata": {
    "collapsed": false
   },
   "outputs": [
    {
     "name": "stdout",
     "output_type": "stream",
     "text": [
      " t value: -2.29 \n",
      " p value: 0.024\n",
      "The p value above is greater than 1% so the null that the male and female population mean temperatures are the same cannot be rejected.  There is not a significant difference that male and female temperatures are different. \n"
     ]
    }
   ],
   "source": [
    "p_value_two_sample=stats.t.cdf(t_two_sample,df_two_sample)*2\n",
    "print ' t value: %.2f \\n p value: %.3f' %(t_two_sample, p_value_two_sample)\n",
    "print 'The p value above is greater than 1% so the null that the male and \\\n",
    "female population mean temperatures are the same cannot be rejected.  There is not a \\\n",
    "significant difference that male and female temperatures are different. '"
   ]
  },
  {
   "cell_type": "markdown",
   "metadata": {},
   "source": [
    "Let's verify the above calculations by using two sample t test contained in the stats module of scipy!"
   ]
  },
  {
   "cell_type": "code",
   "execution_count": 73,
   "metadata": {
    "collapsed": false
   },
   "outputs": [
    {
     "data": {
      "text/plain": [
       "Ttest_indResult(statistic=-2.2854345381656112, pvalue=0.023938264182934196)"
      ]
     },
     "execution_count": 73,
     "metadata": {},
     "output_type": "execute_result"
    }
   ],
   "source": [
    "stats.ttest_ind(df[df.gender=='M'].temperature,df[df.gender=='F'].temperature,equal_var=False)"
   ]
  },
  {
   "cell_type": "markdown",
   "metadata": {
    "collapsed": true
   },
   "source": [
    "The above results are the same, so it appears that my manual calculation of the two sample\n",
    "t test was correct.  "
   ]
  }
 ],
 "metadata": {
  "kernelspec": {
   "display_name": "Python 2",
   "language": "python",
   "name": "python2"
  },
  "language_info": {
   "codemirror_mode": {
    "name": "ipython",
    "version": 2
   },
   "file_extension": ".py",
   "mimetype": "text/x-python",
   "name": "python",
   "nbconvert_exporter": "python",
   "pygments_lexer": "ipython2",
   "version": "2.7.10"
  }
 },
 "nbformat": 4,
 "nbformat_minor": 0
}
